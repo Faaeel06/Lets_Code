{
 "cells": [
  {
   "cell_type": "markdown",
   "id": "683e0a5d",
   "metadata": {},
   "source": [
    "1 - Contar quantos testes foram realizados\n",
    "2 - Para cada nota dos testes realizados:\n",
    "    Somar todas as notas\n",
    "3 - Dividir o valor total de notas pelo número de testes realizados\n",
    "4 - Se o valor resultante do passo 3 for maior ou igual a 7 então:\n",
    "        Aluno aprovado\n",
    "    Caso contrário:\n",
    "        Aluno reprovado"
   ]
  },
  {
   "cell_type": "code",
   "execution_count": 10,
   "id": "a0283900",
   "metadata": {},
   "outputs": [
    {
     "name": "stdout",
     "output_type": "stream",
     "text": [
      "7.333333333333333\n",
      "Aluno aprovado\n"
     ]
    }
   ],
   "source": [
    "notas = [10, 5, 7]\n",
    "\n",
    "#1\n",
    "qtd_testes = len(notas)\n",
    "\n",
    "#2\n",
    "total = 0\n",
    "for nota in notas:\n",
    "    total += nota\n",
    "#3\n",
    "media = total/qtd_testes\n",
    "print(media)\n",
    "\n",
    "#4\n",
    "if media >= 7:\n",
    "    print(\"Aluno aprovado\")\n",
    "else:\n",
    "    print(\"Aluno reprovado\")\n"
   ]
  },
  {
   "cell_type": "code",
   "execution_count": 11,
   "id": "26937c1b",
   "metadata": {},
   "outputs": [
    {
     "name": "stdout",
     "output_type": "stream",
     "text": [
      "7.333333333333333\n",
      "Aluno aprovado\n"
     ]
    }
   ],
   "source": [
    "notas = [10, 5, 7]\n",
    "\n",
    "#1\n",
    "qtd_testes = len(notas)\n",
    "\n",
    "#2\n",
    "total = 0\n",
    "for idx in range(qtd_testes):\n",
    "    total += notas[idx]\n",
    "#3\n",
    "media = total/qtd_testes\n",
    "print(media)\n",
    "\n",
    "#4\n",
    "if media >= 7:\n",
    "    print(\"Aluno aprovado\")\n",
    "else:\n",
    "    print(\"Aluno reprovado\")\n"
   ]
  },
  {
   "cell_type": "code",
   "execution_count": null,
   "id": "471ec8d1",
   "metadata": {},
   "outputs": [],
   "source": []
  }
 ],
 "metadata": {
  "kernelspec": {
   "display_name": "Python 3 (ipykernel)",
   "language": "python",
   "name": "python3"
  },
  "language_info": {
   "codemirror_mode": {
    "name": "ipython",
    "version": 3
   },
   "file_extension": ".py",
   "mimetype": "text/x-python",
   "name": "python",
   "nbconvert_exporter": "python",
   "pygments_lexer": "ipython3",
   "version": "3.9.7"
  }
 },
 "nbformat": 4,
 "nbformat_minor": 5
}
