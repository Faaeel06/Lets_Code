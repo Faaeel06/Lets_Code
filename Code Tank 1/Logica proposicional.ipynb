{
 "cells": [
  {
   "cell_type": "code",
   "execution_count": 92,
   "id": "646ceb58",
   "metadata": {},
   "outputs": [
    {
     "name": "stdout",
     "output_type": "stream",
     "text": [
      "Digite o valor do sálario do funcionário: R$ 8854.00\n",
      "O sálario do funcionário er R$8854.00 e recebeu um reajuste de 10%.\n",
      "O novo valor será: R$ 9739.40 \n"
     ]
    }
   ],
   "source": [
    "reajuste = ''\n",
    "percentual = ''\n",
    "salario = float(input('Digite o valor do sálario do funcionário: R$ '))\n",
    "\n",
    "if salario <= 2800.00:\n",
    "    percentual = 20\n",
    "    reajuste = salario + (salario * 0.20)\n",
    "elif 2800.00 < salario < 7000.00:\n",
    "    percentual = 15\n",
    "    reajuste = salario + (salario * 0.15)\n",
    "elif 7000.00 < salario < 15000.00:\n",
    "    percentual = 10\n",
    "    reajuste = salario + (salario * 0.10)\n",
    "else:\n",
    "    percentual = 5\n",
    "    reajuste = salario + (salario * 0.05)\n",
    "\n",
    "print(f'O sálario do funcionário er R${salario:.2f} e recebeu um reajuste de {percentual}%.\\nO novo valor será: R$ {reajuste:.2f} ')\n"
   ]
  },
  {
   "cell_type": "code",
   "execution_count": null,
   "id": "050dc8de",
   "metadata": {},
   "outputs": [],
   "source": []
  },
  {
   "cell_type": "code",
   "execution_count": 72,
   "id": "2bfad5c1",
   "metadata": {},
   "outputs": [],
   "source": []
  },
  {
   "cell_type": "code",
   "execution_count": 73,
   "id": "08515dd9",
   "metadata": {},
   "outputs": [
    {
     "name": "stdout",
     "output_type": "stream",
     "text": [
      "2\n",
      "3\n"
     ]
    }
   ],
   "source": []
  }
 ],
 "metadata": {
  "kernelspec": {
   "display_name": "Python 3 (ipykernel)",
   "language": "python",
   "name": "python3"
  },
  "language_info": {
   "codemirror_mode": {
    "name": "ipython",
    "version": 3
   },
   "file_extension": ".py",
   "mimetype": "text/x-python",
   "name": "python",
   "nbconvert_exporter": "python",
   "pygments_lexer": "ipython3",
   "version": "3.9.7"
  }
 },
 "nbformat": 4,
 "nbformat_minor": 5
}
