{
 "cells": [
  {
   "cell_type": "code",
   "execution_count": 4,
   "id": "57ff1dec",
   "metadata": {},
   "outputs": [
    {
     "name": "stdout",
     "output_type": "stream",
     "text": [
      "Digite o primeiro termo: 5\n",
      "Digite o segundo termo: 7\n",
      "A soma dos dois termos é 12.0 e a multiplicação do resultado pelo segundo termo é 60.0\n"
     ]
    }
   ],
   "source": [
    "num1 = float(input('Digite o primeiro termo: '))\n",
    "num2 = float(input('Digite o segundo termo: '))\n",
    "\n",
    "soma = num1 + num2\n",
    "multiplicacao = soma * num1\n",
    "\n",
    "print(f'A soma dos dois termos é {soma} e a multiplicaçãpo do resultado pelo segundo termo é {multiplicacao}')"
   ]
  },
  {
   "cell_type": "code",
   "execution_count": 13,
   "id": "7cd92db2",
   "metadata": {},
   "outputs": [
    {
     "name": "stdout",
     "output_type": "stream",
     "text": [
      "Digite o valor atual do salário: R$ 1650.00\n",
      "Digite o valot do percentual de reajuste: 11\n",
      "O valor atual do salário é: R$1650.00 ;\n",
      "Com o reajuste de 11.0% o novo salário será: R$ 1831.50.\n"
     ]
    }
   ],
   "source": [
    "salario = float(input('Digite o valor atual do salário: R$ '))\n",
    "porcentagem = float(input('Digite o valot do percentual de reajuste: '))\n",
    "\n",
    "percentual = porcentagem / 100\n",
    "reajuste = (percentual * salario) + salario\n",
    "\n",
    "print(f'O valor atual do salário é: R${salario:.2f} ;\\n'\n",
    "      f'Com o reajuste de {porcentagem}% o novo salário será: R$ {reajuste:.2f}.')"
   ]
  },
  {
   "cell_type": "code",
   "execution_count": 9,
   "id": "53f67b43",
   "metadata": {},
   "outputs": [
    {
     "ename": "SyntaxError",
     "evalue": "invalid syntax (Temp/ipykernel_2604/892129862.py, line 2)",
     "output_type": "error",
     "traceback": [
      "\u001b[1;36m  File \u001b[1;32m\"C:\\Users\\RRodr\\AppData\\Local\\Temp/ipykernel_2604/892129862.py\"\u001b[1;36m, line \u001b[1;32m2\u001b[0m\n\u001b[1;33m    num2 = float(input('Digite o segundo termo: ')\u001b[0m\n\u001b[1;37m    ^\u001b[0m\n\u001b[1;31mSyntaxError\u001b[0m\u001b[1;31m:\u001b[0m invalid syntax\n"
     ]
    }
   ],
   "source": [
    "num1 = float(input('Digite o primeiro termo: ')\n",
    "num2 = float(input('Digite o segundo termo: ')\n",
    "\n",
    "soma = num1 + num2\n",
    "multiplicacao = soma * num1\n",
    "\n",
    "print(f'O valor da soma dos termos é {soma} e a multiplicação do resoltado pelo primeiro termo é {multiplicacao}')"
   ]
  },
  {
   "cell_type": "code",
   "execution_count": 10,
   "id": "93d5fa04",
   "metadata": {},
   "outputs": [
    {
     "name": "stdout",
     "output_type": "stream",
     "text": [
      "Digite sua idade? 27\n",
      "Já fez aniversário?[S/N] N\n",
      "Você tem 27 anos e nasceu em 1993.\n"
     ]
    }
   ],
   "source": [
    "import datetime\n",
    "\n",
    "nascimento = ''\n",
    "idade = int(input('Digite sua idade? '))\n",
    "confirmacao = str(input('Já fez aniversário?[S/N] ')).upper().strip()\n",
    "\n",
    "if confirmacao[0] == 'S':\n",
    "    nascimento = datetime.date.today().year - idade\n",
    "elif confirmacao[0] == 'N':\n",
    "    nascimento = datetime.date.today().year - idade - 1\n",
    "else:\n",
    "    print('Comando inválido, tente novamente!')\n",
    "\n",
    "print(f'Você tem {idade} anos e nasceu em {nascimento}.')"
   ]
  },
  {
   "cell_type": "code",
   "execution_count": 11,
   "id": "f2d69556",
   "metadata": {},
   "outputs": [
    {
     "name": "stdout",
     "output_type": "stream",
     "text": [
      "Digite o valor bruto do sálario: R$ 1650.00\n",
      "O valor bruto do salário é: R$ 1650.00 ;\n",
      "O valor de desconto do INSS é: R$ 132.00 ;\n",
      "O valor pago ao sindicado é: R$ 82.50 ;\n",
      "O valor do salário líquido é: R$ 1254.0 .\n",
      "\n"
     ]
    }
   ],
   "source": [
    "salario = float(input('Digite o valor bruto do sálario: R$ '))\n",
    "\n",
    "inss = salario * (8/100)\n",
    "imposto_renda = salario * (11/100)\n",
    "sindicato = salario * (5/100)\n",
    "liquido = salario - (inss + imposto_renda + sindicato)\n",
    "\n",
    "print(f'O valor bruto do salário é: R$ {salario:.2f} ;\\n'\n",
    "      f'O valor de desconto do INSS é: R$ {inss:.2f} ;\\n'\n",
    "      f'O valor pago ao sindicado é: R$ {sindicato:.2f} ;\\n'\n",
    "      f'O valor do salário líquido é: R$ {liquido} .\\n')\n"
   ]
  },
  {
   "cell_type": "code",
   "execution_count": 14,
   "id": "632f1522",
   "metadata": {},
   "outputs": [
    {
     "name": "stdout",
     "output_type": "stream",
     "text": [
      "Digite o número: 5\n",
      "O número digitado foi: 5.0;\n",
      "O dobro do número é: 10.0;\n",
      "O quadrado do número é: 25.0;\n",
      "O cubo desse número é: 125.0.\n"
     ]
    }
   ],
   "source": [
    "num = float(input('Digite o número: '))\n",
    "dobro = num * 2\n",
    "quadrado = num ** 2\n",
    "cubo = num ** 3\n",
    "print(f'O número digitado foi: {num};\\n'\n",
    "      f'O dobro do número é: {dobro};\\n'\n",
    "      f'O quadrado do número é: {quadrado};\\n'\n",
    "      f'O cubo desse número é: {cubo}.')\n"
   ]
  },
  {
   "cell_type": "code",
   "execution_count": null,
   "id": "ecd270ac",
   "metadata": {},
   "outputs": [],
   "source": []
  }
 ],
 "metadata": {
  "kernelspec": {
   "display_name": "Python 3 (ipykernel)",
   "language": "python",
   "name": "python3"
  },
  "language_info": {
   "codemirror_mode": {
    "name": "ipython",
    "version": 3
   },
   "file_extension": ".py",
   "mimetype": "text/x-python",
   "name": "python",
   "nbconvert_exporter": "python",
   "pygments_lexer": "ipython3",
   "version": "3.9.7"
  }
 },
 "nbformat": 4,
 "nbformat_minor": 5
}
