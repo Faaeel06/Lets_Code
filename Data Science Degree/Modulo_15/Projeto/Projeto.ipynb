{
 "cells": [
  {
   "cell_type": "markdown",
   "metadata": {},
   "source": [
    "## Projeto de Big Data I"
   ]
  },
  {
   "cell_type": "markdown",
   "metadata": {},
   "source": [
    "# Projeto Big Data\n",
    "#### Projeto final do Modulo de Big Data\n",
    "#### Data de Entrega: 20/10/2022\n",
    "### Proposta:\n",
    "#### Criar ambiente Big Data para analisar dados da empresa Northwind.\n",
    "\n",
    "## Passos:\n",
    "1 - Exportar as tabelas do Northwind em .CSV.\n",
    "\n",
    "2 - Carregar para camada Raw de um Data Lake no DBFS (botão de upload).\n",
    "\n",
    "3 - Salvar dados em formato parquet em uma segunda camada, trusted.\n",
    "\n",
    "4 - Modelar a base de dados Northwind em formato Star Schema ou Snowflake para criação de um Data Warehouse.\n",
    "\n",
    "#### Opcional - Criar em uma terceira camada, refined, um Data Lakehouse com o modelo do passo anterior, através de Delta Tables, com ao menos duas tabelas agregadas.\n",
    "\n",
    "### Análises com Apache Spark\n",
    "1 - Quais são os três produtos MENOS vendidos?\n",
    "\n",
    "2 - Quais são os cinco clientes que MAIS compras fizeram? (quantidade)\n",
    "\n",
    "3 - Quais são os cinco clientes com MAIOR total gasto? (montante)\n",
    "\n",
    "4 - Qual o melhor funcionário do último mês registrado? (total de vendas)\n",
    "\n",
    "5 - Quais as regiões com menos clientes cadastrados?\n",
    "\n",
    "#### O que enviar: 1 - Modelo de dados do Data Warehouse. 2 - Notebooks para criação do Data Lake e Datalakehouse. 3 - Notebook com as análises dos dados."
   ]
  },
  {
   "cell_type": "markdown",
   "metadata": {},
   "source": []
  },
  {
   "cell_type": "code",
   "execution_count": null,
   "metadata": {},
   "outputs": [],
   "source": []
  }
 ],
 "metadata": {
  "language_info": {
   "name": "python"
  },
  "orig_nbformat": 4
 },
 "nbformat": 4,
 "nbformat_minor": 2
}
