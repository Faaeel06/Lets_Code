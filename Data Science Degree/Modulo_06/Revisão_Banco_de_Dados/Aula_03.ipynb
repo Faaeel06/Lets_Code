{
 "cells": [
  {
   "cell_type": "markdown",
   "metadata": {},
   "source": [
    "Python & Banco de Dados"
   ]
  },
  {
   "cell_type": "markdown",
   "metadata": {},
   "source": [
    "O passo a passo é para windows. Caso tenha outro sistema opreacional, o objetivo é ter o python e banco de dados na sua máquina\n",
    "\n",
    "\n",
    "1 - Instalar o Ananconda para ter uma plataforma Python local: https://www.anaconda.com/\\\n",
    "2 - Não é necessário marcar nenhuma oção durante a instalação\\\n",
    "3 - AO terminar a instalação, abrir o jupyter Noteboook\\\n",
    "4 - Exercultar o comando pip installpyscopg2"
   ]
  },
  {
   "cell_type": "code",
   "execution_count": 1,
   "metadata": {},
   "outputs": [
    {
     "ename": "ModuleNotFoundError",
     "evalue": "No module named 'psycopg2'",
     "output_type": "error",
     "traceback": [
      "\u001b[0;31m---------------------------------------------------------------------------\u001b[0m",
      "\u001b[0;31mModuleNotFoundError\u001b[0m                       Traceback (most recent call last)",
      "\u001b[1;32m/home/Faaeel06/Documentos/GitHub/Lets_Code/Data Science Degree/Modulo_06/Revisão_Banco_de_Dados/Aula_03.ipynb Cell 5\u001b[0m in \u001b[0;36m<cell line: 1>\u001b[0;34m()\u001b[0m\n\u001b[0;32m----> <a href='vscode-notebook-cell:/home/Faaeel06/Documentos/GitHub/Lets_Code/Data%20Science%20Degree/Modulo_06/Revis%C3%A3o_Banco_de_Dados/Aula_03.ipynb#W4sZmlsZQ%3D%3D?line=0'>1</a>\u001b[0m \u001b[39mimport\u001b[39;00m \u001b[39mpsycopg2\u001b[39;00m\n\u001b[1;32m      <a href='vscode-notebook-cell:/home/Faaeel06/Documentos/GitHub/Lets_Code/Data%20Science%20Degree/Modulo_06/Revis%C3%A3o_Banco_de_Dados/Aula_03.ipynb#W4sZmlsZQ%3D%3D?line=2'>3</a>\u001b[0m conn \u001b[39m=\u001b[39m psycopg2\u001b[39m.\u001b[39mconnect(\n\u001b[1;32m      <a href='vscode-notebook-cell:/home/Faaeel06/Documentos/GitHub/Lets_Code/Data%20Science%20Degree/Modulo_06/Revis%C3%A3o_Banco_de_Dados/Aula_03.ipynb#W4sZmlsZQ%3D%3D?line=3'>4</a>\u001b[0m     host\u001b[39m=\u001b[39m\u001b[39m\"\u001b[39m\u001b[39mlocalhost\u001b[39m\u001b[39m\"\u001b[39m,\n\u001b[1;32m      <a href='vscode-notebook-cell:/home/Faaeel06/Documentos/GitHub/Lets_Code/Data%20Science%20Degree/Modulo_06/Revis%C3%A3o_Banco_de_Dados/Aula_03.ipynb#W4sZmlsZQ%3D%3D?line=4'>5</a>\u001b[0m     database\u001b[39m=\u001b[39m\u001b[39m\"\u001b[39m\u001b[39mdvdrental\u001b[39m\u001b[39m\"\u001b[39m,\n\u001b[1;32m      <a href='vscode-notebook-cell:/home/Faaeel06/Documentos/GitHub/Lets_Code/Data%20Science%20Degree/Modulo_06/Revis%C3%A3o_Banco_de_Dados/Aula_03.ipynb#W4sZmlsZQ%3D%3D?line=5'>6</a>\u001b[0m     user\u001b[39m=\u001b[39m\u001b[39m\"\u001b[39m\u001b[39mpostegres\u001b[39m\u001b[39m\"\u001b[39m,\n\u001b[1;32m      <a href='vscode-notebook-cell:/home/Faaeel06/Documentos/GitHub/Lets_Code/Data%20Science%20Degree/Modulo_06/Revis%C3%A3o_Banco_de_Dados/Aula_03.ipynb#W4sZmlsZQ%3D%3D?line=6'>7</a>\u001b[0m     password\u001b[39m=\u001b[39m\u001b[39m\"\u001b[39m\u001b[39madmin\u001b[39m\u001b[39m\"\u001b[39m)\n",
      "\u001b[0;31mModuleNotFoundError\u001b[0m: No module named 'psycopg2'"
     ]
    }
   ],
   "source": [
    "import psycopg2\n",
    "\n",
    "conn = psycopg2.connect(\n",
    "    host=\"localhost\",\n",
    "    database=\"dvdrental\",\n",
    "    user=\"postegres\",\n",
    "    password=\"admin\")"
   ]
  },
  {
   "cell_type": "markdown",
   "metadata": {},
   "source": [
    "conn = psycopg2.connect(\"dbname=dvdrental user=postegres password=admin\")\n",
    "\n",
    "cursor = conn.cursor()\n",
    "\n",
    "cursor.execute(\"SELECT version()\")\n",
    "\n",
    "db_version = cursor.fetchone()\n",
    "\n",
    "print(db_version)"
   ]
  },
  {
   "cell_type": "code",
   "execution_count": 1,
   "metadata": {},
   "outputs": [],
   "source": [
    "def insert_actor(actor_id, first_name, last_name):\n",
    "    sql = f\"\"\"INSERT INTO actor (acotr_id, first_name, last_name\n",
    "            VALUES(%s,%s,%S) ;\"\"\"\n",
    "\n",
    "    conn -= psycopg2.connect(\"dbname=dvdrental=postegres password=admin\")\n",
    "\n",
    "    cur = conn.cursor(sql)\n",
    "\n",
    "    cur.execute(sql)\n",
    "\n",
    "    "
   ]
  },
  {
   "cell_type": "code",
   "execution_count": null,
   "metadata": {},
   "outputs": [],
   "source": []
  }
 ],
 "metadata": {
  "kernelspec": {
   "display_name": "Python 3.9.2 64-bit",
   "language": "python",
   "name": "python3"
  },
  "language_info": {
   "codemirror_mode": {
    "name": "ipython",
    "version": 3
   },
   "file_extension": ".py",
   "mimetype": "text/x-python",
   "name": "python",
   "nbconvert_exporter": "python",
   "pygments_lexer": "ipython3",
   "version": "3.9.2"
  },
  "orig_nbformat": 4,
  "vscode": {
   "interpreter": {
    "hash": "31f2aee4e71d21fbe5cf8b01ff0e069b9275f58929596ceb00d14d90e3e16cd6"
   }
  }
 },
 "nbformat": 4,
 "nbformat_minor": 2
}
