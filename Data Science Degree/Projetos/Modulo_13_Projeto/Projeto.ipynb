{
 "cells": [
  {
   "cell_type": "code",
   "execution_count": null,
   "id": "5c361371",
   "metadata": {},
   "outputs": [],
   "source": [
    "%pip install Dlib"
   ]
  },
  {
   "cell_type": "code",
   "execution_count": null,
   "id": "fb6bbd6e",
   "metadata": {
    "ExecuteTime": {
     "end_time": "2022-09-06T01:05:17.071199Z",
     "start_time": "2022-09-06T01:05:13.703138Z"
    }
   },
   "outputs": [],
   "source": [
    "import pandas as pd\n",
    "import numpy as np\n",
    "import matplotlib.pyplot as plt\n",
    "import cv2\n",
    "import glob\n",
    "from sklearn.model_selection import train_test_split\n",
    "from sklearn.ensemble import RandomForestClassifier\n",
    "from sklearn.metrics import classification_report, confusion_matrix, ConfusionMatrixDisplay\n",
    "from keras.models import Sequential\n",
    "from keras.layers import Dense, Activation, Conv2D, MaxPool2D, Flatten\n",
    "import keras as keras\n",
    "from skimage import feature\n",
    "import re\n",
    "import seaborn as sns\n",
    "from sklearn.cluster import KMeans\n",
    "import sys\n",
    "import os\n",
    "import shutil\n",
    "import dlib"
   ]
  },
  {
   "cell_type": "markdown",
   "id": "e996fd40",
   "metadata": {},
   "source": [
    "##  K-Means para separa as pastas e agrupamentos"
   ]
  },
  {
   "cell_type": "code",
   "execution_count": null,
   "id": "046141f4",
   "metadata": {
    "ExecuteTime": {
     "end_time": "2022-09-01T22:57:33.165807Z",
     "start_time": "2022-09-01T22:57:33.150794Z"
    },
    "scrolled": true
   },
   "outputs": [],
   "source": [
    "h_kmeans = [file for file in glob.glob('Projeto/Fotos/Q/*/*.jpg')]\n",
    "h_kmeans = [file.replace('\\\\', '/') for file in h_kmeans]"
   ]
  },
  {
   "cell_type": "code",
   "execution_count": null,
   "id": "32787964",
   "metadata": {
    "ExecuteTime": {
     "end_time": "2022-09-01T22:57:52.261173Z",
     "start_time": "2022-09-01T22:57:33.950793Z"
    },
    "scrolled": true
   },
   "outputs": [],
   "source": [
    "labels = []\n",
    "dataset_k = {}\n",
    "brilho = 50\n",
    "\n",
    "for i, file in enumerate(h_kmeans):\n",
    "    \n",
    "    img = cv2.imread(file) ### ler a imagem\n",
    "        \n",
    "    img_512 = cv2.resize(img,(512, 512),interpolation=cv2.INTER_AREA)\n",
    "        \n",
    "    img = cv2.cvtColor(img_512, cv2.COLOR_BGR2RGB)\n",
    "    \n",
    "    img_hsv = cv2.cvtColor(img, cv2.COLOR_RGB2HSV)\n",
    "    \n",
    "    img_hsv[:,:,2] = cv2.add(img_hsv[:,:,2], brilho)\n",
    "    img_bright = cv2.cvtColor(img_hsv, cv2.COLOR_HSV2RGB)\n",
    "    plt.imshow(img_bright);\n",
    "    plt.show()\n",
    "    img_gray = cv2.cvtColor(img_bright, cv2.COLOR_RGB2GRAY)\n",
    "    \n",
    "    #ataset_k.append(img_gray)\n",
    "    dataset_k[file] = img_gray\n",
    "       \n",
    "    label = file.split(sep='/')[3]\n",
    "    print(label)    \n",
    "    \n",
    "    name = file.split(sep='/')[-1]\n",
    "    print(name)    \n",
    "    \n",
    "    cv2.imwrite(f'Projeto/Fotos/Q_head/' + name + '.png', img_gray)\n",
    "    labels.append(label)"
   ]
  },
  {
   "cell_type": "code",
   "execution_count": null,
   "id": "908fdec0",
   "metadata": {
    "ExecuteTime": {
     "end_time": "2022-09-01T22:57:56.484784Z",
     "start_time": "2022-09-01T22:57:56.470771Z"
    }
   },
   "outputs": [],
   "source": [
    "list(dataset_k.values())[4].shape"
   ]
  },
  {
   "cell_type": "code",
   "execution_count": null,
   "id": "bbbc6b9f",
   "metadata": {
    "ExecuteTime": {
     "end_time": "2022-09-01T22:57:57.529986Z",
     "start_time": "2022-09-01T22:57:57.350824Z"
    }
   },
   "outputs": [],
   "source": [
    "plt.figure(figsize=(10,10))\n",
    "plt.imshow(list(dataset_k.values())[4], cmap=\"gray\")"
   ]
  },
  {
   "cell_type": "code",
   "execution_count": null,
   "id": "9ac8c435",
   "metadata": {
    "ExecuteTime": {
     "end_time": "2022-09-01T22:57:56.951766Z",
     "start_time": "2022-09-01T22:57:56.934751Z"
    }
   },
   "outputs": [],
   "source": [
    "list(dataset_k.keys())[4]"
   ]
  },
  {
   "cell_type": "code",
   "execution_count": null,
   "id": "53cf1fa6",
   "metadata": {
    "ExecuteTime": {
     "end_time": "2022-09-01T22:59:47.753639Z",
     "start_time": "2022-09-01T22:59:47.734622Z"
    }
   },
   "outputs": [],
   "source": [
    "img_arr = np.asarray(list(dataset_k.values()))\n",
    "img_k = img_arr.reshape(img_arr.shape[0], -1)\n",
    "img_k.shape"
   ]
  },
  {
   "cell_type": "code",
   "execution_count": null,
   "id": "471cf489",
   "metadata": {
    "ExecuteTime": {
     "end_time": "2022-09-01T23:00:03.005131Z",
     "start_time": "2022-09-01T23:00:02.454631Z"
    },
    "scrolled": true
   },
   "outputs": [],
   "source": [
    "np.set_printoptions(threshold=sys.maxsize)\n",
    "print(img_k[1])"
   ]
  },
  {
   "cell_type": "code",
   "execution_count": null,
   "id": "1eb68860",
   "metadata": {
    "ExecuteTime": {
     "end_time": "2022-09-01T23:00:23.696817Z",
     "start_time": "2022-09-01T23:00:23.694815Z"
    }
   },
   "outputs": [],
   "source": [
    "K = 36\n",
    "k_means = KMeans(n_clusters=K)"
   ]
  },
  {
   "cell_type": "code",
   "execution_count": null,
   "id": "61803c83",
   "metadata": {
    "ExecuteTime": {
     "end_time": "2022-09-01T23:00:39.621595Z",
     "start_time": "2022-09-01T23:00:30.350729Z"
    }
   },
   "outputs": [],
   "source": [
    "k_means.fit(img_k)"
   ]
  },
  {
   "cell_type": "markdown",
   "id": "d6d4153b",
   "metadata": {},
   "source": [
    "## Predict"
   ]
  },
  {
   "cell_type": "code",
   "execution_count": null,
   "id": "d730bcb1",
   "metadata": {
    "ExecuteTime": {
     "end_time": "2022-09-01T00:58:38.923321Z",
     "start_time": "2022-09-01T00:58:38.781657Z"
    }
   },
   "outputs": [],
   "source": [
    "agrupamento = k_means.predict(img_k)\n",
    "agrupamento"
   ]
  },
  {
   "cell_type": "code",
   "execution_count": null,
   "id": "a03cb555",
   "metadata": {
    "ExecuteTime": {
     "end_time": "2022-09-01T01:32:17.022744Z",
     "start_time": "2022-09-01T01:32:17.008730Z"
    }
   },
   "outputs": [],
   "source": [
    "agrupamento = [20, 20,  9,  0,  3,  3, 27, 24, 10, 10, 25, 32,  2, 34,  9,  9, 29,\n",
    "               35,  6, 15,  3,  3, 31,  7,  4,  4, 13, 13, 26,  8,  8, 18,  1, 16,\n",
    "               21,  5, 22, 23, 11, 11,  2, 12, 28, 14, 33, 17, 33, 19, 30,  2]"
   ]
  },
  {
   "cell_type": "markdown",
   "id": "1976a94f",
   "metadata": {},
   "source": [
    "## Criando e movendo para as pastas"
   ]
  },
  {
   "cell_type": "code",
   "execution_count": null,
   "id": "313c582b",
   "metadata": {
    "ExecuteTime": {
     "end_time": "2022-09-01T01:42:34.215332Z",
     "start_time": "2022-09-01T01:42:34.201320Z"
    }
   },
   "outputs": [],
   "source": [
    "dict_k = {k:f'Projeto/Fotos/Q/cluster_{k}'for k in np.unique(agrupamento)}"
   ]
  },
  {
   "cell_type": "code",
   "execution_count": null,
   "id": "7a78c42e",
   "metadata": {
    "ExecuteTime": {
     "end_time": "2022-09-01T01:44:00.579368Z",
     "start_time": "2022-09-01T01:44:00.560350Z"
    }
   },
   "outputs": [],
   "source": [
    "for caminho in dict_k.values():\n",
    "    if not os.path.exists(caminho):\n",
    "        os.makedirs(caminho)\n"
   ]
  },
  {
   "cell_type": "code",
   "execution_count": null,
   "id": "c6106249",
   "metadata": {
    "ExecuteTime": {
     "end_time": "2022-09-01T01:46:47.041905Z",
     "start_time": "2022-09-01T01:46:47.025891Z"
    },
    "scrolled": true
   },
   "outputs": [],
   "source": [
    "dict_k"
   ]
  },
  {
   "cell_type": "code",
   "execution_count": null,
   "id": "799af105",
   "metadata": {
    "ExecuteTime": {
     "end_time": "2022-09-01T01:47:29.004507Z",
     "start_time": "2022-09-01T01:47:29.001504Z"
    }
   },
   "outputs": [],
   "source": [
    "dict_k[20]"
   ]
  },
  {
   "cell_type": "code",
   "execution_count": null,
   "id": "400f610b",
   "metadata": {
    "ExecuteTime": {
     "end_time": "2022-09-01T01:50:38.446680Z",
     "start_time": "2022-09-01T01:50:38.433668Z"
    },
    "scrolled": true
   },
   "outputs": [],
   "source": [
    "for i, cluster in enumerate(agrupamento):\n",
    "    arquivo = list(dataset_k.keys())[i]\n",
    "    \n",
    "    print(f\"arquivo: {arquivo},cluster: {cluster}, caminho da pasta cluster: {dict_k[cluster]}\\n\")"
   ]
  },
  {
   "cell_type": "code",
   "execution_count": null,
   "id": "8d3289ed",
   "metadata": {
    "ExecuteTime": {
     "end_time": "2022-09-01T01:55:00.882446Z",
     "start_time": "2022-09-01T01:55:00.855422Z"
    }
   },
   "outputs": [],
   "source": [
    "for i, cluster in enumerate(agrupamento):\n",
    "    arquivo = list(dataset_k.keys())[i]\n",
    "    \n",
    "    shutil.move(arquivo, dict_k[cluster])"
   ]
  },
  {
   "cell_type": "markdown",
   "id": "a6eb3504",
   "metadata": {
    "ExecuteTime": {
     "end_time": "2022-09-05T16:55:11.279387Z",
     "start_time": "2022-09-05T16:55:11.271380Z"
    }
   },
   "source": [
    "### D-lib para identificar as pastas separadas com cada imagem e coloca-las junto"
   ]
  },
  {
   "cell_type": "code",
   "execution_count": null,
   "id": "e95bc116",
   "metadata": {
    "ExecuteTime": {
     "end_time": "2022-09-05T20:23:42.091058Z",
     "start_time": "2022-09-05T20:23:42.047779Z"
    }
   },
   "outputs": [],
   "source": [
    "files = [file for file in glob.glob('Projeto/Fotos/H/*/*.jpg')]\n",
    "\n",
    "files = [file.replace('\\\\', '/') for file in files]"
   ]
  },
  {
   "cell_type": "code",
   "execution_count": null,
   "id": "314a6f47",
   "metadata": {
    "ExecuteTime": {
     "end_time": "2022-09-05T20:23:44.382682Z",
     "start_time": "2022-09-05T20:23:43.999607Z"
    }
   },
   "outputs": [],
   "source": [
    "img = cv2.imread(files[4])\n",
    "img = cv2.cvtColor(img, cv2.COLOR_BGR2RGB)\n",
    "\n",
    "img_resize = cv2.resize(img,(500, 500),interpolation=cv2.INTER_AREA)\n",
    "\n",
    "img_gray = cv2.cvtColor(img_resize, cv2.COLOR_RGB2GRAY)\n",
    "\n",
    "plt.imshow(img_gray)"
   ]
  },
  {
   "cell_type": "code",
   "execution_count": null,
   "id": "be610f41",
   "metadata": {},
   "outputs": [],
   "source": [
    "detector_face_cnn = dlib.cnn_face_detection_model_v1('../Visao Computacional/Weights/mmod_human_face_detector.dat')\n",
    "\n",
    "deteccoes = detector_face_cnn(img_gray, 1),\n",
    "\n",
    "len(deteccoes)"
   ]
  },
  {
   "cell_type": "code",
   "execution_count": null,
   "id": "3b1a727f",
   "metadata": {
    "ExecuteTime": {
     "end_time": "2022-09-05T20:49:57.098287Z",
     "start_time": "2022-09-05T20:49:42.358789Z"
    }
   },
   "outputs": [],
   "source": [
    "while len(deteccoes) == 0:\n",
    "    \n",
    "    height, width = img_gray.shape[:2]\n",
    "    \n",
    "    center = (width/2, height/2)\n",
    "    \n",
    "    rotate_matrix = cv2.getRotationMatrix2D(center=center, angle=90, scale=1)\n",
    "        \n",
    "    img_gray = cv2.warpAffine(src=img_gray, M=rotate_matrix, dsize=(width, height))\n",
    "        \n",
    "    deteccoes = detector_face_cnn(img_gray, 1)\n",
    "\n",
    "    print(deteccoes)\n",
    "        \n",
    "    #plt.figure(figsize=(15,15))\n",
    "    \n",
    "    plt.imshow(img)\n",
    "    \n",
    "    plt.show()"
   ]
  },
  {
   "cell_type": "code",
   "execution_count": null,
   "id": "903bcb05",
   "metadata": {
    "ExecuteTime": {
     "end_time": "2022-09-05T19:16:26.662422Z",
     "start_time": "2022-09-05T19:16:24.771979Z"
    }
   },
   "outputs": [],
   "source": [
    "for face in deteccoes:\n",
    "    l, t, r, b, c = face.rect.left(), face.rect.top(), face.rect.right(), face.rect.bottom(), face.confidence\n",
    "    print(c)\n",
    "    cv2.rectangle(img, (l,t), (r,b), (255,255,0), 2)\n",
    "    plt.figure(figsize=(10,10))\n",
    "    plt.imshow(img)"
   ]
  },
  {
   "cell_type": "markdown",
   "id": "df634f8b",
   "metadata": {},
   "source": [
    "# Teste com CNN"
   ]
  },
  {
   "cell_type": "code",
   "execution_count": null,
   "id": "2998215e",
   "metadata": {
    "ExecuteTime": {
     "end_time": "2022-09-05T18:54:34.517312Z",
     "start_time": "2022-09-05T18:53:14.770666Z"
    }
   },
   "outputs": [],
   "source": [
    "files = [file for file in glob.glob('Projeto/Fotos/H/*/*.jpg')]\n",
    "\n",
    "files = [file.replace('\\\\', '/') for file in files]\n",
    "\n",
    "detector_face_cnn = dlib.cnn_face_detection_model_v1('../Visao Computacional/Weights/mmod_human_face_detector.dat')\n",
    "\n",
    "brilho = 50\n",
    "\n",
    "face_corte = {}\n",
    "\n",
    "for i, file in enumerate(files):\n",
    "    \n",
    "    img = cv2.imread(file) ### ler a imagem\n",
    "\n",
    "    imagem_rgb = cv2.cvtColor(img, cv2.COLOR_BGR2RGB)\n",
    "    \n",
    "    img_resize = cv2.resize(imagem_rgb,(600, 600),interpolation=cv2.INTER_AREA)\n",
    "\n",
    "    img_hsv = cv2.cvtColor(img_resize, cv2.COLOR_RGB2HSV)\n",
    "    \n",
    "    img_hsv[:,:,2] = cv2.add(img_hsv[:,:,2], brilho)\n",
    "\n",
    "    img_bright = cv2.cvtColor(img_hsv, cv2.COLOR_HSV2RGB)\n",
    "    \n",
    "    img_gray = cv2.cvtColor(img_bright, cv2.COLOR_RGB2GRAY)\n",
    "\n",
    "    deteccoes = detector_face_cnn(img_gray, 1)\n",
    "\n",
    "    print(len(deteccoes))\n",
    "\n",
    "    plt.imshow(img_gray)\n",
    "\n",
    "    plt.show()\n",
    "\n",
    "    while len(deteccoes) == 0:\n",
    "    \n",
    "        height, width = img_gray.shape[:2]\n",
    "        \n",
    "        center = (width/2, height/2)\n",
    "        \n",
    "        rotate_matrix = cv2.getRotationMatrix2D(center=center, angle=90, scale=1)\n",
    "            \n",
    "        img_gray = cv2.warpAffine(src=img_gray, M=rotate_matrix, dsize=(width, height))\n",
    "\n",
    "        deteccoes = detector_face_cnn(img_gray, 1)\n",
    "\n",
    "        print(deteccoes)\n",
    "    \n",
    "        plt.imshow(img_gray)\n",
    "    \n",
    "        plt.show()\n",
    "\n",
    "    for face in deteccoes:\n",
    "\n",
    "        l, t, r, b, c = face.rect.left(), face.rect.top(), face.rect.right(), face.rect.bottom(), face.confidence\n",
    "        \n",
    "        print(c)\n",
    "        \n",
    "        cv2.rectangle(img_gray, (l,t), (r,b), (255,255,0), 2)\n",
    "\n",
    "        plt.figure(figsize=(10,10))\n",
    "        \n",
    "        plt.imshow(img_gray)\n",
    "\n",
    "        plt.show()\n",
    "\n",
    "        corte = img_gray[t:b, l:r]\n",
    "\n",
    "        face_corte[file] = corte\n",
    "\n",
    "    "
   ]
  },
  {
   "cell_type": "markdown",
   "id": "d70a7922",
   "metadata": {},
   "source": [
    "# Teste com Hog_face"
   ]
  },
  {
   "cell_type": "code",
   "execution_count": null,
   "id": "b233601d",
   "metadata": {
    "ExecuteTime": {
     "end_time": "2022-09-05T19:09:47.673999Z",
     "start_time": "2022-09-05T19:07:43.205254Z"
    },
    "scrolled": true
   },
   "outputs": [],
   "source": [
    "files = [file for file in glob.glob('Projeto/Fotos/H/*/*.jpg')]\n",
    "\n",
    "files = [file.replace('\\\\', '/') for file in files]\n",
    "\n",
    "labels = []\n",
    "\n",
    "dataset_h = {}\n",
    "\n",
    "detector_face_hog = dlib.get_frontal_face_detector()\n",
    "\n",
    "brilho = 15\n",
    "\n",
    "for i, file in enumerate(files):\n",
    "    \n",
    "    img = cv2.imread(file) ### ler a imagem\n",
    "    \n",
    "    imagem_rgb = cv2.cvtColor(img, cv2.COLOR_BGR2RGB)\n",
    "    \n",
    "    img_resize = cv2.resize(imagem_rgb,(300, 300),interpolation=cv2.INTER_AREA)\n",
    "\n",
    "    #img_hsv = cv2.cvtColor(img_resize, cv2.COLOR_RGB2HSV)\n",
    "    \n",
    "    #img_hsv[:,:,2] = cv2.add(img_hsv[:,:,2], brilho)\n",
    "\n",
    "    #img_bright = cv2.cvtColor(img_hsv, cv2.COLOR_HSV2RGB)\n",
    "    \n",
    "    #img_gray = cv2.cvtColor(img_bright, cv2.COLOR_RGB2GRAY)\n",
    "    \n",
    "    deteccoes = detector_face_hog(img_resize, 4)\n",
    "    \n",
    "    print(len(deteccoes))\n",
    "\n",
    "    plt.imshow(img_resize)\n",
    "\n",
    "    plt.show()\n",
    "\n",
    "    while len(deteccoes) == 0:\n",
    "    \n",
    "        height, width = img_resize.shape[:2]\n",
    "        \n",
    "        center = (width/2, height/2)\n",
    "        \n",
    "        rotate_matrix = cv2.getRotationMatrix2D(center=center, angle=90, scale=1)\n",
    "            \n",
    "        img_resize = cv2.warpAffine(src=img_resize, M=rotate_matrix, dsize=(width, height))\n",
    "\n",
    "        deteccoes = detector_face_hog(img_resize, 4)\n",
    "\n",
    "        print(deteccoes)\n",
    "    \n",
    "        plt.imshow(img_resize)\n",
    "    \n",
    "        plt.show()\n",
    "\n",
    "        \n",
    "    for face in deteccoes:\n",
    "        \n",
    "        l, t, r, b = face.left(), face.top(), face.right(), face.bottom()\n",
    "\n",
    "        cv2.rectangle(img_resize, (l, t), (r, b), (50,255,255), 2)\n",
    "        \n",
    "        print(l, t, r, b)\n",
    "        \n",
    "        plt.imshow(img_resize)\n",
    "        plt.show()\n",
    "\n",
    "        plt.imshow(img_resize[t:b, l:r])\n",
    "        plt.show()\n",
    "    \n",
    "    #img_gray = cv2.cvtColor(img, cv2.COLOR_RGB2GRAY)\n",
    "    \n",
    "    \n",
    "    #label = file.split(sep='/')[3]\n",
    "    #print(label)    \n",
    "    \n",
    "    #name = file.split(sep='/')[-1]\n",
    "    #print(name)\n",
    "    \n",
    "    #cv2.imwrite(f'Projeto/' + label + '/' + name + '.png', img_gray)\n",
    "    #labels.append(label)"
   ]
  },
  {
   "cell_type": "code",
   "execution_count": null,
   "id": "f11467ca",
   "metadata": {},
   "outputs": [],
   "source": [
    "\n",
    "files = [file for file in glob.glob('Projeto/Fotos/H/*/*.jpg')]\n",
    "\n",
    "files = [file.replace('\\\\', '/') for file in files]\n",
    "\n",
    "detector_face_hog = dlib.get_frontal_face_detector()"
   ]
  },
  {
   "cell_type": "code",
   "execution_count": null,
   "metadata": {},
   "outputs": [],
   "source": [
    "brilho = 10\n",
    "img = cv2.imread(files[1])\n",
    "img = cv2.cvtColor(img, cv2.COLOR_BGR2RGB)\n",
    "\n",
    "img_resize = cv2.resize(img,(500, 500),interpolation=cv2.INTER_AREA)\n",
    "\n",
    "\n",
    "img_hsv = cv2.cvtColor(img_resize, cv2.COLOR_RGB2HSV)\n",
    "\n",
    "img_hsv[:,:,2] = cv2.add(img_hsv[:,:,2], brilho)\n",
    "\n",
    "img_bright = cv2.cvtColor(img_hsv, cv2.COLOR_HSV2RGB)\n",
    "\n",
    "#deteccoes = detector_face_hog(img_gray, 4) # escala\n",
    "\n",
    "#print(len(deteccoes))\n",
    "\n",
    "plt.figure(figsize=(10,10))\n",
    "plt.imshow(img_bright)"
   ]
  },
  {
   "cell_type": "code",
   "execution_count": null,
   "id": "bcb18caa",
   "metadata": {},
   "outputs": [],
   "source": [
    "files = [file for file in glob.glob('Projeto/Fotos/H/01/*.jpg')]\n",
    "\n",
    "files = [file.replace('\\\\', '/') for file in files]\n",
    "\n",
    "detector_facial = cv2.CascadeClassifier('../Visao Computacional/Cascades/haarcascade_frontalface_default.xml')\n",
    "\n",
    "brilho = 70\n",
    "\n",
    "face_corte = {}\n",
    "\n",
    "for i, file in enumerate(files):\n",
    "\n",
    "    img = cv2.imread(file)\n",
    "\n",
    "    img_resize = cv2.resize(img,(800, 800),interpolation=cv2.INTER_AREA)\n",
    "\n",
    "    img_rgb = cv2.cvtColor(img_resize, cv2.COLOR_BGR2RGB)\n",
    "\n",
    "    img_hsv = cv2.cvtColor(img_rgb, cv2.COLOR_RGB2HSV)\n",
    "        \n",
    "    img_hsv[:,:,2] = cv2.add(img_hsv[:,:,2], brilho)\n",
    "\n",
    "    img_bright = cv2.cvtColor(img_hsv, cv2.COLOR_HSV2RGB)\n",
    "\n",
    "    img_gray = cv2.cvtColor(img_bright, cv2.COLOR_RGB2GRAY)\n",
    "\n",
    "    deteccoes = detector_facial.detectMultiScale(img_gray, scaleFactor = 1.3, minSize = (100,100))\n",
    "\n",
    "    while len(deteccoes) == 0:\n",
    "    \n",
    "        height, width = img_gray.shape[:2]\n",
    "        \n",
    "        center = (width/2, height/2)\n",
    "        \n",
    "        rotate_matrix = cv2.getRotationMatrix2D(center=center, angle=90, scale=1)\n",
    "            \n",
    "        img_gray = cv2.warpAffine(src=img_gray, M=rotate_matrix, dsize=(width, height))\n",
    "\n",
    "        deteccoes = detector_facial.detectMultiScale(img_gray, scaleFactor = 1.3, minSize = (90,90))\n",
    "\n",
    "        print(deteccoes)\n",
    "    \n",
    "        plt.imshow(img_gray)\n",
    "    \n",
    "        plt.show()\n",
    "\n",
    "    for x, y, w, h in deteccoes:\n",
    "\n",
    "        #print(x, y, w, h)\n",
    "        \n",
    "        cv2.rectangle(img_rgb, (x, y), (x + w, y + h), (180,25,55), 2)\n",
    "\n",
    "        recorte_face = img_rgb[y:y+h, x:x+w]\n",
    "\n",
    "        plt.imshow(img_rgb)\n",
    "        \n",
    "        plt.show()\n",
    "\n",
    "        plt.imshow(recorte_face)\n",
    "    \n",
    "        plt.show()\n",
    "\n",
    "        face_corte[file] = recorte_face"
   ]
  },
  {
   "cell_type": "code",
   "execution_count": null,
   "id": "bf48cefb",
   "metadata": {},
   "outputs": [],
   "source": [
    "files = [file for file in glob.glob('Projeto/Fotos/H/01/*.jpg')]\n",
    "\n",
    "files = [file.replace('\\\\', '/') for file in files]\n",
    "\n",
    "detector_facial = cv2.CascadeClassifier('../Visao Computacional/Cascades/haarcascade_frontalface_default.xml')\n",
    "\n",
    "brilho = 40\n"
   ]
  },
  {
   "cell_type": "code",
   "execution_count": null,
   "id": "ddecd128",
   "metadata": {},
   "outputs": [],
   "source": [
    "img = cv2.imread(files[0])\n",
    "\n",
    "img_resize = cv2.resize(img,(600, 600),interpolation=cv2.INTER_AREA)\n",
    "\n",
    "img_rgb = cv2.cvtColor(img_resize, cv2.COLOR_BGR2RGB)\n",
    "\n",
    "img_hsv = cv2.cvtColor(img_rgb, cv2.COLOR_RGB2HSV)\n",
    "    \n",
    "img_hsv[:,:,2] = cv2.add(img_hsv[:,:,2], brilho)\n",
    "\n",
    "img_bright = cv2.cvtColor(img_hsv, cv2.COLOR_HSV2RGB)\n",
    "\n",
    "img_gray = cv2.cvtColor(img_bright, cv2.COLOR_RGB2GRAY)\n",
    "\n",
    "deteccoes = detector_facial.detectMultiScale(img_gray, scaleFactor = 1.2, minSize = (60,60))"
   ]
  },
  {
   "cell_type": "code",
   "execution_count": null,
   "id": "0d6f76c7",
   "metadata": {},
   "outputs": [],
   "source": [
    "while len(deteccoes) == 0:\n",
    "    \n",
    "        height, width = img_gray.shape[:2]\n",
    "        \n",
    "        center = (width/2, height/2)\n",
    "        \n",
    "        rotate_matrix = cv2.getRotationMatrix2D(center=center, angle=90, scale=1)\n",
    "            \n",
    "        img_gray = cv2.warpAffine(src=img_gray, M=rotate_matrix, dsize=(width, height))\n",
    "\n",
    "        img_rgb = cv2.cvtColor(img_gray, cv2.COLOR_GRAY2RGB)\n",
    "\n",
    "        deteccoes = detector_facial.detectMultiScale(img_gray, scaleFactor = 1.2, minSize = (60,60))\n",
    "\n",
    "        print(deteccoes)\n",
    "    \n",
    "        plt.imshow(img_rgb)\n",
    "    \n",
    "        plt.show()"
   ]
  },
  {
   "cell_type": "code",
   "execution_count": null,
   "id": "ddc63375",
   "metadata": {},
   "outputs": [],
   "source": [
    "plt.imshow(img_bright)\n"
   ]
  },
  {
   "cell_type": "code",
   "execution_count": null,
   "id": "d10f37c0",
   "metadata": {},
   "outputs": [],
   "source": [
    "for x, y, w, h in deteccoes:\n",
    "\n",
    "        #print(x, y, w, h)\n",
    "\n",
    "        cv2.rectangle(img_rgb, (x, y), (x + w, y + h), (180,25,55), 2)\n",
    "\n",
    "        recorte_face = img_rgb[y:y+h, x:x+w]\n",
    "\n",
    "        plt.imshow(img_rgb)\n",
    "\n",
    "        plt.show()\n",
    "\n",
    "        plt.imshow(recorte_face)\n",
    "\n",
    "        plt.show()\n",
    "\n",
    "        face_corte[file] = recorte_face"
   ]
  },
  {
   "cell_type": "code",
   "execution_count": null,
   "id": "e875fdf7",
   "metadata": {
    "ExecuteTime": {
     "end_time": "2022-09-05T18:30:29.903197Z",
     "start_time": "2022-09-05T18:30:29.876091Z"
    }
   },
   "outputs": [],
   "source": [
    "plt.figure(figsize=(10,10))\n",
    "plt.imshow(list(dataset_h.values())[1000])"
   ]
  },
  {
   "cell_type": "code",
   "execution_count": null,
   "id": "5f9c984e",
   "metadata": {
    "ExecuteTime": {
     "end_time": "2022-08-31T01:28:56.372478Z",
     "start_time": "2022-08-31T01:28:56.372478Z"
    }
   },
   "outputs": [],
   "source": [
    "X_train, X_test, y_train, y_test = train_test_split(dataset_h, labels, test_size=0.33, stratify=labels, random_state=42)\n",
    "\n",
    "X_train = np.asarray(X_train)\n",
    "\n",
    "X_test = np.asarray(X_test)\n",
    "\n",
    "print('tamanho do dataset de treino:', X_train.shape)\n",
    "\n",
    "print('tamanho do dataset de teste:', X_test.shape)"
   ]
  },
  {
   "cell_type": "code",
   "execution_count": null,
   "id": "0581f051",
   "metadata": {
    "ExecuteTime": {
     "end_time": "2022-08-31T01:28:56.373479Z",
     "start_time": "2022-08-31T01:28:56.373479Z"
    },
    "scrolled": false
   },
   "outputs": [],
   "source": [
    "plt.imshow(X_train[4]);\n",
    "print(y_train[4])"
   ]
  },
  {
   "cell_type": "code",
   "execution_count": null,
   "id": "861d2956",
   "metadata": {
    "ExecuteTime": {
     "end_time": "2022-08-31T01:28:56.374480Z",
     "start_time": "2022-08-31T01:28:56.374480Z"
    }
   },
   "outputs": [],
   "source": [
    "X_train_rf = X_train.reshape(X_train.shape[0], -1)\n",
    "\n",
    "X_test_rf = X_test.reshape(X_test.shape[0], -1)\n",
    "\n",
    "print(X_train_rf.shape)\n",
    "print(X_test_rf.shape)"
   ]
  },
  {
   "cell_type": "code",
   "execution_count": null,
   "id": "a32f88f8",
   "metadata": {
    "ExecuteTime": {
     "end_time": "2022-08-31T01:28:56.375482Z",
     "start_time": "2022-08-31T01:28:56.375482Z"
    }
   },
   "outputs": [],
   "source": [
    "clf = RandomForestClassifier()\n",
    "\n",
    "clf.fit(X_train_rf, y_train) \n",
    "\n",
    "y_pred_rf = clf.predict(X_test_rf)\n",
    "\n",
    "y_pred_train = clf.predict(X_train_rf)"
   ]
  },
  {
   "cell_type": "code",
   "execution_count": null,
   "id": "0468bec3",
   "metadata": {
    "ExecuteTime": {
     "end_time": "2022-08-31T01:28:56.376482Z",
     "start_time": "2022-08-31T01:28:56.376482Z"
    }
   },
   "outputs": [],
   "source": [
    "print(classification_report(y_train, y_pred_train ))\n",
    "print(classification_report(y_test, y_pred_rf))"
   ]
  },
  {
   "cell_type": "code",
   "execution_count": null,
   "id": "ed4bfe3e",
   "metadata": {
    "ExecuteTime": {
     "end_time": "2022-08-31T01:28:56.377483Z",
     "start_time": "2022-08-31T01:28:56.377483Z"
    }
   },
   "outputs": [],
   "source": [
    "confusion_matrix(y_test, y_pred_rf)"
   ]
  },
  {
   "cell_type": "code",
   "execution_count": null,
   "id": "a4b53634",
   "metadata": {
    "ExecuteTime": {
     "end_time": "2022-08-31T01:28:56.377483Z",
     "start_time": "2022-08-31T01:28:56.377483Z"
    }
   },
   "outputs": [],
   "source": [
    "\n",
    "plt.figure(figsize=[10, 10])\n",
    "\n",
    "fig = ConfusionMatrixDisplay.from_predictions(y_test, y_pred_rf)\n",
    "\n",
    "plt.show(fig)"
   ]
  },
  {
   "cell_type": "code",
   "execution_count": null,
   "id": "148185ce",
   "metadata": {
    "ExecuteTime": {
     "end_time": "2022-08-31T01:28:56.378484Z",
     "start_time": "2022-08-31T01:28:56.378484Z"
    }
   },
   "outputs": [],
   "source": [
    "img_256 = X_train[4]\n",
    "\n",
    "#img_512 = cv2.resize(teste,(512, 512),interpolation=cv2.INTER_AREA)\n",
    "\n",
    "plt.figure(figsize=[10, 10])\n",
    "\n",
    "plt.imshow(img_256);"
   ]
  },
  {
   "cell_type": "code",
   "execution_count": null,
   "id": "ba91fbac",
   "metadata": {
    "ExecuteTime": {
     "end_time": "2022-08-31T01:28:56.380486Z",
     "start_time": "2022-08-31T01:28:56.380486Z"
    }
   },
   "outputs": [],
   "source": [
    "print(labels)"
   ]
  },
  {
   "cell_type": "code",
   "execution_count": null,
   "id": "dac93ec4",
   "metadata": {
    "ExecuteTime": {
     "end_time": "2022-08-31T01:28:56.381487Z",
     "start_time": "2022-08-31T01:28:56.381487Z"
    }
   },
   "outputs": [],
   "source": [
    "plt.imshow(labels[0])"
   ]
  },
  {
   "cell_type": "markdown",
   "id": "e5806c0f",
   "metadata": {
    "ExecuteTime": {
     "end_time": "2022-08-31T01:28:56.382488Z",
     "start_time": "2022-08-31T01:28:56.382488Z"
    }
   },
   "source": [
    "clusterização\n",
    "\n",
    "dlib\n",
    "\n",
    "template matching"
   ]
  }
 ],
 "metadata": {
  "kernelspec": {
   "display_name": "Python 3.9.2 64-bit",
   "language": "python",
   "name": "python3"
  },
  "language_info": {
   "codemirror_mode": {
    "name": "ipython",
    "version": 3
   },
   "file_extension": ".py",
   "mimetype": "text/x-python",
   "name": "python",
   "nbconvert_exporter": "python",
   "pygments_lexer": "ipython3",
   "version": "3.9.2"
  },
  "vscode": {
   "interpreter": {
    "hash": "31f2aee4e71d21fbe5cf8b01ff0e069b9275f58929596ceb00d14d90e3e16cd6"
   }
  }
 },
 "nbformat": 4,
 "nbformat_minor": 5
}
