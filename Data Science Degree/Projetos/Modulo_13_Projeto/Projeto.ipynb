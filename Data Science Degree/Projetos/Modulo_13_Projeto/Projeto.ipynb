{
 "cells": [
  {
   "cell_type": "code",
   "execution_count": 4,
   "id": "fb6bbd6e",
   "metadata": {},
   "outputs": [],
   "source": [
    "import numpy as np\n",
    "import matplotlib.pyplot as plt\n",
    "import cv2\n",
    "import glob\n",
    "from sklearn.model_selection import train_test_split\n",
    "from sklearn.ensemble import RandomForestClassifier\n",
    "from sklearn.metrics import classification_report, confusion_matrix, ConfusionMatrixDisplay\n",
    "from tensorflow.keras.models import Sequential\n",
    "from tensorflow.keras.layers import Dense, Activation, Conv2D, MaxPool2D, Flatten\n",
    "import tensorflow.keras as keras\n",
    "from skimage import feature\n",
    "import re"
   ]
  },
  {
   "cell_type": "code",
   "execution_count": 5,
   "id": "e95bc116",
   "metadata": {},
   "outputs": [],
   "source": [
    "files = [file for file in glob.glob('Projeto/Fotos/H/*/*.jpg')]\n",
    "\n",
    "files = [file.replace('\\\\', '/') for file in files]\n"
   ]
  },
  {
   "cell_type": "code",
   "execution_count": 6,
   "id": "b233601d",
   "metadata": {
    "scrolled": true
   },
   "outputs": [],
   "source": [
    "labels = []\n",
    "\n",
    "for i, file in enumerate(files):\n",
    "    \n",
    "    img = cv2.imread(file) ### ler a imagem\n",
    "        \n",
    "    img_512 = cv2.resize(img,(512, 512),interpolation=cv2.INTER_AREA)\n",
    "        \n",
    "    img = cv2.cvtColor(img_512, cv2.COLOR_BGR2RGB)\n",
    "    \n",
    "    img_gray = cv2.cvtColor(img, cv2.COLOR_RGB2GRAY)\n",
    "       \n",
    "    label = file.split(sep='/')[3]\n",
    "    print(label)    \n",
    "    \n",
    "    name = file.split(sep='/')[-1]\n",
    "    print(name)    \n",
    "    \n",
    "    #cv2.imwrite(f'Projeto/' + label + '/' + name + '.png', img_gray)\n",
    "    labels.append(label)"
   ]
  },
  {
   "cell_type": "code",
   "execution_count": 7,
   "id": "4510ec9e",
   "metadata": {},
   "outputs": [],
   "source": [
    "files = [file for file in glob.glob('Projeto/Fotos/size/*.png')]\n",
    "files = [file.replace('\\\\', '/') for file in files]\n",
    "files.sort()\n",
    "\n",
    "dataset = []\n",
    "for file in files:\n",
    "    img = cv2.imread(file)\n",
    "    img_gray = cv2.cvtColor(img, cv2.COLOR_BGR2GRAY)\n",
    "    \n",
    "    dataset.append(img_gray)"
   ]
  },
  {
   "cell_type": "code",
   "execution_count": 8,
   "id": "e875fdf7",
   "metadata": {},
   "outputs": [
    {
     "data": {
      "text/plain": [
       "0"
      ]
     },
     "execution_count": 8,
     "metadata": {},
     "output_type": "execute_result"
    }
   ],
   "source": [
    "len(labels)"
   ]
  },
  {
   "cell_type": "code",
   "execution_count": 9,
   "id": "5f9c984e",
   "metadata": {},
   "outputs": [
    {
     "ename": "ValueError",
     "evalue": "With n_samples=0, test_size=0.33 and train_size=None, the resulting train set will be empty. Adjust any of the aforementioned parameters.",
     "output_type": "error",
     "traceback": [
      "\u001b[0;31m---------------------------------------------------------------------------\u001b[0m",
      "\u001b[0;31mValueError\u001b[0m                                Traceback (most recent call last)",
      "\u001b[1;32m/home/Faaeel06/Documentos/GitHub/Lets_Code/Data Science Degree/Projetos/Modulo_13_Projeto/Projeto.ipynb Cell 6\u001b[0m in \u001b[0;36m<cell line: 1>\u001b[0;34m()\u001b[0m\n\u001b[0;32m----> <a href='vscode-notebook-cell:/home/Faaeel06/Documentos/GitHub/Lets_Code/Data%20Science%20Degree/Projetos/Modulo_13_Projeto/Projeto.ipynb#W5sZmlsZQ%3D%3D?line=0'>1</a>\u001b[0m X_train, X_test, y_train, y_test \u001b[39m=\u001b[39m train_test_split(dataset, labels, test_size\u001b[39m=\u001b[39;49m\u001b[39m0.33\u001b[39;49m, stratify\u001b[39m=\u001b[39;49mlabels, random_state\u001b[39m=\u001b[39;49m\u001b[39m42\u001b[39;49m)\n\u001b[1;32m      <a href='vscode-notebook-cell:/home/Faaeel06/Documentos/GitHub/Lets_Code/Data%20Science%20Degree/Projetos/Modulo_13_Projeto/Projeto.ipynb#W5sZmlsZQ%3D%3D?line=2'>3</a>\u001b[0m X_train \u001b[39m=\u001b[39m np\u001b[39m.\u001b[39masarray(X_train)\n\u001b[1;32m      <a href='vscode-notebook-cell:/home/Faaeel06/Documentos/GitHub/Lets_Code/Data%20Science%20Degree/Projetos/Modulo_13_Projeto/Projeto.ipynb#W5sZmlsZQ%3D%3D?line=4'>5</a>\u001b[0m X_test \u001b[39m=\u001b[39m np\u001b[39m.\u001b[39masarray(X_test)\n",
      "File \u001b[0;32m~/.local/lib/python3.9/site-packages/sklearn/model_selection/_split.py:2433\u001b[0m, in \u001b[0;36mtrain_test_split\u001b[0;34m(test_size, train_size, random_state, shuffle, stratify, *arrays)\u001b[0m\n\u001b[1;32m   2430\u001b[0m arrays \u001b[39m=\u001b[39m indexable(\u001b[39m*\u001b[39marrays)\n\u001b[1;32m   2432\u001b[0m n_samples \u001b[39m=\u001b[39m _num_samples(arrays[\u001b[39m0\u001b[39m])\n\u001b[0;32m-> 2433\u001b[0m n_train, n_test \u001b[39m=\u001b[39m _validate_shuffle_split(\n\u001b[1;32m   2434\u001b[0m     n_samples, test_size, train_size, default_test_size\u001b[39m=\u001b[39;49m\u001b[39m0.25\u001b[39;49m\n\u001b[1;32m   2435\u001b[0m )\n\u001b[1;32m   2437\u001b[0m \u001b[39mif\u001b[39;00m shuffle \u001b[39mis\u001b[39;00m \u001b[39mFalse\u001b[39;00m:\n\u001b[1;32m   2438\u001b[0m     \u001b[39mif\u001b[39;00m stratify \u001b[39mis\u001b[39;00m \u001b[39mnot\u001b[39;00m \u001b[39mNone\u001b[39;00m:\n",
      "File \u001b[0;32m~/.local/lib/python3.9/site-packages/sklearn/model_selection/_split.py:2111\u001b[0m, in \u001b[0;36m_validate_shuffle_split\u001b[0;34m(n_samples, test_size, train_size, default_test_size)\u001b[0m\n\u001b[1;32m   2108\u001b[0m n_train, n_test \u001b[39m=\u001b[39m \u001b[39mint\u001b[39m(n_train), \u001b[39mint\u001b[39m(n_test)\n\u001b[1;32m   2110\u001b[0m \u001b[39mif\u001b[39;00m n_train \u001b[39m==\u001b[39m \u001b[39m0\u001b[39m:\n\u001b[0;32m-> 2111\u001b[0m     \u001b[39mraise\u001b[39;00m \u001b[39mValueError\u001b[39;00m(\n\u001b[1;32m   2112\u001b[0m         \u001b[39m\"\u001b[39m\u001b[39mWith n_samples=\u001b[39m\u001b[39m{}\u001b[39;00m\u001b[39m, test_size=\u001b[39m\u001b[39m{}\u001b[39;00m\u001b[39m and train_size=\u001b[39m\u001b[39m{}\u001b[39;00m\u001b[39m, the \u001b[39m\u001b[39m\"\u001b[39m\n\u001b[1;32m   2113\u001b[0m         \u001b[39m\"\u001b[39m\u001b[39mresulting train set will be empty. Adjust any of the \u001b[39m\u001b[39m\"\u001b[39m\n\u001b[1;32m   2114\u001b[0m         \u001b[39m\"\u001b[39m\u001b[39maforementioned parameters.\u001b[39m\u001b[39m\"\u001b[39m\u001b[39m.\u001b[39mformat(n_samples, test_size, train_size)\n\u001b[1;32m   2115\u001b[0m     )\n\u001b[1;32m   2117\u001b[0m \u001b[39mreturn\u001b[39;00m n_train, n_test\n",
      "\u001b[0;31mValueError\u001b[0m: With n_samples=0, test_size=0.33 and train_size=None, the resulting train set will be empty. Adjust any of the aforementioned parameters."
     ]
    }
   ],
   "source": [
    "X_train, X_test, y_train, y_test = train_test_split(dataset, labels, test_size=0.33, stratify=labels, random_state=42)\n",
    "\n",
    "X_train = np.asarray(X_train)\n",
    "\n",
    "X_test = np.asarray(X_test)\n",
    "\n",
    "print('tamanho do dataset de treino:', X_train.shape)\n",
    "\n",
    "print('tamanho do dataset de teste:', X_test.shape)"
   ]
  },
  {
   "cell_type": "code",
   "execution_count": null,
   "id": "0581f051",
   "metadata": {
    "scrolled": false
   },
   "outputs": [],
   "source": [
    "plt.imshow(X_train[4]);\n",
    "print(y_train[4])"
   ]
  },
  {
   "cell_type": "code",
   "execution_count": null,
   "id": "861d2956",
   "metadata": {},
   "outputs": [],
   "source": [
    "X_train_rf = X_train.reshape(X_train.shape[0], -1)\n",
    "\n",
    "X_test_rf = X_test.reshape(X_test.shape[0], -1)\n",
    "\n",
    "print(X_train_rf.shape)\n",
    "print(X_test_rf.shape)"
   ]
  },
  {
   "cell_type": "code",
   "execution_count": null,
   "id": "a32f88f8",
   "metadata": {},
   "outputs": [],
   "source": [
    "clf = RandomForestClassifier()\n",
    "\n",
    "clf.fit(X_train_rf, y_train) \n",
    "\n",
    "y_pred_rf = clf.predict(X_test_rf)"
   ]
  },
  {
   "cell_type": "code",
   "execution_count": null,
   "id": "0468bec3",
   "metadata": {},
   "outputs": [],
   "source": [
    "#print(classification_report(X_train_rf, y_train))\n",
    "print(classification_report(y_test, y_pred_rf))"
   ]
  },
  {
   "cell_type": "code",
   "execution_count": null,
   "id": "ed4bfe3e",
   "metadata": {},
   "outputs": [],
   "source": [
    "confusion_matrix(y_test, y_pred_rf)"
   ]
  },
  {
   "cell_type": "code",
   "execution_count": null,
   "id": "a4b53634",
   "metadata": {},
   "outputs": [],
   "source": [
    "plt.figure(figsize=[10, 10])\n",
    "\n",
    "fig = ConfusionMatrixDisplay.from_predictions(y_test, y_pred_rf)\n",
    "\n",
    "plt.show(fig)"
   ]
  },
  {
   "cell_type": "code",
   "execution_count": null,
   "id": "148185ce",
   "metadata": {
    "collapsed": true
   },
   "outputs": [],
   "source": [
    "img_512 = cv2.resize(teste,(512, 512),interpolation=cv2.INTER_AREA)\n",
    "\n",
    "plt.figure(figsize=[10, 10])\n",
    "\n",
    "plt.imshow(img_256);"
   ]
  },
  {
   "cell_type": "code",
   "execution_count": null,
   "id": "ba91fbac",
   "metadata": {
    "collapsed": true
   },
   "outputs": [],
   "source": [
    "print(labels)"
   ]
  },
  {
   "cell_type": "code",
   "execution_count": null,
   "id": "dac93ec4",
   "metadata": {
    "collapsed": true
   },
   "outputs": [],
   "source": [
    "plt.imshow(labels[0])"
   ]
  },
  {
   "cell_type": "code",
   "execution_count": null,
   "id": "c7839d23",
   "metadata": {},
   "outputs": [],
   "source": []
  }
 ],
 "metadata": {
  "kernelspec": {
   "display_name": "Python 3.9.2 64-bit",
   "language": "python",
   "name": "python3"
  },
  "language_info": {
   "codemirror_mode": {
    "name": "ipython",
    "version": 3
   },
   "file_extension": ".py",
   "mimetype": "text/x-python",
   "name": "python",
   "nbconvert_exporter": "python",
   "pygments_lexer": "ipython3",
   "version": "3.9.2"
  },
  "vscode": {
   "interpreter": {
    "hash": "31f2aee4e71d21fbe5cf8b01ff0e069b9275f58929596ceb00d14d90e3e16cd6"
   }
  }
 },
 "nbformat": 4,
 "nbformat_minor": 5
}
