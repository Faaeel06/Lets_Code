{
 "cells": [
  {
   "cell_type": "code",
   "execution_count": null,
   "metadata": {},
   "outputs": [],
   "source": [
    "def eda_base():\n",
    "    # importando bibliotecas básicas para exploração\n",
    "    import pandas as pd\n",
    "    import numpy as np\n",
    "    import matplotlib.pyplot as plt\n",
    "    import seaborn as sns\n",
    "    from warnings import simplefilter\n",
    "\n",
    "    simplefilter(action='ignore', category=FutureWarning)\n",
    "\n",
    "    caminho = input('Digite o caminho do arquivo(Sem aspas):  ')\n",
    "    #Inicando os processos de leitura e apresentação da base de dados\n",
    "    \n",
    "    base = pd.read_csv(caminho, sep=',')\n",
    "    # Apresentação de dados e sua principais visualizações\n",
    "    display(base)\n",
    "    print('='* 100)\n",
    "    display(base.info())\n",
    "    print('='* 100)\n",
    "    display(base.isnull().sum())\n",
    "    print('='* 100)\n",
    "    display(base.describe())\n",
    "    \n",
    "    #Fazendo plot de todas as classes para vizualizar distribuição de dados\n",
    "    for col in base:\n",
    "\n",
    "        sns.histplot(data=base, x=col, kde=True).set_title(f\"Distribuição da variável de {col}\")\n",
    "        plt.show()\n",
    "    \n",
    "    plt.figure(figsize=(12, 6))\n",
    "\n",
    "    sns.heatmap(base.corr(), annot=True);\n",
    "\n",
    "    # Estudando os dados com base em uma coluna\n",
    "    col = input('Defina a coluna: ')\n",
    "\n",
    "    display(\"Correlação\\n\\n\", base.corr()[col].sort_values())\n",
    "\n",
    "    for column in base.drop(columns=col):\n",
    "    \n",
    "        sns.jointplot(data=base, x=column, y=col);\n",
    "        sns.barplot(data=base, x=col, y=column, ci=90);\n",
    "        plt.show();\n",
    "    \n",
    "    "
   ]
  },
  {
   "cell_type": "code",
   "execution_count": null,
   "metadata": {},
   "outputs": [],
   "source": [
    "eda_base()"
   ]
  },
  {
   "cell_type": "code",
   "execution_count": null,
   "metadata": {},
   "outputs": [],
   "source": []
  }
 ],
 "metadata": {
  "kernelspec": {
   "display_name": "Python 3.9.2 64-bit",
   "language": "python",
   "name": "python3"
  },
  "language_info": {
   "codemirror_mode": {
    "name": "ipython",
    "version": 3
   },
   "file_extension": ".py",
   "mimetype": "text/x-python",
   "name": "python",
   "nbconvert_exporter": "python",
   "pygments_lexer": "ipython3",
   "version": "3.9.2"
  },
  "orig_nbformat": 4,
  "vscode": {
   "interpreter": {
    "hash": "31f2aee4e71d21fbe5cf8b01ff0e069b9275f58929596ceb00d14d90e3e16cd6"
   }
  }
 },
 "nbformat": 4,
 "nbformat_minor": 2
}
