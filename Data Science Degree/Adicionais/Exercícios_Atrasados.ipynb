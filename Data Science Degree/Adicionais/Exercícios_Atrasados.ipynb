{
 "cells": [
  {
   "cell_type": "code",
   "execution_count": 1,
   "metadata": {},
   "outputs": [],
   "source": [
    "import numpy as np"
   ]
  },
  {
   "cell_type": "code",
   "execution_count": 2,
   "metadata": {},
   "outputs": [],
   "source": [
    "arr = np.arange(50)"
   ]
  },
  {
   "cell_type": "code",
   "execution_count": 3,
   "metadata": {},
   "outputs": [
    {
     "data": {
      "text/plain": [
       "array([ 0,  1,  2,  3,  4,  5,  6,  7,  8,  9, 10, 11, 12, 13, 14, 15, 16,\n",
       "       17, 18, 19, 20, 21, 22, 23, 24, 25, 26, 27, 28, 29, 30, 31, 32, 33,\n",
       "       34, 35, 36, 37, 38, 39, 40, 41, 42, 43, 44, 45, 46, 47, 48, 49])"
      ]
     },
     "execution_count": 3,
     "metadata": {},
     "output_type": "execute_result"
    }
   ],
   "source": [
    "arr"
   ]
  },
  {
   "cell_type": "code",
   "execution_count": 4,
   "metadata": {},
   "outputs": [],
   "source": [
    "arr_atualizado = arr[arr % 2]"
   ]
  },
  {
   "cell_type": "code",
   "execution_count": 5,
   "metadata": {},
   "outputs": [
    {
     "data": {
      "text/plain": [
       "array([0, 1, 0, 1, 0, 1, 0, 1, 0, 1, 0, 1, 0, 1, 0, 1, 0, 1, 0, 1, 0, 1,\n",
       "       0, 1, 0, 1, 0, 1, 0, 1, 0, 1, 0, 1, 0, 1, 0, 1, 0, 1, 0, 1, 0, 1,\n",
       "       0, 1, 0, 1, 0, 1])"
      ]
     },
     "execution_count": 5,
     "metadata": {},
     "output_type": "execute_result"
    }
   ],
   "source": [
    "arr_atualizado"
   ]
  },
  {
   "cell_type": "code",
   "execution_count": 6,
   "metadata": {},
   "outputs": [],
   "source": [
    "arr_atualizado = arr[arr > 5]"
   ]
  },
  {
   "cell_type": "code",
   "execution_count": 7,
   "metadata": {},
   "outputs": [
    {
     "data": {
      "text/plain": [
       "array([ 6,  7,  8,  9, 10, 11, 12, 13, 14, 15, 16, 17, 18, 19, 20, 21, 22,\n",
       "       23, 24, 25, 26, 27, 28, 29, 30, 31, 32, 33, 34, 35, 36, 37, 38, 39,\n",
       "       40, 41, 42, 43, 44, 45, 46, 47, 48, 49])"
      ]
     },
     "execution_count": 7,
     "metadata": {},
     "output_type": "execute_result"
    }
   ],
   "source": [
    "arr_atualizado"
   ]
  },
  {
   "cell_type": "code",
   "execution_count": 8,
   "metadata": {},
   "outputs": [],
   "source": [
    "arr_atualizado = arr[arr <= 10]"
   ]
  },
  {
   "cell_type": "code",
   "execution_count": 9,
   "metadata": {},
   "outputs": [
    {
     "data": {
      "text/plain": [
       "array([ 0,  1,  2,  3,  4,  5,  6,  7,  8,  9, 10])"
      ]
     },
     "execution_count": 9,
     "metadata": {},
     "output_type": "execute_result"
    }
   ],
   "source": [
    "arr_atualizado"
   ]
  },
  {
   "cell_type": "code",
   "execution_count": 10,
   "metadata": {},
   "outputs": [],
   "source": [
    "arr_atualizado = arr[(arr!= 1) | (arr!= 3)]"
   ]
  },
  {
   "cell_type": "code",
   "execution_count": 11,
   "metadata": {},
   "outputs": [
    {
     "data": {
      "text/plain": [
       "array([ 0,  1,  2,  3,  4,  5,  6,  7,  8,  9, 10, 11, 12, 13, 14, 15, 16,\n",
       "       17, 18, 19, 20, 21, 22, 23, 24, 25, 26, 27, 28, 29, 30, 31, 32, 33,\n",
       "       34, 35, 36, 37, 38, 39, 40, 41, 42, 43, 44, 45, 46, 47, 48, 49])"
      ]
     },
     "execution_count": 11,
     "metadata": {},
     "output_type": "execute_result"
    }
   ],
   "source": [
    "arr_atualizado"
   ]
  },
  {
   "cell_type": "code",
   "execution_count": 38,
   "metadata": {},
   "outputs": [],
   "source": [
    "import numpy as np\n",
    "# a) Crie um array aleatório de 15 itens entre 0 e 100;\n",
    "arr = np.random.randint(100, size=15)\n",
    "# b) Qual o maior número do array?\n",
    "arr.max()\n",
    "# c) Qual a sua posição?\n",
    "list_arr = list(arr)\n",
    "list_arr.index(arr.max())\n",
    "# d) Verifique quais números do array são maior que 10;\n",
    "arr[(arr > 10)]\n",
    "# e) Salve em uma nova lista apenas os itens entre 10 e 30.\n",
    "list_interval = arr[(arr >= 10) & (arr <= 30)]"
   ]
  },
  {
   "cell_type": "code",
   "execution_count": 53,
   "metadata": {},
   "outputs": [],
   "source": [
    "list_arr = list(arr)"
   ]
  },
  {
   "cell_type": "code",
   "execution_count": 55,
   "metadata": {},
   "outputs": [
    {
     "data": {
      "text/plain": [
       "2"
      ]
     },
     "execution_count": 55,
     "metadata": {},
     "output_type": "execute_result"
    }
   ],
   "source": [
    "list_arr.index(arr.max())"
   ]
  },
  {
   "cell_type": "code",
   "execution_count": 56,
   "metadata": {},
   "outputs": [
    {
     "data": {
      "text/plain": [
       "95"
      ]
     },
     "execution_count": 56,
     "metadata": {},
     "output_type": "execute_result"
    }
   ],
   "source": [
    "arr.max()"
   ]
  },
  {
   "cell_type": "code",
   "execution_count": 58,
   "metadata": {},
   "outputs": [
    {
     "data": {
      "text/plain": [
       "array([22, 48, 95, 36, 18, 17, 78, 58, 38, 46, 27, 42, 44, 47, 92])"
      ]
     },
     "execution_count": 58,
     "metadata": {},
     "output_type": "execute_result"
    }
   ],
   "source": [
    "arr[(arr > 10)]"
   ]
  },
  {
   "cell_type": "code",
   "execution_count": 61,
   "metadata": {},
   "outputs": [],
   "source": [
    "list_interval = arr[(arr >= 10) & (arr <= 30)]"
   ]
  },
  {
   "cell_type": "code",
   "execution_count": 62,
   "metadata": {},
   "outputs": [
    {
     "data": {
      "text/plain": [
       "array([22, 18, 17, 27])"
      ]
     },
     "execution_count": 62,
     "metadata": {},
     "output_type": "execute_result"
    }
   ],
   "source": [
    "list_interval"
   ]
  },
  {
   "cell_type": "code",
   "execution_count": 82,
   "metadata": {},
   "outputs": [
    {
     "ename": "AxisError",
     "evalue": "destination: axis 3 is out of bounds for array of dimension 1",
     "output_type": "error",
     "traceback": [
      "\u001b[1;31m---------------------------------------------------------------------------\u001b[0m",
      "\u001b[1;31mAxisError\u001b[0m                                 Traceback (most recent call last)",
      "\u001b[1;32mc:\\Users\\RRodr\\Documents\\GitHub\\Lets Code\\Data Science Degree\\Adicionais\\Exercícios_Atrasados.ipynb Cell 19'\u001b[0m in \u001b[0;36m<module>\u001b[1;34m\u001b[0m\n\u001b[1;32m----> <a href='vscode-notebook-cell:/c%3A/Users/RRodr/Documents/GitHub/Lets%20Code/Data%20Science%20Degree/Adicionais/Exerc%C3%ADcios_Atrasados.ipynb#ch0000018?line=0'>1</a>\u001b[0m matriz \u001b[39m=\u001b[39m np\u001b[39m.\u001b[39;49mlinspace(start\u001b[39m=\u001b[39;49m\u001b[39m0\u001b[39;49m, stop\u001b[39m=\u001b[39;49m\u001b[39m100\u001b[39;49m, retstep\u001b[39m=\u001b[39;49m\u001b[39m200\u001b[39;49m,axis\u001b[39m=\u001b[39;49m[\u001b[39m3\u001b[39;49m, \u001b[39m2\u001b[39;49m])\n",
      "File \u001b[1;32m<__array_function__ internals>:180\u001b[0m, in \u001b[0;36mlinspace\u001b[1;34m(*args, **kwargs)\u001b[0m\n",
      "File \u001b[1;32mc:\\Users\\RRodr\\Documents\\GitHub\\venv\\lib\\site-packages\\numpy\\core\\function_base.py:167\u001b[0m, in \u001b[0;36mlinspace\u001b[1;34m(start, stop, num, endpoint, retstep, dtype, axis)\u001b[0m\n\u001b[0;32m    <a href='file:///c%3A/Users/RRodr/Documents/GitHub/venv/lib/site-packages/numpy/core/function_base.py?line=163'>164</a>\u001b[0m     y[\u001b[39m-\u001b[39m\u001b[39m1\u001b[39m] \u001b[39m=\u001b[39m stop\n\u001b[0;32m    <a href='file:///c%3A/Users/RRodr/Documents/GitHub/venv/lib/site-packages/numpy/core/function_base.py?line=165'>166</a>\u001b[0m \u001b[39mif\u001b[39;00m axis \u001b[39m!=\u001b[39m \u001b[39m0\u001b[39m:\n\u001b[1;32m--> <a href='file:///c%3A/Users/RRodr/Documents/GitHub/venv/lib/site-packages/numpy/core/function_base.py?line=166'>167</a>\u001b[0m     y \u001b[39m=\u001b[39m _nx\u001b[39m.\u001b[39;49mmoveaxis(y, \u001b[39m0\u001b[39;49m, axis)\n\u001b[0;32m    <a href='file:///c%3A/Users/RRodr/Documents/GitHub/venv/lib/site-packages/numpy/core/function_base.py?line=168'>169</a>\u001b[0m \u001b[39mif\u001b[39;00m _nx\u001b[39m.\u001b[39missubdtype(dtype, _nx\u001b[39m.\u001b[39minteger):\n\u001b[0;32m    <a href='file:///c%3A/Users/RRodr/Documents/GitHub/venv/lib/site-packages/numpy/core/function_base.py?line=169'>170</a>\u001b[0m     _nx\u001b[39m.\u001b[39mfloor(y, out\u001b[39m=\u001b[39my)\n",
      "File \u001b[1;32m<__array_function__ internals>:180\u001b[0m, in \u001b[0;36mmoveaxis\u001b[1;34m(*args, **kwargs)\u001b[0m\n",
      "File \u001b[1;32mc:\\Users\\RRodr\\Documents\\GitHub\\venv\\lib\\site-packages\\numpy\\core\\numeric.py:1461\u001b[0m, in \u001b[0;36mmoveaxis\u001b[1;34m(a, source, destination)\u001b[0m\n\u001b[0;32m   <a href='file:///c%3A/Users/RRodr/Documents/GitHub/venv/lib/site-packages/numpy/core/numeric.py?line=1457'>1458</a>\u001b[0m     transpose \u001b[39m=\u001b[39m a\u001b[39m.\u001b[39mtranspose\n\u001b[0;32m   <a href='file:///c%3A/Users/RRodr/Documents/GitHub/venv/lib/site-packages/numpy/core/numeric.py?line=1459'>1460</a>\u001b[0m source \u001b[39m=\u001b[39m normalize_axis_tuple(source, a\u001b[39m.\u001b[39mndim, \u001b[39m'\u001b[39m\u001b[39msource\u001b[39m\u001b[39m'\u001b[39m)\n\u001b[1;32m-> <a href='file:///c%3A/Users/RRodr/Documents/GitHub/venv/lib/site-packages/numpy/core/numeric.py?line=1460'>1461</a>\u001b[0m destination \u001b[39m=\u001b[39m normalize_axis_tuple(destination, a\u001b[39m.\u001b[39;49mndim, \u001b[39m'\u001b[39;49m\u001b[39mdestination\u001b[39;49m\u001b[39m'\u001b[39;49m)\n\u001b[0;32m   <a href='file:///c%3A/Users/RRodr/Documents/GitHub/venv/lib/site-packages/numpy/core/numeric.py?line=1461'>1462</a>\u001b[0m \u001b[39mif\u001b[39;00m \u001b[39mlen\u001b[39m(source) \u001b[39m!=\u001b[39m \u001b[39mlen\u001b[39m(destination):\n\u001b[0;32m   <a href='file:///c%3A/Users/RRodr/Documents/GitHub/venv/lib/site-packages/numpy/core/numeric.py?line=1462'>1463</a>\u001b[0m     \u001b[39mraise\u001b[39;00m \u001b[39mValueError\u001b[39;00m(\u001b[39m'\u001b[39m\u001b[39m`source` and `destination` arguments must have \u001b[39m\u001b[39m'\u001b[39m\n\u001b[0;32m   <a href='file:///c%3A/Users/RRodr/Documents/GitHub/venv/lib/site-packages/numpy/core/numeric.py?line=1463'>1464</a>\u001b[0m                      \u001b[39m'\u001b[39m\u001b[39mthe same number of elements\u001b[39m\u001b[39m'\u001b[39m)\n",
      "File \u001b[1;32mc:\\Users\\RRodr\\Documents\\GitHub\\venv\\lib\\site-packages\\numpy\\core\\numeric.py:1391\u001b[0m, in \u001b[0;36mnormalize_axis_tuple\u001b[1;34m(axis, ndim, argname, allow_duplicate)\u001b[0m\n\u001b[0;32m   <a href='file:///c%3A/Users/RRodr/Documents/GitHub/venv/lib/site-packages/numpy/core/numeric.py?line=1388'>1389</a>\u001b[0m         \u001b[39mpass\u001b[39;00m\n\u001b[0;32m   <a href='file:///c%3A/Users/RRodr/Documents/GitHub/venv/lib/site-packages/numpy/core/numeric.py?line=1389'>1390</a>\u001b[0m \u001b[39m# Going via an iterator directly is slower than via list comprehension.\u001b[39;00m\n\u001b[1;32m-> <a href='file:///c%3A/Users/RRodr/Documents/GitHub/venv/lib/site-packages/numpy/core/numeric.py?line=1390'>1391</a>\u001b[0m axis \u001b[39m=\u001b[39m \u001b[39mtuple\u001b[39m([normalize_axis_index(ax, ndim, argname) \u001b[39mfor\u001b[39;00m ax \u001b[39min\u001b[39;00m axis])\n\u001b[0;32m   <a href='file:///c%3A/Users/RRodr/Documents/GitHub/venv/lib/site-packages/numpy/core/numeric.py?line=1391'>1392</a>\u001b[0m \u001b[39mif\u001b[39;00m \u001b[39mnot\u001b[39;00m allow_duplicate \u001b[39mand\u001b[39;00m \u001b[39mlen\u001b[39m(\u001b[39mset\u001b[39m(axis)) \u001b[39m!=\u001b[39m \u001b[39mlen\u001b[39m(axis):\n\u001b[0;32m   <a href='file:///c%3A/Users/RRodr/Documents/GitHub/venv/lib/site-packages/numpy/core/numeric.py?line=1392'>1393</a>\u001b[0m     \u001b[39mif\u001b[39;00m argname:\n",
      "File \u001b[1;32mc:\\Users\\RRodr\\Documents\\GitHub\\venv\\lib\\site-packages\\numpy\\core\\numeric.py:1391\u001b[0m, in \u001b[0;36m<listcomp>\u001b[1;34m(.0)\u001b[0m\n\u001b[0;32m   <a href='file:///c%3A/Users/RRodr/Documents/GitHub/venv/lib/site-packages/numpy/core/numeric.py?line=1388'>1389</a>\u001b[0m         \u001b[39mpass\u001b[39;00m\n\u001b[0;32m   <a href='file:///c%3A/Users/RRodr/Documents/GitHub/venv/lib/site-packages/numpy/core/numeric.py?line=1389'>1390</a>\u001b[0m \u001b[39m# Going via an iterator directly is slower than via list comprehension.\u001b[39;00m\n\u001b[1;32m-> <a href='file:///c%3A/Users/RRodr/Documents/GitHub/venv/lib/site-packages/numpy/core/numeric.py?line=1390'>1391</a>\u001b[0m axis \u001b[39m=\u001b[39m \u001b[39mtuple\u001b[39m([normalize_axis_index(ax, ndim, argname) \u001b[39mfor\u001b[39;00m ax \u001b[39min\u001b[39;00m axis])\n\u001b[0;32m   <a href='file:///c%3A/Users/RRodr/Documents/GitHub/venv/lib/site-packages/numpy/core/numeric.py?line=1391'>1392</a>\u001b[0m \u001b[39mif\u001b[39;00m \u001b[39mnot\u001b[39;00m allow_duplicate \u001b[39mand\u001b[39;00m \u001b[39mlen\u001b[39m(\u001b[39mset\u001b[39m(axis)) \u001b[39m!=\u001b[39m \u001b[39mlen\u001b[39m(axis):\n\u001b[0;32m   <a href='file:///c%3A/Users/RRodr/Documents/GitHub/venv/lib/site-packages/numpy/core/numeric.py?line=1392'>1393</a>\u001b[0m     \u001b[39mif\u001b[39;00m argname:\n",
      "\u001b[1;31mAxisError\u001b[0m: destination: axis 3 is out of bounds for array of dimension 1"
     ]
    }
   ],
   "source": [
    "matriz = np.vander(np.linspace(start=0, stop=100, retstep=20), )"
   ]
  },
  {
   "cell_type": "code",
   "execution_count": 76,
   "metadata": {},
   "outputs": [
    {
     "data": {
      "text/plain": [
       "(array([  0.        ,   2.04081633,   4.08163265,   6.12244898,\n",
       "          8.16326531,  10.20408163,  12.24489796,  14.28571429,\n",
       "         16.32653061,  18.36734694,  20.40816327,  22.44897959,\n",
       "         24.48979592,  26.53061224,  28.57142857,  30.6122449 ,\n",
       "         32.65306122,  34.69387755,  36.73469388,  38.7755102 ,\n",
       "         40.81632653,  42.85714286,  44.89795918,  46.93877551,\n",
       "         48.97959184,  51.02040816,  53.06122449,  55.10204082,\n",
       "         57.14285714,  59.18367347,  61.2244898 ,  63.26530612,\n",
       "         65.30612245,  67.34693878,  69.3877551 ,  71.42857143,\n",
       "         73.46938776,  75.51020408,  77.55102041,  79.59183673,\n",
       "         81.63265306,  83.67346939,  85.71428571,  87.75510204,\n",
       "         89.79591837,  91.83673469,  93.87755102,  95.91836735,\n",
       "         97.95918367, 100.        ]),\n",
       " 2.0408163265306123)"
      ]
     },
     "execution_count": 76,
     "metadata": {},
     "output_type": "execute_result"
    }
   ],
   "source": [
    "matriz"
   ]
  },
  {
   "cell_type": "code",
   "execution_count": null,
   "metadata": {},
   "outputs": [],
   "source": []
  }
 ],
 "metadata": {
  "interpreter": {
   "hash": "1ca5f530d3b3910b8e113408e3f5b786a0fc61403a8e1b66fb3f263db0dffa71"
  },
  "kernelspec": {
   "display_name": "Python 3.10.0 ('venv': venv)",
   "language": "python",
   "name": "python3"
  },
  "language_info": {
   "codemirror_mode": {
    "name": "ipython",
    "version": 3
   },
   "file_extension": ".py",
   "mimetype": "text/x-python",
   "name": "python",
   "nbconvert_exporter": "python",
   "pygments_lexer": "ipython3",
   "version": "3.10.0"
  },
  "orig_nbformat": 4
 },
 "nbformat": 4,
 "nbformat_minor": 2
}
