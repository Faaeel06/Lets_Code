{
 "cells": [
  {
   "cell_type": "code",
   "execution_count": 1,
   "metadata": {},
   "outputs": [
    {
     "name": "stdout",
     "output_type": "stream",
     "text": [
      "Defaulting to user installation because normal site-packages is not writeable\n",
      "Requirement already satisfied: pip in /home/Faaeel06/.local/lib/python3.9/site-packages (22.2.2)\n",
      "Note: you may need to restart the kernel to use updated packages.\n",
      "Defaulting to user installation because normal site-packages is not writeable\n",
      "Requirement already satisfied: matplotlib in /home/Faaeel06/.local/lib/python3.9/site-packages (3.5.2)\n",
      "Requirement already satisfied: cycler>=0.10 in /home/Faaeel06/.local/lib/python3.9/site-packages (from matplotlib) (0.11.0)\n",
      "Requirement already satisfied: packaging>=20.0 in /home/Faaeel06/.local/lib/python3.9/site-packages (from matplotlib) (21.3)\n",
      "Requirement already satisfied: kiwisolver>=1.0.1 in /home/Faaeel06/.local/lib/python3.9/site-packages (from matplotlib) (1.4.3)\n",
      "Requirement already satisfied: numpy>=1.17 in /home/Faaeel06/.local/lib/python3.9/site-packages (from matplotlib) (1.23.2)\n",
      "Requirement already satisfied: fonttools>=4.22.0 in /home/Faaeel06/.local/lib/python3.9/site-packages (from matplotlib) (4.34.4)\n",
      "Requirement already satisfied: pillow>=6.2.0 in /home/Faaeel06/.local/lib/python3.9/site-packages (from matplotlib) (9.2.0)\n",
      "Requirement already satisfied: python-dateutil>=2.7 in /home/Faaeel06/.local/lib/python3.9/site-packages (from matplotlib) (2.8.2)\n",
      "Requirement already satisfied: pyparsing>=2.2.1 in /home/Faaeel06/.local/lib/python3.9/site-packages (from matplotlib) (3.0.9)\n",
      "Requirement already satisfied: six>=1.5 in /home/Faaeel06/.local/lib/python3.9/site-packages (from python-dateutil>=2.7->matplotlib) (1.16.0)\n",
      "Note: you may need to restart the kernel to use updated packages.\n",
      "Defaulting to user installation because normal site-packages is not writeable\n",
      "Requirement already satisfied: pandas in /home/Faaeel06/.local/lib/python3.9/site-packages (1.4.3)\n",
      "Requirement already satisfied: pytz>=2020.1 in /home/Faaeel06/.local/lib/python3.9/site-packages (from pandas) (2022.1)\n",
      "Requirement already satisfied: numpy>=1.18.5 in /home/Faaeel06/.local/lib/python3.9/site-packages (from pandas) (1.23.2)\n",
      "Requirement already satisfied: python-dateutil>=2.8.1 in /home/Faaeel06/.local/lib/python3.9/site-packages (from pandas) (2.8.2)\n",
      "Requirement already satisfied: six>=1.5 in /home/Faaeel06/.local/lib/python3.9/site-packages (from python-dateutil>=2.8.1->pandas) (1.16.0)\n",
      "Note: you may need to restart the kernel to use updated packages.\n",
      "Defaulting to user installation because normal site-packages is not writeable\n",
      "Requirement already satisfied: sklearn in /home/Faaeel06/.local/lib/python3.9/site-packages (0.0)\n",
      "Requirement already satisfied: scikit-learn in /home/Faaeel06/.local/lib/python3.9/site-packages (from sklearn) (1.1.1)\n",
      "Requirement already satisfied: joblib>=1.0.0 in /home/Faaeel06/.local/lib/python3.9/site-packages (from scikit-learn->sklearn) (1.1.0)\n",
      "Requirement already satisfied: numpy>=1.17.3 in /home/Faaeel06/.local/lib/python3.9/site-packages (from scikit-learn->sklearn) (1.23.2)\n",
      "Requirement already satisfied: threadpoolctl>=2.0.0 in /home/Faaeel06/.local/lib/python3.9/site-packages (from scikit-learn->sklearn) (3.1.0)\n",
      "Requirement already satisfied: scipy>=1.3.2 in /home/Faaeel06/.local/lib/python3.9/site-packages (from scikit-learn->sklearn) (1.8.1)\n",
      "Note: you may need to restart the kernel to use updated packages.\n"
     ]
    }
   ],
   "source": [
    "%pip install pip --upgrade\n",
    "%pip install matplotlib\n",
    "%pip install pandas\n",
    "%pip install sklearn"
   ]
  },
  {
   "cell_type": "code",
   "execution_count": 2,
   "metadata": {},
   "outputs": [
    {
     "name": "stdout",
     "output_type": "stream",
     "text": [
      "Defaulting to user installation because normal site-packages is not writeable\n",
      "Requirement already satisfied: seaborn in /home/Faaeel06/.local/lib/python3.9/site-packages (0.11.2)\n",
      "Requirement already satisfied: matplotlib>=2.2 in /home/Faaeel06/.local/lib/python3.9/site-packages (from seaborn) (3.5.2)\n",
      "Requirement already satisfied: scipy>=1.0 in /home/Faaeel06/.local/lib/python3.9/site-packages (from seaborn) (1.8.1)\n",
      "Requirement already satisfied: numpy>=1.15 in /home/Faaeel06/.local/lib/python3.9/site-packages (from seaborn) (1.23.2)\n",
      "Requirement already satisfied: pandas>=0.23 in /home/Faaeel06/.local/lib/python3.9/site-packages (from seaborn) (1.4.3)\n",
      "Requirement already satisfied: python-dateutil>=2.7 in /home/Faaeel06/.local/lib/python3.9/site-packages (from matplotlib>=2.2->seaborn) (2.8.2)\n",
      "Requirement already satisfied: cycler>=0.10 in /home/Faaeel06/.local/lib/python3.9/site-packages (from matplotlib>=2.2->seaborn) (0.11.0)\n",
      "Requirement already satisfied: kiwisolver>=1.0.1 in /home/Faaeel06/.local/lib/python3.9/site-packages (from matplotlib>=2.2->seaborn) (1.4.3)\n",
      "Requirement already satisfied: pillow>=6.2.0 in /home/Faaeel06/.local/lib/python3.9/site-packages (from matplotlib>=2.2->seaborn) (9.2.0)\n",
      "Requirement already satisfied: pyparsing>=2.2.1 in /home/Faaeel06/.local/lib/python3.9/site-packages (from matplotlib>=2.2->seaborn) (3.0.9)\n",
      "Requirement already satisfied: fonttools>=4.22.0 in /home/Faaeel06/.local/lib/python3.9/site-packages (from matplotlib>=2.2->seaborn) (4.34.4)\n",
      "Requirement already satisfied: packaging>=20.0 in /home/Faaeel06/.local/lib/python3.9/site-packages (from matplotlib>=2.2->seaborn) (21.3)\n",
      "Requirement already satisfied: pytz>=2020.1 in /home/Faaeel06/.local/lib/python3.9/site-packages (from pandas>=0.23->seaborn) (2022.1)\n",
      "Requirement already satisfied: six>=1.5 in /home/Faaeel06/.local/lib/python3.9/site-packages (from python-dateutil>=2.7->matplotlib>=2.2->seaborn) (1.16.0)\n",
      "Note: you may need to restart the kernel to use updated packages.\n"
     ]
    }
   ],
   "source": [
    "%pip install seaborn\n"
   ]
  },
  {
   "cell_type": "code",
   "execution_count": 3,
   "metadata": {},
   "outputs": [
    {
     "name": "stdout",
     "output_type": "stream",
     "text": [
      "Defaulting to user installation because normal site-packages is not writeable\n",
      "Requirement already satisfied: hyperopt in /home/Faaeel06/.local/lib/python3.9/site-packages (0.2.7)\n",
      "Requirement already satisfied: py4j in /home/Faaeel06/.local/lib/python3.9/site-packages (from hyperopt) (0.10.9.5)\n",
      "Requirement already satisfied: tqdm in /home/Faaeel06/.local/lib/python3.9/site-packages (from hyperopt) (4.64.0)\n",
      "Requirement already satisfied: scipy in /home/Faaeel06/.local/lib/python3.9/site-packages (from hyperopt) (1.8.1)\n",
      "Requirement already satisfied: six in /home/Faaeel06/.local/lib/python3.9/site-packages (from hyperopt) (1.16.0)\n",
      "Requirement already satisfied: networkx>=2.2 in /home/Faaeel06/.local/lib/python3.9/site-packages (from hyperopt) (2.8.5)\n",
      "Requirement already satisfied: future in /home/Faaeel06/.local/lib/python3.9/site-packages (from hyperopt) (0.18.2)\n",
      "Requirement already satisfied: cloudpickle in /home/Faaeel06/.local/lib/python3.9/site-packages (from hyperopt) (2.1.0)\n",
      "Requirement already satisfied: numpy in /home/Faaeel06/.local/lib/python3.9/site-packages (from hyperopt) (1.23.2)\n",
      "Note: you may need to restart the kernel to use updated packages.\n"
     ]
    }
   ],
   "source": [
    "%pip install hyperopt"
   ]
  },
  {
   "cell_type": "code",
   "execution_count": 4,
   "metadata": {},
   "outputs": [
    {
     "name": "stdout",
     "output_type": "stream",
     "text": [
      "Defaulting to user installation because normal site-packages is not writeable\n",
      "Requirement already satisfied: imblearn in /home/Faaeel06/.local/lib/python3.9/site-packages (0.0)\n",
      "Requirement already satisfied: imbalanced-learn in /home/Faaeel06/.local/lib/python3.9/site-packages (from imblearn) (0.9.1)\n",
      "Requirement already satisfied: scikit-learn>=1.1.0 in /home/Faaeel06/.local/lib/python3.9/site-packages (from imbalanced-learn->imblearn) (1.1.1)\n",
      "Requirement already satisfied: threadpoolctl>=2.0.0 in /home/Faaeel06/.local/lib/python3.9/site-packages (from imbalanced-learn->imblearn) (3.1.0)\n",
      "Requirement already satisfied: joblib>=1.0.0 in /home/Faaeel06/.local/lib/python3.9/site-packages (from imbalanced-learn->imblearn) (1.1.0)\n",
      "Requirement already satisfied: numpy>=1.17.3 in /home/Faaeel06/.local/lib/python3.9/site-packages (from imbalanced-learn->imblearn) (1.23.2)\n",
      "Requirement already satisfied: scipy>=1.3.2 in /home/Faaeel06/.local/lib/python3.9/site-packages (from imbalanced-learn->imblearn) (1.8.1)\n",
      "Note: you may need to restart the kernel to use updated packages.\n"
     ]
    }
   ],
   "source": [
    "%pip install imblearn"
   ]
  },
  {
   "cell_type": "code",
   "execution_count": 5,
   "metadata": {},
   "outputs": [
    {
     "name": "stdout",
     "output_type": "stream",
     "text": [
      "Defaulting to user installation because normal site-packages is not writeable\n",
      "Requirement already satisfied: pytesseract in /home/Faaeel06/.local/lib/python3.9/site-packages (0.3.9)\n",
      "Requirement already satisfied: packaging>=21.3 in /home/Faaeel06/.local/lib/python3.9/site-packages (from pytesseract) (21.3)\n",
      "Requirement already satisfied: Pillow>=8.0.0 in /home/Faaeel06/.local/lib/python3.9/site-packages (from pytesseract) (9.2.0)\n",
      "Requirement already satisfied: pyparsing!=3.0.5,>=2.0.2 in /home/Faaeel06/.local/lib/python3.9/site-packages (from packaging>=21.3->pytesseract) (3.0.9)\n",
      "Note: you may need to restart the kernel to use updated packages.\n"
     ]
    }
   ],
   "source": [
    "%pip install pytesseract"
   ]
  },
  {
   "cell_type": "code",
   "execution_count": 6,
   "metadata": {},
   "outputs": [
    {
     "name": "stdout",
     "output_type": "stream",
     "text": [
      "Defaulting to user installation because normal site-packages is not writeable\n",
      "Requirement already satisfied: tensorflow in /home/Faaeel06/.local/lib/python3.9/site-packages (2.9.1)\n",
      "Requirement already satisfied: h5py>=2.9.0 in /home/Faaeel06/.local/lib/python3.9/site-packages (from tensorflow) (3.7.0)\n",
      "Requirement already satisfied: packaging in /home/Faaeel06/.local/lib/python3.9/site-packages (from tensorflow) (21.3)\n",
      "Requirement already satisfied: keras<2.10.0,>=2.9.0rc0 in /home/Faaeel06/.local/lib/python3.9/site-packages (from tensorflow) (2.9.0)\n",
      "Requirement already satisfied: astunparse>=1.6.0 in /home/Faaeel06/.local/lib/python3.9/site-packages (from tensorflow) (1.6.3)\n",
      "Requirement already satisfied: typing-extensions>=3.6.6 in /home/Faaeel06/.local/lib/python3.9/site-packages (from tensorflow) (4.3.0)\n",
      "Collecting flatbuffers<2,>=1.12\n",
      "  Using cached flatbuffers-1.12-py2.py3-none-any.whl (15 kB)\n",
      "Requirement already satisfied: numpy>=1.20 in /home/Faaeel06/.local/lib/python3.9/site-packages (from tensorflow) (1.23.2)\n",
      "Requirement already satisfied: tensorboard<2.10,>=2.9 in /home/Faaeel06/.local/lib/python3.9/site-packages (from tensorflow) (2.9.1)\n",
      "Requirement already satisfied: gast<=0.4.0,>=0.2.1 in /home/Faaeel06/.local/lib/python3.9/site-packages (from tensorflow) (0.4.0)\n",
      "Requirement already satisfied: six>=1.12.0 in /home/Faaeel06/.local/lib/python3.9/site-packages (from tensorflow) (1.16.0)\n",
      "Requirement already satisfied: wrapt>=1.11.0 in /home/Faaeel06/.local/lib/python3.9/site-packages (from tensorflow) (1.14.1)\n",
      "Requirement already satisfied: opt-einsum>=2.3.2 in /home/Faaeel06/.local/lib/python3.9/site-packages (from tensorflow) (3.3.0)\n",
      "Requirement already satisfied: grpcio<2.0,>=1.24.3 in /home/Faaeel06/.local/lib/python3.9/site-packages (from tensorflow) (1.47.0)\n",
      "Requirement already satisfied: tensorflow-estimator<2.10.0,>=2.9.0rc0 in /home/Faaeel06/.local/lib/python3.9/site-packages (from tensorflow) (2.9.0)\n",
      "Requirement already satisfied: keras-preprocessing>=1.1.1 in /home/Faaeel06/.local/lib/python3.9/site-packages (from tensorflow) (1.1.2)\n",
      "Requirement already satisfied: setuptools in /home/Faaeel06/.local/lib/python3.9/site-packages (from tensorflow) (63.2.0)\n",
      "Requirement already satisfied: absl-py>=1.0.0 in /home/Faaeel06/.local/lib/python3.9/site-packages (from tensorflow) (1.2.0)\n",
      "Requirement already satisfied: libclang>=13.0.0 in /home/Faaeel06/.local/lib/python3.9/site-packages (from tensorflow) (14.0.6)\n",
      "Requirement already satisfied: google-pasta>=0.1.1 in /home/Faaeel06/.local/lib/python3.9/site-packages (from tensorflow) (0.2.0)\n",
      "Requirement already satisfied: tensorflow-io-gcs-filesystem>=0.23.1 in /home/Faaeel06/.local/lib/python3.9/site-packages (from tensorflow) (0.26.0)\n",
      "Requirement already satisfied: termcolor>=1.1.0 in /home/Faaeel06/.local/lib/python3.9/site-packages (from tensorflow) (1.1.0)\n",
      "Requirement already satisfied: protobuf<3.20,>=3.9.2 in /home/Faaeel06/.local/lib/python3.9/site-packages (from tensorflow) (3.19.4)\n",
      "Requirement already satisfied: wheel<1.0,>=0.23.0 in /usr/lib/python3/dist-packages (from astunparse>=1.6.0->tensorflow) (0.34.2)\n",
      "Requirement already satisfied: werkzeug>=1.0.1 in /home/Faaeel06/.local/lib/python3.9/site-packages (from tensorboard<2.10,>=2.9->tensorflow) (2.2.2)\n",
      "Requirement already satisfied: markdown>=2.6.8 in /usr/lib/python3/dist-packages (from tensorboard<2.10,>=2.9->tensorflow) (3.3.4)\n",
      "Requirement already satisfied: tensorboard-plugin-wit>=1.6.0 in /home/Faaeel06/.local/lib/python3.9/site-packages (from tensorboard<2.10,>=2.9->tensorflow) (1.8.1)\n",
      "Requirement already satisfied: google-auth<3,>=1.6.3 in /home/Faaeel06/.local/lib/python3.9/site-packages (from tensorboard<2.10,>=2.9->tensorflow) (2.10.0)\n",
      "Requirement already satisfied: tensorboard-data-server<0.7.0,>=0.6.0 in /home/Faaeel06/.local/lib/python3.9/site-packages (from tensorboard<2.10,>=2.9->tensorflow) (0.6.1)\n",
      "Requirement already satisfied: google-auth-oauthlib<0.5,>=0.4.1 in /home/Faaeel06/.local/lib/python3.9/site-packages (from tensorboard<2.10,>=2.9->tensorflow) (0.4.6)\n",
      "Requirement already satisfied: requests<3,>=2.21.0 in /usr/lib/python3/dist-packages (from tensorboard<2.10,>=2.9->tensorflow) (2.25.1)\n",
      "Requirement already satisfied: pyparsing!=3.0.5,>=2.0.2 in /home/Faaeel06/.local/lib/python3.9/site-packages (from packaging->tensorflow) (3.0.9)\n",
      "Requirement already satisfied: rsa<5,>=3.1.4 in /home/Faaeel06/.local/lib/python3.9/site-packages (from google-auth<3,>=1.6.3->tensorboard<2.10,>=2.9->tensorflow) (4.9)\n",
      "Requirement already satisfied: pyasn1-modules>=0.2.1 in /home/Faaeel06/.local/lib/python3.9/site-packages (from google-auth<3,>=1.6.3->tensorboard<2.10,>=2.9->tensorflow) (0.2.8)\n",
      "Requirement already satisfied: cachetools<6.0,>=2.0.0 in /home/Faaeel06/.local/lib/python3.9/site-packages (from google-auth<3,>=1.6.3->tensorboard<2.10,>=2.9->tensorflow) (5.2.0)\n",
      "Requirement already satisfied: requests-oauthlib>=0.7.0 in /home/Faaeel06/.local/lib/python3.9/site-packages (from google-auth-oauthlib<0.5,>=0.4.1->tensorboard<2.10,>=2.9->tensorflow) (1.3.1)\n",
      "Requirement already satisfied: MarkupSafe>=2.1.1 in /home/Faaeel06/.local/lib/python3.9/site-packages (from werkzeug>=1.0.1->tensorboard<2.10,>=2.9->tensorflow) (2.1.1)\n",
      "Requirement already satisfied: pyasn1<0.5.0,>=0.4.6 in /home/Faaeel06/.local/lib/python3.9/site-packages (from pyasn1-modules>=0.2.1->google-auth<3,>=1.6.3->tensorboard<2.10,>=2.9->tensorflow) (0.4.8)\n",
      "Requirement already satisfied: oauthlib>=3.0.0 in /home/Faaeel06/.local/lib/python3.9/site-packages (from requests-oauthlib>=0.7.0->google-auth-oauthlib<0.5,>=0.4.1->tensorboard<2.10,>=2.9->tensorflow) (3.2.0)\n",
      "Installing collected packages: flatbuffers\n",
      "  Attempting uninstall: flatbuffers\n",
      "    Found existing installation: flatbuffers 2.0\n",
      "    Uninstalling flatbuffers-2.0:\n",
      "      Successfully uninstalled flatbuffers-2.0\n",
      "\u001b[31mERROR: pip's dependency resolver does not currently take into account all the packages that are installed. This behaviour is the source of the following dependency conflicts.\n",
      "tf-nightly 2.11.0.dev20220816 requires flatbuffers>=2.0, but you have flatbuffers 1.12 which is incompatible.\u001b[0m\u001b[31m\n",
      "\u001b[0mSuccessfully installed flatbuffers-1.12\n",
      "Note: you may need to restart the kernel to use updated packages.\n"
     ]
    }
   ],
   "source": [
    "%pip install tensorflow"
   ]
  },
  {
   "cell_type": "code",
   "execution_count": 7,
   "metadata": {},
   "outputs": [
    {
     "name": "stdout",
     "output_type": "stream",
     "text": [
      "Defaulting to user installation because normal site-packages is not writeable\n",
      "Requirement already satisfied: scikit-image in /home/Faaeel06/.local/lib/python3.9/site-packages (0.19.3)\n",
      "Requirement already satisfied: tifffile>=2019.7.26 in /home/Faaeel06/.local/lib/python3.9/site-packages (from scikit-image) (2022.8.12)\n",
      "Requirement already satisfied: numpy>=1.17.0 in /home/Faaeel06/.local/lib/python3.9/site-packages (from scikit-image) (1.23.2)\n",
      "Requirement already satisfied: PyWavelets>=1.1.1 in /home/Faaeel06/.local/lib/python3.9/site-packages (from scikit-image) (1.3.0)\n",
      "Requirement already satisfied: networkx>=2.2 in /home/Faaeel06/.local/lib/python3.9/site-packages (from scikit-image) (2.8.5)\n",
      "Requirement already satisfied: scipy>=1.4.1 in /home/Faaeel06/.local/lib/python3.9/site-packages (from scikit-image) (1.8.1)\n",
      "Requirement already satisfied: packaging>=20.0 in /home/Faaeel06/.local/lib/python3.9/site-packages (from scikit-image) (21.3)\n",
      "Requirement already satisfied: imageio>=2.4.1 in /home/Faaeel06/.local/lib/python3.9/site-packages (from scikit-image) (2.21.1)\n",
      "Requirement already satisfied: pillow!=7.1.0,!=7.1.1,!=8.3.0,>=6.1.0 in /home/Faaeel06/.local/lib/python3.9/site-packages (from scikit-image) (9.2.0)\n",
      "Requirement already satisfied: pyparsing!=3.0.5,>=2.0.2 in /home/Faaeel06/.local/lib/python3.9/site-packages (from packaging>=20.0->scikit-image) (3.0.9)\n",
      "Note: you may need to restart the kernel to use updated packages.\n"
     ]
    }
   ],
   "source": [
    "%pip install scikit-image"
   ]
  },
  {
   "cell_type": "code",
   "execution_count": 8,
   "metadata": {},
   "outputs": [
    {
     "name": "stdout",
     "output_type": "stream",
     "text": [
      "Defaulting to user installation because normal site-packages is not writeable\n",
      "Requirement already satisfied: pip in /home/Faaeel06/.local/lib/python3.9/site-packages (22.2.2)\n",
      "Note: you may need to restart the kernel to use updated packages.\n"
     ]
    }
   ],
   "source": [
    "%pip install --upgrade pip"
   ]
  },
  {
   "cell_type": "code",
   "execution_count": 15,
   "metadata": {},
   "outputs": [
    {
     "name": "stdout",
     "output_type": "stream",
     "text": [
      "Defaulting to user installation because normal site-packages is not writeable\n",
      "Requirement already satisfied: tensorflow in /home/Faaeel06/.local/lib/python3.9/site-packages (2.9.1)\n",
      "Requirement already satisfied: gast<=0.4.0,>=0.2.1 in /home/Faaeel06/.local/lib/python3.9/site-packages (from tensorflow) (0.4.0)\n",
      "Requirement already satisfied: packaging in /home/Faaeel06/.local/lib/python3.9/site-packages (from tensorflow) (21.3)\n",
      "Requirement already satisfied: six>=1.12.0 in /home/Faaeel06/.local/lib/python3.9/site-packages (from tensorflow) (1.16.0)\n",
      "Requirement already satisfied: absl-py>=1.0.0 in /home/Faaeel06/.local/lib/python3.9/site-packages (from tensorflow) (1.2.0)\n",
      "Requirement already satisfied: typing-extensions>=3.6.6 in /home/Faaeel06/.local/lib/python3.9/site-packages (from tensorflow) (4.3.0)\n",
      "Requirement already satisfied: keras<2.10.0,>=2.9.0rc0 in /home/Faaeel06/.local/lib/python3.9/site-packages (from tensorflow) (2.9.0)\n",
      "Requirement already satisfied: flatbuffers<2,>=1.12 in /home/Faaeel06/.local/lib/python3.9/site-packages (from tensorflow) (1.12)\n",
      "Requirement already satisfied: google-pasta>=0.1.1 in /home/Faaeel06/.local/lib/python3.9/site-packages (from tensorflow) (0.2.0)\n",
      "Requirement already satisfied: tensorflow-io-gcs-filesystem>=0.23.1 in /home/Faaeel06/.local/lib/python3.9/site-packages (from tensorflow) (0.26.0)\n",
      "Requirement already satisfied: setuptools in /home/Faaeel06/.local/lib/python3.9/site-packages (from tensorflow) (63.2.0)\n",
      "Requirement already satisfied: termcolor>=1.1.0 in /home/Faaeel06/.local/lib/python3.9/site-packages (from tensorflow) (1.1.0)\n",
      "Requirement already satisfied: h5py>=2.9.0 in /home/Faaeel06/.local/lib/python3.9/site-packages (from tensorflow) (3.7.0)\n",
      "Requirement already satisfied: tensorflow-estimator<2.10.0,>=2.9.0rc0 in /home/Faaeel06/.local/lib/python3.9/site-packages (from tensorflow) (2.9.0)\n",
      "Requirement already satisfied: grpcio<2.0,>=1.24.3 in /home/Faaeel06/.local/lib/python3.9/site-packages (from tensorflow) (1.47.0)\n",
      "Requirement already satisfied: wrapt>=1.11.0 in /home/Faaeel06/.local/lib/python3.9/site-packages (from tensorflow) (1.14.1)\n",
      "Requirement already satisfied: opt-einsum>=2.3.2 in /home/Faaeel06/.local/lib/python3.9/site-packages (from tensorflow) (3.3.0)\n",
      "Requirement already satisfied: libclang>=13.0.0 in /home/Faaeel06/.local/lib/python3.9/site-packages (from tensorflow) (14.0.6)\n",
      "Requirement already satisfied: tensorboard<2.10,>=2.9 in /home/Faaeel06/.local/lib/python3.9/site-packages (from tensorflow) (2.9.1)\n",
      "Requirement already satisfied: protobuf<3.20,>=3.9.2 in /home/Faaeel06/.local/lib/python3.9/site-packages (from tensorflow) (3.19.4)\n",
      "Requirement already satisfied: numpy>=1.20 in /home/Faaeel06/.local/lib/python3.9/site-packages (from tensorflow) (1.23.2)\n",
      "Requirement already satisfied: astunparse>=1.6.0 in /home/Faaeel06/.local/lib/python3.9/site-packages (from tensorflow) (1.6.3)\n",
      "Requirement already satisfied: keras-preprocessing>=1.1.1 in /home/Faaeel06/.local/lib/python3.9/site-packages (from tensorflow) (1.1.2)\n",
      "Requirement already satisfied: wheel<1.0,>=0.23.0 in /usr/lib/python3/dist-packages (from astunparse>=1.6.0->tensorflow) (0.34.2)\n",
      "Requirement already satisfied: requests<3,>=2.21.0 in /usr/lib/python3/dist-packages (from tensorboard<2.10,>=2.9->tensorflow) (2.25.1)\n",
      "Requirement already satisfied: tensorboard-data-server<0.7.0,>=0.6.0 in /home/Faaeel06/.local/lib/python3.9/site-packages (from tensorboard<2.10,>=2.9->tensorflow) (0.6.1)\n",
      "Requirement already satisfied: google-auth-oauthlib<0.5,>=0.4.1 in /home/Faaeel06/.local/lib/python3.9/site-packages (from tensorboard<2.10,>=2.9->tensorflow) (0.4.6)\n",
      "Requirement already satisfied: tensorboard-plugin-wit>=1.6.0 in /home/Faaeel06/.local/lib/python3.9/site-packages (from tensorboard<2.10,>=2.9->tensorflow) (1.8.1)\n",
      "Requirement already satisfied: markdown>=2.6.8 in /usr/lib/python3/dist-packages (from tensorboard<2.10,>=2.9->tensorflow) (3.3.4)\n",
      "Requirement already satisfied: google-auth<3,>=1.6.3 in /home/Faaeel06/.local/lib/python3.9/site-packages (from tensorboard<2.10,>=2.9->tensorflow) (2.10.0)\n",
      "Requirement already satisfied: werkzeug>=1.0.1 in /home/Faaeel06/.local/lib/python3.9/site-packages (from tensorboard<2.10,>=2.9->tensorflow) (2.2.2)\n",
      "Requirement already satisfied: pyparsing!=3.0.5,>=2.0.2 in /home/Faaeel06/.local/lib/python3.9/site-packages (from packaging->tensorflow) (3.0.9)\n",
      "Requirement already satisfied: cachetools<6.0,>=2.0.0 in /home/Faaeel06/.local/lib/python3.9/site-packages (from google-auth<3,>=1.6.3->tensorboard<2.10,>=2.9->tensorflow) (5.2.0)\n",
      "Requirement already satisfied: pyasn1-modules>=0.2.1 in /home/Faaeel06/.local/lib/python3.9/site-packages (from google-auth<3,>=1.6.3->tensorboard<2.10,>=2.9->tensorflow) (0.2.8)\n",
      "Requirement already satisfied: rsa<5,>=3.1.4 in /home/Faaeel06/.local/lib/python3.9/site-packages (from google-auth<3,>=1.6.3->tensorboard<2.10,>=2.9->tensorflow) (4.9)\n",
      "Requirement already satisfied: requests-oauthlib>=0.7.0 in /home/Faaeel06/.local/lib/python3.9/site-packages (from google-auth-oauthlib<0.5,>=0.4.1->tensorboard<2.10,>=2.9->tensorflow) (1.3.1)\n",
      "Requirement already satisfied: MarkupSafe>=2.1.1 in /home/Faaeel06/.local/lib/python3.9/site-packages (from werkzeug>=1.0.1->tensorboard<2.10,>=2.9->tensorflow) (2.1.1)\n",
      "Requirement already satisfied: pyasn1<0.5.0,>=0.4.6 in /home/Faaeel06/.local/lib/python3.9/site-packages (from pyasn1-modules>=0.2.1->google-auth<3,>=1.6.3->tensorboard<2.10,>=2.9->tensorflow) (0.4.8)\n",
      "Requirement already satisfied: oauthlib>=3.0.0 in /home/Faaeel06/.local/lib/python3.9/site-packages (from requests-oauthlib>=0.7.0->google-auth-oauthlib<0.5,>=0.4.1->tensorboard<2.10,>=2.9->tensorflow) (3.2.0)\n",
      "Note: you may need to restart the kernel to use updated packages.\n",
      "Defaulting to user installation because normal site-packages is not writeable\n",
      "Requirement already satisfied: tf-nightly in /home/Faaeel06/.local/lib/python3.9/site-packages (2.11.0.dev20220816)\n",
      "Requirement already satisfied: keras-nightly~=2.11.0.dev in /home/Faaeel06/.local/lib/python3.9/site-packages (from tf-nightly) (2.11.0.dev2022081607)\n",
      "Requirement already satisfied: termcolor>=1.1.0 in /home/Faaeel06/.local/lib/python3.9/site-packages (from tf-nightly) (1.1.0)\n",
      "Requirement already satisfied: packaging in /home/Faaeel06/.local/lib/python3.9/site-packages (from tf-nightly) (21.3)\n",
      "Requirement already satisfied: typing-extensions>=3.6.6 in /home/Faaeel06/.local/lib/python3.9/site-packages (from tf-nightly) (4.3.0)\n",
      "Requirement already satisfied: keras-preprocessing>=1.1.1 in /home/Faaeel06/.local/lib/python3.9/site-packages (from tf-nightly) (1.1.2)\n",
      "Collecting flatbuffers>=2.0\n",
      "  Using cached flatbuffers-2.0-py2.py3-none-any.whl (26 kB)\n",
      "Requirement already satisfied: absl-py>=1.0.0 in /home/Faaeel06/.local/lib/python3.9/site-packages (from tf-nightly) (1.2.0)\n",
      "Requirement already satisfied: tensorflow-io-gcs-filesystem>=0.23.1 in /home/Faaeel06/.local/lib/python3.9/site-packages (from tf-nightly) (0.26.0)\n",
      "Requirement already satisfied: astunparse>=1.6.0 in /home/Faaeel06/.local/lib/python3.9/site-packages (from tf-nightly) (1.6.3)\n",
      "Requirement already satisfied: numpy>=1.20 in /home/Faaeel06/.local/lib/python3.9/site-packages (from tf-nightly) (1.23.2)\n",
      "Requirement already satisfied: libclang>=13.0.0 in /home/Faaeel06/.local/lib/python3.9/site-packages (from tf-nightly) (14.0.6)\n",
      "Requirement already satisfied: wrapt>=1.11.0 in /home/Faaeel06/.local/lib/python3.9/site-packages (from tf-nightly) (1.14.1)\n",
      "Requirement already satisfied: gast<=0.4.0,>=0.2.1 in /home/Faaeel06/.local/lib/python3.9/site-packages (from tf-nightly) (0.4.0)\n",
      "Requirement already satisfied: protobuf<3.20,>=3.9.2 in /home/Faaeel06/.local/lib/python3.9/site-packages (from tf-nightly) (3.19.4)\n",
      "Requirement already satisfied: six>=1.12.0 in /home/Faaeel06/.local/lib/python3.9/site-packages (from tf-nightly) (1.16.0)\n",
      "Requirement already satisfied: tf-estimator-nightly~=2.11.0.dev in /home/Faaeel06/.local/lib/python3.9/site-packages (from tf-nightly) (2.11.0.dev2022081608)\n",
      "Requirement already satisfied: setuptools in /home/Faaeel06/.local/lib/python3.9/site-packages (from tf-nightly) (63.2.0)\n",
      "Requirement already satisfied: grpcio<2.0,>=1.24.3 in /home/Faaeel06/.local/lib/python3.9/site-packages (from tf-nightly) (1.47.0)\n",
      "Requirement already satisfied: tb-nightly~=2.11.0.a in /home/Faaeel06/.local/lib/python3.9/site-packages (from tf-nightly) (2.11.0a20220816)\n",
      "Requirement already satisfied: google-pasta>=0.1.1 in /home/Faaeel06/.local/lib/python3.9/site-packages (from tf-nightly) (0.2.0)\n",
      "Requirement already satisfied: opt-einsum>=2.3.2 in /home/Faaeel06/.local/lib/python3.9/site-packages (from tf-nightly) (3.3.0)\n",
      "Requirement already satisfied: h5py>=2.9.0 in /home/Faaeel06/.local/lib/python3.9/site-packages (from tf-nightly) (3.7.0)\n",
      "Requirement already satisfied: wheel<1.0,>=0.23.0 in /usr/lib/python3/dist-packages (from astunparse>=1.6.0->tf-nightly) (0.34.2)\n",
      "Requirement already satisfied: markdown>=2.6.8 in /usr/lib/python3/dist-packages (from tb-nightly~=2.11.0.a->tf-nightly) (3.3.4)\n",
      "Requirement already satisfied: google-auth-oauthlib<0.5,>=0.4.1 in /home/Faaeel06/.local/lib/python3.9/site-packages (from tb-nightly~=2.11.0.a->tf-nightly) (0.4.6)\n",
      "Requirement already satisfied: requests<3,>=2.21.0 in /usr/lib/python3/dist-packages (from tb-nightly~=2.11.0.a->tf-nightly) (2.25.1)\n",
      "Requirement already satisfied: tensorboard-plugin-wit>=1.6.0 in /home/Faaeel06/.local/lib/python3.9/site-packages (from tb-nightly~=2.11.0.a->tf-nightly) (1.8.1)\n",
      "Requirement already satisfied: google-auth<3,>=1.6.3 in /home/Faaeel06/.local/lib/python3.9/site-packages (from tb-nightly~=2.11.0.a->tf-nightly) (2.10.0)\n",
      "Requirement already satisfied: werkzeug>=1.0.1 in /home/Faaeel06/.local/lib/python3.9/site-packages (from tb-nightly~=2.11.0.a->tf-nightly) (2.2.2)\n",
      "Requirement already satisfied: tensorboard-data-server<0.7.0,>=0.6.0 in /home/Faaeel06/.local/lib/python3.9/site-packages (from tb-nightly~=2.11.0.a->tf-nightly) (0.6.1)\n",
      "Requirement already satisfied: pyparsing!=3.0.5,>=2.0.2 in /home/Faaeel06/.local/lib/python3.9/site-packages (from packaging->tf-nightly) (3.0.9)\n",
      "Requirement already satisfied: cachetools<6.0,>=2.0.0 in /home/Faaeel06/.local/lib/python3.9/site-packages (from google-auth<3,>=1.6.3->tb-nightly~=2.11.0.a->tf-nightly) (5.2.0)\n",
      "Requirement already satisfied: rsa<5,>=3.1.4 in /home/Faaeel06/.local/lib/python3.9/site-packages (from google-auth<3,>=1.6.3->tb-nightly~=2.11.0.a->tf-nightly) (4.9)\n",
      "Requirement already satisfied: pyasn1-modules>=0.2.1 in /home/Faaeel06/.local/lib/python3.9/site-packages (from google-auth<3,>=1.6.3->tb-nightly~=2.11.0.a->tf-nightly) (0.2.8)\n",
      "Requirement already satisfied: requests-oauthlib>=0.7.0 in /home/Faaeel06/.local/lib/python3.9/site-packages (from google-auth-oauthlib<0.5,>=0.4.1->tb-nightly~=2.11.0.a->tf-nightly) (1.3.1)\n",
      "Requirement already satisfied: MarkupSafe>=2.1.1 in /home/Faaeel06/.local/lib/python3.9/site-packages (from werkzeug>=1.0.1->tb-nightly~=2.11.0.a->tf-nightly) (2.1.1)\n",
      "Requirement already satisfied: pyasn1<0.5.0,>=0.4.6 in /home/Faaeel06/.local/lib/python3.9/site-packages (from pyasn1-modules>=0.2.1->google-auth<3,>=1.6.3->tb-nightly~=2.11.0.a->tf-nightly) (0.4.8)\n",
      "Requirement already satisfied: oauthlib>=3.0.0 in /home/Faaeel06/.local/lib/python3.9/site-packages (from requests-oauthlib>=0.7.0->google-auth-oauthlib<0.5,>=0.4.1->tb-nightly~=2.11.0.a->tf-nightly) (3.2.0)\n",
      "Installing collected packages: flatbuffers\n",
      "  Attempting uninstall: flatbuffers\n",
      "    Found existing installation: flatbuffers 1.12\n",
      "    Uninstalling flatbuffers-1.12:\n",
      "      Successfully uninstalled flatbuffers-1.12\n",
      "\u001b[31mERROR: pip's dependency resolver does not currently take into account all the packages that are installed. This behaviour is the source of the following dependency conflicts.\n",
      "tensorflow 2.9.1 requires flatbuffers<2,>=1.12, but you have flatbuffers 2.0 which is incompatible.\n",
      "tensorflow-gpu 2.9.1 requires flatbuffers<2,>=1.12, but you have flatbuffers 2.0 which is incompatible.\u001b[0m\u001b[31m\n",
      "\u001b[0mSuccessfully installed flatbuffers-2.0\n",
      "Note: you may need to restart the kernel to use updated packages.\n"
     ]
    }
   ],
   "source": [
    "%pip install tensorflow\n",
    "%pip install tf-nightly\n"
   ]
  },
  {
   "cell_type": "code",
   "execution_count": 17,
   "metadata": {},
   "outputs": [
    {
     "name": "stdout",
     "output_type": "stream",
     "text": [
      "Defaulting to user installation because normal site-packages is not writeable\n",
      "Requirement already satisfied: tf-nightly==2.11.0.dev20220816 in /home/Faaeel06/.local/lib/python3.9/site-packages (2.11.0.dev20220816)\n",
      "Requirement already satisfied: protobuf<3.20,>=3.9.2 in /home/Faaeel06/.local/lib/python3.9/site-packages (from tf-nightly==2.11.0.dev20220816) (3.19.4)\n",
      "Requirement already satisfied: flatbuffers>=2.0 in /home/Faaeel06/.local/lib/python3.9/site-packages (from tf-nightly==2.11.0.dev20220816) (2.0)\n",
      "Requirement already satisfied: gast<=0.4.0,>=0.2.1 in /home/Faaeel06/.local/lib/python3.9/site-packages (from tf-nightly==2.11.0.dev20220816) (0.4.0)\n",
      "Requirement already satisfied: numpy>=1.20 in /home/Faaeel06/.local/lib/python3.9/site-packages (from tf-nightly==2.11.0.dev20220816) (1.23.2)\n",
      "Requirement already satisfied: opt-einsum>=2.3.2 in /home/Faaeel06/.local/lib/python3.9/site-packages (from tf-nightly==2.11.0.dev20220816) (3.3.0)\n",
      "Requirement already satisfied: grpcio<2.0,>=1.24.3 in /home/Faaeel06/.local/lib/python3.9/site-packages (from tf-nightly==2.11.0.dev20220816) (1.47.0)\n",
      "Requirement already satisfied: typing-extensions>=3.6.6 in /home/Faaeel06/.local/lib/python3.9/site-packages (from tf-nightly==2.11.0.dev20220816) (4.3.0)\n",
      "Requirement already satisfied: google-pasta>=0.1.1 in /home/Faaeel06/.local/lib/python3.9/site-packages (from tf-nightly==2.11.0.dev20220816) (0.2.0)\n",
      "Requirement already satisfied: keras-preprocessing>=1.1.1 in /home/Faaeel06/.local/lib/python3.9/site-packages (from tf-nightly==2.11.0.dev20220816) (1.1.2)\n",
      "Requirement already satisfied: wrapt>=1.11.0 in /home/Faaeel06/.local/lib/python3.9/site-packages (from tf-nightly==2.11.0.dev20220816) (1.14.1)\n",
      "Requirement already satisfied: absl-py>=1.0.0 in /home/Faaeel06/.local/lib/python3.9/site-packages (from tf-nightly==2.11.0.dev20220816) (1.2.0)\n",
      "Requirement already satisfied: termcolor>=1.1.0 in /home/Faaeel06/.local/lib/python3.9/site-packages (from tf-nightly==2.11.0.dev20220816) (1.1.0)\n",
      "Requirement already satisfied: keras-nightly~=2.11.0.dev in /home/Faaeel06/.local/lib/python3.9/site-packages (from tf-nightly==2.11.0.dev20220816) (2.11.0.dev2022081607)\n",
      "Requirement already satisfied: tensorflow-io-gcs-filesystem>=0.23.1 in /home/Faaeel06/.local/lib/python3.9/site-packages (from tf-nightly==2.11.0.dev20220816) (0.26.0)\n",
      "Requirement already satisfied: h5py>=2.9.0 in /home/Faaeel06/.local/lib/python3.9/site-packages (from tf-nightly==2.11.0.dev20220816) (3.7.0)\n",
      "Requirement already satisfied: libclang>=13.0.0 in /home/Faaeel06/.local/lib/python3.9/site-packages (from tf-nightly==2.11.0.dev20220816) (14.0.6)\n",
      "Requirement already satisfied: astunparse>=1.6.0 in /home/Faaeel06/.local/lib/python3.9/site-packages (from tf-nightly==2.11.0.dev20220816) (1.6.3)\n",
      "Requirement already satisfied: tb-nightly~=2.11.0.a in /home/Faaeel06/.local/lib/python3.9/site-packages (from tf-nightly==2.11.0.dev20220816) (2.11.0a20220816)\n",
      "Requirement already satisfied: tf-estimator-nightly~=2.11.0.dev in /home/Faaeel06/.local/lib/python3.9/site-packages (from tf-nightly==2.11.0.dev20220816) (2.11.0.dev2022081608)\n",
      "Requirement already satisfied: setuptools in /home/Faaeel06/.local/lib/python3.9/site-packages (from tf-nightly==2.11.0.dev20220816) (63.2.0)\n",
      "Requirement already satisfied: six>=1.12.0 in /home/Faaeel06/.local/lib/python3.9/site-packages (from tf-nightly==2.11.0.dev20220816) (1.16.0)\n",
      "Requirement already satisfied: packaging in /home/Faaeel06/.local/lib/python3.9/site-packages (from tf-nightly==2.11.0.dev20220816) (21.3)\n",
      "Requirement already satisfied: wheel<1.0,>=0.23.0 in /usr/lib/python3/dist-packages (from astunparse>=1.6.0->tf-nightly==2.11.0.dev20220816) (0.34.2)\n",
      "Requirement already satisfied: tensorboard-data-server<0.7.0,>=0.6.0 in /home/Faaeel06/.local/lib/python3.9/site-packages (from tb-nightly~=2.11.0.a->tf-nightly==2.11.0.dev20220816) (0.6.1)\n",
      "Requirement already satisfied: markdown>=2.6.8 in /usr/lib/python3/dist-packages (from tb-nightly~=2.11.0.a->tf-nightly==2.11.0.dev20220816) (3.3.4)\n",
      "Requirement already satisfied: requests<3,>=2.21.0 in /usr/lib/python3/dist-packages (from tb-nightly~=2.11.0.a->tf-nightly==2.11.0.dev20220816) (2.25.1)\n",
      "Requirement already satisfied: tensorboard-plugin-wit>=1.6.0 in /home/Faaeel06/.local/lib/python3.9/site-packages (from tb-nightly~=2.11.0.a->tf-nightly==2.11.0.dev20220816) (1.8.1)\n",
      "Requirement already satisfied: werkzeug>=1.0.1 in /home/Faaeel06/.local/lib/python3.9/site-packages (from tb-nightly~=2.11.0.a->tf-nightly==2.11.0.dev20220816) (2.2.2)\n",
      "Requirement already satisfied: google-auth<3,>=1.6.3 in /home/Faaeel06/.local/lib/python3.9/site-packages (from tb-nightly~=2.11.0.a->tf-nightly==2.11.0.dev20220816) (2.10.0)\n",
      "Requirement already satisfied: google-auth-oauthlib<0.5,>=0.4.1 in /home/Faaeel06/.local/lib/python3.9/site-packages (from tb-nightly~=2.11.0.a->tf-nightly==2.11.0.dev20220816) (0.4.6)\n",
      "Requirement already satisfied: pyparsing!=3.0.5,>=2.0.2 in /home/Faaeel06/.local/lib/python3.9/site-packages (from packaging->tf-nightly==2.11.0.dev20220816) (3.0.9)\n",
      "Requirement already satisfied: pyasn1-modules>=0.2.1 in /home/Faaeel06/.local/lib/python3.9/site-packages (from google-auth<3,>=1.6.3->tb-nightly~=2.11.0.a->tf-nightly==2.11.0.dev20220816) (0.2.8)\n",
      "Requirement already satisfied: cachetools<6.0,>=2.0.0 in /home/Faaeel06/.local/lib/python3.9/site-packages (from google-auth<3,>=1.6.3->tb-nightly~=2.11.0.a->tf-nightly==2.11.0.dev20220816) (5.2.0)\n",
      "Requirement already satisfied: rsa<5,>=3.1.4 in /home/Faaeel06/.local/lib/python3.9/site-packages (from google-auth<3,>=1.6.3->tb-nightly~=2.11.0.a->tf-nightly==2.11.0.dev20220816) (4.9)\n",
      "Requirement already satisfied: requests-oauthlib>=0.7.0 in /home/Faaeel06/.local/lib/python3.9/site-packages (from google-auth-oauthlib<0.5,>=0.4.1->tb-nightly~=2.11.0.a->tf-nightly==2.11.0.dev20220816) (1.3.1)\n",
      "Requirement already satisfied: MarkupSafe>=2.1.1 in /home/Faaeel06/.local/lib/python3.9/site-packages (from werkzeug>=1.0.1->tb-nightly~=2.11.0.a->tf-nightly==2.11.0.dev20220816) (2.1.1)\n",
      "Requirement already satisfied: pyasn1<0.5.0,>=0.4.6 in /home/Faaeel06/.local/lib/python3.9/site-packages (from pyasn1-modules>=0.2.1->google-auth<3,>=1.6.3->tb-nightly~=2.11.0.a->tf-nightly==2.11.0.dev20220816) (0.4.8)\n",
      "Requirement already satisfied: oauthlib>=3.0.0 in /home/Faaeel06/.local/lib/python3.9/site-packages (from requests-oauthlib>=0.7.0->google-auth-oauthlib<0.5,>=0.4.1->tb-nightly~=2.11.0.a->tf-nightly==2.11.0.dev20220816) (3.2.0)\n",
      "Note: you may need to restart the kernel to use updated packages.\n"
     ]
    }
   ],
   "source": [
    "%pip install tf-nightly==2.11.0.dev20220816\n"
   ]
  },
  {
   "cell_type": "code",
   "execution_count": 18,
   "metadata": {},
   "outputs": [
    {
     "name": "stdout",
     "output_type": "stream",
     "text": [
      "Defaulting to user installation because normal site-packages is not writeable\n",
      "Requirement already satisfied: tensorflow-gpu in /home/Faaeel06/.local/lib/python3.9/site-packages (2.9.1)\n",
      "Requirement already satisfied: setuptools in /home/Faaeel06/.local/lib/python3.9/site-packages (from tensorflow-gpu) (63.2.0)\n",
      "Requirement already satisfied: termcolor>=1.1.0 in /home/Faaeel06/.local/lib/python3.9/site-packages (from tensorflow-gpu) (1.1.0)\n",
      "Requirement already satisfied: keras<2.10.0,>=2.9.0rc0 in /home/Faaeel06/.local/lib/python3.9/site-packages (from tensorflow-gpu) (2.9.0)\n",
      "Requirement already satisfied: numpy>=1.20 in /home/Faaeel06/.local/lib/python3.9/site-packages (from tensorflow-gpu) (1.23.2)\n",
      "Requirement already satisfied: wrapt>=1.11.0 in /home/Faaeel06/.local/lib/python3.9/site-packages (from tensorflow-gpu) (1.14.1)\n",
      "Requirement already satisfied: keras-preprocessing>=1.1.1 in /home/Faaeel06/.local/lib/python3.9/site-packages (from tensorflow-gpu) (1.1.2)\n",
      "Requirement already satisfied: libclang>=13.0.0 in /home/Faaeel06/.local/lib/python3.9/site-packages (from tensorflow-gpu) (14.0.6)\n",
      "Requirement already satisfied: grpcio<2.0,>=1.24.3 in /home/Faaeel06/.local/lib/python3.9/site-packages (from tensorflow-gpu) (1.47.0)\n",
      "Requirement already satisfied: tensorflow-io-gcs-filesystem>=0.23.1 in /home/Faaeel06/.local/lib/python3.9/site-packages (from tensorflow-gpu) (0.26.0)\n",
      "Collecting flatbuffers<2,>=1.12\n",
      "  Using cached flatbuffers-1.12-py2.py3-none-any.whl (15 kB)\n",
      "Requirement already satisfied: astunparse>=1.6.0 in /home/Faaeel06/.local/lib/python3.9/site-packages (from tensorflow-gpu) (1.6.3)\n",
      "Requirement already satisfied: six>=1.12.0 in /home/Faaeel06/.local/lib/python3.9/site-packages (from tensorflow-gpu) (1.16.0)\n",
      "Requirement already satisfied: tensorboard<2.10,>=2.9 in /home/Faaeel06/.local/lib/python3.9/site-packages (from tensorflow-gpu) (2.9.1)\n",
      "Requirement already satisfied: absl-py>=1.0.0 in /home/Faaeel06/.local/lib/python3.9/site-packages (from tensorflow-gpu) (1.2.0)\n",
      "Requirement already satisfied: packaging in /home/Faaeel06/.local/lib/python3.9/site-packages (from tensorflow-gpu) (21.3)\n",
      "Requirement already satisfied: google-pasta>=0.1.1 in /home/Faaeel06/.local/lib/python3.9/site-packages (from tensorflow-gpu) (0.2.0)\n",
      "Requirement already satisfied: gast<=0.4.0,>=0.2.1 in /home/Faaeel06/.local/lib/python3.9/site-packages (from tensorflow-gpu) (0.4.0)\n",
      "Requirement already satisfied: protobuf<3.20,>=3.9.2 in /home/Faaeel06/.local/lib/python3.9/site-packages (from tensorflow-gpu) (3.19.4)\n",
      "Requirement already satisfied: h5py>=2.9.0 in /home/Faaeel06/.local/lib/python3.9/site-packages (from tensorflow-gpu) (3.7.0)\n",
      "Requirement already satisfied: typing-extensions>=3.6.6 in /home/Faaeel06/.local/lib/python3.9/site-packages (from tensorflow-gpu) (4.3.0)\n",
      "Requirement already satisfied: tensorflow-estimator<2.10.0,>=2.9.0rc0 in /home/Faaeel06/.local/lib/python3.9/site-packages (from tensorflow-gpu) (2.9.0)\n",
      "Requirement already satisfied: opt-einsum>=2.3.2 in /home/Faaeel06/.local/lib/python3.9/site-packages (from tensorflow-gpu) (3.3.0)\n",
      "Requirement already satisfied: wheel<1.0,>=0.23.0 in /usr/lib/python3/dist-packages (from astunparse>=1.6.0->tensorflow-gpu) (0.34.2)\n",
      "Requirement already satisfied: requests<3,>=2.21.0 in /usr/lib/python3/dist-packages (from tensorboard<2.10,>=2.9->tensorflow-gpu) (2.25.1)\n",
      "Requirement already satisfied: tensorboard-plugin-wit>=1.6.0 in /home/Faaeel06/.local/lib/python3.9/site-packages (from tensorboard<2.10,>=2.9->tensorflow-gpu) (1.8.1)\n",
      "Requirement already satisfied: tensorboard-data-server<0.7.0,>=0.6.0 in /home/Faaeel06/.local/lib/python3.9/site-packages (from tensorboard<2.10,>=2.9->tensorflow-gpu) (0.6.1)\n",
      "Requirement already satisfied: werkzeug>=1.0.1 in /home/Faaeel06/.local/lib/python3.9/site-packages (from tensorboard<2.10,>=2.9->tensorflow-gpu) (2.2.2)\n",
      "Requirement already satisfied: google-auth<3,>=1.6.3 in /home/Faaeel06/.local/lib/python3.9/site-packages (from tensorboard<2.10,>=2.9->tensorflow-gpu) (2.10.0)\n",
      "Requirement already satisfied: markdown>=2.6.8 in /usr/lib/python3/dist-packages (from tensorboard<2.10,>=2.9->tensorflow-gpu) (3.3.4)\n",
      "Requirement already satisfied: google-auth-oauthlib<0.5,>=0.4.1 in /home/Faaeel06/.local/lib/python3.9/site-packages (from tensorboard<2.10,>=2.9->tensorflow-gpu) (0.4.6)\n",
      "Requirement already satisfied: pyparsing!=3.0.5,>=2.0.2 in /home/Faaeel06/.local/lib/python3.9/site-packages (from packaging->tensorflow-gpu) (3.0.9)\n",
      "Requirement already satisfied: rsa<5,>=3.1.4 in /home/Faaeel06/.local/lib/python3.9/site-packages (from google-auth<3,>=1.6.3->tensorboard<2.10,>=2.9->tensorflow-gpu) (4.9)\n",
      "Requirement already satisfied: cachetools<6.0,>=2.0.0 in /home/Faaeel06/.local/lib/python3.9/site-packages (from google-auth<3,>=1.6.3->tensorboard<2.10,>=2.9->tensorflow-gpu) (5.2.0)\n",
      "Requirement already satisfied: pyasn1-modules>=0.2.1 in /home/Faaeel06/.local/lib/python3.9/site-packages (from google-auth<3,>=1.6.3->tensorboard<2.10,>=2.9->tensorflow-gpu) (0.2.8)\n",
      "Requirement already satisfied: requests-oauthlib>=0.7.0 in /home/Faaeel06/.local/lib/python3.9/site-packages (from google-auth-oauthlib<0.5,>=0.4.1->tensorboard<2.10,>=2.9->tensorflow-gpu) (1.3.1)\n",
      "Requirement already satisfied: MarkupSafe>=2.1.1 in /home/Faaeel06/.local/lib/python3.9/site-packages (from werkzeug>=1.0.1->tensorboard<2.10,>=2.9->tensorflow-gpu) (2.1.1)\n",
      "Requirement already satisfied: pyasn1<0.5.0,>=0.4.6 in /home/Faaeel06/.local/lib/python3.9/site-packages (from pyasn1-modules>=0.2.1->google-auth<3,>=1.6.3->tensorboard<2.10,>=2.9->tensorflow-gpu) (0.4.8)\n",
      "Requirement already satisfied: oauthlib>=3.0.0 in /home/Faaeel06/.local/lib/python3.9/site-packages (from requests-oauthlib>=0.7.0->google-auth-oauthlib<0.5,>=0.4.1->tensorboard<2.10,>=2.9->tensorflow-gpu) (3.2.0)\n",
      "Installing collected packages: flatbuffers\n",
      "  Attempting uninstall: flatbuffers\n",
      "    Found existing installation: flatbuffers 2.0\n",
      "    Uninstalling flatbuffers-2.0:\n",
      "      Successfully uninstalled flatbuffers-2.0\n",
      "\u001b[31mERROR: pip's dependency resolver does not currently take into account all the packages that are installed. This behaviour is the source of the following dependency conflicts.\n",
      "tf-nightly 2.11.0.dev20220816 requires flatbuffers>=2.0, but you have flatbuffers 1.12 which is incompatible.\u001b[0m\u001b[31m\n",
      "\u001b[0mSuccessfully installed flatbuffers-1.12\n",
      "Note: you may need to restart the kernel to use updated packages.\n"
     ]
    }
   ],
   "source": [
    "%pip install tensorflow-gpu"
   ]
  },
  {
   "cell_type": "code",
   "execution_count": 19,
   "metadata": {},
   "outputs": [
    {
     "name": "stdout",
     "output_type": "stream",
     "text": [
      "Defaulting to user installation because normal site-packages is not writeable\n",
      "Requirement already satisfied: keras in /home/Faaeel06/.local/lib/python3.9/site-packages (2.9.0)\n",
      "Note: you may need to restart the kernel to use updated packages.\n"
     ]
    }
   ],
   "source": [
    "%pip install keras"
   ]
  },
  {
   "cell_type": "code",
   "execution_count": 1,
   "metadata": {},
   "outputs": [
    {
     "name": "stdout",
     "output_type": "stream",
     "text": [
      "Defaulting to user installation because normal site-packages is not writeable\n",
      "\u001b[31mERROR: Could not find a version that satisfies the requirement tensorflow.keras.models (from versions: none)\u001b[0m\u001b[31m\n",
      "\u001b[0m\u001b[31mERROR: No matching distribution found for tensorflow.keras.models\u001b[0m\u001b[31m\n",
      "\u001b[0mNote: you may need to restart the kernel to use updated packages.\n"
     ]
    }
   ],
   "source": [
    "%pip install tensorflow.keras.models"
   ]
  },
  {
   "cell_type": "code",
   "execution_count": 1,
   "metadata": {},
   "outputs": [
    {
     "name": "stdout",
     "output_type": "stream",
     "text": [
      "Defaulting to user installation because normal site-packages is not writeable\n",
      "Requirement already satisfied: opencv-python in /home/Faaeel06/.local/lib/python3.9/site-packages (4.6.0.66)\n",
      "Requirement already satisfied: numpy>=1.14.5 in /home/Faaeel06/.local/lib/python3.9/site-packages (from opencv-python) (1.23.2)\n",
      "Note: you may need to restart the kernel to use updated packages.\n"
     ]
    }
   ],
   "source": [
    "%pip install opencv-python"
   ]
  },
  {
   "cell_type": "code",
   "execution_count": 2,
   "metadata": {},
   "outputs": [
    {
     "name": "stdout",
     "output_type": "stream",
     "text": [
      "Defaulting to user installation because normal site-packages is not writeable\n",
      "Requirement already satisfied: opencv-python in /home/Faaeel06/.local/lib/python3.9/site-packages (4.6.0.66)\n",
      "Requirement already satisfied: numpy>=1.14.5 in /home/Faaeel06/.local/lib/python3.9/site-packages (from opencv-python) (1.23.2)\n",
      "Note: you may need to restart the kernel to use updated packages.\n"
     ]
    }
   ],
   "source": [
    "%pip install opencv-python\n"
   ]
  },
  {
   "cell_type": "code",
   "execution_count": null,
   "metadata": {},
   "outputs": [],
   "source": []
  }
 ],
 "metadata": {
  "kernelspec": {
   "display_name": "Python 3.9.2 64-bit",
   "language": "python",
   "name": "python3"
  },
  "language_info": {
   "codemirror_mode": {
    "name": "ipython",
    "version": 3
   },
   "file_extension": ".py",
   "mimetype": "text/x-python",
   "name": "python",
   "nbconvert_exporter": "python",
   "pygments_lexer": "ipython3",
   "version": "3.9.2"
  },
  "orig_nbformat": 4,
  "vscode": {
   "interpreter": {
    "hash": "31f2aee4e71d21fbe5cf8b01ff0e069b9275f58929596ceb00d14d90e3e16cd6"
   }
  }
 },
 "nbformat": 4,
 "nbformat_minor": 2
}
