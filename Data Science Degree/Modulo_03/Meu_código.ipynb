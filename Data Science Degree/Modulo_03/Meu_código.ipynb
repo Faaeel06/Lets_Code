{
 "cells": [
  {
   "cell_type": "code",
   "execution_count": 1,
   "id": "8eb1b818",
   "metadata": {},
   "outputs": [],
   "source": [
    "class Arvore:\n",
    "    \"\"\"\n",
    "    classe para repr. uma árvore\n",
    "    \"\"\"\n",
    "\n",
    "    def __int__(self, root=int, right, left, level=int):\n",
    "        \"\"\"\n",
    "        root(int): o valor do nó\n",
    "        right(Arvore): objeto arvore, que representa a sub-arvore que está à direita\n",
    "        left(Arvore): objeto arvore, que representa a sub-arvore que está à esquerdda\n",
    "        \"\"\"\n",
    "        # atributos: raiz, máx. duas ramificações e definir temos ramificados\n",
    "\n",
    "        self.raiz = root\n",
    "\n",
    "        self.direita = right\n",
    "\n",
    "        self.esquerda = left\n",
    "\n",
    "        self.nivel = level\n",
    "\n",
    "    def __repr__(self):\n",
    "\n",
    "        if self.direita == None and self.esquerda == None:\n",
    "\n",
    "            return f\"Folha com valor {self.raiz} no nó.\"\n",
    "\n",
    "        elif self.nivel == 0:\n",
    "\n",
    "            return f\"Árvore com o nó raiz de valor {self.raiz}\"\n",
    "\n",
    "        else:\n",
    "\n",
    "            return f\"Árvore com valor {self.raiz} no nó.\"\n",
    "\n",
    "    def busca_binaria(self, buscado):\n",
    "\n",
    "        if buscado == self.raiz:\n",
    "\n",
    "            return True\n",
    "\n",
    "        elif self.esquerda == None and self.direita == None:\n",
    "\n",
    "            return False\n",
    "\n",
    "        elif buscado < self.raiz:\n",
    "\n",
    "            self.esquerda.busca_binaria(buscado)\n",
    "\n",
    "        elif buscado > self.raiz:\n",
    "\n",
    "            self.direita.busca_binaria(buscado)\n"
   ]
  },
  {
   "cell_type": "code",
   "execution_count": 5,
   "id": "62d13f28",
   "metadata": {},
   "outputs": [],
   "source": [
    "tree = Arvore(root = 15,\n",
    "              right = Arvore(root = 18,\n",
    "                           right = Arvore(root = 20,\n",
    "                                        right = None,\n",
    "                                        left = None,\n",
    "                                        level = 2),\n",
    "                           left = Arvore(root = 17,\n",
    "                                       right = None,\n",
    "                                       left = None,\n",
    "                                       level = 2),\n",
    "                           level = 1),\n",
    "              left = Arvore(root = 6,\n",
    "                          right = Arvore(root = 7,\n",
    "                                       right = Arvore(root = 13,\n",
    "                                                    right = None,\n",
    "                                                    left = None,\n",
    "                                                    level = 3),\n",
    "                                       left = None,\n",
    "                                       level = 2),\n",
    "                          left = Arvore(root = 3,\n",
    "                                      right = Arvore(root = 4,\n",
    "                                                   right = None,\n",
    "                                                   left = None,\n",
    "                                                   level = 3),\n",
    "                                      left = Arvore(root = 2,\n",
    "                                                  right = None,\n",
    "                                                  left = None,\n",
    "                                                  level = 3),\n",
    "                                      level = 2),\n",
    "                          level = 1),\n",
    "              level = 0)\n",
    "\n"
   ]
  },
  {
   "cell_type": "code",
   "execution_count": 7,
   "id": "54e9a8ae",
   "metadata": {},
   "outputs": [
    {
     "data": {
      "text/plain": [
       "{'raiz': 6,\n",
       " 'direita': Nó interno da árvore, com valor 7 no nó.,\n",
       " 'esquerda': Nó interno da árvore, com valor 3 no nó.,\n",
       " 'nivel': 1}"
      ]
     },
     "execution_count": 7,
     "metadata": {},
     "output_type": "execute_result"
    }
   ],
   "source": [
    "vars(tree.esquerda)"
   ]
  },
  {
   "cell_type": "code",
   "execution_count": 16,
   "id": "bd26583b",
   "metadata": {},
   "outputs": [
    {
     "name": "stdout",
     "output_type": "stream",
     "text": [
      "Vá pra direita\n",
      "Vá pra direita\n"
     ]
    },
    {
     "data": {
      "text/plain": [
       "(True, 2)"
      ]
     },
     "execution_count": 16,
     "metadata": {},
     "output_type": "execute_result"
    }
   ],
   "source": [
    "tree.busca_binaria(20)"
   ]
  },
  {
   "cell_type": "code",
   "execution_count": 8,
   "id": "6ed00e5c",
   "metadata": {},
   "outputs": [],
   "source": [
    "class Arvore:\n",
    "    '''\n",
    "    classe pra representar uma árvore\n",
    "    '''\n",
    "    \n",
    "    def __init__(self, \n",
    "                 root : int, \n",
    "                 right : Arvore,\n",
    "                 left : Arvore,\n",
    "                 level : int):\n",
    "        '''\n",
    "        root (int): o valor no nó;\n",
    "        right (Arvore): objeto arvore, que representa a sub-arvore à direita\n",
    "        left (Arvore): objeto arvore, que representa a sub-arvore à esquera\n",
    "        '''\n",
    "        \n",
    "        # atributos: raiz, com maximo de 2 filhos, e definir quais são os filhos\n",
    "        \n",
    "        self.raiz = root\n",
    "\n",
    "        self.direita = right\n",
    "        self.esquerda = left\n",
    "        \n",
    "        # \"profundidade\", nivel hierárquivo do nó de uma arvore\n",
    "        self.nivel = level\n",
    "    \n",
    "    def __repr__(self):\n",
    "        \n",
    "        # é uma folha?\n",
    "        if self.esquerda == None and self.direita == None:\n",
    "            \n",
    "            return f\"Folha com valor {self.raiz} no nó.\"\n",
    "        \n",
    "        elif self.nivel == 0:\n",
    "            \n",
    "            return f\"Árvore com o nó raiz de valor {self.raiz}.\"\n",
    "        \n",
    "        # para todos os demais nós,\n",
    "        else:\n",
    "            \n",
    "            return f\"Nó interno da árvore, com valor {self.raiz} no nó.\"\n",
    "        \n",
    "        \n",
    "    def busca_binaria(self, buscado):\n",
    "        \n",
    "        # se eu encontrei o buscado na raiz (que é onde estão os elementos)\n",
    "        if buscado == self.raiz:\n",
    "            \n",
    "            return True, self.nivel\n",
    "        \n",
    "        # se eu tô numa folha e não retornei True até aqui, eu retorno False.\n",
    "        elif self.esquerda == None and self.direita == None:\n",
    "            \n",
    "            return False\n",
    "        \n",
    "        # se eu não encontrei o elemento na raiz\n",
    "        # E se eu ainda não cheguei numa folha,\n",
    "        # eu percorro a árvore\n",
    "        \n",
    "        elif buscado < self.raiz:\n",
    "            \n",
    "            print(\"Vá pra esquerda\")\n",
    "            return self.esquerda.busca_binaria(buscado)\n",
    "            \n",
    "        elif buscado > self.raiz:\n",
    "            \n",
    "            print(\"Vá pra direita\")\n",
    "            return self.direita.busca_binaria(buscado)\n",
    "        \n",
    "        "
   ]
  },
  {
   "cell_type": "code",
   "execution_count": 9,
   "id": "3c65ebae",
   "metadata": {},
   "outputs": [],
   "source": [
    "tree = Arvore(root = 15,\n",
    "              right = Arvore(root = 18,\n",
    "                             right = Arvore(root = 20,\n",
    "                                            right = None,\n",
    "                                            left = None, \n",
    "                                            level = 2),\n",
    "                             left = Arvore(root = 17,\n",
    "                                           right = None,\n",
    "                                           left = None, \n",
    "                                           level = 2),\n",
    "                             level = 1),\n",
    "              left = Arvore(root = 6,\n",
    "                            right = Arvore(root = 7,\n",
    "                                           right = Arvore(root = 13,\n",
    "                                                          right = None,\n",
    "                                                          left = None,\n",
    "                                                          level = 3),\n",
    "                                           left = None,\n",
    "                                           level = 2),\n",
    "                            left = Arvore(root = 3,\n",
    "                                          right = Arvore(root = 4,\n",
    "                                                         right = None,\n",
    "                                                         left = None,\n",
    "                                                         level = 3),\n",
    "                                          left = Arvore(root = 2,\n",
    "                                                        right = None,\n",
    "                                                        left = None,\n",
    "                                                        level = 3),\n",
    "                                          level = 2),\n",
    "                            level = 1),\n",
    "             level = 0)"
   ]
  },
  {
   "cell_type": "code",
   "execution_count": 14,
   "id": "5c8d9ad4",
   "metadata": {},
   "outputs": [
    {
     "data": {
      "text/plain": [
       "{'raiz': 20, 'direita': None, 'esquerda': None, 'nivel': 2}"
      ]
     },
     "execution_count": 14,
     "metadata": {},
     "output_type": "execute_result"
    }
   ],
   "source": [
    "vars(tree.direita.direita)"
   ]
  },
  {
   "cell_type": "code",
   "execution_count": null,
   "id": "6daebd94",
   "metadata": {},
   "outputs": [],
   "source": []
  },
  {
   "cell_type": "code",
   "execution_count": 15,
   "id": "ff0b061e",
   "metadata": {},
   "outputs": [
    {
     "data": {
      "text/plain": [
       "(True, 0)"
      ]
     },
     "execution_count": 15,
     "metadata": {},
     "output_type": "execute_result"
    }
   ],
   "source": [
    "tree.busca_binaria(15)"
   ]
  },
  {
   "cell_type": "code",
   "execution_count": null,
   "id": "af9428ab",
   "metadata": {},
   "outputs": [],
   "source": []
  }
 ],
 "metadata": {
  "kernelspec": {
   "display_name": "Python 3",
   "language": "python",
   "name": "python3"
  },
  "language_info": {
   "codemirror_mode": {
    "name": "ipython",
    "version": 3
   },
   "file_extension": ".py",
   "mimetype": "text/x-python",
   "name": "python",
   "nbconvert_exporter": "python",
   "pygments_lexer": "ipython3",
   "version": "3.8.8"
  }
 },
 "nbformat": 4,
 "nbformat_minor": 5
}
