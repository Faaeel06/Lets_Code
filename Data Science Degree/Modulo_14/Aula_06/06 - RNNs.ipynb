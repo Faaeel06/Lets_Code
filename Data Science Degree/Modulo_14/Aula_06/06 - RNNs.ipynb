{
 "cells": [
  {
   "cell_type": "markdown",
   "metadata": {
    "id": "WL0dCSmMqjPV"
   },
   "source": [
    "# Redes Neurais Recorrentes (RNNs)\n",
    "\n",
    "Na aula de hoje, vamos explorar os seguintes tópicos em Python:\n",
    "\n",
    "- RNNs;\n",
    "- LSTM."
   ]
  },
  {
   "cell_type": "markdown",
   "metadata": {
    "id": "nZvNy3xjPyLv"
   },
   "source": [
    "## "
   ]
  },
  {
   "cell_type": "markdown",
   "metadata": {
    "id": "qv3ATXV5PyLw"
   },
   "source": [
    "# Introdução\n",
    "\n",
    "Até agora, nós vimos diversos tipos de redes neurais, e elas podem ser utilizadas para diversos problemas. A partir de entradas, elas calculavam uma saída como previsão. \n",
    "\n",
    "Porém, um tipo de dados comuns de se trabalhar são os __sequenciais__, como séries temporais e textos.\n",
    "\n",
    "<div>\n",
    "<img src=\"https://www.tradingview.com/x/BIMmjLxL/\" width=600 align=\"center\"/>\n",
    "</div>\n",
    "\n",
    "\n",
    "<div>\n",
    "<img src=\"attachment:image.png\" width=600 align=\"center\"/>\n",
    "</div>\n",
    "\n",
    "Nesse tipo de dados, os valores \"passados\" tem forte relação com os valores \"futuros\", algo que não está explícito nas arquiteturas que vimos até aqui. Para tentar explicitar isso, vamos usar __redes neurais recorrentes__."
   ]
  },
  {
   "cell_type": "markdown",
   "metadata": {
    "id": "Fl4Xyqb4PyLw"
   },
   "source": [
    "## "
   ]
  },
  {
   "cell_type": "markdown",
   "metadata": {
    "id": "o9BjQnLXPyLw"
   },
   "source": [
    "# Redes Neurais Recorrentes (RNNs)\n",
    "\n",
    "Nas __redes neurais recorrentes__, a saída de uma camada escondida também funciona como a entrada dessa mesma camada escondida! \n",
    "\n",
    "<div>\n",
    "<img src = \"https://www.deeplearningbook.com.br/wp-content/uploads/2019/07/rnn.png\" width=600>\n",
    "<div>\n",
    "\n",
    "Mas como funciona isso? Imagina que a saída em um dado passo de tempo é a entrada no passo de tempo seguinte.\n",
    "<br><br>\n",
    "<div>\n",
    "<img src=\"https://www.deeplearningbook.com.br/wp-content/uploads/2019/08/RNN-unrolled-1024x269.png\" width=600>\n",
    "</div>"
   ]
  },
  {
   "cell_type": "markdown",
   "metadata": {
    "id": "U1zMf4jWPyLx"
   },
   "source": [
    "Pode-se entender a rede neural recorrente como uma combinação de redes neurais em sequência, dessa forma as previsões levam em considerar o que foi passado anteriormente. As RNNs mais tradicionais podem apresentar um problema de dependência ao longo prazo, ou seja o intervalo de dados anteriores que seja preciso para fazer as próximas predições seria muito grandes, o que inviabiliza o desenvolvimento da RNN.\n",
    "\n",
    "<br>\n",
    "\n",
    "Uma forma de evitar este tipo de problema seria justamente utlizar de RNNs que tenha a capacidade de armazenamento de memória, garantindo que seja repassado dependências de longo prazo, uma dessas redes é a __Long Short Time Memory (LSTM).__\n",
    "\n",
    "<img src=\"https://miro.medium.com/max/875/0*z_7CtCBqX5OycQx4.png\" width = 600>\n",
    "\n",
    "Não vamos entrar no detalhe de como a LSTM faz esse armazenamento de fato, mas para mais detalhes, têm este [artigo](https://medium.com/@web2ajax/redes-neurais-recorrentes-lstm-b90b720dc3f6) do _Medium_ detalhando todo o processo."
   ]
  },
  {
   "cell_type": "markdown",
   "metadata": {
    "id": "qnsFfVmDPyLx"
   },
   "source": [
    "A seguir vamos ver ,um exemplo de aplicação utlizando a _LSTM_ em NLP e em Séries Temporais."
   ]
  },
  {
   "cell_type": "markdown",
   "metadata": {
    "id": "FkqwSlUAPyLy"
   },
   "source": [
    "## "
   ]
  },
  {
   "cell_type": "markdown",
   "metadata": {
    "id": "SVMK5GKbqjPc"
   },
   "source": [
    "### Exemplo aplicado a NLP\n",
    "\n",
    "Utilizando a base de dados sobre notificações de desastres pelo _Twitter_ `tweet.csv` e vamos desenvolver os seguintes tópicos abaixo:\n",
    "\n",
    "__A)__ Crie uma função para fazer o preprocessing da base `tweet.csv` e uma função para aplicar o TF-IDF;\n",
    "\n",
    "__B)__ Crie uma função que teste diversos modelos de Classificação como por exemplo: Regressão Logística, Árvore de Decisão, RandomForest e AdaBoost. Além disso, para cada modelo plote as principais métricas e por fim plote uma curva ROC-AUC. Teste os Modelos\n",
    "\n",
    "__C)__ Desenvolva uma Rede Neural Embedding com LSTM para fazer a classificação dos tweets. Qual a rede neural teve uma performance melhor que o modelo tradicional?\n"
   ]
  },
  {
   "cell_type": "markdown",
   "metadata": {
    "id": "Pzbs9YNYqjPc"
   },
   "source": [
    "### Resolução:"
   ]
  },
  {
   "cell_type": "code",
   "execution_count": 1,
   "metadata": {
    "id": "6EGhq2aTqjPY",
    "outputId": "4b468475-0a45-4ef9-d550-3f0af1d3869c",
    "scrolled": true
   },
   "outputs": [
    {
     "name": "stderr",
     "output_type": "stream",
     "text": [
      "2022-09-30 20:12:13.104549: I tensorflow/core/platform/cpu_feature_guard.cc:193] This TensorFlow binary is optimized with oneAPI Deep Neural Network Library (oneDNN) to use the following CPU instructions in performance-critical operations:  AVX2 FMA\n",
      "To enable them in other operations, rebuild TensorFlow with the appropriate compiler flags.\n",
      "[nltk_data] Downloading package punkt to /home/Faaeel06/nltk_data...\n",
      "[nltk_data]   Package punkt is already up-to-date!\n",
      "[nltk_data] Downloading package stopwords to\n",
      "[nltk_data]     /home/Faaeel06/nltk_data...\n",
      "[nltk_data]   Package stopwords is already up-to-date!\n",
      "[nltk_data] Downloading package rslp to /home/Faaeel06/nltk_data...\n",
      "[nltk_data]   Package rslp is already up-to-date!\n"
     ]
    },
    {
     "ename": "ImportError",
     "evalue": "cannot import name 'pad_sequences' from 'keras.preprocessing.sequence' (/home/Faaeel06/.local/lib/python3.9/site-packages/keras/preprocessing/sequence.py)",
     "output_type": "error",
     "traceback": [
      "\u001b[0;31m---------------------------------------------------------------------------\u001b[0m",
      "\u001b[0;31mImportError\u001b[0m                               Traceback (most recent call last)",
      "\u001b[1;32m/home/Faaeel06/Documentos/GitHub/Lets_Code/Data Science Degree/Modulo_14/Aula_06/06 - RNNs.ipynb Cell 11\u001b[0m in \u001b[0;36m<cell line: 33>\u001b[0;34m()\u001b[0m\n\u001b[1;32m     <a href='vscode-notebook-cell:/home/Faaeel06/Documentos/GitHub/Lets_Code/Data%20Science%20Degree/Modulo_14/Aula_06/06%20-%20RNNs.ipynb#X13sZmlsZQ%3D%3D?line=30'>31</a>\u001b[0m \u001b[39m# Libs para Redes Neurais\u001b[39;00m\n\u001b[1;32m     <a href='vscode-notebook-cell:/home/Faaeel06/Documentos/GitHub/Lets_Code/Data%20Science%20Degree/Modulo_14/Aula_06/06%20-%20RNNs.ipynb#X13sZmlsZQ%3D%3D?line=31'>32</a>\u001b[0m \u001b[39mfrom\u001b[39;00m \u001b[39mcollections\u001b[39;00m \u001b[39mimport\u001b[39;00m Counter\n\u001b[0;32m---> <a href='vscode-notebook-cell:/home/Faaeel06/Documentos/GitHub/Lets_Code/Data%20Science%20Degree/Modulo_14/Aula_06/06%20-%20RNNs.ipynb#X13sZmlsZQ%3D%3D?line=32'>33</a>\u001b[0m \u001b[39mfrom\u001b[39;00m \u001b[39mkeras\u001b[39;00m\u001b[39m.\u001b[39;00m\u001b[39mpreprocessing\u001b[39;00m\u001b[39m.\u001b[39;00m\u001b[39msequence\u001b[39;00m \u001b[39mimport\u001b[39;00m pad_sequences\n\u001b[1;32m     <a href='vscode-notebook-cell:/home/Faaeel06/Documentos/GitHub/Lets_Code/Data%20Science%20Degree/Modulo_14/Aula_06/06%20-%20RNNs.ipynb#X13sZmlsZQ%3D%3D?line=33'>34</a>\u001b[0m \u001b[39mfrom\u001b[39;00m \u001b[39mkeras\u001b[39;00m\u001b[39m.\u001b[39;00m\u001b[39mpreprocessing\u001b[39;00m\u001b[39m.\u001b[39;00m\u001b[39mtext\u001b[39;00m \u001b[39mimport\u001b[39;00m Tokenizer\n\u001b[1;32m     <a href='vscode-notebook-cell:/home/Faaeel06/Documentos/GitHub/Lets_Code/Data%20Science%20Degree/Modulo_14/Aula_06/06%20-%20RNNs.ipynb#X13sZmlsZQ%3D%3D?line=34'>35</a>\u001b[0m \u001b[39mfrom\u001b[39;00m \u001b[39mkeras\u001b[39;00m\u001b[39m.\u001b[39;00m\u001b[39mmodels\u001b[39;00m \u001b[39mimport\u001b[39;00m Sequential\n",
      "\u001b[0;31mImportError\u001b[0m: cannot import name 'pad_sequences' from 'keras.preprocessing.sequence' (/home/Faaeel06/.local/lib/python3.9/site-packages/keras/preprocessing/sequence.py)"
     ]
    }
   ],
   "source": [
    "# Imports utilizados em todos os exercícios\n",
    "import pandas as pd\n",
    "import numpy as np\n",
    "import matplotlib.pyplot as plt\n",
    "import seaborn as sns\n",
    "import keras\n",
    "import tensorflow\n",
    "\n",
    "# Libs para NLP\n",
    "import nltk\n",
    "nltk.download('punkt')\n",
    "nltk.download('stopwords')\n",
    "nltk.download('rslp')\n",
    "from nltk.corpus import stopwords \n",
    "from nltk.tokenize import word_tokenize\n",
    "from nltk.stem.porter import *\n",
    "from nltk.stem import SnowballStemmer\n",
    "import re\n",
    "\n",
    "# Libs de Machine Learning\n",
    "from sklearn.feature_extraction.text import TfidfVectorizer, CountVectorizer\n",
    "from sklearn.model_selection import train_test_split\n",
    "from sklearn.metrics import confusion_matrix, classification_report\n",
    "from sklearn import metrics\n",
    "from sklearn.ensemble import RandomForestClassifier, AdaBoostClassifier\n",
    "from sklearn.metrics import accuracy_score, precision_score, recall_score, f1_score, roc_auc_score, roc_curve\n",
    "from sklearn.tree import DecisionTreeClassifier\n",
    "from sklearn.linear_model import LogisticRegression\n",
    "from mlxtend.plotting import plot_confusion_matrix\n",
    "\n",
    "# Libs para Redes Neurais\n",
    "from collections import Counter\n",
    "from keras.preprocessing.sequence import pad_sequences\n",
    "from keras.preprocessing.text import Tokenizer\n",
    "from keras.models import Sequential\n",
    "from keras.layers import Embedding, LSTM, Dense, Dropout\n",
    "from keras.callbacks import Callback, EarlyStopping\n",
    "\n",
    "# Import da biblioteca warnings para ignorar eventuais warnings\n",
    "import warnings\n",
    "warnings.filterwarnings('ignore')"
   ]
  },
  {
   "cell_type": "markdown",
   "metadata": {
    "id": "AMOQFvgfqjPc"
   },
   "source": [
    "__A)__ Crie uma função para fazer o preprocessing da base `tweet.csv` e uma função para aplicar o TF-IDF;"
   ]
  },
  {
   "cell_type": "code",
   "execution_count": null,
   "metadata": {},
   "outputs": [
    {
     "data": {
      "text/html": [
       "<div>\n",
       "<style scoped>\n",
       "    .dataframe tbody tr th:only-of-type {\n",
       "        vertical-align: middle;\n",
       "    }\n",
       "\n",
       "    .dataframe tbody tr th {\n",
       "        vertical-align: top;\n",
       "    }\n",
       "\n",
       "    .dataframe thead th {\n",
       "        text-align: right;\n",
       "    }\n",
       "</style>\n",
       "<table border=\"1\" class=\"dataframe\">\n",
       "  <thead>\n",
       "    <tr style=\"text-align: right;\">\n",
       "      <th></th>\n",
       "      <th>id</th>\n",
       "      <th>keyword</th>\n",
       "      <th>location</th>\n",
       "      <th>text</th>\n",
       "      <th>target</th>\n",
       "    </tr>\n",
       "  </thead>\n",
       "  <tbody>\n",
       "    <tr>\n",
       "      <th>0</th>\n",
       "      <td>1</td>\n",
       "      <td>NaN</td>\n",
       "      <td>NaN</td>\n",
       "      <td>Our Deeds are the Reason of this #earthquake M...</td>\n",
       "      <td>1</td>\n",
       "    </tr>\n",
       "    <tr>\n",
       "      <th>1</th>\n",
       "      <td>4</td>\n",
       "      <td>NaN</td>\n",
       "      <td>NaN</td>\n",
       "      <td>Forest fire near La Ronge Sask. Canada</td>\n",
       "      <td>1</td>\n",
       "    </tr>\n",
       "    <tr>\n",
       "      <th>2</th>\n",
       "      <td>5</td>\n",
       "      <td>NaN</td>\n",
       "      <td>NaN</td>\n",
       "      <td>All residents asked to 'shelter in place' are ...</td>\n",
       "      <td>1</td>\n",
       "    </tr>\n",
       "    <tr>\n",
       "      <th>3</th>\n",
       "      <td>6</td>\n",
       "      <td>NaN</td>\n",
       "      <td>NaN</td>\n",
       "      <td>13,000 people receive #wildfires evacuation or...</td>\n",
       "      <td>1</td>\n",
       "    </tr>\n",
       "    <tr>\n",
       "      <th>4</th>\n",
       "      <td>7</td>\n",
       "      <td>NaN</td>\n",
       "      <td>NaN</td>\n",
       "      <td>Just got sent this photo from Ruby #Alaska as ...</td>\n",
       "      <td>1</td>\n",
       "    </tr>\n",
       "    <tr>\n",
       "      <th>...</th>\n",
       "      <td>...</td>\n",
       "      <td>...</td>\n",
       "      <td>...</td>\n",
       "      <td>...</td>\n",
       "      <td>...</td>\n",
       "    </tr>\n",
       "    <tr>\n",
       "      <th>7608</th>\n",
       "      <td>10869</td>\n",
       "      <td>NaN</td>\n",
       "      <td>NaN</td>\n",
       "      <td>Two giant cranes holding a bridge collapse int...</td>\n",
       "      <td>1</td>\n",
       "    </tr>\n",
       "    <tr>\n",
       "      <th>7609</th>\n",
       "      <td>10870</td>\n",
       "      <td>NaN</td>\n",
       "      <td>NaN</td>\n",
       "      <td>@aria_ahrary @TheTawniest The out of control w...</td>\n",
       "      <td>1</td>\n",
       "    </tr>\n",
       "    <tr>\n",
       "      <th>7610</th>\n",
       "      <td>10871</td>\n",
       "      <td>NaN</td>\n",
       "      <td>NaN</td>\n",
       "      <td>M1.94 [01:04 UTC]?5km S of Volcano Hawaii. htt...</td>\n",
       "      <td>1</td>\n",
       "    </tr>\n",
       "    <tr>\n",
       "      <th>7611</th>\n",
       "      <td>10872</td>\n",
       "      <td>NaN</td>\n",
       "      <td>NaN</td>\n",
       "      <td>Police investigating after an e-bike collided ...</td>\n",
       "      <td>1</td>\n",
       "    </tr>\n",
       "    <tr>\n",
       "      <th>7612</th>\n",
       "      <td>10873</td>\n",
       "      <td>NaN</td>\n",
       "      <td>NaN</td>\n",
       "      <td>The Latest: More Homes Razed by Northern Calif...</td>\n",
       "      <td>1</td>\n",
       "    </tr>\n",
       "  </tbody>\n",
       "</table>\n",
       "<p>7613 rows × 5 columns</p>\n",
       "</div>"
      ],
      "text/plain": [
       "         id keyword location  \\\n",
       "0         1     NaN      NaN   \n",
       "1         4     NaN      NaN   \n",
       "2         5     NaN      NaN   \n",
       "3         6     NaN      NaN   \n",
       "4         7     NaN      NaN   \n",
       "...     ...     ...      ...   \n",
       "7608  10869     NaN      NaN   \n",
       "7609  10870     NaN      NaN   \n",
       "7610  10871     NaN      NaN   \n",
       "7611  10872     NaN      NaN   \n",
       "7612  10873     NaN      NaN   \n",
       "\n",
       "                                                   text  target  \n",
       "0     Our Deeds are the Reason of this #earthquake M...       1  \n",
       "1                Forest fire near La Ronge Sask. Canada       1  \n",
       "2     All residents asked to 'shelter in place' are ...       1  \n",
       "3     13,000 people receive #wildfires evacuation or...       1  \n",
       "4     Just got sent this photo from Ruby #Alaska as ...       1  \n",
       "...                                                 ...     ...  \n",
       "7608  Two giant cranes holding a bridge collapse int...       1  \n",
       "7609  @aria_ahrary @TheTawniest The out of control w...       1  \n",
       "7610  M1.94 [01:04 UTC]?5km S of Volcano Hawaii. htt...       1  \n",
       "7611  Police investigating after an e-bike collided ...       1  \n",
       "7612  The Latest: More Homes Razed by Northern Calif...       1  \n",
       "\n",
       "[7613 rows x 5 columns]"
      ]
     },
     "execution_count": 5,
     "metadata": {},
     "output_type": "execute_result"
    }
   ],
   "source": [
    "tweets = pd.read_csv('../datasets/tweets.csv')\n",
    "tweets"
   ]
  },
  {
   "cell_type": "code",
   "execution_count": null,
   "metadata": {},
   "outputs": [
    {
     "data": {
      "text/plain": [
       "0    4342\n",
       "1    3271\n",
       "Name: target, dtype: int64"
      ]
     },
     "execution_count": 4,
     "metadata": {},
     "output_type": "execute_result"
    }
   ],
   "source": [
    "tweets['target'].value_counts()"
   ]
  },
  {
   "cell_type": "code",
   "execution_count": null,
   "metadata": {},
   "outputs": [
    {
     "ename": "AttributeError",
     "evalue": "'set' object has no attribute 'words'",
     "output_type": "error",
     "traceback": [
      "\u001b[0;31m---------------------------------------------------------------------------\u001b[0m",
      "\u001b[0;31mAttributeError\u001b[0m                            Traceback (most recent call last)",
      "\u001b[1;32m/home/Faaeel06/Documentos/GitHub/Lets_Code/Data Science Degree/Modulo_14/Aula_06/06 - RNNs.ipynb Cell 15\u001b[0m in \u001b[0;36m<cell line: 1>\u001b[0;34m()\u001b[0m\n\u001b[0;32m----> <a href='vscode-notebook-cell:/home/Faaeel06/Documentos/GitHub/Lets_Code/Data%20Science%20Degree/Modulo_14/Aula_06/06%20-%20RNNs.ipynb#X16sZmlsZQ%3D%3D?line=0'>1</a>\u001b[0m stopwords \u001b[39m=\u001b[39m \u001b[39mset\u001b[39m(stopwords\u001b[39m.\u001b[39;49mwords(\u001b[39m'\u001b[39m\u001b[39menglish\u001b[39m\u001b[39m'\u001b[39m))\n\u001b[1;32m      <a href='vscode-notebook-cell:/home/Faaeel06/Documentos/GitHub/Lets_Code/Data%20Science%20Degree/Modulo_14/Aula_06/06%20-%20RNNs.ipynb#X16sZmlsZQ%3D%3D?line=1'>2</a>\u001b[0m Stemmer \u001b[39m=\u001b[39m PorterStemmer()\n\u001b[1;32m      <a href='vscode-notebook-cell:/home/Faaeel06/Documentos/GitHub/Lets_Code/Data%20Science%20Degree/Modulo_14/Aula_06/06%20-%20RNNs.ipynb#X16sZmlsZQ%3D%3D?line=3'>4</a>\u001b[0m \u001b[39mdef\u001b[39;00m \u001b[39mpreprocessing\u001b[39m(string):\n",
      "\u001b[0;31mAttributeError\u001b[0m: 'set' object has no attribute 'words'"
     ]
    }
   ],
   "source": [
    "stopwords = set(stopwords.words('english'))\n",
    "Stemmer = PorterStemmer()\n",
    "\n",
    "def preprocessing(string):\n",
    "\n",
    "    string = re.sub(r\"[^a-zA-Z0-9]+\", ' ', string)\n",
    "\n",
    "    string = string.lower()\n",
    "\n",
    "    words = word_tokenize(string)\n",
    "    stem_words = []\n",
    "    filtered_words = []\n",
    "    for w in words:\n",
    "        if w not in stopwords:\n",
    "            s_words = Stemmer.stem(w)\n",
    "            stem_words.append(s_words)\n",
    "    \n",
    "    return stem_words"
   ]
  },
  {
   "cell_type": "code",
   "execution_count": null,
   "metadata": {},
   "outputs": [
    {
     "ename": "NameError",
     "evalue": "name 'preprocessing' is not defined",
     "output_type": "error",
     "traceback": [
      "\u001b[0;31m---------------------------------------------------------------------------\u001b[0m",
      "\u001b[0;31mNameError\u001b[0m                                 Traceback (most recent call last)",
      "\u001b[1;32m/home/Faaeel06/Documentos/GitHub/Lets_Code/Data Science Degree/Modulo_14/Aula_06/06 - RNNs.ipynb Cell 16\u001b[0m in \u001b[0;36m<cell line: 1>\u001b[0;34m()\u001b[0m\n\u001b[0;32m----> <a href='vscode-notebook-cell:/home/Faaeel06/Documentos/GitHub/Lets_Code/Data%20Science%20Degree/Modulo_14/Aula_06/06%20-%20RNNs.ipynb#X20sZmlsZQ%3D%3D?line=0'>1</a>\u001b[0m tweets[\u001b[39m'\u001b[39m\u001b[39mfiltered_words\u001b[39m\u001b[39m'\u001b[39m] \u001b[39m=\u001b[39m tweets[\u001b[39m'\u001b[39;49m\u001b[39mtext\u001b[39;49m\u001b[39m'\u001b[39;49m]\u001b[39m.\u001b[39;49mapply(\u001b[39mlambda\u001b[39;49;00m x: preprocessing())\n",
      "File \u001b[0;32m~/.local/lib/python3.9/site-packages/pandas/core/series.py:4774\u001b[0m, in \u001b[0;36mSeries.apply\u001b[0;34m(self, func, convert_dtype, args, **kwargs)\u001b[0m\n\u001b[1;32m   4664\u001b[0m \u001b[39mdef\u001b[39;00m \u001b[39mapply\u001b[39m(\n\u001b[1;32m   4665\u001b[0m     \u001b[39mself\u001b[39m,\n\u001b[1;32m   4666\u001b[0m     func: AggFuncType,\n\u001b[0;32m   (...)\u001b[0m\n\u001b[1;32m   4669\u001b[0m     \u001b[39m*\u001b[39m\u001b[39m*\u001b[39mkwargs,\n\u001b[1;32m   4670\u001b[0m ) \u001b[39m-\u001b[39m\u001b[39m>\u001b[39m DataFrame \u001b[39m|\u001b[39m Series:\n\u001b[1;32m   4671\u001b[0m     \u001b[39m\"\"\"\u001b[39;00m\n\u001b[1;32m   4672\u001b[0m \u001b[39m    Invoke function on values of Series.\u001b[39;00m\n\u001b[1;32m   4673\u001b[0m \n\u001b[0;32m   (...)\u001b[0m\n\u001b[1;32m   4772\u001b[0m \u001b[39m    dtype: float64\u001b[39;00m\n\u001b[1;32m   4773\u001b[0m \u001b[39m    \"\"\"\u001b[39;00m\n\u001b[0;32m-> 4774\u001b[0m     \u001b[39mreturn\u001b[39;00m SeriesApply(\u001b[39mself\u001b[39;49m, func, convert_dtype, args, kwargs)\u001b[39m.\u001b[39;49mapply()\n",
      "File \u001b[0;32m~/.local/lib/python3.9/site-packages/pandas/core/apply.py:1100\u001b[0m, in \u001b[0;36mSeriesApply.apply\u001b[0;34m(self)\u001b[0m\n\u001b[1;32m   1097\u001b[0m     \u001b[39mreturn\u001b[39;00m \u001b[39mself\u001b[39m\u001b[39m.\u001b[39mapply_str()\n\u001b[1;32m   1099\u001b[0m \u001b[39m# self.f is Callable\u001b[39;00m\n\u001b[0;32m-> 1100\u001b[0m \u001b[39mreturn\u001b[39;00m \u001b[39mself\u001b[39;49m\u001b[39m.\u001b[39;49mapply_standard()\n",
      "File \u001b[0;32m~/.local/lib/python3.9/site-packages/pandas/core/apply.py:1151\u001b[0m, in \u001b[0;36mSeriesApply.apply_standard\u001b[0;34m(self)\u001b[0m\n\u001b[1;32m   1149\u001b[0m     \u001b[39melse\u001b[39;00m:\n\u001b[1;32m   1150\u001b[0m         values \u001b[39m=\u001b[39m obj\u001b[39m.\u001b[39mastype(\u001b[39mobject\u001b[39m)\u001b[39m.\u001b[39m_values\n\u001b[0;32m-> 1151\u001b[0m         mapped \u001b[39m=\u001b[39m lib\u001b[39m.\u001b[39;49mmap_infer(\n\u001b[1;32m   1152\u001b[0m             values,\n\u001b[1;32m   1153\u001b[0m             f,\n\u001b[1;32m   1154\u001b[0m             convert\u001b[39m=\u001b[39;49m\u001b[39mself\u001b[39;49m\u001b[39m.\u001b[39;49mconvert_dtype,\n\u001b[1;32m   1155\u001b[0m         )\n\u001b[1;32m   1157\u001b[0m \u001b[39mif\u001b[39;00m \u001b[39mlen\u001b[39m(mapped) \u001b[39mand\u001b[39;00m \u001b[39misinstance\u001b[39m(mapped[\u001b[39m0\u001b[39m], ABCSeries):\n\u001b[1;32m   1158\u001b[0m     \u001b[39m# GH#43986 Need to do list(mapped) in order to get treated as nested\u001b[39;00m\n\u001b[1;32m   1159\u001b[0m     \u001b[39m#  See also GH#25959 regarding EA support\u001b[39;00m\n\u001b[1;32m   1160\u001b[0m     \u001b[39mreturn\u001b[39;00m obj\u001b[39m.\u001b[39m_constructor_expanddim(\u001b[39mlist\u001b[39m(mapped), index\u001b[39m=\u001b[39mobj\u001b[39m.\u001b[39mindex)\n",
      "File \u001b[0;32m~/.local/lib/python3.9/site-packages/pandas/_libs/lib.pyx:2919\u001b[0m, in \u001b[0;36mpandas._libs.lib.map_infer\u001b[0;34m()\u001b[0m\n",
      "\u001b[1;32m/home/Faaeel06/Documentos/GitHub/Lets_Code/Data Science Degree/Modulo_14/Aula_06/06 - RNNs.ipynb Cell 16\u001b[0m in \u001b[0;36m<lambda>\u001b[0;34m(x)\u001b[0m\n\u001b[0;32m----> <a href='vscode-notebook-cell:/home/Faaeel06/Documentos/GitHub/Lets_Code/Data%20Science%20Degree/Modulo_14/Aula_06/06%20-%20RNNs.ipynb#X20sZmlsZQ%3D%3D?line=0'>1</a>\u001b[0m tweets[\u001b[39m'\u001b[39m\u001b[39mfiltered_words\u001b[39m\u001b[39m'\u001b[39m] \u001b[39m=\u001b[39m tweets[\u001b[39m'\u001b[39m\u001b[39mtext\u001b[39m\u001b[39m'\u001b[39m]\u001b[39m.\u001b[39mapply(\u001b[39mlambda\u001b[39;00m x: preprocessing())\n",
      "\u001b[0;31mNameError\u001b[0m: name 'preprocessing' is not defined"
     ]
    }
   ],
   "source": [
    "tweets['filtered_words'] = tweets['text'].apply(lambda x: preprocessing())"
   ]
  },
  {
   "cell_type": "markdown",
   "metadata": {
    "id": "sO9ewzKWqjPg"
   },
   "source": [
    "__B)__ Crie uma função que teste diversos modelos de Classificação como por exemplo: Regressão Logística, Árvore de Decisão, RandomForest e AdaBoost. Além disso, para cada modelo plote as principais métricas e por fim plote uma curva ROC-AUC. Teste os Modelos"
   ]
  },
  {
   "cell_type": "code",
   "execution_count": null,
   "metadata": {},
   "outputs": [],
   "source": [
    "tfidf = TfidfVectorizer(use_idf = True)"
   ]
  },
  {
   "cell_type": "code",
   "execution_count": null,
   "metadata": {},
   "outputs": [],
   "source": []
  },
  {
   "cell_type": "code",
   "execution_count": null,
   "metadata": {},
   "outputs": [],
   "source": []
  },
  {
   "cell_type": "markdown",
   "metadata": {
    "id": "IQwCyjq4qjPi"
   },
   "source": [
    "__C)__ Desenvolva uma Rede Neural Embedding com LSTM para fazer a classificação dos tweets. Qual a rede neural teve uma performance melhor que o modelo tradicional?"
   ]
  },
  {
   "cell_type": "code",
   "execution_count": null,
   "metadata": {},
   "outputs": [],
   "source": []
  },
  {
   "cell_type": "code",
   "execution_count": null,
   "metadata": {},
   "outputs": [],
   "source": []
  },
  {
   "cell_type": "code",
   "execution_count": null,
   "metadata": {},
   "outputs": [],
   "source": []
  },
  {
   "cell_type": "markdown",
   "metadata": {
    "id": "r1Tdv1jkqjPk"
   },
   "source": [
    "Resultado para o Embedding com LSTM ficou bem próximo do resultado obtido para a melhor combinação de modelo com o TF-IDF, mostrando o potencial de desenvolvimento de uma rede neural."
   ]
  },
  {
   "cell_type": "markdown",
   "metadata": {
    "id": "TWInRDheqjPk"
   },
   "source": [
    "## "
   ]
  },
  {
   "cell_type": "code",
   "execution_count": null,
   "metadata": {},
   "outputs": [],
   "source": [
    "import pandas as pd\n",
    "import numpy as np\n",
    "import matplotlib.pyplot as plt\n",
    "import seaborn as sns\n",
    "from warnings import simplefilter"
   ]
  },
  {
   "cell_type": "markdown",
   "metadata": {
    "id": "AY3B0O_GqjPk"
   },
   "source": [
    "### Exemplo aplicado a Séries Temporais\n",
    "\n",
    "Use a base de dados `covid_saopaulo.csv` para desenvolver uma rede dinâmica LSTM e faça predições das mortes usando um trecho da série temporal de 21 dias."
   ]
  },
  {
   "cell_type": "markdown",
   "metadata": {
    "id": "6ugnEz3FqjPl"
   },
   "source": [
    "### Resolução:"
   ]
  },
  {
   "cell_type": "markdown",
   "metadata": {},
   "source": [
    "## "
   ]
  },
  {
   "cell_type": "markdown",
   "metadata": {},
   "source": [
    "## Exercícios"
   ]
  },
  {
   "cell_type": "markdown",
   "metadata": {},
   "source": [
    "__1)__ Replique o exercício dos casos de COVID em São Paulo para"
   ]
  },
  {
   "cell_type": "code",
   "execution_count": null,
   "metadata": {},
   "outputs": [],
   "source": [
    "covidsp = pd.read_csv('../datasets/covid_saopaulo.csv',\n",
    "                        index_col='date',\n",
    "                        parse_dates= True)"
   ]
  },
  {
   "cell_type": "code",
   "execution_count": null,
   "metadata": {},
   "outputs": [
    {
     "data": {
      "text/html": [
       "<div>\n",
       "<style scoped>\n",
       "    .dataframe tbody tr th:only-of-type {\n",
       "        vertical-align: middle;\n",
       "    }\n",
       "\n",
       "    .dataframe tbody tr th {\n",
       "        vertical-align: top;\n",
       "    }\n",
       "\n",
       "    .dataframe thead th {\n",
       "        text-align: right;\n",
       "    }\n",
       "</style>\n",
       "<table border=\"1\" class=\"dataframe\">\n",
       "  <thead>\n",
       "    <tr style=\"text-align: right;\">\n",
       "      <th></th>\n",
       "      <th>confirmed</th>\n",
       "      <th>deaths</th>\n",
       "    </tr>\n",
       "    <tr>\n",
       "      <th>date</th>\n",
       "      <th></th>\n",
       "      <th></th>\n",
       "    </tr>\n",
       "  </thead>\n",
       "  <tbody>\n",
       "    <tr>\n",
       "      <th>2020-02-26</th>\n",
       "      <td>0</td>\n",
       "      <td>0</td>\n",
       "    </tr>\n",
       "    <tr>\n",
       "      <th>2020-02-27</th>\n",
       "      <td>0</td>\n",
       "      <td>0</td>\n",
       "    </tr>\n",
       "    <tr>\n",
       "      <th>2020-02-28</th>\n",
       "      <td>1</td>\n",
       "      <td>0</td>\n",
       "    </tr>\n",
       "    <tr>\n",
       "      <th>2020-02-29</th>\n",
       "      <td>0</td>\n",
       "      <td>0</td>\n",
       "    </tr>\n",
       "    <tr>\n",
       "      <th>2020-03-01</th>\n",
       "      <td>0</td>\n",
       "      <td>0</td>\n",
       "    </tr>\n",
       "    <tr>\n",
       "      <th>...</th>\n",
       "      <td>...</td>\n",
       "      <td>...</td>\n",
       "    </tr>\n",
       "    <tr>\n",
       "      <th>2020-12-26</th>\n",
       "      <td>1253</td>\n",
       "      <td>13</td>\n",
       "    </tr>\n",
       "    <tr>\n",
       "      <th>2020-12-27</th>\n",
       "      <td>2836</td>\n",
       "      <td>55</td>\n",
       "    </tr>\n",
       "    <tr>\n",
       "      <th>2020-12-28</th>\n",
       "      <td>1576</td>\n",
       "      <td>39</td>\n",
       "    </tr>\n",
       "    <tr>\n",
       "      <th>2020-12-29</th>\n",
       "      <td>12477</td>\n",
       "      <td>293</td>\n",
       "    </tr>\n",
       "    <tr>\n",
       "      <th>2020-12-30</th>\n",
       "      <td>11849</td>\n",
       "      <td>282</td>\n",
       "    </tr>\n",
       "  </tbody>\n",
       "</table>\n",
       "<p>302 rows × 2 columns</p>\n",
       "</div>"
      ],
      "text/plain": [
       "            confirmed  deaths\n",
       "date                         \n",
       "2020-02-26          0       0\n",
       "2020-02-27          0       0\n",
       "2020-02-28          1       0\n",
       "2020-02-29          0       0\n",
       "2020-03-01          0       0\n",
       "...               ...     ...\n",
       "2020-12-26       1253      13\n",
       "2020-12-27       2836      55\n",
       "2020-12-28       1576      39\n",
       "2020-12-29      12477     293\n",
       "2020-12-30      11849     282\n",
       "\n",
       "[302 rows x 2 columns]"
      ]
     },
     "execution_count": 5,
     "metadata": {},
     "output_type": "execute_result"
    }
   ],
   "source": [
    "covidsp"
   ]
  },
  {
   "cell_type": "code",
   "execution_count": null,
   "metadata": {},
   "outputs": [],
   "source": [
    "#Index com todas as datas possíveis\n",
    "\n",
    "idx = pd.date_range(start = covidsp.index.min(),\n",
    "                    end = covidsp.index.max(),\n",
    "                    freq = 'D')"
   ]
  },
  {
   "cell_type": "code",
   "execution_count": null,
   "metadata": {},
   "outputs": [
    {
     "data": {
      "text/plain": [
       "DatetimeIndex(['2020-02-26', '2020-02-27', '2020-02-28', '2020-02-29',\n",
       "               '2020-03-01', '2020-03-02', '2020-03-03', '2020-03-04',\n",
       "               '2020-03-05', '2020-03-06',\n",
       "               ...\n",
       "               '2020-12-21', '2020-12-22', '2020-12-23', '2020-12-24',\n",
       "               '2020-12-25', '2020-12-26', '2020-12-27', '2020-12-28',\n",
       "               '2020-12-29', '2020-12-30'],\n",
       "              dtype='datetime64[ns]', length=309, freq='D')"
      ]
     },
     "execution_count": 8,
     "metadata": {},
     "output_type": "execute_result"
    }
   ],
   "source": [
    "idx"
   ]
  },
  {
   "cell_type": "code",
   "execution_count": null,
   "metadata": {},
   "outputs": [],
   "source": [
    "covidsp = covidsp.reindex(idx)"
   ]
  },
  {
   "cell_type": "code",
   "execution_count": null,
   "metadata": {},
   "outputs": [],
   "source": [
    "covidsp.drop('confirmed', axis=1, inplace=True)"
   ]
  },
  {
   "cell_type": "code",
   "execution_count": null,
   "metadata": {},
   "outputs": [
    {
     "data": {
      "text/plain": [
       "deaths    7\n",
       "dtype: int64"
      ]
     },
     "execution_count": 19,
     "metadata": {},
     "output_type": "execute_result"
    }
   ],
   "source": [
    "covidsp.isna().sum()"
   ]
  },
  {
   "cell_type": "code",
   "execution_count": null,
   "metadata": {},
   "outputs": [
    {
     "data": {
      "text/html": [
       "<div>\n",
       "<style scoped>\n",
       "    .dataframe tbody tr th:only-of-type {\n",
       "        vertical-align: middle;\n",
       "    }\n",
       "\n",
       "    .dataframe tbody tr th {\n",
       "        vertical-align: top;\n",
       "    }\n",
       "\n",
       "    .dataframe thead th {\n",
       "        text-align: right;\n",
       "    }\n",
       "</style>\n",
       "<table border=\"1\" class=\"dataframe\">\n",
       "  <thead>\n",
       "    <tr style=\"text-align: right;\">\n",
       "      <th></th>\n",
       "      <th>deaths</th>\n",
       "    </tr>\n",
       "  </thead>\n",
       "  <tbody>\n",
       "    <tr>\n",
       "      <th>2020-03-13</th>\n",
       "      <td>NaN</td>\n",
       "    </tr>\n",
       "    <tr>\n",
       "      <th>2020-03-15</th>\n",
       "      <td>NaN</td>\n",
       "    </tr>\n",
       "    <tr>\n",
       "      <th>2020-11-06</th>\n",
       "      <td>NaN</td>\n",
       "    </tr>\n",
       "    <tr>\n",
       "      <th>2020-11-07</th>\n",
       "      <td>NaN</td>\n",
       "    </tr>\n",
       "    <tr>\n",
       "      <th>2020-11-08</th>\n",
       "      <td>NaN</td>\n",
       "    </tr>\n",
       "    <tr>\n",
       "      <th>2020-11-09</th>\n",
       "      <td>NaN</td>\n",
       "    </tr>\n",
       "    <tr>\n",
       "      <th>2020-12-16</th>\n",
       "      <td>NaN</td>\n",
       "    </tr>\n",
       "  </tbody>\n",
       "</table>\n",
       "</div>"
      ],
      "text/plain": [
       "            deaths\n",
       "2020-03-13     NaN\n",
       "2020-03-15     NaN\n",
       "2020-11-06     NaN\n",
       "2020-11-07     NaN\n",
       "2020-11-08     NaN\n",
       "2020-11-09     NaN\n",
       "2020-12-16     NaN"
      ]
     },
     "execution_count": 20,
     "metadata": {},
     "output_type": "execute_result"
    }
   ],
   "source": [
    "covidsp[covidsp['deaths'].isna() == True]"
   ]
  },
  {
   "cell_type": "code",
   "execution_count": null,
   "metadata": {},
   "outputs": [],
   "source": [
    "# Preeencher os dias faltantes com 0\n",
    "\n",
    "covidsp.fillna(0, inplace=True)"
   ]
  },
  {
   "cell_type": "code",
   "execution_count": null,
   "metadata": {},
   "outputs": [
    {
     "data": {
      "text/plain": [
       "<AxesSubplot: >"
      ]
     },
     "execution_count": 22,
     "metadata": {},
     "output_type": "execute_result"
    },
    {
     "data": {
      "image/png": "[encoded data removed]",
      "text/plain": [
       "<Figure size 432x288 with 1 Axes>"
      ]
     },
     "metadata": {
      "needs_background": "light"
     },
     "output_type": "display_data"
    }
   ],
   "source": [
    "sns.lineplot(covidsp)"
   ]
  },
  {
   "cell_type": "code",
   "execution_count": null,
   "metadata": {},
   "outputs": [],
   "source": [
    "# Pre Processing"
   ]
  },
  {
   "cell_type": "code",
   "execution_count": null,
   "metadata": {},
   "outputs": [
    {
     "data": {
      "text/plain": [
       "309"
      ]
     },
     "execution_count": 24,
     "metadata": {},
     "output_type": "execute_result"
    }
   ],
   "source": [
    "#Tamanho da base\n",
    "len(covidsp)"
   ]
  },
  {
   "cell_type": "code",
   "execution_count": null,
   "metadata": {},
   "outputs": [
    {
     "data": {
      "text/plain": [
       "288"
      ]
     },
     "execution_count": 25,
     "metadata": {},
     "output_type": "execute_result"
    }
   ],
   "source": [
    "#Tirando os 21 dias de teste\n",
    "len(covidsp) - 21"
   ]
  },
  {
   "cell_type": "code",
   "execution_count": null,
   "metadata": {},
   "outputs": [],
   "source": [
    "#separando em treino e teste\n",
    "train = covidsp.iloc[:288]\n",
    "test = covidsp.iloc[288:]"
   ]
  },
  {
   "cell_type": "code",
   "execution_count": null,
   "metadata": {},
   "outputs": [
    {
     "data": {
      "text/plain": [
       "((288, 1), (21, 1))"
      ]
     },
     "execution_count": 27,
     "metadata": {},
     "output_type": "execute_result"
    }
   ],
   "source": [
    "train.shape, test.shape"
   ]
  },
  {
   "cell_type": "code",
   "execution_count": null,
   "metadata": {},
   "outputs": [],
   "source": [
    "# Mudando a escala dos nossos dados\n",
    "from sklearn.preprocessing import MinMaxScaler\n",
    "\n",
    "# Instanciar o scaler\n",
    "\n",
    "scaler = MinMaxScaler()\n",
    "\n",
    "# Transformar os dados\n",
    "scaled_train = scaler.fit_transform(train)\n",
    "scaled_test = scaler.transform(test)"
   ]
  },
  {
   "cell_type": "code",
   "execution_count": null,
   "metadata": {},
   "outputs": [
    {
     "data": {
      "text/plain": [
       "array([[0.        ],\n",
       "       [0.        ],\n",
       "       [0.        ],\n",
       "       [0.        ],\n",
       "       [0.        ],\n",
       "       [0.        ],\n",
       "       [0.        ],\n",
       "       [0.        ],\n",
       "       [0.        ],\n",
       "       [0.        ],\n",
       "       [0.        ],\n",
       "       [0.        ],\n",
       "       [0.        ],\n",
       "       [0.        ],\n",
       "       [0.        ],\n",
       "       [0.        ],\n",
       "       [0.        ],\n",
       "       [0.        ],\n",
       "       [0.        ],\n",
       "       [0.        ],\n",
       "       [0.0021978 ],\n",
       "       [0.0043956 ],\n",
       "       [0.0043956 ],\n",
       "       [0.00879121],\n",
       "       [0.01318681],\n",
       "       [0.01538462],\n",
       "       [0.01758242],\n",
       "       [0.02197802],\n",
       "       [0.01758242],\n",
       "       [0.02197802],\n",
       "       [0.02197802],\n",
       "       [0.03516484],\n",
       "       [0.03076923],\n",
       "       [0.03296703],\n",
       "       [0.05054945],\n",
       "       [0.06153846],\n",
       "       [0.05274725],\n",
       "       [0.06813187],\n",
       "       [0.09010989],\n",
       "       [0.03296703],\n",
       "       [0.06373626],\n",
       "       [0.14725275],\n",
       "       [0.12527473],\n",
       "       [0.14945055],\n",
       "       [0.0967033 ],\n",
       "       [0.04395604],\n",
       "       [0.06153846],\n",
       "       [0.04395604],\n",
       "       [0.19120879],\n",
       "       [0.18241758],\n",
       "       [0.16483516],\n",
       "       [0.16483516],\n",
       "       [0.13846154],\n",
       "       [0.05274725],\n",
       "       [0.04835165],\n",
       "       [0.12307692],\n",
       "       [0.09010989],\n",
       "       [0.46373626],\n",
       "       [0.36703297],\n",
       "       [0.34065934],\n",
       "       [0.07252747],\n",
       "       [0.27472527],\n",
       "       [0.49230769],\n",
       "       [0.43516484],\n",
       "       [0.28131868],\n",
       "       [0.2989011 ],\n",
       "       [0.16483516],\n",
       "       [0.09010989],\n",
       "       [0.05934066],\n",
       "       [0.43296703],\n",
       "       [0.42637363],\n",
       "       [0.35384615],\n",
       "       [0.46153846],\n",
       "       [0.42197802],\n",
       "       [0.22197802],\n",
       "       [0.07472527],\n",
       "       [0.45274725],\n",
       "       [0.37142857],\n",
       "       [0.43296703],\n",
       "       [0.40879121],\n",
       "       [0.41098901],\n",
       "       [0.20659341],\n",
       "       [0.09010989],\n",
       "       [0.71208791],\n",
       "       [0.47472527],\n",
       "       [0.42857143],\n",
       "       [0.47252747],\n",
       "       [0.5978022 ],\n",
       "       [0.25934066],\n",
       "       [0.12527473],\n",
       "       [0.44615385],\n",
       "       [0.63516484],\n",
       "       [0.58901099],\n",
       "       [0.64835165],\n",
       "       [0.56483516],\n",
       "       [0.18241758],\n",
       "       [0.11428571],\n",
       "       [0.71868132],\n",
       "       [0.61978022],\n",
       "       [0.62637363],\n",
       "       [0.61758242],\n",
       "       [0.47472527],\n",
       "       [0.19120879],\n",
       "       [0.09450549],\n",
       "       [0.73406593],\n",
       "       [0.74725275],\n",
       "       [0.62197802],\n",
       "       [0.49010989],\n",
       "       [0.46813187],\n",
       "       [0.24835165],\n",
       "       [0.16043956],\n",
       "       [0.8021978 ],\n",
       "       [0.85494505],\n",
       "       [0.71428571],\n",
       "       [0.84835165],\n",
       "       [0.57582418],\n",
       "       [0.20659341],\n",
       "       [0.1010989 ],\n",
       "       [0.95384615],\n",
       "       [0.62417582],\n",
       "       [0.89450549],\n",
       "       [0.45494505],\n",
       "       [0.65274725],\n",
       "       [0.16483516],\n",
       "       [0.13186813],\n",
       "       [0.8021978 ],\n",
       "       [0.58681319],\n",
       "       [0.70549451],\n",
       "       [0.75384615],\n",
       "       [0.66373626],\n",
       "       [0.18021978],\n",
       "       [0.12307692],\n",
       "       [0.74945055],\n",
       "       [0.68791209],\n",
       "       [0.72527473],\n",
       "       [0.71208791],\n",
       "       [0.57142857],\n",
       "       [0.32087912],\n",
       "       [0.12967033],\n",
       "       [0.91648352],\n",
       "       [0.69450549],\n",
       "       [0.87472527],\n",
       "       [0.74505495],\n",
       "       [0.59340659],\n",
       "       [0.18681319],\n",
       "       [0.12307692],\n",
       "       [0.84175824],\n",
       "       [0.79340659],\n",
       "       [0.7956044 ],\n",
       "       [0.68571429],\n",
       "       [0.68351648],\n",
       "       [0.1956044 ],\n",
       "       [0.15384615],\n",
       "       [0.84175824],\n",
       "       [0.72527473],\n",
       "       [0.70549451],\n",
       "       [0.63076923],\n",
       "       [0.52527473],\n",
       "       [0.17802198],\n",
       "       [0.10549451],\n",
       "       [0.74065934],\n",
       "       [0.89450549],\n",
       "       [0.74505495],\n",
       "       [0.63076923],\n",
       "       [0.61758242],\n",
       "       [0.21538462],\n",
       "       [0.08131868],\n",
       "       [0.92307692],\n",
       "       [0.65494505],\n",
       "       [1.        ],\n",
       "       [0.63516484],\n",
       "       [0.36703297],\n",
       "       [0.15824176],\n",
       "       [0.1032967 ],\n",
       "       [0.91428571],\n",
       "       [0.60659341],\n",
       "       [0.69010989],\n",
       "       [0.54945055],\n",
       "       [0.52087912],\n",
       "       [0.16483516],\n",
       "       [0.08351648],\n",
       "       [0.89450549],\n",
       "       [0.61978022],\n",
       "       [0.48571429],\n",
       "       [0.61318681],\n",
       "       [0.54945055],\n",
       "       [0.07472527],\n",
       "       [0.07912088],\n",
       "       [0.79340659],\n",
       "       [0.65494505],\n",
       "       [0.50989011],\n",
       "       [0.40879121],\n",
       "       [0.48791209],\n",
       "       [0.08791209],\n",
       "       [0.05274725],\n",
       "       [0.11648352],\n",
       "       [0.85934066],\n",
       "       [0.62197802],\n",
       "       [0.51428571],\n",
       "       [0.5032967 ],\n",
       "       [0.08571429],\n",
       "       [0.07912088],\n",
       "       [0.70549451],\n",
       "       [0.63736264],\n",
       "       [0.48131868],\n",
       "       [0.45274725],\n",
       "       [0.54725275],\n",
       "       [0.05494505],\n",
       "       [0.07032967],\n",
       "       [0.61978022],\n",
       "       [0.4967033 ],\n",
       "       [0.40659341],\n",
       "       [0.43956044],\n",
       "       [0.40879121],\n",
       "       [0.0989011 ],\n",
       "       [0.03736264],\n",
       "       [0.58461538],\n",
       "       [0.50769231],\n",
       "       [0.4       ],\n",
       "       [0.33406593],\n",
       "       [0.3956044 ],\n",
       "       [0.09230769],\n",
       "       [0.09230769],\n",
       "       [0.59340659],\n",
       "       [0.39340659],\n",
       "       [0.47252747],\n",
       "       [0.4043956 ],\n",
       "       [0.34065934],\n",
       "       [0.07252747],\n",
       "       [0.05054945],\n",
       "       [0.07692308],\n",
       "       [0.4989011 ],\n",
       "       [0.32747253],\n",
       "       [0.3956044 ],\n",
       "       [0.26813187],\n",
       "       [0.06153846],\n",
       "       [0.03296703],\n",
       "       [0.46373626],\n",
       "       [0.27472527],\n",
       "       [0.24395604],\n",
       "       [0.27692308],\n",
       "       [0.25934066],\n",
       "       [0.04615385],\n",
       "       [0.01318681],\n",
       "       [0.29010989],\n",
       "       [0.26813187],\n",
       "       [0.24615385],\n",
       "       [0.2989011 ],\n",
       "       [0.12307692],\n",
       "       [0.04395604],\n",
       "       [0.03296703],\n",
       "       [0.03956044],\n",
       "       [0.40659341],\n",
       "       [0.36923077],\n",
       "       [0.        ],\n",
       "       [0.        ],\n",
       "       [0.        ],\n",
       "       [0.        ],\n",
       "       [0.        ],\n",
       "       [0.41758242],\n",
       "       [0.64835165],\n",
       "       [0.        ],\n",
       "       [0.76263736],\n",
       "       [0.03296703],\n",
       "       [0.02637363],\n",
       "       [0.38021978],\n",
       "       [0.39120879],\n",
       "       [0.32307692],\n",
       "       [0.23076923],\n",
       "       [0.16923077],\n",
       "       [0.02417582],\n",
       "       [0.01978022],\n",
       "       [0.39340659],\n",
       "       [0.32087912],\n",
       "       [0.37802198],\n",
       "       [0.28351648],\n",
       "       [0.32087912],\n",
       "       [0.06153846],\n",
       "       [0.04175824],\n",
       "       [0.42857143],\n",
       "       [0.36483516],\n",
       "       [0.3978022 ],\n",
       "       [0.33186813],\n",
       "       [0.3978022 ],\n",
       "       [0.1010989 ],\n",
       "       [0.05494505],\n",
       "       [0.53186813],\n",
       "       [0.39340659]])"
      ]
     },
     "execution_count": 29,
     "metadata": {},
     "output_type": "execute_result"
    }
   ],
   "source": [
    "scaled_train"
   ]
  },
  {
   "cell_type": "code",
   "execution_count": null,
   "metadata": {},
   "outputs": [],
   "source": [
    "# Gerar os pacotes ou lotes (ou batch)\n",
    "from tensorflow.keras.preprocessing.sequence import TimeseriesGenerator"
   ]
  },
  {
   "cell_type": "code",
   "execution_count": null,
   "metadata": {},
   "outputs": [],
   "source": [
    "# Parâmetros dos pacotes\n",
    "n_input = 7\n",
    "n_features = 1\n",
    "\n",
    "# Definindo o generator\n",
    "\n",
    "generator = TimeseriesGenerator(scaled_train,\n",
    "                                scaled_train,\n",
    "                                length = n_input,\n",
    "                                batch_size = 2)"
   ]
  },
  {
   "cell_type": "code",
   "execution_count": null,
   "metadata": {},
   "outputs": [],
   "source": [
    "X, y = generator[0]"
   ]
  },
  {
   "cell_type": "code",
   "execution_count": null,
   "metadata": {},
   "outputs": [
    {
     "name": "stdout",
     "output_type": "stream",
     "text": [
      "Dados esperados por lote e previsão\n",
      "Primeiro lote: \n",
      " [0. 0. 0. 0. 0. 0. 0. 0. 0. 0. 0. 0. 0. 0.]\n",
      "Previsão: [[0.]\n",
      " [0.]]\n"
     ]
    }
   ],
   "source": [
    "print('Dados esperados por lote e previsão')\n",
    "print(f'Primeiro lote: \\n {X.flatten()}')\n",
    "print(f'Previsão: {y}')"
   ]
  },
  {
   "cell_type": "code",
   "execution_count": null,
   "metadata": {},
   "outputs": [],
   "source": [
    "from tensorflow.keras.models import Sequential\n",
    "from tensorflow.keras.layers import Dense, LSTM"
   ]
  },
  {
   "cell_type": "code",
   "execution_count": null,
   "metadata": {},
   "outputs": [],
   "source": []
  },
  {
   "cell_type": "code",
   "execution_count": null,
   "metadata": {},
   "outputs": [
    {
     "ename": "TypeError",
     "evalue": "Invalid keyword argument(s) in `compile()`: ({'optimize'},). Valid keyword arguments include \"cloning\", \"experimental_run_tf_function\", \"distribute\", \"target_tensors\", or \"sample_weight_mode\".",
     "output_type": "error",
     "traceback": [
      "\u001b[0;31m---------------------------------------------------------------------------\u001b[0m",
      "\u001b[0;31mTypeError\u001b[0m                                 Traceback (most recent call last)",
      "\u001b[1;32m/home/Faaeel06/Documentos/GitHub/Lets_Code/Data Science Degree/Modulo_14/Aula_06/06 - RNNs.ipynb Cell 56\u001b[0m in \u001b[0;36m<cell line: 1>\u001b[0;34m()\u001b[0m\n\u001b[0;32m----> <a href='vscode-notebook-cell:/home/Faaeel06/Documentos/GitHub/Lets_Code/Data%20Science%20Degree/Modulo_14/Aula_06/06%20-%20RNNs.ipynb#Y112sZmlsZQ%3D%3D?line=0'>1</a>\u001b[0m model\u001b[39m.\u001b[39;49mcompile(optimize \u001b[39m=\u001b[39;49m \u001b[39m'\u001b[39;49m\u001b[39madam\u001b[39;49m\u001b[39m'\u001b[39;49m, loss\u001b[39m=\u001b[39;49m\u001b[39m'\u001b[39;49m\u001b[39mmse\u001b[39;49m\u001b[39m'\u001b[39;49m)\n",
      "File \u001b[0;32m~/.local/lib/python3.9/site-packages/keras/utils/traceback_utils.py:70\u001b[0m, in \u001b[0;36mfilter_traceback.<locals>.error_handler\u001b[0;34m(*args, **kwargs)\u001b[0m\n\u001b[1;32m     67\u001b[0m     filtered_tb \u001b[39m=\u001b[39m _process_traceback_frames(e\u001b[39m.\u001b[39m__traceback__)\n\u001b[1;32m     68\u001b[0m     \u001b[39m# To get the full stack trace, call:\u001b[39;00m\n\u001b[1;32m     69\u001b[0m     \u001b[39m# `tf.debugging.disable_traceback_filtering()`\u001b[39;00m\n\u001b[0;32m---> 70\u001b[0m     \u001b[39mraise\u001b[39;00m e\u001b[39m.\u001b[39mwith_traceback(filtered_tb) \u001b[39mfrom\u001b[39;00m \u001b[39mNone\u001b[39m\n\u001b[1;32m     71\u001b[0m \u001b[39mfinally\u001b[39;00m:\n\u001b[1;32m     72\u001b[0m     \u001b[39mdel\u001b[39;00m filtered_tb\n",
      "File \u001b[0;32m~/.local/lib/python3.9/site-packages/keras/engine/training.py:3524\u001b[0m, in \u001b[0;36mModel._validate_compile\u001b[0;34m(self, optimizer, metrics, **kwargs)\u001b[0m\n\u001b[1;32m   3522\u001b[0m invalid_kwargs \u001b[39m=\u001b[39m \u001b[39mset\u001b[39m(kwargs) \u001b[39m-\u001b[39m {\u001b[39m\"\u001b[39m\u001b[39msample_weight_mode\u001b[39m\u001b[39m\"\u001b[39m}\n\u001b[1;32m   3523\u001b[0m \u001b[39mif\u001b[39;00m invalid_kwargs:\n\u001b[0;32m-> 3524\u001b[0m     \u001b[39mraise\u001b[39;00m \u001b[39mTypeError\u001b[39;00m(\n\u001b[1;32m   3525\u001b[0m         \u001b[39m\"\u001b[39m\u001b[39mInvalid keyword argument(s) in `compile()`: \u001b[39m\u001b[39m\"\u001b[39m\n\u001b[1;32m   3526\u001b[0m         \u001b[39mf\u001b[39m\u001b[39m\"\u001b[39m\u001b[39m{\u001b[39;00m(invalid_kwargs,)\u001b[39m}\u001b[39;00m\u001b[39m. Valid keyword arguments include \u001b[39m\u001b[39m\"\u001b[39m\n\u001b[1;32m   3527\u001b[0m         \u001b[39m'\u001b[39m\u001b[39m\"\u001b[39m\u001b[39mcloning\u001b[39m\u001b[39m\"\u001b[39m\u001b[39m, \u001b[39m\u001b[39m\"\u001b[39m\u001b[39mexperimental_run_tf_function\u001b[39m\u001b[39m\"\u001b[39m\u001b[39m, \u001b[39m\u001b[39m\"\u001b[39m\u001b[39mdistribute\u001b[39m\u001b[39m\"\u001b[39m\u001b[39m,\u001b[39m\u001b[39m'\u001b[39m\n\u001b[1;32m   3528\u001b[0m         \u001b[39m'\u001b[39m\u001b[39m \u001b[39m\u001b[39m\"\u001b[39m\u001b[39mtarget_tensors\u001b[39m\u001b[39m\"\u001b[39m\u001b[39m, or \u001b[39m\u001b[39m\"\u001b[39m\u001b[39msample_weight_mode\u001b[39m\u001b[39m\"\u001b[39m\u001b[39m.\u001b[39m\u001b[39m'\u001b[39m\n\u001b[1;32m   3529\u001b[0m     )\n\u001b[1;32m   3531\u001b[0m \u001b[39m# Model must be created and compiled with the same DistStrat.\u001b[39;00m\n\u001b[1;32m   3532\u001b[0m \u001b[39mif\u001b[39;00m \u001b[39mself\u001b[39m\u001b[39m.\u001b[39mbuilt \u001b[39mand\u001b[39;00m tf\u001b[39m.\u001b[39mdistribute\u001b[39m.\u001b[39mhas_strategy():\n",
      "\u001b[0;31mTypeError\u001b[0m: Invalid keyword argument(s) in `compile()`: ({'optimize'},). Valid keyword arguments include \"cloning\", \"experimental_run_tf_function\", \"distribute\", \"target_tensors\", or \"sample_weight_mode\"."
     ]
    }
   ],
   "source": [
    "model.compile(optimize = 'adam', loss='mse')"
   ]
  },
  {
   "cell_type": "code",
   "execution_count": null,
   "metadata": {},
   "outputs": [],
   "source": []
  }
 ],
 "metadata": {
  "colab": {
   "collapsed_sections": [
    "AY3B0O_GqjPk"
   ],
   "provenance": []
  },
  "kernelspec": {
   "display_name": "Python 3.9.2 64-bit",
   "language": "python",
   "name": "python3"
  },
  "language_info": {
   "codemirror_mode": {
    "name": "ipython",
    "version": 3
   },
   "file_extension": ".py",
   "mimetype": "text/x-python",
   "name": "python",
   "nbconvert_exporter": "python",
   "pygments_lexer": "ipython3",
   "version": "3.9.2"
  },
  "vscode": {
   "interpreter": {
    "hash": "31f2aee4e71d21fbe5cf8b01ff0e069b9275f58929596ceb00d14d90e3e16cd6"
   }
  }
 },
 "nbformat": 4,
 "nbformat_minor": 1
}
