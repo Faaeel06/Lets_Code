{
 "cells": [
  {
   "cell_type": "markdown",
   "metadata": {},
   "source": [
    "# Redes Neurais\n",
    "\n",
    "Na aula de hoje, vamos explorar os seguintes tópicos em Python:\n",
    "\n",
    "- TensorFlow e Keras;\n",
    "- MLP;\n",
    "- Treinando uma Rede Neural;\n",
    "- MNIST;\n",
    "- Exercícios"
   ]
  },
  {
   "cell_type": "markdown",
   "metadata": {},
   "source": [
    "##   "
   ]
  },
  {
   "cell_type": "markdown",
   "metadata": {},
   "source": [
    "## TensorFlow e Keras"
   ]
  },
  {
   "cell_type": "markdown",
   "metadata": {},
   "source": [
    "Hoje vamos trabalhar com __as principais bibliotecas de redes neurais__, sendo a principal delas desenvolvida para Python, o [__TensorFlow__](https://www.tensorflow.org/).<br>\n",
    " <br>\n",
    "<img src=\"https://www.ambientelivre.com.br/images/logos_open_source/tensorflow_logo.png\" width=500>\n",
    " <br>\n",
    "O __TensorFlow__ é um __framework extremamente poderoso__, mas que apresenta uma __sintaxe consideravelmeente complicada__. Para facilitar a vida e descomplicar Redes Neurais, que surgiu uma outra biblioteca construída encima do TensorFlow, conhecida como [__Keras__](https://keras.io/) <br>\n",
    " <br>\n",
    " <img src=\"https://www.pyimagesearch.com/wp-content/uploads/2020/02/keras_autoencoders_header.png\" width=500>\n",
    " <br>\n",
    "Diferente com o que estamos acostumados do _SciKit-Learn_, o __Keras__ é focada exclusivamente em Redes Neurais, oferencendo implementação de funções de alto nível, construindo essas redes de forma prática e simples!<br><br>\n",
    " \n",
    "Claro que infelizmente até o __Keras__ têm suas limitações, quando precisar de modificações muito especificas, pode ser precise recorrer ao __TensorFlow__, apesar do __Keras__ possuir a __maioria das principais arquiteturas__ de Redes Neurais do __TensorFLow__ completamente integradas. \n",
    "<br><br>\n",
    "Para instalar tanto o __TensorFlow__ quanto o __Keras__ basta seguir o código abaixo:"
   ]
  },
  {
   "cell_type": "code",
   "execution_count": 1,
   "metadata": {},
   "outputs": [],
   "source": [
    "# Instalando as Bibliotecas\n",
    "#!pip install tensorflow\n",
    "#!pip install keras"
   ]
  },
  {
   "cell_type": "markdown",
   "metadata": {},
   "source": [
    "## "
   ]
  },
  {
   "cell_type": "markdown",
   "metadata": {},
   "source": [
    "## Multi Layer Perceptron (MLP)"
   ]
  },
  {
   "cell_type": "markdown",
   "metadata": {},
   "source": [
    "Vimos na aula anterior a respeito do _Perceptron_, onde montamos uma rede neural a partir de um neurônio. É importante o conceito do _Perceptron_ para justamente entender o que existe por trás das redes neurais mais complexas.\n",
    "\n",
    "As redes __Multi Layer Perceptron__ (pela sigla MLP) soa todos tipos de redes onde temos __diversas camadas de neurônios totalmente conectada__.\n",
    "\n",
    "<br>\n",
    "\n",
    "<img src=\"https://miro.medium.com/max/1400/1*piYTTh83qsQJVUMOZKmN5w.png\" width= 600>\n",
    "\n",
    "<br>\n",
    "\n",
    "Conhecido já os principais conceitos por trás das redes neurais e agora fazendo a abstração para redes mais complexas, vamos treinar uma rede agora baseado no _MLP_."
   ]
  },
  {
   "cell_type": "markdown",
   "metadata": {},
   "source": [
    "##   "
   ]
  },
  {
   "cell_type": "markdown",
   "metadata": {},
   "source": [
    "## Treinando uma Rede Neural"
   ]
  },
  {
   "cell_type": "markdown",
   "metadata": {},
   "source": [
    "A \"aprendizagem\" da Rede Neural a partir dos dados se dá através de duas etapas, o **Forward Propagation** e o **Backward Propagation**.\n",
    "\n",
    "### Forward Propagation\n",
    "\n",
    "No __Forward Propagation__, a informação propaga na direção habitual (da esquerda para direita) na rede neural: features são lidas na camada de input, passam pelo processamento nas camadas ocultas, e a resposta (target) é predita na camada de output. \n",
    "\n",
    "Para que a predição seja realizada, os neurônios nas camadas ocultas realizam as seguintes duas etapas de cálculo:\n",
    "\n",
    "- Uma combinação linear entre o output (que denotamos pela letra **a**) da camada enterior e os pesos da camada atual. Isto é, se tivermos n ligações. a combinação linear é:\n",
    "\n",
    "![](https://latex.codecogs.com/gif.latex?z%5E%7Batual%7D%20%3D%20W_0%5E%7Batual%7D%20&plus;%20%5Cleft%20%28%20W_1%5E%7Batual%7D%5Ctimes%20a_1%5E%7Banterior%7D%20%5Cright%29%20&plus;%20%5Cleft%28%20W_2%5E%7Batual%7D%20%5Ctimes%20a_2%5E%7Banterior%7D%20%5Cright%20%29%20&plus;%20%5Ccdots%20&plus;%20%5Cleft%20%28%20W_n%5E%7Batual%7D%20%5Ctimes%20a_n%5E%7Banterior%7D%20%5Cright%29)\n",
    "\n",
    "- Aplica-se uma __função de ativação não-linear__ à combinação linear acima. As principais funções de ativação utilizadas são:\n",
    "<br><br>\n",
    "\n",
    "<img src=\"https://cdn-images-1.medium.com/max/1000/1*4ZEDRpFuCIpUjNgjDdT2Lg.png\n",
    "\" width=\"800\" />\n",
    "\n",
    "O cálculo realizado por um único neurônio é bem parecido com um **perceptron**, ilustrado a seguir:\n",
    "<br>\n",
    "\n",
    "<img src=\"https://img2.gratispng.com/20180619/oav/kisspng-multilayer-perceptron-machine-learning-statistical-5b2996bdb9dcd2.4724873615294522217613.jpg\" width=\"400\" />\n",
    "<br>\n",
    "\n",
    "A escolha das funções de ativação também pode ser variável, mas costuma-se utilizar:\n",
    "\n",
    "- **ReLu** nas camadas ocultas;\n",
    "- **Sigmoid** (para problemas de classificação binários) ou **Softmax** (para probelams de classificação multiclasse) na camada de output.\n",
    "\n",
    "\n",
    "Ao fim do __Forward Propagation__, na camada de output, calculamos a **Função de Perda**, que quantifica qual a **diferença entre as predições feitas pela rede neural e os valores reais do target dos dados**. Cada tipo de problema tem uma função de perda própria.\n",
    "<br><br>\n",
    "\n",
    "Queremos que as predições sejam sempre o mais próximas o possível dos valores reais. Então, o que fazemos é **minimizar** a função de perda. \n",
    "\n",
    "\n",
    "### Backward Propagation\n",
    "\n",
    "Isto é feito ao propagarmos a informação na direção contrária (da direita para esquerda) na rede neural, o que caracteriza o chamado __Backward Propagation__. \n",
    "\n",
    "Para minimizar a função de perda, utilizamos um **Otimizador**, que são objetos que representam o procedimento matemático de minimização da função de perda. Os principais otimizadores utilizados são: __gradiente descendente (GD)__, **Adam** e **RMSProp**.\n",
    "\n",
    "Este processo de __Forward e Backward Propagation__ é feito iterativamente, ou seja por diversas vezes no desenvolvimento do modelo. Cada rodada é chamada de __época__ (**epoch**).\n",
    "\n",
    "O objetivo do Backward Propagation é **determinar os Pesos que miminizem a Função de Perda.** A cada epoch, os pesos são **atualizados**, de modo que a função de perda é sempre reduzida em direção ao seu mínimo!\n",
    "\n",
    "Para quem quiser saber mais, segue uma sugestão de leitura adicional: [Neural Networks Explained](https://medium.com/datadriveninvestor/neural-networks-explained-6e21c70d7818)\n",
    "\n",
    "Vamos agora ao nosso exemplo prático: construiremos nossa própria rede neural!"
   ]
  },
  {
   "cell_type": "markdown",
   "metadata": {},
   "source": [
    "##   "
   ]
  },
  {
   "cell_type": "markdown",
   "metadata": {},
   "source": [
    "## 5) O exemplo clássico: MNIST\n",
    "\n",
    "Neste exemplo, usaremos o **[MNIST](https://www.kaggle.com/c/digit-recognizer/data)**, o famoso dataset de dígitos (números de 0 a 9) escritos à mão, onde vocês podem conhecer mais a respeito neste [link](http://yann.lecun.com/exdb/mnist/)\n",
    "\n",
    "<br><br>\n",
    "<img src=\"https://i2.wp.com/syncedreview.com/wp-content/uploads/2019/06/MNIST.png?fit=530%2C297&ssl=1\" width=700>\n",
    "\n",
    "<br><br>\n",
    "O objetivo do nosso modelo será o de **classificar digítos, com base em imagens**. Assim sendo, temos um **problema de classificação multiclasse** (pois os dados serão classificados em uma dentre 10 classes possíveis, de 0 a 9)."
   ]
  },
  {
   "cell_type": "code",
   "execution_count": 2,
   "metadata": {},
   "outputs": [],
   "source": [
    "# importe as bibliotecas padrões\n",
    "import numpy as np\n",
    "import pandas as pd\n",
    "import matplotlib.pyplot as plt\n",
    "import seaborn as sns"
   ]
  },
  {
   "cell_type": "markdown",
   "metadata": {},
   "source": [
    "__Algumas observações sobre a base :__\n",
    "\n",
    "- A base do MNIST é composta por imagens de números manuscritos, onde cada imagem é uma **matriz 28 x 28**, contendo assim **784 pixels**; \n",
    "\n",
    "- As imagens estão em escala de cinza, na qual cada pixel pode variar de **0 a 255**, e foram centralizadas, de forma que o número não fique \"cortado\" por estar na borda;\n",
    "\n",
    "- A base está dividida em 60 mil casos para treino e 10 mil casos para teste;\n",
    "\n",
    "\n",
    "Na função ``carrega_mnist()``, o objetivo é ler a base e retornar dois numpy arrays (a = 60000 ou a = 10000, a depender do tipo): \n",
    "\n",
    "- o primeiro da forma (a, 784), que são os 784 pixels da imagem organizados de forma sequencial;\n",
    "- o segundo da forma (a, 1), que é o identificador (label) da imagem, sendo um número que varia de 0 a 9.\n"
   ]
  },
  {
   "cell_type": "code",
   "execution_count": 3,
   "metadata": {},
   "outputs": [],
   "source": [
    "# Função essencial para ler a base do MNIST\n",
    "import os\n",
    "import gzip\n",
    "\n",
    "def carrega_mnist(caminho, tipo = 'train'):\n",
    "    label_caminho = os.path.join(caminho, '%s-labels-idx1-ubyte.gz' % tipo)\n",
    "    imagens_caminho = os.path.join(caminho, '%s-images-idx3-ubyte.gz' % tipo)\n",
    "        \n",
    "    with gzip.open(label_caminho, 'rb') as lbpath:\n",
    "        lbpath.read(8)\n",
    "        buffer = lbpath.read()\n",
    "        labels = np.frombuffer(buffer, dtype=np.uint8)\n",
    "\n",
    "    with gzip.open(imagens_caminho, 'rb') as imgpath:\n",
    "        imgpath.read(16)\n",
    "        buffer = imgpath.read()\n",
    "        imagens = np.frombuffer(buffer, \n",
    "                               dtype=np.uint8).reshape(\n",
    "            len(labels), 784).astype(np.float64)\n",
    " \n",
    "    return imagens, labels\n",
    "\n",
    "X_train, y_train = carrega_mnist('')\n",
    "X_test, y_test = carrega_mnist('', \"t10k\")"
   ]
  },
  {
   "cell_type": "code",
   "execution_count": 4,
   "metadata": {},
   "outputs": [
    {
     "name": "stdout",
     "output_type": "stream",
     "text": [
      "(60000, 784) (60000,)\n"
     ]
    }
   ],
   "source": [
    "print(X_train.shape, y_train.shape)"
   ]
  },
  {
   "cell_type": "code",
   "execution_count": 5,
   "metadata": {},
   "outputs": [
    {
     "name": "stdout",
     "output_type": "stream",
     "text": [
      "(10000, 784) (10000,)\n"
     ]
    }
   ],
   "source": [
    "print(X_test.shape, y_test.shape)"
   ]
  },
  {
   "cell_type": "markdown",
   "metadata": {},
   "source": [
    "Fazendo uma visualização do Dataset:"
   ]
  },
  {
   "cell_type": "code",
   "execution_count": 6,
   "metadata": {},
   "outputs": [],
   "source": [
    "# uma imagem qualquer do dataset de treino\n",
    "\n",
    "idx = 32\n",
    "features = X_train[idx]\n",
    "target = y_train[idx]"
   ]
  },
  {
   "cell_type": "code",
   "execution_count": 7,
   "metadata": {},
   "outputs": [
    {
     "data": {
      "text/plain": [
       "array([  0.,   0.,   0.,   0.,   0.,   0.,   0.,   0.,   0.,   0.,   0.,\n",
       "         0.,   0.,   0.,   0.,   0.,   0.,   0.,   0.,   0.,   0.,   0.,\n",
       "         0.,   0.,   0.,   0.,   0.,   0.,   0.,   0.,   0.,   0.,   0.,\n",
       "         0.,   0.,   0.,   0.,   0.,   0.,   0.,   0.,   0.,   0.,   0.,\n",
       "         0.,   0.,   0.,   0.,   0.,   0.,   0.,   0.,   0.,   0.,   0.,\n",
       "         0.,   0.,   0.,   0.,   0.,   0.,   0.,   0.,   0.,   0.,   0.,\n",
       "         0.,   0.,   0.,   0.,   0., 132., 255., 225.,  12.,   0.,   0.,\n",
       "         0.,   0.,   0.,   0.,   0.,   0.,   0.,   0.,   0.,   0.,   0.,\n",
       "         0.,   0.,   0.,   0.,   0.,   0.,   0.,   0.,   0.,   3., 128.,\n",
       "       246., 183., 128.,  46.,   0.,   0.,   0.,   0.,   0.,   0.,   0.,\n",
       "         0.,   0.,   0.,   0.,   0.,   0.,   0.,   0.,   0.,   0.,   0.,\n",
       "         0.,   0.,   0.,   0.,  91., 254., 134.,   0.,   0.,   0.,   0.,\n",
       "         0.,   0.,   0.,   0.,   0.,   0.,   0.,   0.,   0.,   0.,   0.,\n",
       "         0.,   0.,   0.,   0.,   0.,   0.,   0.,   0.,   0.,  54., 235.,\n",
       "       204.,   7.,   0.,   0.,   0.,   0.,   0.,   0.,   0.,   0.,   0.,\n",
       "         0.,   0.,   0.,   0.,   0.,   0.,   0.,   0.,   0.,   0.,   0.,\n",
       "         0.,   0.,   0.,   0., 158., 252., 120.,   0.,   0.,   0.,   0.,\n",
       "         0.,   0.,   0.,   0.,   0.,   0.,   0.,   0.,   0.,   0.,   0.,\n",
       "         0.,   0.,   0.,   0.,   0.,   0.,   0.,   0.,   0.,  63., 251.,\n",
       "       165.,   0.,   0.,   0.,   0.,   0.,   0.,   0.,   0.,   0.,   0.,\n",
       "         0.,   0.,   0.,   0.,   0.,   0.,   0.,   0.,   0.,   0.,   0.,\n",
       "         0.,   0.,   0.,   0., 107., 254., 138.,   0.,   0.,   0.,   0.,\n",
       "         0.,   0.,   0.,   0.,   0.,   0.,   0.,   0.,   0.,   0.,   0.,\n",
       "         0.,   0.,   0.,   0.,   0.,   0.,   0.,   0.,   0.,   0., 182.,\n",
       "       229.,  40.,   0.,   0.,   0.,   0.,   0.,   0.,   0.,   0.,   0.,\n",
       "         0.,   0.,   0.,   0.,   0.,   0.,   0.,   0.,   0.,   0.,   0.,\n",
       "         0.,   0.,   0.,   0.,  17., 232., 133.,   0.,   0.,   0.,   0.,\n",
       "         0.,   0.,   0.,   0.,   0.,   0.,   0.,   0.,   0.,   0.,   0.,\n",
       "         0.,   0.,   0.,   0.,   0.,   0.,   0.,   0.,   0.,   0., 133.,\n",
       "       254., 105.,   0.,   0.,   0.,   0.,   0.,   0.,   0.,   0.,   0.,\n",
       "         0.,   0.,   0.,   0.,   0.,   0.,   0.,   0.,   0.,   0.,   0.,\n",
       "         0.,   0.,   0.,   0.,   0., 216., 254.,  27.,   0.,   0.,   0.,\n",
       "         0.,   0.,   0.,   0.,   0.,   0.,   0.,   0.,   0.,   0.,   0.,\n",
       "         0.,   0.,   0.,   0.,   0.,   0.,   0.,   0.,   0.,   0.,  18.,\n",
       "       227., 194.,   3.,   0.,   0.,   0.,   0.,   0.,   0.,  30.,   0.,\n",
       "         0.,   0.,   0.,   0.,   0.,   0.,   0.,   0.,   0.,   0.,   0.,\n",
       "         0.,   0.,   0.,   0.,   0.,  58., 254., 115.,   0.,   0.,   0.,\n",
       "         0.,  25., 139., 155., 242., 235., 128.,   0.,   0.,   0.,   0.,\n",
       "         0.,   0.,   0.,   0.,   0.,   0.,   0.,   0.,   0.,   0.,   0.,\n",
       "        58., 254.,  75.,   0.,   0.,   0.,  83., 224., 251., 155., 152.,\n",
       "       254., 211.,   0.,   0.,   0.,   0.,   0.,   0.,   0.,   0.,   0.,\n",
       "         0.,   0.,   0.,   0.,   0.,   0.,  58., 254., 104.,   0.,   0.,\n",
       "        82., 249., 217.,  60.,   0.,  37., 254., 120.,   0.,   0.,   0.,\n",
       "         0.,   0.,   0.,   0.,   0.,   0.,   0.,   0.,   0.,   0.,   0.,\n",
       "         0.,  58., 254.,  72.,   0.,  18., 247., 159.,  14.,   0.,   7.,\n",
       "       201., 254.,  69.,   0.,   0.,   0.,   0.,   0.,   0.,   0.,   0.,\n",
       "         0.,   0.,   0.,   0.,   0.,   0.,   0.,  35., 239., 147.,   1.,\n",
       "         5., 155.,  72.,   0.,   4., 193., 253., 122.,   6.,   0.,   0.,\n",
       "         0.,   0.,   0.,   0.,   0.,   0.,   0.,   0.,   0.,   0.,   0.,\n",
       "         0.,   0.,   0., 216., 254.,  97.,   0.,   0.,  13.,  73., 225.,\n",
       "       254., 121.,   0.,   0.,   0.,   0.,   0.,   0.,   0.,   0.,   0.,\n",
       "         0.,   0.,   0.,   0.,   0.,   0.,   0.,   0.,   0.,  79., 244.,\n",
       "       248., 226., 226., 231., 254., 243., 115.,   6.,   0.,   0.,   0.,\n",
       "         0.,   0.,   0.,   0.,   0.,   0.,   0.,   0.,   0.,   0.,   0.,\n",
       "         0.,   0.,   0.,   0.,   0., 114., 177., 254., 254., 235., 152.,\n",
       "        43.,   0.,   0.,   0.,   0.,   0.,   0.,   0.,   0.,   0.,   0.,\n",
       "         0.,   0.,   0.,   0.,   0.,   0.,   0.,   0.,   0.,   0.,   0.,\n",
       "         0.,   0.,   0.,   0.,   0.,   0.,   0.,   0.,   0.,   0.,   0.,\n",
       "         0.,   0.,   0.,   0.,   0.,   0.,   0.,   0.,   0.,   0.,   0.,\n",
       "         0.,   0.,   0.,   0.,   0.,   0.,   0.,   0.,   0.,   0.,   0.,\n",
       "         0.,   0.,   0.,   0.,   0.,   0.,   0.,   0.,   0.,   0.,   0.,\n",
       "         0.,   0.,   0.,   0.,   0.,   0.,   0.,   0.,   0.,   0.,   0.,\n",
       "         0.,   0.,   0.,   0.,   0.,   0.,   0.,   0.,   0.,   0.,   0.,\n",
       "         0.,   0.,   0.,   0.,   0.,   0.,   0.,   0.,   0.,   0.,   0.,\n",
       "         0.,   0.,   0.,   0.,   0.,   0.,   0.,   0.,   0.,   0.,   0.,\n",
       "         0.,   0.,   0.,   0.,   0.,   0.,   0.,   0.,   0.,   0.,   0.,\n",
       "         0.,   0.,   0.,   0.,   0.,   0.,   0.,   0.,   0.,   0.,   0.,\n",
       "         0.,   0.,   0.,   0.,   0.,   0.,   0.,   0.,   0.,   0.,   0.,\n",
       "         0.,   0.,   0.,   0.,   0.,   0.,   0.,   0.,   0.,   0.,   0.,\n",
       "         0.,   0.,   0.,   0.,   0.,   0.,   0.,   0.,   0.,   0.,   0.,\n",
       "         0.,   0.,   0.,   0.,   0.,   0.,   0.,   0.,   0.,   0.,   0.,\n",
       "         0.,   0.,   0.])"
      ]
     },
     "execution_count": 7,
     "metadata": {},
     "output_type": "execute_result"
    }
   ],
   "source": [
    "features"
   ]
  },
  {
   "cell_type": "code",
   "execution_count": 8,
   "metadata": {
    "scrolled": false
   },
   "outputs": [
    {
     "data": {
      "text/plain": [
       "array([[  0.,   0.,   0.,   0.,   0.,   0.,   0.,   0.,   0.,   0.,   0.,\n",
       "          0.,   0.,   0.,   0.,   0.,   0.,   0.,   0.,   0.,   0.,   0.,\n",
       "          0.,   0.,   0.,   0.,   0.,   0.],\n",
       "       [  0.,   0.,   0.,   0.,   0.,   0.,   0.,   0.,   0.,   0.,   0.,\n",
       "          0.,   0.,   0.,   0.,   0.,   0.,   0.,   0.,   0.,   0.,   0.,\n",
       "          0.,   0.,   0.,   0.,   0.,   0.],\n",
       "       [  0.,   0.,   0.,   0.,   0.,   0.,   0.,   0.,   0.,   0.,   0.,\n",
       "          0.,   0.,   0.,   0., 132., 255., 225.,  12.,   0.,   0.,   0.,\n",
       "          0.,   0.,   0.,   0.,   0.,   0.],\n",
       "       [  0.,   0.,   0.,   0.,   0.,   0.,   0.,   0.,   0.,   0.,   0.,\n",
       "          0.,   0.,   3., 128., 246., 183., 128.,  46.,   0.,   0.,   0.,\n",
       "          0.,   0.,   0.,   0.,   0.,   0.],\n",
       "       [  0.,   0.,   0.,   0.,   0.,   0.,   0.,   0.,   0.,   0.,   0.,\n",
       "          0.,   0.,  91., 254., 134.,   0.,   0.,   0.,   0.,   0.,   0.,\n",
       "          0.,   0.,   0.,   0.,   0.,   0.],\n",
       "       [  0.,   0.,   0.,   0.,   0.,   0.,   0.,   0.,   0.,   0.,   0.,\n",
       "          0.,  54., 235., 204.,   7.,   0.,   0.,   0.,   0.,   0.,   0.,\n",
       "          0.,   0.,   0.,   0.,   0.,   0.],\n",
       "       [  0.,   0.,   0.,   0.,   0.,   0.,   0.,   0.,   0.,   0.,   0.,\n",
       "          0., 158., 252., 120.,   0.,   0.,   0.,   0.,   0.,   0.,   0.,\n",
       "          0.,   0.,   0.,   0.,   0.,   0.],\n",
       "       [  0.,   0.,   0.,   0.,   0.,   0.,   0.,   0.,   0.,   0.,   0.,\n",
       "         63., 251., 165.,   0.,   0.,   0.,   0.,   0.,   0.,   0.,   0.,\n",
       "          0.,   0.,   0.,   0.,   0.,   0.],\n",
       "       [  0.,   0.,   0.,   0.,   0.,   0.,   0.,   0.,   0.,   0.,   0.,\n",
       "        107., 254., 138.,   0.,   0.,   0.,   0.,   0.,   0.,   0.,   0.,\n",
       "          0.,   0.,   0.,   0.,   0.,   0.],\n",
       "       [  0.,   0.,   0.,   0.,   0.,   0.,   0.,   0.,   0.,   0.,   0.,\n",
       "        182., 229.,  40.,   0.,   0.,   0.,   0.,   0.,   0.,   0.,   0.,\n",
       "          0.,   0.,   0.,   0.,   0.,   0.],\n",
       "       [  0.,   0.,   0.,   0.,   0.,   0.,   0.,   0.,   0.,   0.,  17.,\n",
       "        232., 133.,   0.,   0.,   0.,   0.,   0.,   0.,   0.,   0.,   0.,\n",
       "          0.,   0.,   0.,   0.,   0.,   0.],\n",
       "       [  0.,   0.,   0.,   0.,   0.,   0.,   0.,   0.,   0.,   0., 133.,\n",
       "        254., 105.,   0.,   0.,   0.,   0.,   0.,   0.,   0.,   0.,   0.,\n",
       "          0.,   0.,   0.,   0.,   0.,   0.],\n",
       "       [  0.,   0.,   0.,   0.,   0.,   0.,   0.,   0.,   0.,   0., 216.,\n",
       "        254.,  27.,   0.,   0.,   0.,   0.,   0.,   0.,   0.,   0.,   0.,\n",
       "          0.,   0.,   0.,   0.,   0.,   0.],\n",
       "       [  0.,   0.,   0.,   0.,   0.,   0.,   0.,   0.,   0.,  18., 227.,\n",
       "        194.,   3.,   0.,   0.,   0.,   0.,   0.,   0.,  30.,   0.,   0.,\n",
       "          0.,   0.,   0.,   0.,   0.,   0.],\n",
       "       [  0.,   0.,   0.,   0.,   0.,   0.,   0.,   0.,   0.,  58., 254.,\n",
       "        115.,   0.,   0.,   0.,   0.,  25., 139., 155., 242., 235., 128.,\n",
       "          0.,   0.,   0.,   0.,   0.,   0.],\n",
       "       [  0.,   0.,   0.,   0.,   0.,   0.,   0.,   0.,   0.,  58., 254.,\n",
       "         75.,   0.,   0.,   0.,  83., 224., 251., 155., 152., 254., 211.,\n",
       "          0.,   0.,   0.,   0.,   0.,   0.],\n",
       "       [  0.,   0.,   0.,   0.,   0.,   0.,   0.,   0.,   0.,  58., 254.,\n",
       "        104.,   0.,   0.,  82., 249., 217.,  60.,   0.,  37., 254., 120.,\n",
       "          0.,   0.,   0.,   0.,   0.,   0.],\n",
       "       [  0.,   0.,   0.,   0.,   0.,   0.,   0.,   0.,   0.,  58., 254.,\n",
       "         72.,   0.,  18., 247., 159.,  14.,   0.,   7., 201., 254.,  69.,\n",
       "          0.,   0.,   0.,   0.,   0.,   0.],\n",
       "       [  0.,   0.,   0.,   0.,   0.,   0.,   0.,   0.,   0.,  35., 239.,\n",
       "        147.,   1.,   5., 155.,  72.,   0.,   4., 193., 253., 122.,   6.,\n",
       "          0.,   0.,   0.,   0.,   0.,   0.],\n",
       "       [  0.,   0.,   0.,   0.,   0.,   0.,   0.,   0.,   0.,   0., 216.,\n",
       "        254.,  97.,   0.,   0.,  13.,  73., 225., 254., 121.,   0.,   0.,\n",
       "          0.,   0.,   0.,   0.,   0.,   0.],\n",
       "       [  0.,   0.,   0.,   0.,   0.,   0.,   0.,   0.,   0.,   0.,  79.,\n",
       "        244., 248., 226., 226., 231., 254., 243., 115.,   6.,   0.,   0.,\n",
       "          0.,   0.,   0.,   0.,   0.,   0.],\n",
       "       [  0.,   0.,   0.,   0.,   0.,   0.,   0.,   0.,   0.,   0.,   0.,\n",
       "        114., 177., 254., 254., 235., 152.,  43.,   0.,   0.,   0.,   0.,\n",
       "          0.,   0.,   0.,   0.,   0.,   0.],\n",
       "       [  0.,   0.,   0.,   0.,   0.,   0.,   0.,   0.,   0.,   0.,   0.,\n",
       "          0.,   0.,   0.,   0.,   0.,   0.,   0.,   0.,   0.,   0.,   0.,\n",
       "          0.,   0.,   0.,   0.,   0.,   0.],\n",
       "       [  0.,   0.,   0.,   0.,   0.,   0.,   0.,   0.,   0.,   0.,   0.,\n",
       "          0.,   0.,   0.,   0.,   0.,   0.,   0.,   0.,   0.,   0.,   0.,\n",
       "          0.,   0.,   0.,   0.,   0.,   0.],\n",
       "       [  0.,   0.,   0.,   0.,   0.,   0.,   0.,   0.,   0.,   0.,   0.,\n",
       "          0.,   0.,   0.,   0.,   0.,   0.,   0.,   0.,   0.,   0.,   0.,\n",
       "          0.,   0.,   0.,   0.,   0.,   0.],\n",
       "       [  0.,   0.,   0.,   0.,   0.,   0.,   0.,   0.,   0.,   0.,   0.,\n",
       "          0.,   0.,   0.,   0.,   0.,   0.,   0.,   0.,   0.,   0.,   0.,\n",
       "          0.,   0.,   0.,   0.,   0.,   0.],\n",
       "       [  0.,   0.,   0.,   0.,   0.,   0.,   0.,   0.,   0.,   0.,   0.,\n",
       "          0.,   0.,   0.,   0.,   0.,   0.,   0.,   0.,   0.,   0.,   0.,\n",
       "          0.,   0.,   0.,   0.,   0.,   0.],\n",
       "       [  0.,   0.,   0.,   0.,   0.,   0.,   0.,   0.,   0.,   0.,   0.,\n",
       "          0.,   0.,   0.,   0.,   0.,   0.,   0.,   0.,   0.,   0.,   0.,\n",
       "          0.,   0.,   0.,   0.,   0.,   0.]])"
      ]
     },
     "execution_count": 8,
     "metadata": {},
     "output_type": "execute_result"
    }
   ],
   "source": [
    "img = features.reshape(28, 28)\n",
    "img"
   ]
  },
  {
   "cell_type": "code",
   "execution_count": 9,
   "metadata": {},
   "outputs": [
    {
     "name": "stdout",
     "output_type": "stream",
     "text": [
      "A label é:  6\n"
     ]
    }
   ],
   "source": [
    "print(\"A label é: \", target)"
   ]
  },
  {
   "cell_type": "code",
   "execution_count": 10,
   "metadata": {},
   "outputs": [
    {
     "data": {
      "image/png": "[encoded data removed]",
      "text/plain": [
       "<Figure size 432x288 with 1 Axes>"
      ]
     },
     "metadata": {
      "needs_background": "light"
     },
     "output_type": "display_data"
    }
   ],
   "source": [
    "plt.imshow(img, cmap = 'gray')\n",
    "plt.show()"
   ]
  },
  {
   "cell_type": "markdown",
   "metadata": {},
   "source": [
    "## Pré-Processamento dos Dados\n",
    "\n",
    "Um processo muito importante quando trabalhamos com Redes Neurais é o __Rescalamento__, pois é interessante que o os valores sejam rescalados **entre 0 e 1 para que o tempo de treinamento seja otimizado**. Não iremos enttrar em tantos detalhes sobre o motivo dessa otimização, mas [nesse link](https://stackoverflow.com/questions/4674623/why-do-we-have-to-normalize-the-input-for-an-artificial-neural-network) poderam ter mais detalhes sobre esse processo. \n",
    "\n",
    "Então, fazemos a divisão correpondentes aos pixels das imagens pelo pixel de valor máximo do **conjunto de treino**:"
   ]
  },
  {
   "cell_type": "code",
   "execution_count": 11,
   "metadata": {},
   "outputs": [
    {
     "data": {
      "text/plain": [
       "255.0"
      ]
     },
     "execution_count": 11,
     "metadata": {},
     "output_type": "execute_result"
    }
   ],
   "source": [
    "np.max(X_train)"
   ]
  },
  {
   "cell_type": "code",
   "execution_count": 12,
   "metadata": {},
   "outputs": [],
   "source": [
    "X_train = X_train/255.0\n",
    "X_test = X_test/255.0"
   ]
  },
  {
   "cell_type": "markdown",
   "metadata": {},
   "source": [
    "Em modelos de rede neural de classificação, necessariamente **devemos ter o target transformado em variáveis dummy**, pois nossa resposta precisa ter a estrutura de output correta, como vimos na animação (GIF) acima. Podemos fazer isso com o __OneHot Encoder__, como já vimos anteriormente.<br><br>\n",
    "\n",
    "Esse tipo de mapeamento é um vetor com a mesma quantidade de classes existentes, com cada posição desse vetor correspondendo a uma das classes. (No nosso caso, como temos 10 classes possíveis, este vetor terá 10 elementos!)"
   ]
  },
  {
   "cell_type": "code",
   "execution_count": 13,
   "metadata": {
    "scrolled": false
   },
   "outputs": [
    {
     "data": {
      "text/plain": [
       "array([5, 0, 4, 1, 9], dtype=uint8)"
      ]
     },
     "execution_count": 13,
     "metadata": {},
     "output_type": "execute_result"
    }
   ],
   "source": [
    "y_train[0:5]"
   ]
  },
  {
   "cell_type": "code",
   "execution_count": 14,
   "metadata": {},
   "outputs": [],
   "source": [
    "# Carrega o OneHotEncoder\n",
    "from sklearn.preprocessing import OneHotEncoder"
   ]
  },
  {
   "cell_type": "code",
   "execution_count": 15,
   "metadata": {},
   "outputs": [],
   "source": [
    "# Instancia o OHEncoder\n",
    "hot = OneHotEncoder()"
   ]
  },
  {
   "cell_type": "code",
   "execution_count": 16,
   "metadata": {},
   "outputs": [],
   "source": [
    "y_train = hot.fit_transform(y_train.reshape(-1, 1)).toarray()\n",
    "y_test = hot.fit_transform(y_test.reshape(-1, 1)).toarray()"
   ]
  },
  {
   "cell_type": "code",
   "execution_count": 17,
   "metadata": {},
   "outputs": [
    {
     "data": {
      "text/plain": [
       "array([[0., 0., 0., 0., 0., 1., 0., 0., 0., 0.],\n",
       "       [1., 0., 0., 0., 0., 0., 0., 0., 0., 0.],\n",
       "       [0., 0., 0., 0., 1., 0., 0., 0., 0., 0.],\n",
       "       [0., 1., 0., 0., 0., 0., 0., 0., 0., 0.],\n",
       "       [0., 0., 0., 0., 0., 0., 0., 0., 0., 1.]])"
      ]
     },
     "execution_count": 17,
     "metadata": {},
     "output_type": "execute_result"
    }
   ],
   "source": [
    "y_train[0:5]"
   ]
  },
  {
   "cell_type": "markdown",
   "metadata": {},
   "source": [
    "## Conjunto de Validação\n",
    "\n",
    "Em modelos de rede neural, é importante que exista um terceiro conjunto além de treino e teste, o **conjunto de validação**.\n",
    "\n",
    "Durante o treinamento, a depender do caso, **risco de ocorrer overfitting é bastante alto**.\n",
    "\n",
    "Uma forma de verificar e evitar isso é por meio do conjunto de validação, o qual é um subconjunto do conjunto de treino que não é utilizado pelo otimizador.  \n",
    "\n",
    "Espera-se que a o valor da função de perda (loss) vá diminuindo a cada época, tanto para o conjunto de treino como para o conjunto de validação. Porém, se a função de perda diminui para o conjunto de treino e aumenta para o conjunto de validação (ocorrendo assim um descolamento), podemos concluir que está ocorrendo um overfitting para o conjunto de treino.\n",
    "\n",
    "Deve-se então interromper o processo de treinamento. Esse comportamento pode ser visto com mais facilidade nos próximos tópicos.\n",
    "\n",
    "Para fazer a divisão, usamos a função ``train_test_split`` do ``sklearn`` e definimos que o conjunto de validação será 10% do conjunto de treino."
   ]
  },
  {
   "cell_type": "code",
   "execution_count": 18,
   "metadata": {},
   "outputs": [],
   "source": [
    "from sklearn.model_selection import train_test_split"
   ]
  },
  {
   "cell_type": "code",
   "execution_count": 19,
   "metadata": {},
   "outputs": [],
   "source": [
    "X_train, X_val, y_train, y_val = train_test_split(X_train,\n",
    "                                                  y_train,\n",
    "                                                  test_size = 0.1,\n",
    "                                                  random_state = 42,\n",
    "                                                  stratify = y_train)"
   ]
  },
  {
   "cell_type": "code",
   "execution_count": 20,
   "metadata": {},
   "outputs": [
    {
     "name": "stdout",
     "output_type": "stream",
     "text": [
      "(54000, 784) (6000, 784) (10000, 784)\n"
     ]
    }
   ],
   "source": [
    "print(X_train.shape, X_val.shape, X_test.shape)"
   ]
  },
  {
   "cell_type": "code",
   "execution_count": 21,
   "metadata": {},
   "outputs": [
    {
     "name": "stdout",
     "output_type": "stream",
     "text": [
      "(54000, 10) (6000, 10) (10000, 10)\n"
     ]
    }
   ],
   "source": [
    "print(y_train.shape, y_val.shape, y_test.shape)"
   ]
  },
  {
   "cell_type": "markdown",
   "metadata": {},
   "source": [
    "## Arquitetura da Rede\n",
    "\n",
    "Faremos uma rede simples, com:\n",
    "\n",
    "- **3 camadas ocultas**;\n",
    "- **25 neurônios cada**; \n",
    "- **Camadas densas**;\n",
    "- **função de ativação ReLu nas camadas escondidas**;\n",
    "- **10 neurônios e ativação Softmax na camada de saída**. \n",
    "\n",
    "Para a construção da rede neural, utilizaremos a biblioteca [Keras](https://keras.io/).\n",
    "\n",
    "Primeiro definimos que nossa rede é do tipo **sequencial**, utilizando a função ``Sequential()``. \n",
    "\n",
    "O Keras funciona de forma super intuitiva: construímos **a arquitetura** de nossa rede neural camada a camada, construindo assim a rede neural da forma que queiramos!\n",
    "\n",
    "[Clique aqui](https://keras.io/api/layers/) para conhecer melhor sobre a estrutura de camadas do Keras, e dar uma olhada nas camadas disponíveis!\n",
    "\n",
    "Dessa forma, utilizamos o método ``.add()`` para adicionar as camadas, uma após a outra, de forma que a saída da camada anterior camada seja a entrada da próxima camada. \n",
    "\n",
    "> A primeira camada adicionada é uma **camada densa (fully connected)** com 25 neurônios. Para isso, é usada a função ``Dense()``, que conecta todos os valores de input e todos o neurônios da camada. \n",
    "Na primeira camada, é necessário **definir a dimensão dos dados de entrada**. Em camadas subsequentes isso não será necessário, já que o Keras automaticamente determinará que a dimensão de entrada será a dimensão da saída da camada anterior. \n",
    "No caso da rede em questão, os **784 pixels da imagem estarão todos conectados, um a um, aos 25 neurônios da primeira camada, produzindo 25 saídas nessa camada**.\n",
    "\n",
    "> Após a camada densa, é necessário inserir **a camada de ativação**, por meio da função ``Activation()``. Ao usar essa função, é necessário definir qual função de fato será usada passando uma string como parâmetro pra função. Dentre as disponíveis no Keras estão ``'tanh'``, ``'sigmoid'``, ``'softmax'`` e ``'relu'``. Nessa camada, a `ReLu` será usada.\n",
    "\n",
    "Esse processo de ``Dense()`` e ``Activation()`` é repetido mais duas vezes com os mesmos parâmetros. \n",
    "\n",
    "> Posteriormente, por ser um problema de classificação com 10 classes diferentes, é importante que a **a camada de saída possua 10 neurônios**. Dessa forma, cada neurônio representará uma classe, e a predição final será a correspondente ao neurônio **com maior valor de saída**. \n",
    "Outro fator importante é o uso de uma **camada de ativação Softmax após essa última camada com 10 neurônios**. \n",
    "A ativação Softmax funciona como uma versão mais generalizada da função sigmóide (ou logística), usada para **predições multiclasse**\n",
    "Ou seja, com valores entre 0 e 1, a saída de cada neurônio pode ser interpretada como a **probabilidade daquela instância pertencer àquela classe**."
   ]
  },
  {
   "cell_type": "code",
   "execution_count": 22,
   "metadata": {},
   "outputs": [
    {
     "name": "stderr",
     "output_type": "stream",
     "text": [
      "2022-09-29 19:09:50.770777: I tensorflow/core/platform/cpu_feature_guard.cc:193] This TensorFlow binary is optimized with oneAPI Deep Neural Network Library (oneDNN) to use the following CPU instructions in performance-critical operations:  AVX2 FMA\n",
      "To enable them in other operations, rebuild TensorFlow with the appropriate compiler flags.\n"
     ]
    }
   ],
   "source": [
    "from tensorflow.keras.models import Sequential\n",
    "from tensorflow.keras.layers import Dense, Activation"
   ]
  },
  {
   "cell_type": "code",
   "execution_count": 23,
   "metadata": {},
   "outputs": [
    {
     "name": "stderr",
     "output_type": "stream",
     "text": [
      "2022-09-29 19:09:53.044050: I tensorflow/core/platform/cpu_feature_guard.cc:193] This TensorFlow binary is optimized with oneAPI Deep Neural Network Library (oneDNN) to use the following CPU instructions in performance-critical operations:  AVX2 FMA\n",
      "To enable them in other operations, rebuild TensorFlow with the appropriate compiler flags.\n"
     ]
    }
   ],
   "source": [
    "# Instancia a Rede\n",
    "rede_simples = Sequential()\n",
    "\n",
    "# Definindo camada de input e primeira camada oculta\n",
    "rede_simples.add(Dense(25, \n",
    "            input_dim = X_train.shape[1]))\n",
    "rede_simples.add(Activation('relu'))\n",
    "\n",
    "# Definir segunda camada oculta\n",
    "rede_simples.add(Dense(25))\n",
    "rede_simples.add(Activation('relu'))\n",
    "\n",
    "# Definir terceira camada oculta\n",
    "rede_simples.add(Dense(25))\n",
    "rede_simples.add(Activation('relu'))\n",
    "\n",
    "# Camada de output\n",
    "rede_simples.add(Dense(y_train.shape[1]))\n",
    "rede_simples.add(Activation('softmax'))"
   ]
  },
  {
   "cell_type": "markdown",
   "metadata": {},
   "source": [
    "A rede então deve ser compilada usando o método ``compile()``. Devem ser passados a [função de perda](https://keras.io/losses/) e o [otimizador](https://keras.io/optimizers/) a serem utilizados. \n",
    "\n",
    "Para a função de perda, usamos ``categorial_crossentropy`` por ser um **problema de classificação multiclasse** (não binário). \n",
    "\n",
    "Já o otimizador escolhido foi o ``RMSprop()``.\n",
    "\n",
    "Diferentes funções de perda possuem diferentes propósitos, devendo ser escolhido caso a caso. Já os otimizadores possuem maior liberdade de escolha, não existindo uma regra fechada.\n",
    "\n",
    "Artigo sobre `RMSprop`: [aqui](https://towardsdatascience.com/understanding-rmsprop-faster-neural-network-learning-62e116fcf29a)\n",
    "\n",
    "Artigo sobre o Gradiente descendente, Adam e outros métodos: [aqui](https://towardsdatascience.com/how-do-we-train-neural-networks-edd985562b73)\n",
    "\n",
    "A arquitetura da rede pode ser visualizada com o método ``.summary()``."
   ]
  },
  {
   "cell_type": "code",
   "execution_count": 24,
   "metadata": {},
   "outputs": [],
   "source": [
    "from tensorflow.keras.optimizers import RMSprop"
   ]
  },
  {
   "cell_type": "code",
   "execution_count": 25,
   "metadata": {
    "scrolled": false
   },
   "outputs": [
    {
     "name": "stdout",
     "output_type": "stream",
     "text": [
      "Model: \"sequential\"\n",
      "_________________________________________________________________\n",
      " Layer (type)                Output Shape              Param #   \n",
      "=================================================================\n",
      " dense (Dense)               (None, 25)                19625     \n",
      "                                                                 \n",
      " activation (Activation)     (None, 25)                0         \n",
      "                                                                 \n",
      " dense_1 (Dense)             (None, 25)                650       \n",
      "                                                                 \n",
      " activation_1 (Activation)   (None, 25)                0         \n",
      "                                                                 \n",
      " dense_2 (Dense)             (None, 25)                650       \n",
      "                                                                 \n",
      " activation_2 (Activation)   (None, 25)                0         \n",
      "                                                                 \n",
      " dense_3 (Dense)             (None, 10)                260       \n",
      "                                                                 \n",
      " activation_3 (Activation)   (None, 10)                0         \n",
      "                                                                 \n",
      "=================================================================\n",
      "Total params: 21,185\n",
      "Trainable params: 21,185\n",
      "Non-trainable params: 0\n",
      "_________________________________________________________________\n"
     ]
    }
   ],
   "source": [
    "rede_simples.compile(loss = 'categorical_crossentropy',\n",
    "                     optimizer = RMSprop())\n",
    "\n",
    "pesos_iniciais = rede_simples.get_weights()\n",
    "\n",
    "rede_simples.summary()"
   ]
  },
  {
   "cell_type": "code",
   "execution_count": 26,
   "metadata": {
    "scrolled": true
   },
   "outputs": [
    {
     "data": {
      "text/plain": [
       "[array([[-0.07789445,  0.05019575, -0.00506518, ...,  0.02241373,\n",
       "          0.0773762 , -0.05966035],\n",
       "        [-0.02456607, -0.03090135,  0.04414886, ..., -0.03404115,\n",
       "          0.0817821 ,  0.07533577],\n",
       "        [-0.03132583,  0.04360315,  0.06501818, ..., -0.08069067,\n",
       "          0.05516203,  0.05100001],\n",
       "        ...,\n",
       "        [ 0.01563168, -0.07206836, -0.06697304, ..., -0.08313627,\n",
       "          0.00068281,  0.05220355],\n",
       "        [-0.04414504, -0.00239126,  0.0605901 , ..., -0.04548666,\n",
       "         -0.01434311, -0.06275655],\n",
       "        [-0.01899965, -0.03128875, -0.01466475, ...,  0.02094428,\n",
       "         -0.03216321,  0.07186991]], dtype=float32),\n",
       " array([0., 0., 0., 0., 0., 0., 0., 0., 0., 0., 0., 0., 0., 0., 0., 0., 0.,\n",
       "        0., 0., 0., 0., 0., 0., 0., 0.], dtype=float32),\n",
       " array([[ 2.42675602e-01, -8.68419707e-02,  1.67147815e-02,\n",
       "         -7.26599991e-02,  2.54738092e-01, -3.23772818e-01,\n",
       "          7.56523311e-02, -3.15840632e-01,  4.32383418e-02,\n",
       "         -7.54274428e-02,  1.11637712e-02,  7.62242973e-02,\n",
       "          1.66192234e-01,  3.00804436e-01,  8.52926373e-02,\n",
       "          2.60712206e-01, -2.29703918e-01,  4.34066653e-02,\n",
       "          3.42713296e-01,  3.07812512e-01, -2.27165520e-02,\n",
       "         -1.66205108e-01, -3.08234692e-02, -1.81182250e-01,\n",
       "          7.66660571e-02],\n",
       "        [ 3.00558269e-01, -2.84785658e-01,  2.73557961e-01,\n",
       "         -8.01487565e-02, -4.67728972e-02, -2.22788185e-01,\n",
       "          2.49615848e-01,  1.37432605e-01,  1.41502678e-01,\n",
       "         -3.09513211e-02, -3.18243295e-01, -1.73143715e-01,\n",
       "         -2.92877555e-01, -1.79615259e-01,  2.09528029e-01,\n",
       "          3.32733631e-01, -1.76887870e-01, -1.17775291e-01,\n",
       "          8.17013681e-02, -2.38249063e-01,  1.21539831e-03,\n",
       "          1.43038869e-01,  2.15668857e-01, -1.66042820e-01,\n",
       "          8.92260671e-03],\n",
       "        [-1.29291236e-01, -1.33860067e-01, -2.98024952e-01,\n",
       "          1.91008627e-01, -1.67492196e-01, -1.84069961e-01,\n",
       "          4.36271727e-02,  1.38135850e-01,  5.17967343e-03,\n",
       "          4.24012840e-02,  1.62235141e-01, -2.45259196e-01,\n",
       "          3.35353732e-01,  3.17336440e-01,  2.79901922e-01,\n",
       "         -1.92510054e-01, -2.10701823e-02, -2.72708118e-01,\n",
       "         -2.76388258e-01,  2.57364273e-01, -1.25346050e-01,\n",
       "          2.44993746e-01, -1.45767406e-01,  1.29980862e-01,\n",
       "         -1.87170163e-01],\n",
       "        [ 2.16877162e-02, -7.51235187e-02,  3.31971347e-02,\n",
       "          8.44333768e-02,  1.39808655e-01,  2.52979517e-01,\n",
       "          1.17964834e-01,  2.33767152e-01, -1.30025715e-01,\n",
       "          2.79136121e-01, -1.08522475e-02,  2.55304098e-01,\n",
       "          1.00517482e-01,  2.34071314e-01, -3.18152279e-01,\n",
       "          2.48517990e-01,  2.76058316e-01, -3.36381018e-01,\n",
       "          3.41966271e-01,  3.19611073e-01,  4.19082046e-02,\n",
       "          2.17787504e-01, -3.16930175e-01,  8.15531015e-02,\n",
       "          2.14017332e-01],\n",
       "        [ 2.17103064e-01,  1.12735957e-01, -3.08451176e-01,\n",
       "          2.67218947e-01,  2.33438432e-01,  1.46275908e-01,\n",
       "         -6.58286810e-02,  6.61297143e-02, -5.17958105e-02,\n",
       "          4.70141172e-02, -4.40087318e-02,  1.02954984e-01,\n",
       "          9.25915837e-02, -2.52076387e-01,  2.97645450e-01,\n",
       "         -2.45071471e-01,  1.70602798e-01, -1.98652819e-01,\n",
       "          3.72404456e-02, -2.05364376e-01,  2.97093391e-01,\n",
       "         -1.61093473e-03,  2.49826610e-02,  2.13863194e-01,\n",
       "         -9.35555100e-02],\n",
       "        [ 3.31427157e-02, -1.77774072e-01, -2.35618979e-01,\n",
       "         -4.30396199e-03,  2.74982214e-01, -3.14318329e-01,\n",
       "          1.54338956e-01, -1.36029795e-01,  5.48573434e-02,\n",
       "          1.73727393e-01,  2.83967674e-01, -2.55380929e-01,\n",
       "          1.20417774e-01,  1.77360356e-01,  2.50291049e-01,\n",
       "          1.65099561e-01, -2.11335346e-01,  2.74279952e-01,\n",
       "         -7.02160597e-02, -1.75684199e-01, -2.79723942e-01,\n",
       "          1.75820291e-01, -3.05981725e-01,  1.65129781e-01,\n",
       "         -3.21807981e-01],\n",
       "        [-8.35551918e-02,  1.91251397e-01,  1.69321656e-01,\n",
       "         -1.58495769e-01,  6.15314841e-02, -2.13617414e-01,\n",
       "          1.04703665e-01, -7.47779608e-02,  5.72068095e-02,\n",
       "          1.76662922e-01, -8.28485489e-02,  2.58746386e-01,\n",
       "         -2.74161786e-01, -2.50396907e-01,  3.06451976e-01,\n",
       "          1.32737070e-01, -2.53353566e-01,  2.69385636e-01,\n",
       "          2.66665757e-01,  2.73943603e-01,  3.35439146e-01,\n",
       "         -6.65807426e-02, -1.78456679e-01,  1.54645622e-01,\n",
       "         -2.15692580e-01],\n",
       "        [-1.06859952e-01,  1.57735348e-01, -2.45094761e-01,\n",
       "         -1.98944211e-02, -5.33060431e-02, -2.46784896e-01,\n",
       "         -3.20861399e-01, -3.44357848e-01, -1.10397309e-01,\n",
       "         -3.81650329e-02, -2.93097824e-01,  2.89110124e-01,\n",
       "          1.72175348e-01, -2.57135153e-01,  3.20181906e-01,\n",
       "          2.61092424e-01, -4.78989184e-02, -1.41735822e-01,\n",
       "          2.78200328e-01, -3.07251304e-01, -1.69039130e-01,\n",
       "          7.85274804e-02,  2.50822902e-01,  2.12069929e-01,\n",
       "         -2.58540928e-01],\n",
       "        [-3.00202012e-01, -7.61080086e-02,  2.58066595e-01,\n",
       "          4.29827273e-02,  3.18473876e-01,  2.81274259e-01,\n",
       "         -3.06834877e-01, -2.17562273e-01, -7.44163990e-05,\n",
       "          1.60348117e-01, -2.14544579e-01,  3.14831078e-01,\n",
       "         -1.81411117e-01,  4.95901406e-02,  3.21641147e-01,\n",
       "         -1.97942287e-01, -2.47587919e-01, -8.42608511e-02,\n",
       "         -2.05611825e-01, -2.22792730e-01,  2.37836838e-01,\n",
       "         -1.54874176e-01, -1.86202615e-01, -2.29214907e-01,\n",
       "         -7.51730800e-03],\n",
       "        [-3.18464696e-01, -7.03839660e-02,  8.68563354e-02,\n",
       "         -1.35655582e-01, -1.01745948e-01,  1.84938908e-01,\n",
       "          7.74408579e-02, -2.11060315e-01,  1.03848368e-01,\n",
       "         -2.34471053e-01, -2.19952360e-01, -1.32832631e-01,\n",
       "         -3.23163301e-01,  2.78646052e-01,  2.29403019e-01,\n",
       "          2.48404026e-01,  2.80664802e-01, -6.49434328e-03,\n",
       "          2.84363627e-01, -9.00360942e-03, -1.69397563e-01,\n",
       "         -8.71119499e-02,  2.33263433e-01, -6.79270625e-02,\n",
       "         -3.19889396e-01],\n",
       "        [ 2.10478544e-01,  2.97966957e-01,  2.61435628e-01,\n",
       "          9.72674787e-02, -2.19446659e-01, -1.36030048e-01,\n",
       "          2.68142760e-01, -2.82520443e-01, -2.70882279e-01,\n",
       "         -2.30752483e-01,  1.00645512e-01,  1.74148858e-01,\n",
       "          2.08403885e-01, -3.22829545e-01,  1.93883955e-01,\n",
       "          3.24891150e-01, -2.80246228e-01, -3.49808335e-02,\n",
       "          1.95746422e-02, -9.44322050e-02, -2.79026538e-01,\n",
       "          7.09944665e-02, -3.05926889e-01,  6.67645335e-02,\n",
       "         -9.86540020e-02],\n",
       "        [ 2.77240992e-01,  3.37661505e-01,  9.99629796e-02,\n",
       "         -1.47526667e-01, -8.77867341e-02, -6.52725101e-02,\n",
       "         -2.64061272e-01, -2.37963304e-01,  2.21913993e-01,\n",
       "          1.76866472e-01,  3.30756485e-01, -2.25285143e-01,\n",
       "          1.01346970e-02,  3.78622711e-02,  8.89171362e-02,\n",
       "         -1.53884292e-03,  3.17926466e-01, -3.39578420e-01,\n",
       "          1.76632524e-01, -7.66526759e-02,  1.38001144e-01,\n",
       "         -8.48749280e-03,  7.55511820e-02, -2.40923345e-01,\n",
       "          3.40530336e-01],\n",
       "        [-8.98391902e-02, -2.86888480e-02, -3.06643605e-01,\n",
       "         -2.94985592e-01, -2.81699747e-01, -2.47282505e-01,\n",
       "         -2.82092392e-02, -3.27273488e-01, -2.56072044e-01,\n",
       "          1.69137716e-01, -1.65443301e-01,  1.37825817e-01,\n",
       "         -2.59892046e-02,  2.04074204e-01, -3.21034193e-01,\n",
       "         -9.72840637e-02, -3.20583582e-01, -1.20754749e-01,\n",
       "          1.43566430e-01, -2.80932635e-01, -1.82586312e-02,\n",
       "          2.59838521e-01,  2.83139825e-01, -6.79497719e-02,\n",
       "         -1.47667825e-02],\n",
       "        [ 1.53767347e-01,  1.41879529e-01, -5.12897968e-05,\n",
       "         -2.62077689e-01,  1.28864348e-02,  3.56484354e-02,\n",
       "         -2.40766600e-01, -3.35920811e-01,  3.01525652e-01,\n",
       "          2.13262677e-01,  1.06050313e-01,  8.73667598e-02,\n",
       "          1.06864333e-01, -7.96095133e-02, -2.11847156e-01,\n",
       "          2.69508362e-03,  4.78935540e-02, -2.16243044e-01,\n",
       "         -1.40843511e-01, -2.49884427e-02, -2.51551121e-01,\n",
       "          5.80891073e-02, -2.97140568e-01, -2.20936343e-01,\n",
       "         -2.68641114e-03],\n",
       "        [ 2.20747292e-02, -3.05295885e-01, -2.84542024e-01,\n",
       "          1.72251165e-01,  1.40831709e-01,  1.47705883e-01,\n",
       "          1.94624066e-03, -1.85793623e-01,  3.36818635e-01,\n",
       "         -7.50327110e-03, -2.12827623e-02,  1.16897613e-01,\n",
       "         -1.72099277e-01, -2.83267319e-01,  1.28697991e-01,\n",
       "         -2.08362415e-01,  1.83451295e-01, -3.18617821e-01,\n",
       "          4.84285057e-02, -3.28901112e-01,  2.40999818e-01,\n",
       "         -3.43062669e-01, -3.10245365e-01, -1.92173913e-01,\n",
       "          1.93544269e-01],\n",
       "        [-1.14632800e-01,  3.00422788e-01,  3.13247859e-01,\n",
       "         -2.37078935e-01, -3.20943177e-01,  1.08719558e-01,\n",
       "         -3.38178515e-01,  1.72307491e-01,  3.46313596e-01,\n",
       "         -2.33436257e-01, -8.70380402e-02,  1.88525617e-01,\n",
       "         -2.48220652e-01,  2.12393761e-01,  1.33042425e-01,\n",
       "          1.08666122e-01, -2.35810503e-01,  4.04070318e-02,\n",
       "         -8.91730189e-02,  2.19077468e-02, -2.14651778e-01,\n",
       "          1.81413651e-01, -2.55921245e-01, -4.90040779e-02,\n",
       "          9.08468664e-02],\n",
       "        [ 1.82865858e-01,  1.65740609e-01,  1.78899109e-01,\n",
       "         -2.03315884e-01,  2.24975765e-01, -3.37304801e-01,\n",
       "         -1.88202053e-01, -2.04801023e-01,  4.14243937e-02,\n",
       "         -1.15242317e-01, -7.05355108e-02,  2.06988871e-01,\n",
       "          2.67097831e-01, -9.36746597e-04, -3.24159980e-01,\n",
       "         -4.84497249e-02,  3.35942686e-01, -1.76723436e-01,\n",
       "         -2.38545150e-01, -3.14747870e-01, -2.03014761e-01,\n",
       "          2.74811745e-01,  3.05657864e-01, -1.71920881e-01,\n",
       "          2.91384339e-01],\n",
       "        [ 2.05116272e-01, -2.34268695e-01, -2.37654418e-01,\n",
       "          2.37854600e-01,  4.10858691e-02,  2.78503895e-02,\n",
       "          1.99659705e-01,  7.07135797e-02,  3.03034186e-02,\n",
       "          1.73111677e-01, -8.98668170e-03, -1.62396446e-01,\n",
       "         -3.39020282e-01, -1.72457546e-01, -1.45040020e-01,\n",
       "         -6.57760799e-02, -1.40752912e-01, -4.43383455e-02,\n",
       "          1.42379194e-01, -1.40973434e-01,  3.15124094e-01,\n",
       "          2.44575083e-01,  2.81756163e-01,  1.89086258e-01,\n",
       "          6.42147064e-02],\n",
       "        [-1.00697622e-01,  1.83343232e-01, -2.52174735e-02,\n",
       "          1.43023163e-01,  2.74691164e-01, -2.15661526e-03,\n",
       "          3.59773040e-02, -2.93431282e-02,  1.96241498e-01,\n",
       "          2.54111230e-01, -1.50703341e-01, -7.79341459e-02,\n",
       "          2.97178030e-01, -1.21192649e-01, -9.53063369e-02,\n",
       "          1.39836580e-01,  1.81089938e-02, -2.22453117e-01,\n",
       "          1.26782447e-01, -2.49627322e-01, -1.51618361e-01,\n",
       "         -3.06140184e-02, -3.05885345e-01, -1.23668611e-02,\n",
       "          2.53639221e-02],\n",
       "        [-2.96590686e-01, -1.51078388e-01, -1.58116430e-01,\n",
       "         -3.11353832e-01,  1.41369522e-01, -2.04115853e-01,\n",
       "         -3.42822820e-01, -9.07239020e-02,  1.52119190e-01,\n",
       "          1.70584321e-01,  2.90151536e-02, -2.88099051e-02,\n",
       "          2.22115993e-01,  1.28411978e-01,  1.51949227e-01,\n",
       "          1.06379867e-01, -2.41623729e-01,  2.59406984e-01,\n",
       "         -9.28324461e-02, -2.34284058e-01,  2.28578150e-01,\n",
       "          1.20262265e-01, -1.30794376e-01, -1.93414673e-01,\n",
       "         -1.32326692e-01],\n",
       "        [-2.44376391e-01,  2.04113126e-03,  2.82921731e-01,\n",
       "         -3.33624125e-01,  1.22720659e-01, -3.38259876e-01,\n",
       "         -2.50460267e-01,  2.32312024e-01, -3.38997483e-01,\n",
       "          2.00179100e-01,  1.52210861e-01,  1.18136793e-01,\n",
       "         -3.09175581e-01, -2.98500091e-01,  4.84779775e-02,\n",
       "          1.94158792e-01, -1.89265817e-01,  3.38151336e-01,\n",
       "          5.00642955e-02, -3.20301533e-01,  1.21996075e-01,\n",
       "         -1.08809426e-01, -1.21411845e-01, -2.23854095e-01,\n",
       "          3.37972701e-01],\n",
       "        [ 5.74899316e-02, -3.03295285e-01,  2.30629742e-01,\n",
       "          1.79776013e-01,  9.26172137e-02, -2.34106079e-01,\n",
       "          1.42047852e-01, -4.51032221e-02, -1.93077952e-01,\n",
       "         -5.22002578e-02, -1.93302765e-01, -3.33818644e-01,\n",
       "         -1.85045764e-01,  1.46610320e-01,  1.13001168e-02,\n",
       "         -3.37364912e-01, -3.58604193e-02, -1.78211480e-01,\n",
       "          1.32286638e-01,  1.75238252e-02, -1.44725680e-01,\n",
       "          1.04263395e-01, -3.45972091e-01,  2.13009119e-01,\n",
       "         -2.96637237e-01],\n",
       "        [ 8.81478190e-02,  2.73864269e-01,  1.49564505e-01,\n",
       "         -2.82615423e-04, -7.33983517e-03, -2.01949179e-01,\n",
       "          2.14834809e-01,  2.17518210e-03, -3.36115152e-01,\n",
       "          2.42391706e-01,  1.75229430e-01, -2.61117816e-01,\n",
       "          1.49018586e-01, -2.49614686e-01,  2.99245894e-01,\n",
       "          2.26117253e-01, -1.75465584e-01, -4.45437729e-02,\n",
       "          2.41101861e-01, -3.05077434e-01, -1.01546645e-01,\n",
       "         -7.88634717e-02,  1.90988660e-01,  1.95029378e-02,\n",
       "          8.83415341e-03],\n",
       "        [ 1.46856695e-01,  1.72847867e-01, -1.16806999e-01,\n",
       "          1.21648699e-01,  4.98146117e-02, -2.18079448e-01,\n",
       "          1.77897036e-01, -4.43567038e-02,  2.15222478e-01,\n",
       "         -2.21240357e-01,  2.09420085e-01, -9.32736993e-02,\n",
       "         -1.44768953e-02, -4.87953424e-04,  1.74345315e-01,\n",
       "         -1.27941966e-02, -2.70002782e-01,  3.36271405e-01,\n",
       "          1.75766230e-01,  2.55562365e-01,  1.89242303e-01,\n",
       "          2.59461880e-01,  1.98339880e-01, -3.97640467e-03,\n",
       "         -3.27929109e-01],\n",
       "        [ 1.36491805e-01,  2.34556556e-01, -2.92585760e-01,\n",
       "         -3.95596623e-02, -5.71798682e-02, -3.67046595e-02,\n",
       "          8.77219737e-02,  1.04643136e-01, -1.07741773e-01,\n",
       "          7.08040297e-02,  2.26644695e-01,  7.17738867e-02,\n",
       "          2.90599644e-01, -2.10079476e-01,  6.95887804e-02,\n",
       "          3.80033255e-03,  1.99188352e-01, -1.39746457e-01,\n",
       "         -2.02876493e-01, -7.16063082e-02,  1.83788061e-01,\n",
       "         -1.60945818e-01,  1.33991063e-01,  1.36778742e-01,\n",
       "          2.08357155e-01]], dtype=float32),\n",
       " array([0., 0., 0., 0., 0., 0., 0., 0., 0., 0., 0., 0., 0., 0., 0., 0., 0.,\n",
       "        0., 0., 0., 0., 0., 0., 0., 0.], dtype=float32),\n",
       " array([[-0.168088  , -0.24665695,  0.18244505,  0.27070934,  0.3278684 ,\n",
       "          0.21722478, -0.08020085, -0.05229861, -0.27627355,  0.27663273,\n",
       "         -0.22155264, -0.06734002, -0.02701563,  0.23014605, -0.06136376,\n",
       "         -0.01103905,  0.3141694 ,  0.10231283, -0.00805348,  0.29855227,\n",
       "          0.26273102, -0.26610798, -0.14631596, -0.11016499, -0.00517413],\n",
       "        [ 0.31937116, -0.11735417, -0.30687007,  0.20992678,  0.17581761,\n",
       "          0.3415135 ,  0.14969847,  0.14853212, -0.26423794,  0.22496122,\n",
       "          0.11859781, -0.30624914,  0.09990111,  0.32708454, -0.18086024,\n",
       "          0.09214237, -0.06735909,  0.21237093,  0.03191137,  0.32275397,\n",
       "         -0.16983968, -0.0714162 , -0.11136296,  0.33949262,  0.12234354],\n",
       "        [-0.09152973, -0.06723133, -0.22796777, -0.00868225,  0.12269655,\n",
       "         -0.0606311 , -0.28605872,  0.12885755,  0.04699746, -0.27322233,\n",
       "          0.2856688 ,  0.254892  , -0.290825  , -0.11811896,  0.333399  ,\n",
       "         -0.03113914, -0.29400542,  0.3218332 ,  0.24186051, -0.13095263,\n",
       "         -0.01528662,  0.1855697 ,  0.3229736 , -0.32645437, -0.04634318],\n",
       "        [ 0.00132352, -0.2660623 , -0.23226413,  0.27382076, -0.09606099,\n",
       "         -0.08747914, -0.13880616,  0.32119566, -0.3057243 , -0.30934978,\n",
       "         -0.11446308, -0.19922335, -0.22453359, -0.30743688, -0.31686196,\n",
       "         -0.19130862, -0.29068008, -0.07272732, -0.10479997, -0.2690319 ,\n",
       "         -0.08840418, -0.3087969 ,  0.05059478,  0.3458482 , -0.3100745 ],\n",
       "        [-0.17611508, -0.09823336,  0.19017851,  0.32033944, -0.26524532,\n",
       "         -0.11369407, -0.19256547,  0.32705307,  0.13633928,  0.29243237,\n",
       "          0.20526248,  0.14765525,  0.17124271,  0.10126898,  0.1746791 ,\n",
       "         -0.13536553, -0.3252512 , -0.246921  , -0.22322765, -0.28233802,\n",
       "          0.12992331,  0.07422048, -0.13600048,  0.18471748, -0.16275142],\n",
       "        [ 0.25662845,  0.02824262,  0.24085164,  0.24472791,  0.29155743,\n",
       "          0.3056671 ,  0.19722831,  0.09540504,  0.2839809 , -0.2789309 ,\n",
       "         -0.1556748 ,  0.32341778,  0.3374408 ,  0.2546119 , -0.25674483,\n",
       "         -0.09583831, -0.17351694,  0.19422966, -0.24463126, -0.13935333,\n",
       "         -0.19993198,  0.28241146,  0.1105862 ,  0.20699346,  0.22253388],\n",
       "        [-0.12924118,  0.19079685, -0.18712226,  0.06322858,  0.00897339,\n",
       "         -0.22429183,  0.2642274 , -0.16032252,  0.16615373,  0.02592602,\n",
       "         -0.0644719 , -0.32706982,  0.26562202,  0.14228836,  0.17554754,\n",
       "          0.28183585,  0.06985515, -0.19599985,  0.05243975, -0.08960703,\n",
       "         -0.01892158, -0.29052472, -0.16647081,  0.26084346,  0.10631526],\n",
       "        [ 0.1946513 ,  0.32710552, -0.05172756, -0.11324453,  0.31276554,\n",
       "         -0.10401709, -0.08016419, -0.31069094,  0.08879805, -0.16223325,\n",
       "         -0.03126633, -0.24071497, -0.23180205,  0.132581  ,  0.10398695,\n",
       "         -0.23579076, -0.08374068,  0.26271904, -0.05896953,  0.19484508,\n",
       "         -0.10125345,  0.2802421 ,  0.07148135, -0.17350984, -0.09136471],\n",
       "        [ 0.24971795, -0.20065184, -0.02236694,  0.10167104, -0.07945606,\n",
       "         -0.17731124, -0.14083773,  0.25086617, -0.1008604 ,  0.30462897,\n",
       "         -0.24282451, -0.01016566,  0.24348885,  0.09524888,  0.2580927 ,\n",
       "         -0.31188554,  0.01195779, -0.17764631,  0.11505327,  0.07228586,\n",
       "          0.2412917 , -0.11050633,  0.24593604, -0.02977416, -0.10878481],\n",
       "        [-0.2707507 , -0.18185496,  0.18307012, -0.05773777, -0.13908516,\n",
       "         -0.04689851, -0.24396929,  0.13865858, -0.33850986, -0.04453006,\n",
       "         -0.23220418,  0.00259805, -0.02864623, -0.13827734,  0.3063959 ,\n",
       "          0.10790628, -0.03992498, -0.00482157, -0.04617202,  0.29580027,\n",
       "         -0.28200358,  0.10153055,  0.32223028,  0.3360303 ,  0.14481539],\n",
       "        [ 0.24354231, -0.20511858, -0.28908443, -0.03015286,  0.29151654,\n",
       "          0.32715714, -0.19929908, -0.08253628, -0.13974531, -0.12027416,\n",
       "         -0.32577753,  0.06586355, -0.3461234 ,  0.14753252,  0.20491791,\n",
       "          0.14766955, -0.22710711,  0.28139418, -0.3031165 , -0.05406779,\n",
       "         -0.13643053, -0.00871825, -0.10904844, -0.19674662, -0.14839502],\n",
       "        [-0.13357958, -0.28230926,  0.22478777,  0.1935584 , -0.23507214,\n",
       "         -0.16497913, -0.11676522, -0.32619447, -0.28978068,  0.11055142,\n",
       "          0.11285406, -0.22949958,  0.31049532,  0.14577153,  0.20124114,\n",
       "         -0.17022198,  0.22669   ,  0.18089688, -0.2346999 ,  0.0291183 ,\n",
       "         -0.34590733, -0.30807176, -0.03586391,  0.12263501,  0.1992665 ],\n",
       "        [-0.02137768, -0.12474611,  0.05000854,  0.20124602,  0.04399899,\n",
       "         -0.11988871,  0.12625042, -0.28299138,  0.28665417,  0.07367992,\n",
       "          0.1967572 ,  0.2808721 ,  0.14611122,  0.12913638,  0.09813672,\n",
       "         -0.23974611, -0.14212945, -0.16163388, -0.31981945,  0.17759562,\n",
       "         -0.2855047 , -0.04930675,  0.2593218 ,  0.08429167, -0.18164055],\n",
       "        [-0.03285992,  0.15129799, -0.31419453,  0.19946033, -0.1174361 ,\n",
       "         -0.23970813, -0.02689019,  0.1331825 , -0.29423982,  0.11689049,\n",
       "         -0.29362592, -0.14927131, -0.26289088, -0.09367809,  0.11546722,\n",
       "         -0.16551639,  0.26258653,  0.01295185, -0.29012746,  0.00988823,\n",
       "          0.08991632, -0.3167346 ,  0.3214075 , -0.02029243,  0.31348348],\n",
       "        [-0.01475084, -0.21931203,  0.31416565, -0.150167  ,  0.27172756,\n",
       "          0.24723911, -0.24874064, -0.17417279,  0.3177337 , -0.24985999,\n",
       "         -0.21985036,  0.00141057,  0.07491696, -0.05832914,  0.1729194 ,\n",
       "         -0.00902873,  0.10738152, -0.02771541,  0.33781683, -0.32697073,\n",
       "          0.03982931,  0.31199414,  0.32600987,  0.05617526,  0.27951944],\n",
       "        [-0.3219849 ,  0.08575112, -0.03266212,  0.27076787, -0.05808374,\n",
       "         -0.2844886 , -0.04309976, -0.1540747 , -0.10675243, -0.23992607,\n",
       "          0.05304036, -0.05568564, -0.15547775,  0.12845698,  0.1899724 ,\n",
       "          0.29430908, -0.05260998, -0.06663445,  0.14627442, -0.23009671,\n",
       "          0.19131291, -0.24080887, -0.16232996,  0.12077382,  0.26812392],\n",
       "        [ 0.1451014 , -0.08990079, -0.05830228,  0.0182128 ,  0.04134196,\n",
       "         -0.08356461, -0.22410154, -0.22044757,  0.05929866,  0.00967994,\n",
       "         -0.19805601, -0.22278431,  0.22202706, -0.20455194, -0.06754491,\n",
       "          0.26564074,  0.04718468,  0.31753427,  0.10823518,  0.02255318,\n",
       "         -0.20326161, -0.30598313,  0.28415912, -0.12531069, -0.10666768],\n",
       "        [ 0.29344416, -0.02024683,  0.2185784 , -0.2666082 ,  0.14219892,\n",
       "          0.19111508,  0.24183011,  0.32777286, -0.15654168,  0.10159075,\n",
       "          0.12280539,  0.14881334, -0.09277174, -0.1899599 ,  0.3388304 ,\n",
       "          0.08220121, -0.14159583, -0.15413746, -0.32490274, -0.23420015,\n",
       "         -0.07944605,  0.13968602, -0.32120392, -0.235765  , -0.16379073],\n",
       "        [ 0.338809  , -0.33650836,  0.23927289,  0.10102683,  0.2341184 ,\n",
       "         -0.16362217, -0.1390081 ,  0.06048194, -0.15434724, -0.05718574,\n",
       "         -0.05230489,  0.01795471,  0.31701887, -0.20830998, -0.10739358,\n",
       "          0.2956506 , -0.30694002, -0.33479568,  0.0544543 ,  0.0908353 ,\n",
       "          0.25713468, -0.22562633,  0.02803034, -0.11398678, -0.29177248],\n",
       "        [ 0.17430806, -0.03398523, -0.18083951, -0.33629322,  0.04101664,\n",
       "         -0.02797922, -0.00634205, -0.29297534,  0.1342934 , -0.05895847,\n",
       "         -0.06316382,  0.34388518,  0.13347569,  0.2863658 ,  0.23820382,\n",
       "          0.3177995 , -0.08603597,  0.31354725,  0.03249553, -0.12917528,\n",
       "         -0.25652242, -0.3055805 , -0.12422578, -0.06680813, -0.15838584],\n",
       "        [ 0.13304844, -0.3148418 , -0.1995514 , -0.23461178, -0.06380457,\n",
       "          0.30349642,  0.22503823,  0.09201792, -0.32341123, -0.01068532,\n",
       "         -0.09951939, -0.27364236,  0.08618942,  0.09461457, -0.29880023,\n",
       "         -0.0886935 ,  0.10415965, -0.1458765 ,  0.2326895 , -0.06456357,\n",
       "         -0.2599125 ,  0.18616897, -0.17897445, -0.16900304,  0.10683295],\n",
       "        [ 0.04769641, -0.04598215, -0.33569857,  0.27753073,  0.32293302,\n",
       "         -0.24711765,  0.29517204,  0.10287315, -0.2148846 , -0.14500964,\n",
       "         -0.29080537,  0.25535524, -0.02240831,  0.17123091, -0.0517256 ,\n",
       "          0.17214018,  0.00051579, -0.02659476,  0.03763911,  0.0486941 ,\n",
       "          0.13412377,  0.07068387,  0.328528  , -0.2149292 ,  0.33815247],\n",
       "        [ 0.00960356,  0.1714052 ,  0.02889079,  0.33953637, -0.1220226 ,\n",
       "          0.10418832,  0.14419356,  0.32950765, -0.1789334 ,  0.14297923,\n",
       "          0.28104532, -0.22822207, -0.06646174,  0.06539491, -0.1469928 ,\n",
       "         -0.03468591, -0.01626945,  0.10053688,  0.04099518, -0.00899974,\n",
       "          0.19259143,  0.2232235 , -0.09563133,  0.0281525 ,  0.1911605 ],\n",
       "        [ 0.29656625, -0.13060409, -0.21261823, -0.24954243,  0.22686505,\n",
       "         -0.00508237,  0.15701115, -0.07709703, -0.311713  , -0.03994042,\n",
       "          0.30040753,  0.09591827,  0.1695891 , -0.2462014 ,  0.31371647,\n",
       "         -0.30843598, -0.09194788, -0.02515215,  0.3303728 , -0.18228972,\n",
       "         -0.34570584, -0.06570801,  0.31422633,  0.01356024, -0.1425647 ],\n",
       "        [ 0.23926759, -0.26207092,  0.32705158,  0.23296559,  0.21317142,\n",
       "         -0.23801105, -0.32460722,  0.31596732,  0.08153412,  0.15295947,\n",
       "         -0.31587714,  0.08617967,  0.07532841, -0.19640437, -0.24373126,\n",
       "         -0.23324193,  0.08306253, -0.30364522, -0.2222696 ,  0.3063783 ,\n",
       "         -0.23337862,  0.24453503,  0.02124593,  0.33438355, -0.08192113]],\n",
       "       dtype=float32),\n",
       " array([0., 0., 0., 0., 0., 0., 0., 0., 0., 0., 0., 0., 0., 0., 0., 0., 0.,\n",
       "        0., 0., 0., 0., 0., 0., 0., 0.], dtype=float32),\n",
       " array([[ 0.23347637,  0.35904697, -0.3996817 ,  0.09280065, -0.31970307,\n",
       "         -0.01376674, -0.16799787, -0.2067028 ,  0.01728484, -0.30834138],\n",
       "        [ 0.3717691 ,  0.2518023 , -0.21094872,  0.03913513,  0.27619973,\n",
       "          0.18960997, -0.18010107, -0.22606015, -0.21853247,  0.06542087],\n",
       "        [-0.18878244, -0.08058405,  0.39585218,  0.39308026, -0.27230293,\n",
       "         -0.3724936 ,  0.3709257 ,  0.21106777,  0.07997447,  0.05226192],\n",
       "        [ 0.19593725, -0.29203027,  0.20823744, -0.03890079,  0.0572021 ,\n",
       "          0.1402764 , -0.21570636, -0.1951903 , -0.20564142, -0.40846908],\n",
       "        [-0.19323023,  0.2818235 ,  0.13968936, -0.34055132, -0.29415265,\n",
       "          0.39503017, -0.33695453,  0.10943559,  0.32050207, -0.31052408],\n",
       "        [ 0.01089811, -0.2028013 ,  0.16148904, -0.17445488,  0.12346718,\n",
       "         -0.22145343, -0.18657537, -0.30210194, -0.2629978 ,  0.09724686],\n",
       "        [-0.06090951, -0.02085721, -0.2991327 ,  0.08550349, -0.22560616,\n",
       "         -0.4044888 , -0.3413273 , -0.21164653,  0.09161207, -0.3785136 ],\n",
       "        [ 0.13029322, -0.3709185 ,  0.1752297 ,  0.01174033, -0.29635775,\n",
       "         -0.23133636,  0.33491984, -0.26164895,  0.24826822,  0.12794784],\n",
       "        [ 0.31874385,  0.28055695,  0.30365285, -0.40969914,  0.34634677,\n",
       "         -0.37215066, -0.36102563,  0.10775217,  0.38853648, -0.09146211],\n",
       "        [-0.09289682, -0.03761709, -0.27289206, -0.3385085 ,  0.03300425,\n",
       "         -0.05539769, -0.14705801, -0.39253277, -0.35732242, -0.10108176],\n",
       "        [ 0.34875032, -0.3953562 , -0.33033928,  0.33584782, -0.19246735,\n",
       "          0.35073617,  0.20954254, -0.28716365, -0.13457909,  0.05408439],\n",
       "        [-0.23716357, -0.03161278,  0.32896152,  0.26417735, -0.3350911 ,\n",
       "         -0.15568873,  0.17393395,  0.16526702, -0.14252228,  0.2356858 ],\n",
       "        [ 0.35362706, -0.12465817,  0.37157091,  0.34943286,  0.38067934,\n",
       "         -0.11046636,  0.05179787, -0.3919713 ,  0.2888879 , -0.02732095],\n",
       "        [ 0.07879424,  0.03827879, -0.34763527,  0.05244097,  0.2767069 ,\n",
       "          0.33293638, -0.11980861,  0.03076324,  0.14169219, -0.09875238],\n",
       "        [-0.26396245, -0.09509343,  0.06335577,  0.38741192, -0.36736634,\n",
       "          0.37140676, -0.20414974,  0.10129091,  0.35317996,  0.00944313],\n",
       "        [-0.392845  ,  0.20051238,  0.11905435,  0.34034023, -0.22422603,\n",
       "          0.0518108 ,  0.36901972,  0.01715395, -0.28477782,  0.12634143],\n",
       "        [-0.06461656, -0.01603886,  0.18656203,  0.12349966, -0.262505  ,\n",
       "         -0.22399504,  0.22079602, -0.3628173 ,  0.05456641, -0.32624567],\n",
       "        [ 0.17447433, -0.18296912, -0.27737123, -0.20205304,  0.25046882,\n",
       "          0.3491679 ,  0.3072566 ,  0.1468902 ,  0.06650132,  0.01463336],\n",
       "        [ 0.27375916, -0.27171856,  0.20457914,  0.18629727, -0.0867309 ,\n",
       "         -0.2502191 , -0.27528363,  0.23474327, -0.2306957 ,  0.34407648],\n",
       "        [-0.1378896 ,  0.40397975, -0.39238864,  0.39218894,  0.1194326 ,\n",
       "         -0.06982544, -0.41208243, -0.2995857 ,  0.2415106 , -0.3161123 ],\n",
       "        [ 0.3441994 ,  0.24663278, -0.15956467, -0.2826125 ,  0.14254203,\n",
       "         -0.3206074 ,  0.31868836,  0.17990366, -0.13430694, -0.03149453],\n",
       "        [ 0.24926224,  0.39270237, -0.3989898 , -0.41309246, -0.08077458,\n",
       "         -0.04376358, -0.41108245, -0.09408465, -0.3274427 , -0.38623428],\n",
       "        [-0.33782282,  0.05223349, -0.01070303, -0.19728778, -0.17105347,\n",
       "         -0.03984371,  0.12885317,  0.29299435, -0.39489284, -0.17978953],\n",
       "        [ 0.14276621,  0.1002104 , -0.13383538,  0.05479285, -0.36666498,\n",
       "         -0.05878687, -0.00682169,  0.0484314 , -0.07094553, -0.09917459],\n",
       "        [ 0.19633391,  0.25347874,  0.271799  ,  0.16950408, -0.2792349 ,\n",
       "         -0.35179558, -0.38127506, -0.21690555, -0.3306217 , -0.178801  ]],\n",
       "       dtype=float32),\n",
       " array([0., 0., 0., 0., 0., 0., 0., 0., 0., 0.], dtype=float32)]"
      ]
     },
     "execution_count": 26,
     "metadata": {},
     "output_type": "execute_result"
    }
   ],
   "source": [
    "pesos_iniciais"
   ]
  },
  {
   "cell_type": "markdown",
   "metadata": {},
   "source": [
    "## Treinamento\n",
    "\n",
    "Agora vem a parte de treinamento da rede neural. Para isso, basta usar o método ``.fit()`` e definir a quantidade de epochs, conjunto de treino e conjunto de validação. O parâmetro ``verbose`` define se informações de treinamento devem ser exibidas na tela a cada epoch."
   ]
  },
  {
   "cell_type": "code",
   "execution_count": 27,
   "metadata": {
    "scrolled": true
   },
   "outputs": [
    {
     "name": "stdout",
     "output_type": "stream",
     "text": [
      "Epoch 1/100\n"
     ]
    },
    {
     "name": "stderr",
     "output_type": "stream",
     "text": [
      "2022-09-29 19:09:53.596674: W tensorflow/core/framework/cpu_allocator_impl.cc:82] Allocation of 169344000 exceeds 10% of free system memory.\n"
     ]
    },
    {
     "name": "stdout",
     "output_type": "stream",
     "text": [
      "1688/1688 [==============================] - 5s 2ms/step - loss: 0.4048 - val_loss: 0.2356\n",
      "Epoch 2/100\n",
      "1688/1688 [==============================] - 4s 2ms/step - loss: 0.1971 - val_loss: 0.1964\n",
      "Epoch 3/100\n",
      "1688/1688 [==============================] - 4s 2ms/step - loss: 0.1628 - val_loss: 0.1853\n",
      "Epoch 4/100\n",
      "1688/1688 [==============================] - 4s 2ms/step - loss: 0.1406 - val_loss: 0.1524\n",
      "Epoch 5/100\n",
      "1688/1688 [==============================] - 4s 2ms/step - loss: 0.1291 - val_loss: 0.1500\n",
      "Epoch 6/100\n",
      "1688/1688 [==============================] - 4s 2ms/step - loss: 0.1186 - val_loss: 0.1516\n",
      "Epoch 7/100\n",
      "1688/1688 [==============================] - 4s 2ms/step - loss: 0.1107 - val_loss: 0.1568\n",
      "Epoch 8/100\n",
      "1688/1688 [==============================] - 4s 2ms/step - loss: 0.1052 - val_loss: 0.1555\n",
      "Epoch 9/100\n",
      "1688/1688 [==============================] - 4s 2ms/step - loss: 0.1019 - val_loss: 0.1580\n",
      "Epoch 10/100\n",
      "1688/1688 [==============================] - 4s 2ms/step - loss: 0.0982 - val_loss: 0.1641\n",
      "Epoch 11/100\n",
      "1688/1688 [==============================] - 4s 2ms/step - loss: 0.0920 - val_loss: 0.1750\n",
      "Epoch 12/100\n",
      "1688/1688 [==============================] - 4s 2ms/step - loss: 0.0904 - val_loss: 0.1512\n",
      "Epoch 13/100\n",
      "1688/1688 [==============================] - 4s 2ms/step - loss: 0.0865 - val_loss: 0.1647\n",
      "Epoch 14/100\n",
      "1688/1688 [==============================] - 4s 2ms/step - loss: 0.0846 - val_loss: 0.1655\n",
      "Epoch 15/100\n",
      "1688/1688 [==============================] - 4s 2ms/step - loss: 0.0824 - val_loss: 0.1615\n",
      "Epoch 16/100\n",
      "1688/1688 [==============================] - 4s 2ms/step - loss: 0.0805 - val_loss: 0.1770\n",
      "Epoch 17/100\n",
      "1688/1688 [==============================] - 4s 2ms/step - loss: 0.0772 - val_loss: 0.2024\n",
      "Epoch 18/100\n",
      "1688/1688 [==============================] - 4s 2ms/step - loss: 0.0778 - val_loss: 0.1877\n",
      "Epoch 19/100\n",
      "1688/1688 [==============================] - 4s 2ms/step - loss: 0.0779 - val_loss: 0.1874\n",
      "Epoch 20/100\n",
      "1688/1688 [==============================] - 4s 2ms/step - loss: 0.0751 - val_loss: 0.1883\n",
      "Epoch 21/100\n",
      "1688/1688 [==============================] - 4s 2ms/step - loss: 0.0738 - val_loss: 0.1947\n",
      "Epoch 22/100\n",
      "1688/1688 [==============================] - 4s 2ms/step - loss: 0.0712 - val_loss: 0.1954\n",
      "Epoch 23/100\n",
      "1688/1688 [==============================] - 4s 2ms/step - loss: 0.0705 - val_loss: 0.2102\n",
      "Epoch 24/100\n",
      "1688/1688 [==============================] - 4s 2ms/step - loss: 0.0698 - val_loss: 0.2094\n",
      "Epoch 25/100\n",
      "1688/1688 [==============================] - 4s 2ms/step - loss: 0.0699 - val_loss: 0.2171\n",
      "Epoch 26/100\n",
      "1688/1688 [==============================] - 4s 2ms/step - loss: 0.0668 - val_loss: 0.2264\n",
      "Epoch 27/100\n",
      "1688/1688 [==============================] - 4s 2ms/step - loss: 0.0668 - val_loss: 0.2178\n",
      "Epoch 28/100\n",
      "1688/1688 [==============================] - 4s 2ms/step - loss: 0.0682 - val_loss: 0.2389\n",
      "Epoch 29/100\n",
      "1688/1688 [==============================] - 4s 2ms/step - loss: 0.0664 - val_loss: 0.2692\n",
      "Epoch 30/100\n",
      "1688/1688 [==============================] - 4s 2ms/step - loss: 0.0660 - val_loss: 0.2310\n",
      "Epoch 31/100\n",
      "1688/1688 [==============================] - 4s 2ms/step - loss: 0.0642 - val_loss: 0.2446\n",
      "Epoch 32/100\n",
      "1688/1688 [==============================] - 4s 2ms/step - loss: 0.0624 - val_loss: 0.2508\n",
      "Epoch 33/100\n",
      "1688/1688 [==============================] - 4s 2ms/step - loss: 0.0652 - val_loss: 0.2467\n",
      "Epoch 34/100\n",
      "1688/1688 [==============================] - 4s 2ms/step - loss: 0.0637 - val_loss: 0.2413\n",
      "Epoch 35/100\n",
      "1688/1688 [==============================] - 4s 2ms/step - loss: 0.0640 - val_loss: 0.2692\n",
      "Epoch 36/100\n",
      "1688/1688 [==============================] - 4s 2ms/step - loss: 0.0613 - val_loss: 0.2875\n",
      "Epoch 37/100\n",
      "1688/1688 [==============================] - 4s 2ms/step - loss: 0.0620 - val_loss: 0.2834\n",
      "Epoch 38/100\n",
      "1688/1688 [==============================] - 4s 2ms/step - loss: 0.0598 - val_loss: 0.2769\n",
      "Epoch 39/100\n",
      "1688/1688 [==============================] - 4s 2ms/step - loss: 0.0606 - val_loss: 0.2933\n",
      "Epoch 40/100\n",
      "1688/1688 [==============================] - 4s 2ms/step - loss: 0.0594 - val_loss: 0.2941\n",
      "Epoch 41/100\n",
      "1688/1688 [==============================] - 4s 2ms/step - loss: 0.0596 - val_loss: 0.2887\n",
      "Epoch 42/100\n",
      "1688/1688 [==============================] - 4s 2ms/step - loss: 0.0579 - val_loss: 0.3399\n",
      "Epoch 43/100\n",
      "1688/1688 [==============================] - 4s 2ms/step - loss: 0.0566 - val_loss: 0.3557\n",
      "Epoch 44/100\n",
      "1688/1688 [==============================] - 4s 2ms/step - loss: 0.0605 - val_loss: 0.3228\n",
      "Epoch 45/100\n",
      "1688/1688 [==============================] - 4s 2ms/step - loss: 0.0596 - val_loss: 0.3045\n",
      "Epoch 46/100\n",
      "1688/1688 [==============================] - 4s 2ms/step - loss: 0.0556 - val_loss: 0.3248\n",
      "Epoch 47/100\n",
      "1688/1688 [==============================] - 4s 2ms/step - loss: 0.0567 - val_loss: 0.3287\n",
      "Epoch 48/100\n",
      "1688/1688 [==============================] - 4s 2ms/step - loss: 0.0566 - val_loss: 0.3824\n",
      "Epoch 49/100\n",
      "1688/1688 [==============================] - 4s 2ms/step - loss: 0.0570 - val_loss: 0.3624\n",
      "Epoch 50/100\n",
      "1688/1688 [==============================] - 4s 2ms/step - loss: 0.0585 - val_loss: 0.4035\n",
      "Epoch 51/100\n",
      "1688/1688 [==============================] - 4s 2ms/step - loss: 0.0567 - val_loss: 0.3547\n",
      "Epoch 52/100\n",
      "1688/1688 [==============================] - 4s 2ms/step - loss: 0.0551 - val_loss: 0.3617\n",
      "Epoch 53/100\n",
      "1688/1688 [==============================] - 4s 2ms/step - loss: 0.0583 - val_loss: 0.3685\n",
      "Epoch 54/100\n",
      "1688/1688 [==============================] - 4s 2ms/step - loss: 0.0546 - val_loss: 0.3848\n",
      "Epoch 55/100\n",
      "1688/1688 [==============================] - 4s 2ms/step - loss: 0.0569 - val_loss: 0.4076\n",
      "Epoch 56/100\n",
      "1688/1688 [==============================] - 4s 2ms/step - loss: 0.0555 - val_loss: 0.3924\n",
      "Epoch 57/100\n",
      "1688/1688 [==============================] - 4s 2ms/step - loss: 0.0549 - val_loss: 0.4493\n",
      "Epoch 58/100\n",
      "1688/1688 [==============================] - 4s 2ms/step - loss: 0.0536 - val_loss: 0.3853\n",
      "Epoch 59/100\n",
      "1688/1688 [==============================] - 4s 2ms/step - loss: 0.0543 - val_loss: 0.4010\n",
      "Epoch 60/100\n",
      "1688/1688 [==============================] - 4s 2ms/step - loss: 0.0552 - val_loss: 0.4435\n",
      "Epoch 61/100\n",
      "1688/1688 [==============================] - 4s 2ms/step - loss: 0.0535 - val_loss: 0.4266\n",
      "Epoch 62/100\n",
      "1688/1688 [==============================] - 4s 2ms/step - loss: 0.0524 - val_loss: 0.4597\n",
      "Epoch 63/100\n",
      "1688/1688 [==============================] - 4s 2ms/step - loss: 0.0526 - val_loss: 0.4498\n",
      "Epoch 64/100\n",
      "1688/1688 [==============================] - 4s 2ms/step - loss: 0.0519 - val_loss: 0.4827\n",
      "Epoch 65/100\n",
      "1688/1688 [==============================] - 4s 2ms/step - loss: 0.0499 - val_loss: 0.4971\n",
      "Epoch 66/100\n",
      "1688/1688 [==============================] - 4s 2ms/step - loss: 0.0532 - val_loss: 0.4203\n",
      "Epoch 67/100\n",
      "1688/1688 [==============================] - 4s 2ms/step - loss: 0.0489 - val_loss: 0.4605\n",
      "Epoch 68/100\n",
      "1688/1688 [==============================] - 4s 2ms/step - loss: 0.0520 - val_loss: 0.4843\n",
      "Epoch 69/100\n",
      "1688/1688 [==============================] - 4s 2ms/step - loss: 0.0512 - val_loss: 0.4697\n",
      "Epoch 70/100\n",
      "1688/1688 [==============================] - 4s 2ms/step - loss: 0.0549 - val_loss: 0.5165\n",
      "Epoch 71/100\n",
      "1688/1688 [==============================] - 4s 2ms/step - loss: 0.0482 - val_loss: 0.4730\n",
      "Epoch 72/100\n",
      "1688/1688 [==============================] - 4s 2ms/step - loss: 0.0472 - val_loss: 0.4997\n",
      "Epoch 73/100\n",
      "1688/1688 [==============================] - 4s 2ms/step - loss: 0.0518 - val_loss: 0.4906\n",
      "Epoch 74/100\n",
      "1688/1688 [==============================] - 4s 3ms/step - loss: 0.0533 - val_loss: 0.4740\n",
      "Epoch 75/100\n",
      "1688/1688 [==============================] - 4s 2ms/step - loss: 0.0484 - val_loss: 0.4895\n",
      "Epoch 76/100\n",
      "1688/1688 [==============================] - 4s 2ms/step - loss: 0.0517 - val_loss: 0.5248\n",
      "Epoch 77/100\n",
      "1688/1688 [==============================] - 4s 2ms/step - loss: 0.0488 - val_loss: 0.5219\n",
      "Epoch 78/100\n",
      "1688/1688 [==============================] - 4s 2ms/step - loss: 0.0519 - val_loss: 0.5555\n",
      "Epoch 79/100\n",
      "1688/1688 [==============================] - 4s 2ms/step - loss: 0.0498 - val_loss: 0.5227\n",
      "Epoch 80/100\n",
      "1688/1688 [==============================] - 4s 2ms/step - loss: 0.0508 - val_loss: 0.5794\n",
      "Epoch 81/100\n",
      "1688/1688 [==============================] - 4s 2ms/step - loss: 0.0497 - val_loss: 0.6047\n",
      "Epoch 82/100\n",
      "1688/1688 [==============================] - 4s 2ms/step - loss: 0.0497 - val_loss: 0.5532\n",
      "Epoch 83/100\n",
      "1688/1688 [==============================] - 4s 2ms/step - loss: 0.0501 - val_loss: 0.5467\n",
      "Epoch 84/100\n",
      "1688/1688 [==============================] - 4s 2ms/step - loss: 0.0507 - val_loss: 0.6365\n",
      "Epoch 85/100\n",
      "1688/1688 [==============================] - 4s 2ms/step - loss: 0.0508 - val_loss: 0.5715\n",
      "Epoch 86/100\n",
      "1688/1688 [==============================] - 4s 2ms/step - loss: 0.0481 - val_loss: 0.6427\n",
      "Epoch 87/100\n",
      "1688/1688 [==============================] - 4s 2ms/step - loss: 0.0466 - val_loss: 0.5701\n",
      "Epoch 88/100\n",
      "1688/1688 [==============================] - 4s 2ms/step - loss: 0.0485 - val_loss: 0.5755\n",
      "Epoch 89/100\n",
      "1688/1688 [==============================] - 4s 2ms/step - loss: 0.0487 - val_loss: 0.6012\n",
      "Epoch 90/100\n",
      "1688/1688 [==============================] - 4s 2ms/step - loss: 0.0485 - val_loss: 0.6418\n",
      "Epoch 91/100\n",
      "1688/1688 [==============================] - 4s 2ms/step - loss: 0.0492 - val_loss: 0.6767\n",
      "Epoch 92/100\n",
      "1688/1688 [==============================] - 4s 2ms/step - loss: 0.0516 - val_loss: 0.6629\n",
      "Epoch 93/100\n",
      "1688/1688 [==============================] - 4s 2ms/step - loss: 0.0467 - val_loss: 0.7063\n",
      "Epoch 94/100\n",
      "1688/1688 [==============================] - 4s 2ms/step - loss: 0.0484 - val_loss: 0.6327\n",
      "Epoch 95/100\n",
      "1688/1688 [==============================] - 4s 2ms/step - loss: 0.0502 - val_loss: 0.6734\n",
      "Epoch 96/100\n",
      "1688/1688 [==============================] - 4s 2ms/step - loss: 0.0474 - val_loss: 0.6667\n",
      "Epoch 97/100\n",
      "1688/1688 [==============================] - 4s 2ms/step - loss: 0.0472 - val_loss: 0.6904\n",
      "Epoch 98/100\n",
      "1688/1688 [==============================] - 4s 2ms/step - loss: 0.0461 - val_loss: 0.6426\n",
      "Epoch 99/100\n",
      "1688/1688 [==============================] - 4s 2ms/step - loss: 0.0468 - val_loss: 0.6628\n",
      "Epoch 100/100\n",
      "1688/1688 [==============================] - 4s 2ms/step - loss: 0.0479 - val_loss: 0.7104\n"
     ]
    }
   ],
   "source": [
    "historico = rede_simples.fit(X_train,\n",
    "                             y_train,\n",
    "                             epochs = 100,\n",
    "                             verbose = 1,\n",
    "                             validation_data = (X_val, y_val))"
   ]
  },
  {
   "cell_type": "markdown",
   "metadata": {},
   "source": [
    "O que está acontecendo acima?\n",
    "\n",
    "O treinamento de uma rede neural (e de todo modelo de machine learning, na verdade) consiste em um **problema de otimização**, em que queremos encontrar **o valor mínimo da função de perda**\n",
    "\n",
    "No nosso caso, a função de perda é a \"__categorical crossentropy__, cuja expressão matemática é:\n",
    "\n",
    "$$ L(y, \\hat{y}) = - \\sum_i{y_i \\log \\hat{y}_i}$$, \n",
    "\n",
    "onde $\\hat{y}$, a previsão do modelo, é uma expressão bem complicada, que relaciona todos os pesos e funções de ativação de toda a rede neural.\n",
    "\n",
    "Como mencionamos, as redes neurais utilizam o procedimento de **Backward Propagation** em seu treinamento (cujo objetivo é **determinar os pesos**):\n",
    "\n",
    "<img src=\"https://machinelearningknowledge.ai/wp-content/uploads/2019/10/Backpropagation.gif\" width=600>\n",
    "\n",
    "Matematicamente, o Backward Propagation é implementado através de algum **método de otimização**, com o fim de **determinar os pesos que minimizam a função de perda**. O principal método utilizado para este fim é o **gradiente descendente**:\n",
    "\n",
    "<img src=\"https://thumbs.gfycat.com/AngryInconsequentialDiplodocus-size_restricted.gif\" width=1000>\n",
    "\n",
    "Então, o que está acontecendo acima, é que **em cada epoch**, o Keras faz o Forward Propagation, avalia as predições, e depois segue com o Backward Propagation para atualizar os pesos. Este processo é realizado pelo número de vezes (epochs) que determinarmos!"
   ]
  },
  {
   "cell_type": "markdown",
   "metadata": {},
   "source": [
    "Após o __modelo treinado__, agora devemos **fazer predições** e **avaliar a performance**:"
   ]
  },
  {
   "cell_type": "code",
   "execution_count": 28,
   "metadata": {},
   "outputs": [
    {
     "name": "stdout",
     "output_type": "stream",
     "text": [
      "313/313 [==============================] - 1s 2ms/step\n"
     ]
    },
    {
     "data": {
      "text/plain": [
       "array([7, 2, 1, ..., 4, 5, 6])"
      ]
     },
     "execution_count": 28,
     "metadata": {},
     "output_type": "execute_result"
    }
   ],
   "source": [
    "y_pred = np.argmax(rede_simples.predict(X_test), \n",
    "                   axis = 1)\n",
    "y_pred"
   ]
  },
  {
   "cell_type": "code",
   "execution_count": 29,
   "metadata": {},
   "outputs": [
    {
     "data": {
      "text/plain": [
       "array([7, 2, 1, ..., 4, 5, 6])"
      ]
     },
     "execution_count": 29,
     "metadata": {},
     "output_type": "execute_result"
    }
   ],
   "source": [
    "y_test = np.argmax(y_test, axis = 1)\n",
    "y_test"
   ]
  },
  {
   "cell_type": "code",
   "execution_count": 30,
   "metadata": {},
   "outputs": [
    {
     "name": "stdout",
     "output_type": "stream",
     "text": [
      "              precision    recall  f1-score   support\n",
      "\n",
      "           0       0.96      0.98      0.97       980\n",
      "           1       0.97      0.99      0.98      1135\n",
      "           2       0.96      0.94      0.95      1032\n",
      "           3       0.93      0.97      0.95      1010\n",
      "           4       0.97      0.95      0.96       982\n",
      "           5       0.96      0.95      0.96       892\n",
      "           6       0.98      0.96      0.97       958\n",
      "           7       0.95      0.96      0.95      1028\n",
      "           8       0.95      0.93      0.94       974\n",
      "           9       0.96      0.94      0.95      1009\n",
      "\n",
      "    accuracy                           0.96     10000\n",
      "   macro avg       0.96      0.96      0.96     10000\n",
      "weighted avg       0.96      0.96      0.96     10000\n",
      "\n"
     ]
    }
   ],
   "source": [
    "from sklearn.metrics import classification_report\n",
    "\n",
    "print(classification_report(y_test, y_pred))"
   ]
  },
  {
   "cell_type": "code",
   "execution_count": 31,
   "metadata": {},
   "outputs": [
    {
     "data": {
      "image/png": "[encoded data removed]",
      "text/plain": [
       "<Figure size 432x288 with 1 Axes>"
      ]
     },
     "metadata": {
      "needs_background": "light"
     },
     "output_type": "display_data"
    }
   ],
   "source": [
    "from mlxtend.plotting import plot_confusion_matrix\n",
    "from sklearn.metrics import confusion_matrix\n",
    "\n",
    "cm = confusion_matrix(y_test, y_pred)\n",
    "\n",
    "plot_confusion_matrix(conf_mat = cm)\n",
    "plt.show()"
   ]
  },
  {
   "cell_type": "markdown",
   "metadata": {},
   "source": [
    "O modelo teve uma performance muito boa, com uma acurácia de 96%, mas algumas coisas devem ser observadas a partir desse resultado como por exemplo a possibilidade de __Overfitting!__"
   ]
  },
  {
   "cell_type": "markdown",
   "metadata": {},
   "source": [
    "O **Overfitting** é algo que pode ser bastante comum em redes neurais se não for bem tratado, porque ele é um modelo altamente não linear. Relembrando, o overfitting está intimamente relacionado com o tradeoff viés-variância:\n",
    "\n",
    "<img src=\"https://www.learnopencv.com/wp-content/uploads/2017/02/Bias-Variance-Tradeoff-In-Machine-Learning-1.png\" width=600>\n",
    "\n",
    "Podemos visualizar esta característica em nosso modelo ao **plotar** o valor da **função de perda** a cada epoch:"
   ]
  },
  {
   "cell_type": "code",
   "execution_count": 32,
   "metadata": {},
   "outputs": [],
   "source": [
    "# loss e val_loss\n",
    "loss = historico.history['loss']\n",
    "val_loss = historico.history['val_loss']\n",
    "epochs = range(len(loss))"
   ]
  },
  {
   "cell_type": "code",
   "execution_count": 33,
   "metadata": {},
   "outputs": [
    {
     "data": {
      "image/png": "[encoded data removed]",
      "text/plain": [
       "<Figure size 864x432 with 1 Axes>"
      ]
     },
     "metadata": {
      "needs_background": "light"
     },
     "output_type": "display_data"
    }
   ],
   "source": [
    "plt.figure(figsize = (12, 6))\n",
    "plt.plot(epochs, loss, 'blue', label = 'Training Loss')\n",
    "plt.plot(epochs, val_loss, 'green', label = 'Validation Loss')\n",
    "plt.legend()\n",
    "plt.show()"
   ]
  },
  {
   "cell_type": "markdown",
   "metadata": {},
   "source": [
    "Pelo gráfico, é possível perceber que mais ou menos a partir da 15ª época a função de perda continuou decrescedo pro conjunto de treinamento, mas no conjunto de validação isso se manteve fixo por um tempo e depois começou a perder desempenho.\n",
    "\n",
    "A curva acima é muito parecida com o nosso exemplo do tradeoff vié-variância, não é mesmo?!\n",
    "\n",
    "Temos, portanto, um forte indício que está começando a ocorrer overfitting!\n",
    "\n",
    "Para evitarmos isso, pode ser interessante que o **treinamento seja interrompido antes do overfitting começar a ocorrer**! Esta técnica é conhecida como **early stopping**:\n",
    "<br><br>\n",
    "\n",
    "### Early Stopping\n",
    "\n",
    "Para interromper um treinamento, podemos usar o callback de ``EarlyStopping()``. Esse callback pode receber alguns parâmetros, como o que ele deve monitorar (``monitor``), a diferença mínima que deve ser considerada pra ser um avanço (``min_delta``) e a quantidade de épocas que devem se manter sem avanço até de fato interromper o treinamento (``patience``). No exemplo a seguir, estamos monitorando a função de perda do conjunto de validação, consideramos um avanço mínimo o valor de 0.001 e paciência de 10 épocas. \n",
    "\n",
    "Ou seja, **se a função de perda na validação não tiver uma redução de pelo menos 0.001 por 10 épocas**, o treinamento será interrompido."
   ]
  },
  {
   "cell_type": "code",
   "execution_count": 34,
   "metadata": {
    "scrolled": true
   },
   "outputs": [],
   "source": [
    "from tensorflow.keras.callbacks import EarlyStopping\n",
    "\n",
    "early_stop = EarlyStopping(monitor = 'val_loss',\n",
    "                           min_delta = \n",
    "                           0.001,\n",
    "                          patience = 10,\n",
    "                          verbose = 1,\n",
    "                          mode = 'auto')"
   ]
  },
  {
   "cell_type": "code",
   "execution_count": 35,
   "metadata": {},
   "outputs": [
    {
     "name": "stdout",
     "output_type": "stream",
     "text": [
      "Epoch 1/100\n",
      "  44/1688 [..............................] - ETA: 3s - loss: 2.0764"
     ]
    },
    {
     "name": "stderr",
     "output_type": "stream",
     "text": [
      "2022-09-29 19:16:26.075831: W tensorflow/core/framework/cpu_allocator_impl.cc:82] Allocation of 169344000 exceeds 10% of free system memory.\n"
     ]
    },
    {
     "name": "stdout",
     "output_type": "stream",
     "text": [
      "1688/1688 [==============================] - 4s 2ms/step - loss: 0.4261 - val_loss: 0.2438\n",
      "Epoch 2/100\n",
      "1688/1688 [==============================] - 4s 2ms/step - loss: 0.1982 - val_loss: 0.1977\n",
      "Epoch 3/100\n",
      "1688/1688 [==============================] - 4s 2ms/step - loss: 0.1644 - val_loss: 0.1791\n",
      "Epoch 4/100\n",
      "1688/1688 [==============================] - 4s 2ms/step - loss: 0.1453 - val_loss: 0.1754\n",
      "Epoch 5/100\n",
      "1688/1688 [==============================] - 4s 2ms/step - loss: 0.1320 - val_loss: 0.1787\n",
      "Epoch 6/100\n",
      "1688/1688 [==============================] - 4s 2ms/step - loss: 0.1222 - val_loss: 0.1683\n",
      "Epoch 7/100\n",
      "1688/1688 [==============================] - 4s 2ms/step - loss: 0.1157 - val_loss: 0.1681\n",
      "Epoch 8/100\n",
      "1688/1688 [==============================] - 4s 2ms/step - loss: 0.1091 - val_loss: 0.1731\n",
      "Epoch 9/100\n",
      "1688/1688 [==============================] - 4s 2ms/step - loss: 0.1052 - val_loss: 0.1702\n",
      "Epoch 10/100\n",
      "1688/1688 [==============================] - 4s 2ms/step - loss: 0.1009 - val_loss: 0.1569\n",
      "Epoch 11/100\n",
      "1688/1688 [==============================] - 4s 2ms/step - loss: 0.0969 - val_loss: 0.1746\n",
      "Epoch 12/100\n",
      "1688/1688 [==============================] - 4s 2ms/step - loss: 0.0931 - val_loss: 0.1734\n",
      "Epoch 13/100\n",
      "1688/1688 [==============================] - 4s 2ms/step - loss: 0.0901 - val_loss: 0.1740\n",
      "Epoch 14/100\n",
      "1688/1688 [==============================] - 4s 2ms/step - loss: 0.0880 - val_loss: 0.1729\n",
      "Epoch 15/100\n",
      "1688/1688 [==============================] - 4s 2ms/step - loss: 0.0846 - val_loss: 0.1738\n",
      "Epoch 16/100\n",
      "1688/1688 [==============================] - 4s 2ms/step - loss: 0.0845 - val_loss: 0.1889\n",
      "Epoch 17/100\n",
      "1688/1688 [==============================] - 4s 2ms/step - loss: 0.0809 - val_loss: 0.2032\n",
      "Epoch 18/100\n",
      "1688/1688 [==============================] - 4s 2ms/step - loss: 0.0800 - val_loss: 0.1989\n",
      "Epoch 19/100\n",
      "1688/1688 [==============================] - 4s 2ms/step - loss: 0.0764 - val_loss: 0.1998\n",
      "Epoch 20/100\n",
      "1688/1688 [==============================] - 4s 2ms/step - loss: 0.0770 - val_loss: 0.1852\n",
      "Epoch 20: early stopping\n"
     ]
    }
   ],
   "source": [
    "# Retomando as valores de pesos iniciais igual ao primeiro treinamento\n",
    "rede_simples.set_weights(pesos_iniciais)\n",
    "\n",
    "historico = rede_simples.fit(X_train,\n",
    "                             y_train,\n",
    "                             epochs = 100,\n",
    "                             verbose = 1,\n",
    "                             validation_data = (X_val, y_val),\n",
    "                             callbacks = [early_stop])"
   ]
  },
  {
   "cell_type": "markdown",
   "metadata": {},
   "source": [
    "É possível perceber que o treinamento foi interrompido pouco depois da __epoch 15__, bem antes do total de epochs definido inicialmente. Vamos agora fazer predições e avaliar o modelo:"
   ]
  },
  {
   "cell_type": "code",
   "execution_count": 36,
   "metadata": {},
   "outputs": [],
   "source": [
    "# loss e val_loss\n",
    "loss = historico.history['loss']\n",
    "val_loss = historico.history['val_loss']\n",
    "epochs = range(len(loss))"
   ]
  },
  {
   "cell_type": "code",
   "execution_count": 37,
   "metadata": {
    "scrolled": false
   },
   "outputs": [
    {
     "data": {
      "image/png": "[encoded data removed]",
      "text/plain": [
       "<Figure size 864x432 with 1 Axes>"
      ]
     },
     "metadata": {
      "needs_background": "light"
     },
     "output_type": "display_data"
    }
   ],
   "source": [
    "plt.figure(figsize = (12, 6))\n",
    "plt.plot(epochs, loss, 'blue', label = 'Training Loss')\n",
    "plt.plot(epochs, val_loss, 'green', label = 'Validation Loss')\n",
    "plt.legend()\n",
    "plt.show()"
   ]
  },
  {
   "cell_type": "code",
   "execution_count": 38,
   "metadata": {},
   "outputs": [
    {
     "name": "stdout",
     "output_type": "stream",
     "text": [
      "313/313 [==============================] - 0s 2ms/step\n"
     ]
    },
    {
     "data": {
      "text/plain": [
       "array([7, 2, 1, ..., 4, 5, 6])"
      ]
     },
     "execution_count": 38,
     "metadata": {},
     "output_type": "execute_result"
    }
   ],
   "source": [
    "y_pred = np.argmax(rede_simples.predict(X_test), axis = 1)\n",
    "y_pred"
   ]
  },
  {
   "cell_type": "code",
   "execution_count": 39,
   "metadata": {},
   "outputs": [
    {
     "name": "stdout",
     "output_type": "stream",
     "text": [
      "              precision    recall  f1-score   support\n",
      "\n",
      "           0       0.97      0.98      0.98       980\n",
      "           1       0.99      0.99      0.99      1135\n",
      "           2       0.97      0.95      0.96      1032\n",
      "           3       0.94      0.98      0.96      1010\n",
      "           4       0.98      0.95      0.96       982\n",
      "           5       0.97      0.96      0.97       892\n",
      "           6       0.97      0.96      0.97       958\n",
      "           7       0.97      0.97      0.97      1028\n",
      "           8       0.94      0.96      0.95       974\n",
      "           9       0.96      0.95      0.95      1009\n",
      "\n",
      "    accuracy                           0.97     10000\n",
      "   macro avg       0.97      0.97      0.97     10000\n",
      "weighted avg       0.97      0.97      0.97     10000\n",
      "\n"
     ]
    }
   ],
   "source": [
    "from sklearn.metrics import classification_report\n",
    "\n",
    "print(classification_report(y_test, y_pred))"
   ]
  },
  {
   "cell_type": "code",
   "execution_count": 40,
   "metadata": {},
   "outputs": [
    {
     "data": {
      "image/png": "[encoded data removed]",
      "text/plain": [
       "<Figure size 432x288 with 1 Axes>"
      ]
     },
     "metadata": {
      "needs_background": "light"
     },
     "output_type": "display_data"
    }
   ],
   "source": [
    "from mlxtend.plotting import plot_confusion_matrix\n",
    "from sklearn.metrics import confusion_matrix\n",
    "\n",
    "cm = confusion_matrix(y_test, y_pred)\n",
    "\n",
    "plot_confusion_matrix(conf_mat = cm)\n",
    "plt.show()"
   ]
  },
  {
   "cell_type": "markdown",
   "metadata": {},
   "source": [
    "Agora garantindo que não houvesse o deslocamento entre o __treino__ e a __validação__ obtemos uma resultado muito bom para o nosso modeolo, e isso é um forte indicativo de que o Early Stopping ajudou a evitar o Overfitting."
   ]
  },
  {
   "cell_type": "markdown",
   "metadata": {},
   "source": [
    "Vimos acima uma forma de evitar o Overfitting em Redes Neurais, mas esta definitivamente não é a única maneira! Existem inúmeras técnicas para mitigar este problema, entre elas a aplicação de **técnicas de regularização** (leia sobre isso [aqui](https://towardsdatascience.com/how-to-improve-a-neural-network-with-regularization-8a18ecda9fe3) e [aqui](https://towardsdatascience.com/regularization-techniques-and-their-implementation-in-tensorflow-keras-c06e7551e709))), cuja implementação existe no Keras! (mais informações [aqui](https://keras.io/api/layers/regularization_layers/) e [aqui](https://keras.io/api/layers/regularizers/)))"
   ]
  },
  {
   "cell_type": "markdown",
   "metadata": {},
   "source": [
    "##   "
   ]
  },
  {
   "cell_type": "markdown",
   "metadata": {},
   "source": [
    "## Exercício"
   ]
  },
  {
   "cell_type": "markdown",
   "metadata": {},
   "source": [
    "__1)__ Refaça o exercício exemplo da aula para fixar conceitos!"
   ]
  },
  {
   "cell_type": "markdown",
   "metadata": {},
   "source": [
    "__2)__ Preencha os códigos nos __locais indicados!!!__\n",
    "\n",
    "O exercicio será montar uma Rede Neural de uma importante base de dados, muito conhecida também, chamada de __Fashion MNIST__, onde queremos classificar roupas em algumas categorias. Está base de dados contém 70,000 imagens em tons de cinza em 10 categorias. As imagens mostram artigos individuais de roupas com baixa resolução (28 por 28 pixels), como vemos aqui:\n",
    "\n",
    "<img src=\"https://tensorflow.org/images/fashion-mnist-sprite.png\" width=\"600\">"
   ]
  },
  {
   "cell_type": "code",
   "execution_count": 41,
   "metadata": {},
   "outputs": [],
   "source": [
    "# TensorFlow e tf.keras\n",
    "import tensorflow\n",
    "import keras\n",
    "\n",
    "# Bibliotecas Auxiliares\n",
    "import pandas as pd\n",
    "import numpy as np\n",
    "import matplotlib.pyplot as plt"
   ]
  },
  {
   "cell_type": "code",
   "execution_count": 42,
   "metadata": {},
   "outputs": [],
   "source": [
    "#Baixando a nossa base de dados\n",
    "\n",
    "fashion_mnist = keras.datasets.fashion_mnist\n",
    "\n",
    "(train_images, train_labels), (test_images, test_labels) = fashion_mnist.load_data()"
   ]
  },
  {
   "cell_type": "markdown",
   "metadata": {},
   "source": [
    "Carregamos 4 arrays NumPy divididos em treino e teste, e além disso as imagens são arrays NumPy de 28x28, com os valores de pixels entre 0 to 255. As labels (alvo da classificação) são um array de inteiros, no intervalo de 0 a 9. Esse corresponde com a classe de roupa que cada imagem representa:\n",
    "\n",
    "<table>\n",
    "  <tr>\n",
    "    <th>Label</th>\n",
    "    <th>Classe</th>\n",
    "  </tr>\n",
    "  <tr>\n",
    "    <td>0</td>\n",
    "    <td>Camisetas/Top (T-shirt/top)</td>\n",
    "  </tr>\n",
    "  <tr>\n",
    "    <td>1</td>\n",
    "    <td>Calça (Trouser)</td>\n",
    "  </tr>\n",
    "    <tr>\n",
    "    <td>2</td>\n",
    "    <td>Suéter (Pullover)</td>\n",
    "  </tr>\n",
    "    <tr>\n",
    "    <td>3</td>\n",
    "    <td>Vestidos (Dress)</td>\n",
    "  </tr>\n",
    "    <tr>\n",
    "    <td>4</td>\n",
    "    <td>Casaco (Coat)</td>\n",
    "  </tr>\n",
    "    <tr>\n",
    "    <td>5</td>\n",
    "    <td>Sandálias (Sandal)</td>\n",
    "  </tr>\n",
    "    <tr>\n",
    "    <td>6</td>\n",
    "    <td>Camisas (Shirt)</td>\n",
    "  </tr>\n",
    "    <tr>\n",
    "    <td>7</td>\n",
    "    <td>Tênis (Sneaker)</td>\n",
    "  </tr>\n",
    "    <tr>\n",
    "    <td>8</td>\n",
    "    <td>Bolsa (Bag)</td>\n",
    "  </tr>\n",
    "    <tr>\n",
    "    <td>9</td>\n",
    "    <td>Botas (Ankle boot)</td>\n",
    "  </tr>\n",
    "</table>\n"
   ]
  },
  {
   "cell_type": "code",
   "execution_count": 43,
   "metadata": {},
   "outputs": [],
   "source": [
    "class_names = ['T-shirt/top', \n",
    "               'Trouser', \n",
    "               'Pullover', \n",
    "               'Dress', \n",
    "               'Coat',\n",
    "               'Sandal', \n",
    "               'Shirt', \n",
    "               'Sneaker', \n",
    "               'Bag', \n",
    "               'Ankle boot']"
   ]
  },
  {
   "cell_type": "code",
   "execution_count": 44,
   "metadata": {},
   "outputs": [
    {
     "data": {
      "text/plain": [
       "(60000, 28, 28)"
      ]
     },
     "execution_count": 44,
     "metadata": {},
     "output_type": "execute_result"
    }
   ],
   "source": [
    "train_images.shape"
   ]
  },
  {
   "cell_type": "code",
   "execution_count": 45,
   "metadata": {},
   "outputs": [
    {
     "data": {
      "text/plain": [
       "60000"
      ]
     },
     "execution_count": 45,
     "metadata": {},
     "output_type": "execute_result"
    }
   ],
   "source": [
    "len(train_labels)"
   ]
  },
  {
   "cell_type": "code",
   "execution_count": 46,
   "metadata": {},
   "outputs": [
    {
     "data": {
      "text/plain": [
       "array([9, 0, 0, ..., 3, 0, 5], dtype=uint8)"
      ]
     },
     "execution_count": 46,
     "metadata": {},
     "output_type": "execute_result"
    }
   ],
   "source": [
    "train_labels"
   ]
  },
  {
   "cell_type": "code",
   "execution_count": 47,
   "metadata": {},
   "outputs": [
    {
     "data": {
      "text/plain": [
       "(10000, 28, 28)"
      ]
     },
     "execution_count": 47,
     "metadata": {},
     "output_type": "execute_result"
    }
   ],
   "source": [
    "test_images.shape"
   ]
  },
  {
   "cell_type": "code",
   "execution_count": 48,
   "metadata": {},
   "outputs": [
    {
     "data": {
      "text/plain": [
       "10000"
      ]
     },
     "execution_count": 48,
     "metadata": {},
     "output_type": "execute_result"
    }
   ],
   "source": [
    "len(test_labels)"
   ]
  },
  {
   "cell_type": "markdown",
   "metadata": {},
   "source": [
    "## Pré-Processamento dos Dados"
   ]
  },
  {
   "cell_type": "code",
   "execution_count": 49,
   "metadata": {},
   "outputs": [
    {
     "data": {
      "image/png": "[encoded data removed]",
      "text/plain": [
       "<Figure size 432x288 with 2 Axes>"
      ]
     },
     "metadata": {
      "needs_background": "light"
     },
     "output_type": "display_data"
    }
   ],
   "source": [
    "plt.figure()\n",
    "plt.imshow(train_images[0])\n",
    "plt.colorbar()\n",
    "plt.grid(False)\n",
    "plt.show()"
   ]
  },
  {
   "cell_type": "code",
   "execution_count": 50,
   "metadata": {},
   "outputs": [],
   "source": [
    "# Reshape\n",
    "\n",
    "#Faça o reshape da train_images dividindo por 255. e salvando na mesma variavel\n",
    "### COLOQUE SEU CODIGO AQUI ###\n",
    "train_images = train_images/255.0\n",
    "\n",
    "#Faça o reshape da test_images dividindo por 255. e salvando na mesma variavel\n",
    "### COLOQUE SEU CODIGO AQUI ###\n",
    "test_images = test_images/255.0"
   ]
  },
  {
   "cell_type": "code",
   "execution_count": 51,
   "metadata": {},
   "outputs": [
    {
     "data": {
      "image/png": "[encoded data removed]",
      "text/plain": [
       "<Figure size 720x720 with 25 Axes>"
      ]
     },
     "metadata": {},
     "output_type": "display_data"
    }
   ],
   "source": [
    "# alguns plots da base de teste\n",
    "\n",
    "plt.figure(figsize=(10,10))\n",
    "for i in range(25):\n",
    "    plt.subplot(5,5,i+1)\n",
    "    plt.xticks([])\n",
    "    plt.yticks([])\n",
    "    plt.grid(False)\n",
    "    plt.imshow(train_images[i], cmap=plt.cm.binary)\n",
    "    plt.xlabel(class_names[train_labels[i]])\n",
    "plt.show()"
   ]
  },
  {
   "cell_type": "code",
   "execution_count": 52,
   "metadata": {},
   "outputs": [],
   "source": [
    "# Uma outra forma de criarmos a Rede Neural camada a camada é da seguinte forma:\n",
    "\n",
    "model = keras.Sequential([\n",
    "        keras.layers.Flatten(input_shape=(28, 28)),\n",
    "        keras.layers.Dense(128, activation='relu'),\n",
    "        keras.layers.Dense(10, activation='softmax')\n",
    "])"
   ]
  },
  {
   "cell_type": "code",
   "execution_count": 53,
   "metadata": {},
   "outputs": [
    {
     "name": "stdout",
     "output_type": "stream",
     "text": [
      "Model: \"sequential_1\"\n",
      "_________________________________________________________________\n",
      " Layer (type)                Output Shape              Param #   \n",
      "=================================================================\n",
      " flatten (Flatten)           (None, 784)               0         \n",
      "                                                                 \n",
      " dense_4 (Dense)             (None, 128)               100480    \n",
      "                                                                 \n",
      " dense_5 (Dense)             (None, 10)                1290      \n",
      "                                                                 \n",
      "=================================================================\n",
      "Total params: 101,770\n",
      "Trainable params: 101,770\n",
      "Non-trainable params: 0\n",
      "_________________________________________________________________\n"
     ]
    }
   ],
   "source": [
    "# Crie um compile() com os seguintes parametros:\n",
    "# optimizer = 'adam'\n",
    "# loss = 'sparse_categorical_crossentropy'\n",
    "# metrics=['accuracy']\n",
    "\n",
    "### COLOQUE SEU CODIGO AQUI ###\n",
    "model.compile(optimizer = 'adam',\n",
    "              loss = 'sparse_categorical_crossentropy',\n",
    "              metrics = ['accuracy'])\n",
    "\n",
    "# Crie o summary() para o modelo\n",
    "### COLOQUE SEU CODIGO AQUI ###\n",
    "model.summary()"
   ]
  },
  {
   "cell_type": "code",
   "execution_count": 54,
   "metadata": {},
   "outputs": [
    {
     "name": "stdout",
     "output_type": "stream",
     "text": [
      "Epoch 1/10\n"
     ]
    },
    {
     "name": "stderr",
     "output_type": "stream",
     "text": [
      "2022-09-29 19:17:48.652504: W tensorflow/core/framework/cpu_allocator_impl.cc:82] Allocation of 188160000 exceeds 10% of free system memory.\n"
     ]
    },
    {
     "name": "stdout",
     "output_type": "stream",
     "text": [
      "1875/1875 [==============================] - 4s 2ms/step - loss: 0.4988 - accuracy: 0.8231\n",
      "Epoch 2/10\n",
      "1875/1875 [==============================] - 4s 2ms/step - loss: 0.3740 - accuracy: 0.8650\n",
      "Epoch 3/10\n",
      "1875/1875 [==============================] - 4s 2ms/step - loss: 0.3358 - accuracy: 0.8765\n",
      "Epoch 4/10\n",
      "1875/1875 [==============================] - 4s 2ms/step - loss: 0.3126 - accuracy: 0.8848\n",
      "Epoch 5/10\n",
      "1875/1875 [==============================] - 4s 2ms/step - loss: 0.2916 - accuracy: 0.8923\n",
      "Epoch 6/10\n",
      "1875/1875 [==============================] - 4s 2ms/step - loss: 0.2779 - accuracy: 0.8976\n",
      "Epoch 7/10\n",
      "1875/1875 [==============================] - 4s 2ms/step - loss: 0.2663 - accuracy: 0.9009\n",
      "Epoch 8/10\n",
      "1875/1875 [==============================] - 4s 2ms/step - loss: 0.2557 - accuracy: 0.9043\n",
      "Epoch 9/10\n",
      "1875/1875 [==============================] - 4s 2ms/step - loss: 0.2463 - accuracy: 0.9081\n",
      "Epoch 10/10\n",
      "1875/1875 [==============================] - 4s 2ms/step - loss: 0.2383 - accuracy: 0.9108\n"
     ]
    },
    {
     "data": {
      "text/plain": [
       "<keras.callbacks.History at 0x7fbcdf1e17c0>"
      ]
     },
     "execution_count": 54,
     "metadata": {},
     "output_type": "execute_result"
    }
   ],
   "source": [
    "# Faça o fit do modelo passando train_images, train_labels e epochs = 10\n",
    "### COLOQUE SEU CODIGO AQUI ###\n",
    "model.fit(train_images, train_labels, epochs = 10)"
   ]
  },
  {
   "cell_type": "code",
   "execution_count": 55,
   "metadata": {},
   "outputs": [
    {
     "name": "stdout",
     "output_type": "stream",
     "text": [
      "313/313 - 1s - loss: 0.3285 - accuracy: 0.8826 - 581ms/epoch - 2ms/step\n",
      "\n",
      "Test accuracy: 0.8826000094413757\n"
     ]
    }
   ],
   "source": [
    "# Avaliando a acurácia no teste\n",
    "\n",
    "test_loss, test_acc = model.evaluate(test_images,  test_labels, verbose=2)\n",
    "\n",
    "print('\\nTest accuracy:', test_acc)"
   ]
  },
  {
   "cell_type": "code",
   "execution_count": 56,
   "metadata": {},
   "outputs": [
    {
     "name": "stdout",
     "output_type": "stream",
     "text": [
      "313/313 [==============================] - 1s 2ms/step\n"
     ]
    },
    {
     "data": {
      "text/plain": [
       "array([9, 2, 1, ..., 8, 1, 5])"
      ]
     },
     "execution_count": 56,
     "metadata": {},
     "output_type": "execute_result"
    }
   ],
   "source": [
    "pred_labels = np.argmax(model.predict(test_images), axis = 1)\n",
    "pred_labels"
   ]
  },
  {
   "cell_type": "code",
   "execution_count": 57,
   "metadata": {},
   "outputs": [
    {
     "name": "stdout",
     "output_type": "stream",
     "text": [
      "              precision    recall  f1-score   support\n",
      "\n",
      "           0       0.78      0.88      0.82       884\n",
      "           1       0.97      1.00      0.98       971\n",
      "           2       0.76      0.81      0.78       947\n",
      "           3       0.93      0.85      0.89      1091\n",
      "           4       0.85      0.75      0.80      1132\n",
      "           5       0.98      0.95      0.97      1028\n",
      "           6       0.69      0.71      0.70       973\n",
      "           7       0.94      0.95      0.95       993\n",
      "           8       0.97      0.98      0.97       993\n",
      "           9       0.95      0.96      0.96       988\n",
      "\n",
      "    accuracy                           0.88     10000\n",
      "   macro avg       0.88      0.88      0.88     10000\n",
      "weighted avg       0.88      0.88      0.88     10000\n",
      "\n"
     ]
    }
   ],
   "source": [
    "from mlxtend.plotting import plot_confusion_matrix\n",
    "from sklearn.metrics import classification_report, confusion_matrix\n",
    "\n",
    "# Faça o print do classification_report para pred_labels e test_labels\n",
    "### COLOQUE SEU CODIGO AQUI ###\n",
    "print(classification_report(pred_labels, test_labels))"
   ]
  },
  {
   "cell_type": "code",
   "execution_count": 58,
   "metadata": {
    "scrolled": true
   },
   "outputs": [
    {
     "name": "stdout",
     "output_type": "stream",
     "text": [
      "Matriz de confusão do modelo nos dados de teste:\n",
      "\n"
     ]
    },
    {
     "data": {
      "image/png": "[encoded data removed]",
      "text/plain": [
       "<Figure size 432x288 with 1 Axes>"
      ]
     },
     "metadata": {
      "needs_background": "light"
     },
     "output_type": "display_data"
    }
   ],
   "source": [
    "# Crie a matriz de confusão para o pred_labels e test_labels\n",
    "### COLOQUE SEU CODIGO AQUI ###\n",
    "cm = confusion_matrix(pred_labels, test_labels)\n",
    "\n",
    "print(\"Matriz de confusão do modelo nos dados de teste:\\n\")\n",
    "plot_confusion_matrix(conf_mat=cm)\n",
    "plt.show()"
   ]
  },
  {
   "cell_type": "code",
   "execution_count": 59,
   "metadata": {},
   "outputs": [
    {
     "name": "stdout",
     "output_type": "stream",
     "text": [
      "313/313 [==============================] - 1s 2ms/step\n"
     ]
    }
   ],
   "source": [
    "# Trazendo a probabilidade de cada classe\n",
    "predictions = model.predict(test_images)"
   ]
  },
  {
   "cell_type": "code",
   "execution_count": 60,
   "metadata": {},
   "outputs": [],
   "source": [
    "# Função para plotar as imagens\n",
    "\n",
    "def plot_image(i, predictions_array, true_label, img):\n",
    "  predictions_array, true_label, img = predictions_array[i], true_label[i], img[i]\n",
    "  plt.grid(False)\n",
    "  plt.xticks([])\n",
    "  plt.yticks([])\n",
    "\n",
    "  plt.imshow(img, cmap=plt.cm.binary)\n",
    "\n",
    "  predicted_label = np.argmax(predictions_array)\n",
    "  if predicted_label == true_label:\n",
    "    color = 'blue'\n",
    "  else:\n",
    "    color = 'red'\n",
    "\n",
    "  plt.xlabel(\"{} {:2.0f}% ({})\".format(class_names[predicted_label],\n",
    "                                100*np.max(predictions_array),\n",
    "                                class_names[true_label]),\n",
    "                                color=color)\n",
    "\n",
    "# Cria o gráfico com as probabilidades\n",
    "\n",
    "def plot_value_array(i, predictions_array, true_label):\n",
    "  predictions_array, true_label = predictions_array[i], true_label[i]\n",
    "  plt.grid(False)\n",
    "  plt.xticks([])\n",
    "  plt.yticks([])\n",
    "  thisplot = plt.bar(range(10), predictions_array, color=\"#777777\")\n",
    "  plt.ylim([0, 1])\n",
    "  predicted_label = np.argmax(predictions_array)\n",
    "\n",
    "  thisplot[predicted_label].set_color('red')\n",
    "  thisplot[true_label].set_color('blue')"
   ]
  },
  {
   "cell_type": "code",
   "execution_count": 61,
   "metadata": {},
   "outputs": [
    {
     "data": {
      "image/png": "[encoded data removed]",
      "text/plain": [
       "<Figure size 432x216 with 2 Axes>"
      ]
     },
     "metadata": {},
     "output_type": "display_data"
    }
   ],
   "source": [
    "# Teste com o id = 1\n",
    "\n",
    "i = 0\n",
    "plt.figure(figsize=(6,3))\n",
    "plt.subplot(1,2,1)\n",
    "plot_image(i, predictions, test_labels, test_images)\n",
    "plt.subplot(1,2,2)\n",
    "plot_value_array(i, predictions,  test_labels)\n",
    "plt.show()"
   ]
  },
  {
   "cell_type": "code",
   "execution_count": 62,
   "metadata": {},
   "outputs": [
    {
     "data": {
      "image/png": "[encoded data removed]",
      "text/plain": [
       "<Figure size 864x720 with 30 Axes>"
      ]
     },
     "metadata": {},
     "output_type": "display_data"
    }
   ],
   "source": [
    "# Plota o primeiro X test images, e as labels preditas, e as labels verdadeiras.\n",
    "# Colore as predições corretas de azul e as incorretas de vermelho.\n",
    "\n",
    "num_rows = 5\n",
    "num_cols = 3\n",
    "num_images = num_rows*num_cols\n",
    "plt.figure(figsize=(2*2*num_cols, 2*num_rows))\n",
    "for i in range(num_images):\n",
    "  plt.subplot(num_rows, 2*num_cols, 2*i+1)\n",
    "  plot_image(i, predictions, test_labels, test_images)\n",
    "  plt.subplot(num_rows, 2*num_cols, 2*i+2)\n",
    "  plot_value_array(i, predictions, test_labels)\n",
    "plt.show()"
   ]
  }
 ],
 "metadata": {
  "kernelspec": {
   "display_name": "Python 3.9.2 64-bit",
   "language": "python",
   "name": "python3"
  },
  "language_info": {
   "codemirror_mode": {
    "name": "ipython",
    "version": 3
   },
   "file_extension": ".py",
   "mimetype": "text/x-python",
   "name": "python",
   "nbconvert_exporter": "python",
   "pygments_lexer": "ipython3",
   "version": "3.9.2"
  },
  "vscode": {
   "interpreter": {
    "hash": "31f2aee4e71d21fbe5cf8b01ff0e069b9275f58929596ceb00d14d90e3e16cd6"
   }
  }
 },
 "nbformat": 4,
 "nbformat_minor": 2
}
