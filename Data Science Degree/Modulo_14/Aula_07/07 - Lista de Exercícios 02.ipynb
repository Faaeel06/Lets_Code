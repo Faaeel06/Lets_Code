{
 "cells": [
  {
   "cell_type": "markdown",
   "metadata": {
    "id": "2M8VL0U44dUR"
   },
   "source": [
    "# Lista de Exercícios 02\n",
    "\n",
    "O exercício abaixo deve ser desenvolvido em aula individualmente ou em duplas e entregue até a da 03/10."
   ]
  },
  {
   "cell_type": "markdown",
   "metadata": {
    "id": "Xv75LoD94dUW"
   },
   "source": [
    "##   "
   ]
  },
  {
   "cell_type": "markdown",
   "metadata": {
    "id": "-5cIXFIX4dUj"
   },
   "source": [
    "__1)__ Utilizando a base do [_CIFAR10_](https://www.cs.toronto.edu/~kriz/cifar.html) do _Keras_, base essa com 10 categorias de imagens conforme descritas abaixo:\n",
    "\n",
    "<br>\n",
    "\n",
    "```python\n",
    "class_names = ['airplane', \n",
    "               'automobile', \n",
    "               'bird', \n",
    "               'cat', \n",
    "               'deer',\n",
    "               'dog', \n",
    "               'frog', \n",
    "               'horse', \n",
    "               'ship', \n",
    "               'truck']\n",
    "```\n",
    "\n",
    "<br>\n",
    "\n",
    "Desenvolva __pelo menos 2 redes neurais__ utilizando CNNs para fazer a classificação das imagens da base _CIFAR10_.\n",
    "\n",
    "Durante o desenvolvimento das redes, teste utilizar combinações com a camada _DropOut_, que como comentado em aula, serve para desativar alguns neurônios da rede de forma a forçar a rede a generalizar. A camada _Dropout_ pode ser aplicada como uma camada posterior as camadas densas ou mesmo como um parâmetro dentro da _Dense_.\n",
    "\n",
    "<br>\n",
    "\n",
    "<img src=\"https://quantdare.com/wp-content/uploads/2021/05/Webp.net-gifmaker.gif\" width = 500>\n",
    "\n",
    "<br>"
   ]
  },
  {
   "cell_type": "markdown",
   "metadata": {
    "id": "zmJAvB36rymT"
   },
   "source": [
    "## Resolução:"
   ]
  },
  {
   "cell_type": "code",
   "execution_count": null,
   "metadata": {
    "id": "pJtuETIqrymU"
   },
   "outputs": [],
   "source": [
    "#Baixando a nossa base de dados\n",
    "cifar10 = keras.datasets.cifar10\n",
    "\n",
    "(train_images, train_labels), (test_images, test_labels) = cifar10.load_data()"
   ]
  },
  {
   "cell_type": "code",
   "execution_count": null,
   "metadata": {
    "id": "KEc4ZnuO4dUb"
   },
   "outputs": [],
   "source": [
    "class_names = ['airplane', \n",
    "               'automobile', \n",
    "               'bird', \n",
    "               'cat', \n",
    "               'deer',\n",
    "               'dog', \n",
    "               'frog', \n",
    "               'horse', \n",
    "               'ship', \n",
    "               'truck']"
   ]
  },
  {
   "cell_type": "code",
   "execution_count": null,
   "metadata": {
    "id": "TlnEEDHQrymU"
   },
   "outputs": [],
   "source": []
  },
  {
   "cell_type": "code",
   "execution_count": null,
   "metadata": {
    "id": "UmLzpk1xrymU"
   },
   "outputs": [],
   "source": []
  }
 ],
 "metadata": {
  "colab": {
   "collapsed_sections": [],
   "provenance": []
  },
  "kernelspec": {
   "display_name": "Python 3 (ipykernel)",
   "language": "python",
   "name": "python3"
  },
  "language_info": {
   "codemirror_mode": {
    "name": "ipython",
    "version": 3
   },
   "file_extension": ".py",
   "mimetype": "text/x-python",
   "name": "python",
   "nbconvert_exporter": "python",
   "pygments_lexer": "ipython3",
   "version": "3.9.12"
  }
 },
 "nbformat": 4,
 "nbformat_minor": 1
}
