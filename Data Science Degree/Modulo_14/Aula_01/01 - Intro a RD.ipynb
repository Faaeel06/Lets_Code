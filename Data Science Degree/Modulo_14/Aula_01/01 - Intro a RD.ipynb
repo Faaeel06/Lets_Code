{
 "cells": [
  {
   "cell_type": "markdown",
   "id": "bc86332b",
   "metadata": {},
   "source": [
    "# Redes Neurais - Conceitos Básicos\n",
    "\n",
    "Nessa aula, iremos tratar dos seguintes conteúdos:\n",
    "- Introdução a Redes Neurais;\n",
    "- Componentes de uma Rede Neural;\n",
    "- Aplicações de Redes Neurais;\n",
    "- Quando utilizar Redes Neurais?;\n",
    "- Diferenças entre Redes Neurais e _Deep Learning_;\n",
    "- Modelando uma Rede Neural - Perceptron;\n",
    "- Implementação em Python;\n",
    "- Exercícios."
   ]
  },
  {
   "cell_type": "markdown",
   "id": "12006384",
   "metadata": {},
   "source": [
    "## "
   ]
  },
  {
   "cell_type": "markdown",
   "id": "6ef63f46",
   "metadata": {},
   "source": [
    "## Introdução"
   ]
  },
  {
   "cell_type": "markdown",
   "id": "ca9ff112",
   "metadata": {},
   "source": [
    "\n",
    "A inspiração para o desenvolvimento de Redes Neurais partiu justamente dos __seres humanos__, somos muito bons em __aprender__ e __reconhecer padrões__. Isto se deve ao nosso __sistema nervoso__, que pode ser entendido como uma __grande rede de neurônios interligados__.\n",
    "\n",
    "<br>\n",
    "\n",
    "<img src=\"https://www.tiopen.com.br/wp-content/uploads/2019/08/rede-neural.jpeg.webp\" width=\"600\" />\n",
    "\n",
    "<br>\n",
    "\n",
    "Um dos objetivos da Inteligência Artificial é __construir sistemas inteligentes__, com __capacidade cognitiva__ similar à dos __humanos__, ou seja, com a mesma capacidade de analisar e reconhecer padrões.Foi assim que começaram a desenvolver as chamadas __Redes Neurais Artificiais (RNAs)__. \n",
    "\n",
    "<br>\n",
    "\n",
    "<img src=\"https://s3-sa-east-1.amazonaws.com/lcpi/fcba5e37-3815-43d7-ad9f-25686c045ee9.png\" width=600>\n",
    "\n",
    "<br>"
   ]
  },
  {
   "cell_type": "markdown",
   "id": "11516c40",
   "metadata": {},
   "source": [
    "## "
   ]
  },
  {
   "cell_type": "markdown",
   "id": "86708f20",
   "metadata": {},
   "source": [
    "## Componentes de uma Redes Neural"
   ]
  },
  {
   "cell_type": "markdown",
   "id": "cd414f43",
   "metadata": {},
   "source": [
    "Uma Rede Neural Artificial é composta pelos seguintes elementos básicos:\n",
    "\n",
    "- **Unidades (ou neurônios)**: são as unidades mínimas de processamento da rede neural, onde as operações matemáticas são realizadas;\n",
    "\n",
    "<br>\n",
    "\n",
    "- **Camadas**: são os conjuntos de neurônios, que podem ser agrupados em 3 tipos de camadas:\n",
    "\n",
    "    - **Camada de entrada (_input layer_)**: é a camada de entrada de dados. O número de unidades nesta camada é igual ao número de atributos (_features_) do modelo;\n",
    "\n",
    "    - **Camadas ocultas (_hidden layers_)**: são as camadas de processamento. O número de camadas ocultas, bem como o número de neurônios em cada uma delas, é variável, dependendo do problema e dos dados. Em geral, a melhor estratégia é experimentar diferentes números de camadas e de neurônios;\n",
    "\n",
    "    - **Camada de saída (_output layer_)**: é a camada que dá a resposta da rede neural, isto é, o valor predito por ela. O número de unidades nesta camada depende do tipo de output desejado, e é o que determina a variável resposta (_target_) do modelo.\n",
    "\n",
    "<br>\n",
    "\t\n",
    "<img src=\"https://www.monolitonimbus.com.br/wp-content/uploads/2017/05/neuronios_rna.gif\" width=\"600\" />\n",
    "\n",
    "<br>\n",
    "\n",
    "Os últimos elementos extremamente importantes para a construção da rede neural são os __pesos__ (atribuído a sigla _W_), que são as conexões que interligam os neurônios de uma camada com a outra. Na ligação entre os neurônios, os pesos fazem justamente o balanço durante as __operações matemáticas__, então a partir dos dados oriundos da camada de entrada, são feitas operações matemáticas ao longo da rede para chegar no final as predições do modelo.\n",
    "\n",
    "<br>"
   ]
  },
  {
   "cell_type": "markdown",
   "id": "43580d23",
   "metadata": {},
   "source": [
    "## Aplicações de Redes Neurais"
   ]
  },
  {
   "cell_type": "markdown",
   "id": "3e2c7cfd",
   "metadata": {},
   "source": [
    "De forma análoga ao modelos de _Machine Learning_ mais tradicionais, as redes neurais podem também ser divididas em 3 tipos de aplicações:\n",
    "\n",
    "<br>\n",
    "\n",
    "- __Aprendizado Supervisionado:__ Recapitulando, aprendizagem supervisionado é quando o modelo têm uma variável resposta (_target_) de referência para treinar e aprender os padrões;\n",
    "\n",
    "- __Aprendizado Não Supervisionado:__, neste caso não existe a resposta de referência e o modelo aprende a partir das características dos dados a respeito de similariedade por exemplo;\n",
    "\n",
    "- __Aprendizado por Reforço:__ é um método de aprendizagem onde o modelo é penalizado pelas respostas incorretas que ele gerar e a partir das penalizações, ele deve se adaptar para fazer melhores predições."
   ]
  },
  {
   "cell_type": "markdown",
   "id": "707f861a",
   "metadata": {},
   "source": [
    "## "
   ]
  },
  {
   "cell_type": "markdown",
   "id": "0ad1527e",
   "metadata": {},
   "source": [
    "## Quando utilizar Redes Neurais?"
   ]
  },
  {
   "cell_type": "markdown",
   "id": "d36d2f0d",
   "metadata": {},
   "source": [
    "No atual cenário de _Big Data_ em que vivemos (há muitos dados em todo o lugar!), os modelos de Redes Neurais e _Deep Learning_ são cada vez mais utilizados!\n",
    "\n",
    "Isto é possível porque a performance destes modelos aumenta conforme mais dados são utilizados, diferentemente dos modelos tradicionais, cuja performance é estabilizada depois de certa quantidade de dados!\n",
    "\n",
    "\n",
    "<img src=\"https://www.sumologic.com/wp-content/uploads/performances_vs_data.png\" width=\"600\" />\n",
    "\n",
    "\n",
    "Então, é de se esperar que os modelos de _Deep Learning_ funcionem melhor nos cenários em que há **muitos dados disponíveis**.\n",
    "\n",
    "No entanto, se houver tempo e recursos computacionais disponíveis, é sempre uma ideia construir também um modelo de _Deep Learning_ juntamente de outros modelos de Machine Learning, e então comparar qual tem melhor performance!"
   ]
  },
  {
   "cell_type": "markdown",
   "id": "68cf82c3",
   "metadata": {},
   "source": [
    "## "
   ]
  },
  {
   "cell_type": "markdown",
   "id": "e414446a",
   "metadata": {},
   "source": [
    "## Diferenças entre Redes Neurais e _Deep Learning_"
   ]
  },
  {
   "cell_type": "markdown",
   "id": "4a592921",
   "metadata": {},
   "source": [
    "De forma geral, uma rede neural é chamada de \"profunda\", se ela tiver mais de uma camada oculta. Neste caso, temos uma **\"Rede Neural Profunda\" (_Deep Neural Network_)**.\n",
    "\n",
    "<img src=\"https://thedatascientist.com/wp-content/uploads/2018/03/simple_neural_network_vs_deep_learning.jpg\" width=500>\n",
    "\n",
    "O termo \"_Deep Learning_\" é utilizado pra se referir a modelos que usam Redes Neurais Profundas, mas este termo engloba também outras **arquiteturas** de redes neurais mais especializadas e complexas, como CNNs e RNNs, que inevitavelmente são \"profundas\", por construção."
   ]
  },
  {
   "cell_type": "markdown",
   "id": "18877e72",
   "metadata": {},
   "source": [
    "## "
   ]
  },
  {
   "cell_type": "markdown",
   "id": "2f63de28",
   "metadata": {},
   "source": [
    "## Modelando uma Rede Neural - Perceptron"
   ]
  },
  {
   "cell_type": "markdown",
   "id": "ff8e4ca7",
   "metadata": {},
   "source": [
    "Vamos começar a trabalhar de fato com Redes Neurais e ao longo do desenvolvimento do modelo, será introduzido alguns conceitos fundamentais para a construção de uma Rede Neural qualquer.\n",
    "\n",
    "O primeiro modelo que iremos utilizar é o __Perceptron__, que pode ser entendido como a concepção mais simples possível de uma Rede Neural, onde vamos utilizar de apenas __um neurônio__. O _Perceptron_ foi criado em 1957 por Frank Rosenblatt e é um algoritmo de classificação que busca uma separação lineares entre as observações de um conjunto de dados, tentando assim predizer para qual classe pertence cada dado.\n",
    "\n",
    "O _Perceptron_ foi claramente inspirado no funcionamento de um neurônio biológico! Conforme podemos comparar na figura abaixo:\n",
    "\n",
    "<br>\n",
    "\n",
    "<img src=\"https://www.ee.co.za/wp-content/uploads/2019/07/Application-of-machine-learning-algorithms-in-boiler-plant-root-cause-analysis-Fig-1.jpg\" width=\"600\">\n",
    "\n",
    "<br><br>\n",
    "\n",
    "### Como funciona o _Perceptron_?\n",
    "\n",
    "<br>\n",
    "\n",
    "O _Perceptron_ irá receber o conjunto de dados ao longo da camada de entrada (_input layer_), lembrando que ela têm a __mesma dimensão da quantidade de atributos disponíveis no conjunto de dados__.\n",
    "\n",
    "<br>\n",
    "\n",
    "<img src=\"https://www.deeplearningbook.com.br/wp-content/uploads/2018/01/neuronio-matematico.png\" width=600>\n",
    "\n",
    "<br>\n",
    "\n",
    "E no processo que interliga os neurônios da camada de entrada com o neurônio do _Perceptron_ em si, será feito um __produto escalar__ com os valores dos respectivos pesos. Ou seja, cada um dos dados de entrada srá multiplicado pelo respectivo peso, assim o modelo pode ponderar os valores de acordo com o tipo de resposta esperado na aprendizagem. Veremos um pouco mais pra frente que o processo de treinamento de uma Rede Neural será justamente __definir os valores dos pesos__.\n",
    "\n",
    "Um termo importante para o desenvolvimento da Rede é o que chamamos de __viés__ (em inglês _bias_), sendo um valor de peso que não está associado a valores de entrada do conjunto de dados. O _bias_ serve um ajuste da rede independente do que acontecer ao longo da rede e ajuda a corrigir problemas como por exemplo _overfitting_.\n",
    "\n",
    "Dessa forma, vamos calcular de acordo com o exemplo da imagem:\n",
    "\n",
    "<br>\n",
    "\n",
    "<img src=\"https://miro.medium.com/max/1400/1*SaQMHTLi4C7MIA4IzjAXJw.png\" width=500>\n",
    "\n",
    "<br>\n",
    "\n",
    "A cálculo do _Perceptron_ será feito da seguinte forma:\n",
    "\n",
    "<br>\n",
    "\n",
    "$$ h = (\\sum x_i w_i) + b  = x_1 w_1 + x_2 w_2 + x_3 w_3 + b = 0,57$$\n",
    "\n",
    "<br>\n",
    "\n",
    "Calculado o valor $h$ de saída do neurônio, o próximo passo seria aplicar uma __função de ativiação__ no resultado.\n",
    "\n",
    "<br>\n",
    "\n",
    "### Função de Ativação\n",
    "\n",
    "<br>\n",
    "\n",
    "Como comentado anteriormente, o principal desafio na determinação de uma Rede Neural é na __definição dos pesos__, pois o comportamento da Rede Neural será bem sensível aos valores de pesos utilizados. Ou seja, se aplicarmos uma pequena diferença em um dos pesos o resultado final da predição pode ser __completamente diferente__.\n",
    "\n",
    "Uma forma de contornar este tipo de problema e transformar a nossa Rede Neural em um modelo funcional é a aplicação de __função de ativação__.\n",
    "\n",
    "<br>\n",
    "\n",
    "<img src=\"https://www.researchgate.net/profile/Auzuir-Alexandria/publication/268740641/figure/fig2/AS:392100567896071@1470495468400/Figura-4-Exemplos-de-funcoes-tipicas-de-ativacao-de-neuronios-a-degrau-b.png\" width=500>\n",
    "\n",
    "<br>\n",
    "\n",
    "A __função de ativação__ é uma transformação matemática não linear, que faz controle do comportamento ao longo do treinamento da Rede Neural. Este tipo de transformação que faz com que uma pequena modificação nos valores de peso não impacte na predição final do modelo e é importante para identificar o __comportamento dos dados__, ou seja, como cada um dos atributos pode estar influenciando na resposta final. Existem diversas funções de ativação (que serão detalhadas e utilziadas ao longo do curso), mas aqui na aplicação do _Perceptron_ vamos nos limitar a utilizada de um função de ativação do __tipo degrau__ (_Step Function_):\n",
    "\n",
    "<br>\n",
    "\n",
    "$$ f(h) = \\left \\{ \\begin{matrix} 1, & \\mbox{se }h \\mbox{>= 0} \\\\ -1, & \\mbox{se }h \\mbox{ < 0} \\end{matrix} \\right. $$\n",
    "\n",
    "<br>\n",
    "\n",
    "No caso do exemplo numérico aplicado anteriormente, têm-se que:\n",
    "\n",
    "<br>\n",
    "\n",
    "$$ f(h) = f(0,57) = 1 $$\n",
    "\n",
    "<br>\n",
    "\n",
    "### Otimização de Pesos e Função de Perda (_Loss Function_)\n",
    "\n",
    "<br>\n",
    "\n",
    "Agora que temos a resposta da predição do modelo, dado que está resposta pode estar correta ou não, como que pode-se ajustar os valores de peso de maneira a conseguir um melhor resultado da rede?\n",
    "\n",
    "Todo o processo de treinamento de uma Rede Neural pode ser dividido em dois trajeto, o __Feed Forward Propagation__ que é basicamente o processo que fizemos até então, recebe os valores de entrada, faz as transformações matemática utilizando os pesos e a função de ativação e obtem a resposta do modelo.\n",
    "\n",
    "O segundo trajeto seria o __Backward Propagation__, onde iremos ajustar os valores dos pesos de acordo com __o erro cometido pelo modelo__. Da mesma forma, existe algumas técnicas de otimiação dos pesos, para o exemplo do _Perceptron_ iremos utilizar uma variação simples da otimização por __gradiente descendente__:\n",
    "\n",
    "<br>\n",
    "\n",
    "$$ w_i = w_i + \\eta (y_i - f(h_i)) x_i $$\n",
    "\n",
    "<br>\n",
    "\n",
    "$$ b = b + \\eta(y_i - f(h_i)) $$\n",
    "\n",
    "<br>\n",
    "\n",
    "Onde o grau de correção que será feito nos pesos está relacionada a __taxa de aprendizagem__ (valor $\\eta$ em inglês _learning rate_). Dessa forma, o processo de modelagem com Redes Neurais se transforma em um processo __iterativo__, onde a cada __época__ (em inglês _epoch_) o modelo ajusta os pesos de forma a minimizar os erros cometidos."
   ]
  },
  {
   "cell_type": "markdown",
   "id": "f4cbf47d",
   "metadata": {},
   "source": [
    "## "
   ]
  },
  {
   "cell_type": "markdown",
   "id": "dd75d998",
   "metadata": {},
   "source": [
    "## Implementação em _Python_"
   ]
  },
  {
   "cell_type": "markdown",
   "id": "10345fdf",
   "metadata": {},
   "source": [
    "Vamos ver duas formas de implementar o _Perceptron_ na prática, sendo elas:\n",
    "\n",
    "<br>\n",
    "\n",
    "- Criando uma __classe__ para o _Perceptron_:"
   ]
  },
  {
   "cell_type": "code",
   "execution_count": 1,
   "id": "84eb2e94",
   "metadata": {},
   "outputs": [],
   "source": [
    "# Principais bibliotecas\n",
    "import pandas as pd\n",
    "import numpy as np\n",
    "import seaborn as sns\n",
    "import matplotlib.pyplot as plt"
   ]
  },
  {
   "cell_type": "code",
   "execution_count": 2,
   "id": "50c2e5ec",
   "metadata": {},
   "outputs": [],
   "source": [
    "# Definindo uma classe para o perceptron\n",
    "class PPN:\n",
    "    # Define o __init__\n",
    "    def __init__(self, eta = 0.01, n_iter = 10): \n",
    "        self.eta = eta\n",
    "        self.n_iter = n_iter\n",
    "        \n",
    "    # Criar fit do modelo\n",
    "    def fit(self, X, y):\n",
    "        # Inicializando os pesos (zerados)\n",
    "        self.w_ = np.zeros(X.shape[1] + 1)\n",
    "        # inicializa uma lista para os erros\n",
    "        self.errors_ = []\n",
    "        # looping para as iterações\n",
    "        for _ in range(self.n_iter):\n",
    "            # Zerar o erro\n",
    "            errors = 0\n",
    "            # Comparativo do valor predito e o valor real\n",
    "            for xi, target in zip(X, y):\n",
    "                # Calcular o Delta\n",
    "                delta = self.eta * (target - self.predict(xi))\n",
    "                # Atualizando so pesos\n",
    "                self.w_[1:] += delta * xi\n",
    "                # Atualizando o bias\n",
    "                self.w_[0] += delta\n",
    "                # Calculando o erro\n",
    "                errors += int(delta != 0.0)\n",
    "            # Salvar o erro\n",
    "            self.errors_.append(errors)\n",
    "\n",
    "    # Função para a predição\n",
    "    def predict(self, X):\n",
    "        return np.where(self.net_input(X) >= 0.0, 1, -1)\n",
    "\n",
    "    \n",
    "    # Calculo dos produtos escalares + bias\n",
    "    def net_input(self, X):\n",
    "        return np.dot(X, self.w_[1:]) + self.w_[0]"
   ]
  },
  {
   "cell_type": "markdown",
   "id": "8af798f1",
   "metadata": {},
   "source": [
    "Vamos aplicar o _Perceptron_ ao _dataset_ `iris`:"
   ]
  },
  {
   "cell_type": "code",
   "execution_count": 3,
   "id": "e031409a",
   "metadata": {},
   "outputs": [
    {
     "data": {
      "text/html": [
       "<div>\n",
       "<style scoped>\n",
       "    .dataframe tbody tr th:only-of-type {\n",
       "        vertical-align: middle;\n",
       "    }\n",
       "\n",
       "    .dataframe tbody tr th {\n",
       "        vertical-align: top;\n",
       "    }\n",
       "\n",
       "    .dataframe thead th {\n",
       "        text-align: right;\n",
       "    }\n",
       "</style>\n",
       "<table border=\"1\" class=\"dataframe\">\n",
       "  <thead>\n",
       "    <tr style=\"text-align: right;\">\n",
       "      <th></th>\n",
       "      <th>sepal_length</th>\n",
       "      <th>sepal_width</th>\n",
       "      <th>petal_length</th>\n",
       "      <th>petal_width</th>\n",
       "      <th>species</th>\n",
       "    </tr>\n",
       "  </thead>\n",
       "  <tbody>\n",
       "    <tr>\n",
       "      <th>0</th>\n",
       "      <td>5.1</td>\n",
       "      <td>3.5</td>\n",
       "      <td>1.4</td>\n",
       "      <td>0.2</td>\n",
       "      <td>setosa</td>\n",
       "    </tr>\n",
       "    <tr>\n",
       "      <th>1</th>\n",
       "      <td>4.9</td>\n",
       "      <td>3.0</td>\n",
       "      <td>1.4</td>\n",
       "      <td>0.2</td>\n",
       "      <td>setosa</td>\n",
       "    </tr>\n",
       "    <tr>\n",
       "      <th>2</th>\n",
       "      <td>4.7</td>\n",
       "      <td>3.2</td>\n",
       "      <td>1.3</td>\n",
       "      <td>0.2</td>\n",
       "      <td>setosa</td>\n",
       "    </tr>\n",
       "    <tr>\n",
       "      <th>3</th>\n",
       "      <td>4.6</td>\n",
       "      <td>3.1</td>\n",
       "      <td>1.5</td>\n",
       "      <td>0.2</td>\n",
       "      <td>setosa</td>\n",
       "    </tr>\n",
       "    <tr>\n",
       "      <th>4</th>\n",
       "      <td>5.0</td>\n",
       "      <td>3.6</td>\n",
       "      <td>1.4</td>\n",
       "      <td>0.2</td>\n",
       "      <td>setosa</td>\n",
       "    </tr>\n",
       "    <tr>\n",
       "      <th>...</th>\n",
       "      <td>...</td>\n",
       "      <td>...</td>\n",
       "      <td>...</td>\n",
       "      <td>...</td>\n",
       "      <td>...</td>\n",
       "    </tr>\n",
       "    <tr>\n",
       "      <th>145</th>\n",
       "      <td>6.7</td>\n",
       "      <td>3.0</td>\n",
       "      <td>5.2</td>\n",
       "      <td>2.3</td>\n",
       "      <td>virginica</td>\n",
       "    </tr>\n",
       "    <tr>\n",
       "      <th>146</th>\n",
       "      <td>6.3</td>\n",
       "      <td>2.5</td>\n",
       "      <td>5.0</td>\n",
       "      <td>1.9</td>\n",
       "      <td>virginica</td>\n",
       "    </tr>\n",
       "    <tr>\n",
       "      <th>147</th>\n",
       "      <td>6.5</td>\n",
       "      <td>3.0</td>\n",
       "      <td>5.2</td>\n",
       "      <td>2.0</td>\n",
       "      <td>virginica</td>\n",
       "    </tr>\n",
       "    <tr>\n",
       "      <th>148</th>\n",
       "      <td>6.2</td>\n",
       "      <td>3.4</td>\n",
       "      <td>5.4</td>\n",
       "      <td>2.3</td>\n",
       "      <td>virginica</td>\n",
       "    </tr>\n",
       "    <tr>\n",
       "      <th>149</th>\n",
       "      <td>5.9</td>\n",
       "      <td>3.0</td>\n",
       "      <td>5.1</td>\n",
       "      <td>1.8</td>\n",
       "      <td>virginica</td>\n",
       "    </tr>\n",
       "  </tbody>\n",
       "</table>\n",
       "<p>150 rows × 5 columns</p>\n",
       "</div>"
      ],
      "text/plain": [
       "     sepal_length  sepal_width  petal_length  petal_width    species\n",
       "0             5.1          3.5           1.4          0.2     setosa\n",
       "1             4.9          3.0           1.4          0.2     setosa\n",
       "2             4.7          3.2           1.3          0.2     setosa\n",
       "3             4.6          3.1           1.5          0.2     setosa\n",
       "4             5.0          3.6           1.4          0.2     setosa\n",
       "..            ...          ...           ...          ...        ...\n",
       "145           6.7          3.0           5.2          2.3  virginica\n",
       "146           6.3          2.5           5.0          1.9  virginica\n",
       "147           6.5          3.0           5.2          2.0  virginica\n",
       "148           6.2          3.4           5.4          2.3  virginica\n",
       "149           5.9          3.0           5.1          1.8  virginica\n",
       "\n",
       "[150 rows x 5 columns]"
      ]
     },
     "execution_count": 3,
     "metadata": {},
     "output_type": "execute_result"
    }
   ],
   "source": [
    "# carregando os dados\n",
    "iris = sns.load_dataset('iris')\n",
    "iris"
   ]
  },
  {
   "cell_type": "code",
   "execution_count": 4,
   "id": "a298ae5a",
   "metadata": {},
   "outputs": [
    {
     "data": {
      "text/plain": [
       "setosa        50\n",
       "versicolor    50\n",
       "virginica     50\n",
       "Name: species, dtype: int64"
      ]
     },
     "execution_count": 4,
     "metadata": {},
     "output_type": "execute_result"
    }
   ],
   "source": [
    "iris['species'].value_counts()"
   ]
  },
  {
   "cell_type": "code",
   "execution_count": 5,
   "id": "9e0e7a18",
   "metadata": {},
   "outputs": [],
   "source": [
    "# Marcação entre setosa e não-setosa\n",
    "iris_set = iris[iris['species'] == 'setosa']\n",
    "iris_noset = iris[iris['species'] != 'setosa']"
   ]
  },
  {
   "cell_type": "code",
   "execution_count": 7,
   "id": "8895a46d",
   "metadata": {},
   "outputs": [
    {
     "ename": "AttributeError",
     "evalue": "'PathCollection' object has no property 'maker'",
     "output_type": "error",
     "traceback": [
      "\u001b[0;31m---------------------------------------------------------------------------\u001b[0m",
      "\u001b[0;31mAttributeError\u001b[0m                            Traceback (most recent call last)",
      "\u001b[1;32m/home/Faaeel06/Documentos/GitHub/Lets_Code/Data Science Degree/Modulo_14/Aula_01/01 - Intro a RD.ipynb Cell 28\u001b[0m in \u001b[0;36m<cell line: 1>\u001b[0;34m()\u001b[0m\n\u001b[0;32m----> <a href='vscode-notebook-cell:/home/Faaeel06/Documentos/GitHub/Lets_Code/Data%20Science%20Degree/Modulo_14/Aula_01/01%20-%20Intro%20a%20RD.ipynb#X36sZmlsZQ%3D%3D?line=0'>1</a>\u001b[0m plt\u001b[39m.\u001b[39;49mscatter(iris_set[\u001b[39m'\u001b[39;49m\u001b[39msepal_length\u001b[39;49m\u001b[39m'\u001b[39;49m],\n\u001b[1;32m      <a href='vscode-notebook-cell:/home/Faaeel06/Documentos/GitHub/Lets_Code/Data%20Science%20Degree/Modulo_14/Aula_01/01%20-%20Intro%20a%20RD.ipynb#X36sZmlsZQ%3D%3D?line=1'>2</a>\u001b[0m             iris_set[\u001b[39m'\u001b[39;49m\u001b[39mpetal_length\u001b[39;49m\u001b[39m'\u001b[39;49m],\n\u001b[1;32m      <a href='vscode-notebook-cell:/home/Faaeel06/Documentos/GitHub/Lets_Code/Data%20Science%20Degree/Modulo_14/Aula_01/01%20-%20Intro%20a%20RD.ipynb#X36sZmlsZQ%3D%3D?line=2'>3</a>\u001b[0m             color \u001b[39m=\u001b[39;49m \u001b[39m'\u001b[39;49m\u001b[39mgreen\u001b[39;49m\u001b[39m'\u001b[39;49m,\n\u001b[1;32m      <a href='vscode-notebook-cell:/home/Faaeel06/Documentos/GitHub/Lets_Code/Data%20Science%20Degree/Modulo_14/Aula_01/01%20-%20Intro%20a%20RD.ipynb#X36sZmlsZQ%3D%3D?line=3'>4</a>\u001b[0m             maker \u001b[39m=\u001b[39;49m \u001b[39m'\u001b[39;49m\u001b[39mo\u001b[39;49m\u001b[39m'\u001b[39;49m,\n\u001b[1;32m      <a href='vscode-notebook-cell:/home/Faaeel06/Documentos/GitHub/Lets_Code/Data%20Science%20Degree/Modulo_14/Aula_01/01%20-%20Intro%20a%20RD.ipynb#X36sZmlsZQ%3D%3D?line=4'>5</a>\u001b[0m             label \u001b[39m=\u001b[39;49m \u001b[39m'\u001b[39;49m\u001b[39msetosa\u001b[39;49m\u001b[39m'\u001b[39;49m)\n\u001b[1;32m      <a href='vscode-notebook-cell:/home/Faaeel06/Documentos/GitHub/Lets_Code/Data%20Science%20Degree/Modulo_14/Aula_01/01%20-%20Intro%20a%20RD.ipynb#X36sZmlsZQ%3D%3D?line=6'>7</a>\u001b[0m plt\u001b[39m.\u001b[39mscatter(iris_noset[\u001b[39m'\u001b[39m\u001b[39msepal_length\u001b[39m\u001b[39m'\u001b[39m],\n\u001b[1;32m      <a href='vscode-notebook-cell:/home/Faaeel06/Documentos/GitHub/Lets_Code/Data%20Science%20Degree/Modulo_14/Aula_01/01%20-%20Intro%20a%20RD.ipynb#X36sZmlsZQ%3D%3D?line=7'>8</a>\u001b[0m             iris_noset[\u001b[39m'\u001b[39m\u001b[39mpetal_length\u001b[39m\u001b[39m'\u001b[39m],\n\u001b[1;32m      <a href='vscode-notebook-cell:/home/Faaeel06/Documentos/GitHub/Lets_Code/Data%20Science%20Degree/Modulo_14/Aula_01/01%20-%20Intro%20a%20RD.ipynb#X36sZmlsZQ%3D%3D?line=8'>9</a>\u001b[0m             color \u001b[39m=\u001b[39m \u001b[39m'\u001b[39m\u001b[39mblue\u001b[39m\u001b[39m'\u001b[39m,\n\u001b[1;32m     <a href='vscode-notebook-cell:/home/Faaeel06/Documentos/GitHub/Lets_Code/Data%20Science%20Degree/Modulo_14/Aula_01/01%20-%20Intro%20a%20RD.ipynb#X36sZmlsZQ%3D%3D?line=9'>10</a>\u001b[0m             maker \u001b[39m=\u001b[39m \u001b[39m'\u001b[39m\u001b[39mx\u001b[39m\u001b[39m'\u001b[39m,\n\u001b[1;32m     <a href='vscode-notebook-cell:/home/Faaeel06/Documentos/GitHub/Lets_Code/Data%20Science%20Degree/Modulo_14/Aula_01/01%20-%20Intro%20a%20RD.ipynb#X36sZmlsZQ%3D%3D?line=10'>11</a>\u001b[0m             label \u001b[39m=\u001b[39m \u001b[39m'\u001b[39m\u001b[39mnão-setosa\u001b[39m\u001b[39m'\u001b[39m\n\u001b[1;32m     <a href='vscode-notebook-cell:/home/Faaeel06/Documentos/GitHub/Lets_Code/Data%20Science%20Degree/Modulo_14/Aula_01/01%20-%20Intro%20a%20RD.ipynb#X36sZmlsZQ%3D%3D?line=11'>12</a>\u001b[0m             )\n",
      "File \u001b[0;32m~/.local/lib/python3.9/site-packages/matplotlib/pyplot.py:2817\u001b[0m, in \u001b[0;36mscatter\u001b[0;34m(x, y, s, c, marker, cmap, norm, vmin, vmax, alpha, linewidths, edgecolors, plotnonfinite, data, **kwargs)\u001b[0m\n\u001b[1;32m   2812\u001b[0m \u001b[39m@_copy_docstring_and_deprecators\u001b[39m(Axes\u001b[39m.\u001b[39mscatter)\n\u001b[1;32m   2813\u001b[0m \u001b[39mdef\u001b[39;00m \u001b[39mscatter\u001b[39m(\n\u001b[1;32m   2814\u001b[0m         x, y, s\u001b[39m=\u001b[39m\u001b[39mNone\u001b[39;00m, c\u001b[39m=\u001b[39m\u001b[39mNone\u001b[39;00m, marker\u001b[39m=\u001b[39m\u001b[39mNone\u001b[39;00m, cmap\u001b[39m=\u001b[39m\u001b[39mNone\u001b[39;00m, norm\u001b[39m=\u001b[39m\u001b[39mNone\u001b[39;00m,\n\u001b[1;32m   2815\u001b[0m         vmin\u001b[39m=\u001b[39m\u001b[39mNone\u001b[39;00m, vmax\u001b[39m=\u001b[39m\u001b[39mNone\u001b[39;00m, alpha\u001b[39m=\u001b[39m\u001b[39mNone\u001b[39;00m, linewidths\u001b[39m=\u001b[39m\u001b[39mNone\u001b[39;00m, \u001b[39m*\u001b[39m,\n\u001b[1;32m   2816\u001b[0m         edgecolors\u001b[39m=\u001b[39m\u001b[39mNone\u001b[39;00m, plotnonfinite\u001b[39m=\u001b[39m\u001b[39mFalse\u001b[39;00m, data\u001b[39m=\u001b[39m\u001b[39mNone\u001b[39;00m, \u001b[39m*\u001b[39m\u001b[39m*\u001b[39mkwargs):\n\u001b[0;32m-> 2817\u001b[0m     __ret \u001b[39m=\u001b[39m gca()\u001b[39m.\u001b[39;49mscatter(\n\u001b[1;32m   2818\u001b[0m         x, y, s\u001b[39m=\u001b[39;49ms, c\u001b[39m=\u001b[39;49mc, marker\u001b[39m=\u001b[39;49mmarker, cmap\u001b[39m=\u001b[39;49mcmap, norm\u001b[39m=\u001b[39;49mnorm,\n\u001b[1;32m   2819\u001b[0m         vmin\u001b[39m=\u001b[39;49mvmin, vmax\u001b[39m=\u001b[39;49mvmax, alpha\u001b[39m=\u001b[39;49malpha, linewidths\u001b[39m=\u001b[39;49mlinewidths,\n\u001b[1;32m   2820\u001b[0m         edgecolors\u001b[39m=\u001b[39;49medgecolors, plotnonfinite\u001b[39m=\u001b[39;49mplotnonfinite,\n\u001b[1;32m   2821\u001b[0m         \u001b[39m*\u001b[39;49m\u001b[39m*\u001b[39;49m({\u001b[39m\"\u001b[39;49m\u001b[39mdata\u001b[39;49m\u001b[39m\"\u001b[39;49m: data} \u001b[39mif\u001b[39;49;00m data \u001b[39mis\u001b[39;49;00m \u001b[39mnot\u001b[39;49;00m \u001b[39mNone\u001b[39;49;00m \u001b[39melse\u001b[39;49;00m {}), \u001b[39m*\u001b[39;49m\u001b[39m*\u001b[39;49mkwargs)\n\u001b[1;32m   2822\u001b[0m     sci(__ret)\n\u001b[1;32m   2823\u001b[0m     \u001b[39mreturn\u001b[39;00m __ret\n",
      "File \u001b[0;32m~/.local/lib/python3.9/site-packages/matplotlib/__init__.py:1414\u001b[0m, in \u001b[0;36m_preprocess_data.<locals>.inner\u001b[0;34m(ax, data, *args, **kwargs)\u001b[0m\n\u001b[1;32m   1411\u001b[0m \u001b[39m@functools\u001b[39m\u001b[39m.\u001b[39mwraps(func)\n\u001b[1;32m   1412\u001b[0m \u001b[39mdef\u001b[39;00m \u001b[39minner\u001b[39m(ax, \u001b[39m*\u001b[39margs, data\u001b[39m=\u001b[39m\u001b[39mNone\u001b[39;00m, \u001b[39m*\u001b[39m\u001b[39m*\u001b[39mkwargs):\n\u001b[1;32m   1413\u001b[0m     \u001b[39mif\u001b[39;00m data \u001b[39mis\u001b[39;00m \u001b[39mNone\u001b[39;00m:\n\u001b[0;32m-> 1414\u001b[0m         \u001b[39mreturn\u001b[39;00m func(ax, \u001b[39m*\u001b[39;49m\u001b[39mmap\u001b[39;49m(sanitize_sequence, args), \u001b[39m*\u001b[39;49m\u001b[39m*\u001b[39;49mkwargs)\n\u001b[1;32m   1416\u001b[0m     bound \u001b[39m=\u001b[39m new_sig\u001b[39m.\u001b[39mbind(ax, \u001b[39m*\u001b[39margs, \u001b[39m*\u001b[39m\u001b[39m*\u001b[39mkwargs)\n\u001b[1;32m   1417\u001b[0m     auto_label \u001b[39m=\u001b[39m (bound\u001b[39m.\u001b[39marguments\u001b[39m.\u001b[39mget(label_namer)\n\u001b[1;32m   1418\u001b[0m                   \u001b[39mor\u001b[39;00m bound\u001b[39m.\u001b[39mkwargs\u001b[39m.\u001b[39mget(label_namer))\n",
      "File \u001b[0;32m~/.local/lib/python3.9/site-packages/matplotlib/axes/_axes.py:4467\u001b[0m, in \u001b[0;36mAxes.scatter\u001b[0;34m(self, x, y, s, c, marker, cmap, norm, vmin, vmax, alpha, linewidths, edgecolors, plotnonfinite, **kwargs)\u001b[0m\n\u001b[1;32m   4457\u001b[0m collection \u001b[39m=\u001b[39m mcoll\u001b[39m.\u001b[39mPathCollection(\n\u001b[1;32m   4458\u001b[0m         (path,), scales,\n\u001b[1;32m   4459\u001b[0m         facecolors\u001b[39m=\u001b[39mcolors,\n\u001b[0;32m   (...)\u001b[0m\n\u001b[1;32m   4464\u001b[0m         alpha\u001b[39m=\u001b[39malpha\n\u001b[1;32m   4465\u001b[0m         )\n\u001b[1;32m   4466\u001b[0m collection\u001b[39m.\u001b[39mset_transform(mtransforms\u001b[39m.\u001b[39mIdentityTransform())\n\u001b[0;32m-> 4467\u001b[0m collection\u001b[39m.\u001b[39;49mupdate(kwargs)\n\u001b[1;32m   4469\u001b[0m \u001b[39mif\u001b[39;00m colors \u001b[39mis\u001b[39;00m \u001b[39mNone\u001b[39;00m:\n\u001b[1;32m   4470\u001b[0m     collection\u001b[39m.\u001b[39mset_array(c)\n",
      "File \u001b[0;32m~/.local/lib/python3.9/site-packages/matplotlib/artist.py:1067\u001b[0m, in \u001b[0;36mArtist.update\u001b[0;34m(self, props)\u001b[0m\n\u001b[1;32m   1065\u001b[0m             func \u001b[39m=\u001b[39m \u001b[39mgetattr\u001b[39m(\u001b[39mself\u001b[39m, \u001b[39mf\u001b[39m\u001b[39m\"\u001b[39m\u001b[39mset_\u001b[39m\u001b[39m{\u001b[39;00mk\u001b[39m}\u001b[39;00m\u001b[39m\"\u001b[39m, \u001b[39mNone\u001b[39;00m)\n\u001b[1;32m   1066\u001b[0m             \u001b[39mif\u001b[39;00m \u001b[39mnot\u001b[39;00m callable(func):\n\u001b[0;32m-> 1067\u001b[0m                 \u001b[39mraise\u001b[39;00m \u001b[39mAttributeError\u001b[39;00m(\u001b[39mf\u001b[39m\u001b[39m\"\u001b[39m\u001b[39m{\u001b[39;00m\u001b[39mtype\u001b[39m(\u001b[39mself\u001b[39m)\u001b[39m.\u001b[39m\u001b[39m__name__\u001b[39m\u001b[39m!r}\u001b[39;00m\u001b[39m object \u001b[39m\u001b[39m\"\u001b[39m\n\u001b[1;32m   1068\u001b[0m                                      \u001b[39mf\u001b[39m\u001b[39m\"\u001b[39m\u001b[39mhas no property \u001b[39m\u001b[39m{\u001b[39;00mk\u001b[39m!r}\u001b[39;00m\u001b[39m\"\u001b[39m)\n\u001b[1;32m   1069\u001b[0m             ret\u001b[39m.\u001b[39mappend(func(v))\n\u001b[1;32m   1070\u001b[0m \u001b[39mif\u001b[39;00m ret:\n",
      "\u001b[0;31mAttributeError\u001b[0m: 'PathCollection' object has no property 'maker'"
     ]
    },
    {
     "data": {
      "image/png": "[encoded data removed]",
      "text/plain": [
       "<Figure size 432x288 with 1 Axes>"
      ]
     },
     "metadata": {
      "needs_background": "light"
     },
     "output_type": "display_data"
    }
   ],
   "source": [
    "plt.scatter(iris_set['sepal_length'],\n",
    "            iris_set['petal_length'],\n",
    "            color = 'green',\n",
    "            maker = 'o',\n",
    "            label = 'setosa')\n",
    "\n",
    "plt.scatter(iris_noset['sepal_length'],\n",
    "            iris_noset['petal_length'],\n",
    "            color = 'blue',\n",
    "            maker = 'x',\n",
    "            label = 'não-setosa'\n",
    "            )"
   ]
  },
  {
   "cell_type": "code",
   "execution_count": 13,
   "id": "2f86faf5",
   "metadata": {},
   "outputs": [],
   "source": [
    "X = iris_set['species'].values"
   ]
  },
  {
   "cell_type": "code",
   "execution_count": 14,
   "id": "19f77cd2",
   "metadata": {},
   "outputs": [
    {
     "data": {
      "text/plain": [
       "array([ 1,  1,  1,  1,  1,  1,  1,  1,  1,  1,  1,  1,  1,  1,  1,  1,  1,\n",
       "        1,  1,  1,  1,  1,  1,  1,  1,  1,  1,  1,  1,  1,  1,  1,  1,  1,\n",
       "        1,  1,  1,  1,  1,  1,  1,  1,  1,  1,  1,  1,  1,  1,  1,  1, -1,\n",
       "       -1, -1, -1, -1, -1, -1, -1, -1, -1, -1, -1, -1, -1, -1, -1, -1, -1,\n",
       "       -1, -1, -1, -1, -1, -1, -1, -1, -1, -1, -1, -1, -1, -1, -1, -1, -1,\n",
       "       -1, -1, -1, -1, -1, -1, -1, -1, -1, -1, -1, -1, -1, -1, -1, -1, -1,\n",
       "       -1, -1, -1, -1, -1, -1, -1, -1, -1, -1, -1, -1, -1, -1, -1, -1, -1,\n",
       "       -1, -1, -1, -1, -1, -1, -1, -1, -1, -1, -1, -1, -1, -1, -1, -1, -1,\n",
       "       -1, -1, -1, -1, -1, -1, -1, -1, -1, -1, -1, -1, -1, -1])"
      ]
     },
     "execution_count": 14,
     "metadata": {},
     "output_type": "execute_result"
    }
   ],
   "source": [
    "# Montando o y\n",
    "y = iris['species'].values\n",
    "y = np.where(y == 'setosa', 1, -1)\n",
    "y"
   ]
  },
  {
   "cell_type": "code",
   "execution_count": 15,
   "id": "c768ca87",
   "metadata": {},
   "outputs": [],
   "source": [
    "model = PPN()"
   ]
  },
  {
   "cell_type": "code",
   "execution_count": 16,
   "id": "e3d7df44",
   "metadata": {},
   "outputs": [
    {
     "ename": "IndexError",
     "evalue": "tuple index out of range",
     "output_type": "error",
     "traceback": [
      "\u001b[0;31m---------------------------------------------------------------------------\u001b[0m",
      "\u001b[0;31mIndexError\u001b[0m                                Traceback (most recent call last)",
      "\u001b[1;32m/home/Faaeel06/Documentos/GitHub/Lets_Code/Data Science Degree/Modulo_14/Aula_01/01 - Intro a RD.ipynb Cell 32\u001b[0m in \u001b[0;36m<cell line: 1>\u001b[0;34m()\u001b[0m\n\u001b[0;32m----> <a href='vscode-notebook-cell:/home/Faaeel06/Documentos/GitHub/Lets_Code/Data%20Science%20Degree/Modulo_14/Aula_01/01%20-%20Intro%20a%20RD.ipynb#X66sZmlsZQ%3D%3D?line=0'>1</a>\u001b[0m model\u001b[39m.\u001b[39;49mfit(X, y)\n",
      "\u001b[1;32m/home/Faaeel06/Documentos/GitHub/Lets_Code/Data Science Degree/Modulo_14/Aula_01/01 - Intro a RD.ipynb Cell 32\u001b[0m in \u001b[0;36mPPN.fit\u001b[0;34m(self, X, y)\u001b[0m\n\u001b[1;32m      <a href='vscode-notebook-cell:/home/Faaeel06/Documentos/GitHub/Lets_Code/Data%20Science%20Degree/Modulo_14/Aula_01/01%20-%20Intro%20a%20RD.ipynb#X66sZmlsZQ%3D%3D?line=8'>9</a>\u001b[0m \u001b[39mdef\u001b[39;00m \u001b[39mfit\u001b[39m(\u001b[39mself\u001b[39m, X, y):\n\u001b[1;32m     <a href='vscode-notebook-cell:/home/Faaeel06/Documentos/GitHub/Lets_Code/Data%20Science%20Degree/Modulo_14/Aula_01/01%20-%20Intro%20a%20RD.ipynb#X66sZmlsZQ%3D%3D?line=9'>10</a>\u001b[0m     \u001b[39m# Inicializando os pesos (zerados)\u001b[39;00m\n\u001b[0;32m---> <a href='vscode-notebook-cell:/home/Faaeel06/Documentos/GitHub/Lets_Code/Data%20Science%20Degree/Modulo_14/Aula_01/01%20-%20Intro%20a%20RD.ipynb#X66sZmlsZQ%3D%3D?line=10'>11</a>\u001b[0m     \u001b[39mself\u001b[39m\u001b[39m.\u001b[39mw_ \u001b[39m=\u001b[39m np\u001b[39m.\u001b[39mzeros(X\u001b[39m.\u001b[39;49mshape[\u001b[39m1\u001b[39;49m] \u001b[39m+\u001b[39m \u001b[39m1\u001b[39m)\n\u001b[1;32m     <a href='vscode-notebook-cell:/home/Faaeel06/Documentos/GitHub/Lets_Code/Data%20Science%20Degree/Modulo_14/Aula_01/01%20-%20Intro%20a%20RD.ipynb#X66sZmlsZQ%3D%3D?line=11'>12</a>\u001b[0m     \u001b[39m# inicializa uma lista para os erros\u001b[39;00m\n\u001b[1;32m     <a href='vscode-notebook-cell:/home/Faaeel06/Documentos/GitHub/Lets_Code/Data%20Science%20Degree/Modulo_14/Aula_01/01%20-%20Intro%20a%20RD.ipynb#X66sZmlsZQ%3D%3D?line=12'>13</a>\u001b[0m     \u001b[39mself\u001b[39m\u001b[39m.\u001b[39merrors_ \u001b[39m=\u001b[39m []\n",
      "\u001b[0;31mIndexError\u001b[0m: tuple index out of range"
     ]
    }
   ],
   "source": [
    "model.fit(X, y)"
   ]
  },
  {
   "cell_type": "code",
   "execution_count": 17,
   "id": "9ee77730",
   "metadata": {},
   "outputs": [],
   "source": [
    "from mlxtend.plotting import plot_decision_regions"
   ]
  },
  {
   "cell_type": "code",
   "execution_count": 18,
   "id": "6ca15f28",
   "metadata": {},
   "outputs": [
    {
     "ename": "ValueError",
     "evalue": "X must be an integer or float array. Found object.",
     "output_type": "error",
     "traceback": [
      "\u001b[0;31m---------------------------------------------------------------------------\u001b[0m",
      "\u001b[0;31mValueError\u001b[0m                                Traceback (most recent call last)",
      "\u001b[1;32m/home/Faaeel06/Documentos/GitHub/Lets_Code/Data Science Degree/Modulo_14/Aula_01/01 - Intro a RD.ipynb Cell 34\u001b[0m in \u001b[0;36m<cell line: 1>\u001b[0;34m()\u001b[0m\n\u001b[0;32m----> <a href='vscode-notebook-cell:/home/Faaeel06/Documentos/GitHub/Lets_Code/Data%20Science%20Degree/Modulo_14/Aula_01/01%20-%20Intro%20a%20RD.ipynb#Y101sZmlsZQ%3D%3D?line=0'>1</a>\u001b[0m plot_decision_regions(X,\n\u001b[1;32m      <a href='vscode-notebook-cell:/home/Faaeel06/Documentos/GitHub/Lets_Code/Data%20Science%20Degree/Modulo_14/Aula_01/01%20-%20Intro%20a%20RD.ipynb#Y101sZmlsZQ%3D%3D?line=1'>2</a>\u001b[0m                       y,\n\u001b[1;32m      <a href='vscode-notebook-cell:/home/Faaeel06/Documentos/GitHub/Lets_Code/Data%20Science%20Degree/Modulo_14/Aula_01/01%20-%20Intro%20a%20RD.ipynb#Y101sZmlsZQ%3D%3D?line=2'>3</a>\u001b[0m                       clf \u001b[39m=\u001b[39;49m model,\n\u001b[1;32m      <a href='vscode-notebook-cell:/home/Faaeel06/Documentos/GitHub/Lets_Code/Data%20Science%20Degree/Modulo_14/Aula_01/01%20-%20Intro%20a%20RD.ipynb#Y101sZmlsZQ%3D%3D?line=3'>4</a>\u001b[0m                       legend \u001b[39m=\u001b[39;49m \u001b[39m2\u001b[39;49m)\n\u001b[1;32m      <a href='vscode-notebook-cell:/home/Faaeel06/Documentos/GitHub/Lets_Code/Data%20Science%20Degree/Modulo_14/Aula_01/01%20-%20Intro%20a%20RD.ipynb#Y101sZmlsZQ%3D%3D?line=5'>6</a>\u001b[0m plt\u001b[39m.\u001b[39mtitle(\u001b[39m'\u001b[39m\u001b[39mRegião de Separação - Perceptron\u001b[39m\u001b[39m'\u001b[39m)\n\u001b[1;32m      <a href='vscode-notebook-cell:/home/Faaeel06/Documentos/GitHub/Lets_Code/Data%20Science%20Degree/Modulo_14/Aula_01/01%20-%20Intro%20a%20RD.ipynb#Y101sZmlsZQ%3D%3D?line=6'>7</a>\u001b[0m plt\u001b[39m.\u001b[39mxlabel(\u001b[39m'\u001b[39m\u001b[39mSepal Length\u001b[39m\u001b[39m'\u001b[39m)\n",
      "File \u001b[0;32m~/.local/lib/python3.9/site-packages/mlxtend/plotting/decision_regions.py:148\u001b[0m, in \u001b[0;36mplot_decision_regions\u001b[0;34m(X, y, clf, feature_index, filler_feature_values, filler_feature_ranges, ax, X_highlight, zoom_factor, legend, hide_spines, markers, colors, scatter_kwargs, contourf_kwargs, contour_kwargs, scatter_highlight_kwargs)\u001b[0m\n\u001b[1;32m     44\u001b[0m \u001b[39mdef\u001b[39;00m \u001b[39mplot_decision_regions\u001b[39m(\n\u001b[1;32m     45\u001b[0m     X,\n\u001b[1;32m     46\u001b[0m     y,\n\u001b[0;32m   (...)\u001b[0m\n\u001b[1;32m     65\u001b[0m     scatter_highlight_kwargs\u001b[39m=\u001b[39m\u001b[39mNone\u001b[39;00m,\n\u001b[1;32m     66\u001b[0m ):\n\u001b[1;32m     67\u001b[0m     \u001b[39m\"\"\"Plot decision regions of a classifier.\u001b[39;00m\n\u001b[1;32m     68\u001b[0m \n\u001b[1;32m     69\u001b[0m \u001b[39m    Please note that this functions assumes that class labels are\u001b[39;00m\n\u001b[0;32m   (...)\u001b[0m\n\u001b[1;32m    145\u001b[0m \n\u001b[1;32m    146\u001b[0m \u001b[39m    \"\"\"\u001b[39;00m\n\u001b[0;32m--> 148\u001b[0m     check_Xy(X, y, y_int\u001b[39m=\u001b[39;49m\u001b[39mTrue\u001b[39;49;00m)  \u001b[39m# Validate X and y arrays\u001b[39;00m\n\u001b[1;32m    149\u001b[0m     dim \u001b[39m=\u001b[39m X\u001b[39m.\u001b[39mshape[\u001b[39m1\u001b[39m]\n\u001b[1;32m    151\u001b[0m     \u001b[39mif\u001b[39;00m ax \u001b[39mis\u001b[39;00m \u001b[39mNone\u001b[39;00m:\n",
      "File \u001b[0;32m~/.local/lib/python3.9/site-packages/mlxtend/utils/checking.py:27\u001b[0m, in \u001b[0;36mcheck_Xy\u001b[0;34m(X, y, y_int)\u001b[0m\n\u001b[1;32m     21\u001b[0m     \u001b[39mraise\u001b[39;00m \u001b[39mValueError\u001b[39;00m(\n\u001b[1;32m     22\u001b[0m         \u001b[39m\"\u001b[39m\u001b[39my must be an integer array. Found \u001b[39m\u001b[39m%s\u001b[39;00m\u001b[39m. \u001b[39m\u001b[39m\"\u001b[39m\n\u001b[1;32m     23\u001b[0m         \u001b[39m\"\u001b[39m\u001b[39mTry passing the array as y.astype(np.int_)\u001b[39m\u001b[39m\"\u001b[39m \u001b[39m%\u001b[39m y\u001b[39m.\u001b[39mdtype\n\u001b[1;32m     24\u001b[0m     )\n\u001b[1;32m     26\u001b[0m \u001b[39mif\u001b[39;00m \u001b[39mnot\u001b[39;00m (\u001b[39m\"\u001b[39m\u001b[39mfloat\u001b[39m\u001b[39m\"\u001b[39m \u001b[39min\u001b[39;00m \u001b[39mstr\u001b[39m(X\u001b[39m.\u001b[39mdtype) \u001b[39mor\u001b[39;00m \u001b[39m\"\u001b[39m\u001b[39mint\u001b[39m\u001b[39m\"\u001b[39m \u001b[39min\u001b[39;00m \u001b[39mstr\u001b[39m(X\u001b[39m.\u001b[39mdtype)):\n\u001b[0;32m---> 27\u001b[0m     \u001b[39mraise\u001b[39;00m \u001b[39mValueError\u001b[39;00m(\u001b[39m\"\u001b[39m\u001b[39mX must be an integer or float array. Found \u001b[39m\u001b[39m%s\u001b[39;00m\u001b[39m.\u001b[39m\u001b[39m\"\u001b[39m \u001b[39m%\u001b[39m X\u001b[39m.\u001b[39mdtype)\n\u001b[1;32m     29\u001b[0m \u001b[39m# check dim\u001b[39;00m\n\u001b[1;32m     30\u001b[0m \u001b[39mif\u001b[39;00m \u001b[39mlen\u001b[39m(X\u001b[39m.\u001b[39mshape) \u001b[39m!=\u001b[39m \u001b[39m2\u001b[39m:\n",
      "\u001b[0;31mValueError\u001b[0m: X must be an integer or float array. Found object."
     ]
    }
   ],
   "source": [
    "plot_decision_regions(X,\n",
    "                      y,\n",
    "                      clf = model,\n",
    "                      legend = 2)\n",
    "\n",
    "plt.title('Região de Separação - Perceptron')\n",
    "plt.xlabel('Sepal Length')\n",
    "plt.ylabel('Petal Length')\n"
   ]
  },
  {
   "cell_type": "markdown",
   "id": "6822eb6e",
   "metadata": {},
   "source": [
    "- Utilizando a função diretamente do `scikit-learn`:"
   ]
  },
  {
   "cell_type": "code",
   "execution_count": 19,
   "id": "427304ae",
   "metadata": {},
   "outputs": [],
   "source": [
    "# Carregando o Perceptron\n",
    "from sklearn.linear_model import Perceptron"
   ]
  },
  {
   "cell_type": "code",
   "execution_count": 20,
   "id": "34281c45",
   "metadata": {},
   "outputs": [],
   "source": [
    "from sklearn.datasets import make_classification\n",
    "from sklearn.model_selection import RepeatedStratifiedKFold, cross_val_score"
   ]
  },
  {
   "cell_type": "markdown",
   "id": "63413495",
   "metadata": {},
   "source": [
    "Vamos criar um conjunto de dados genéricos com 10 atributos e 2 classes. Com a função _Perceptron_ do `scikit-learn`, podemos fazer muito mais coisas nativas da própria biblioteca:"
   ]
  },
  {
   "cell_type": "code",
   "execution_count": 21,
   "id": "2450f7b5",
   "metadata": {},
   "outputs": [],
   "source": [
    "# Criando X e y\n",
    "X, y = make_classification(n_samples=1000,\n",
    "                           n_features=10,\n",
    "                           n_classes=2,\n",
    "                           random_state=42)"
   ]
  },
  {
   "cell_type": "code",
   "execution_count": 22,
   "id": "962977fb",
   "metadata": {},
   "outputs": [
    {
     "data": {
      "text/plain": [
       "array([[ 0.96479937, -0.06644898,  0.98676805, ..., -1.2101605 ,\n",
       "        -0.62807677,  1.22727382],\n",
       "       [-0.91651053, -0.56639459, -1.00861409, ..., -0.98453405,\n",
       "         0.36389642,  0.20947008],\n",
       "       [-0.10948373, -0.43277388, -0.4576493 , ..., -0.2463834 ,\n",
       "        -1.05814521, -0.29737608],\n",
       "       ...,\n",
       "       [ 1.67463306,  1.75493307,  1.58615382, ...,  0.69272276,\n",
       "        -1.50384972,  0.22526412],\n",
       "       [-0.77860873, -0.83568901, -0.19484228, ..., -0.49735437,\n",
       "         2.47213818,  0.86718741],\n",
       "       [ 0.24845351, -1.0034389 ,  0.36046013, ...,  0.77323999,\n",
       "         0.1857344 ,  1.41641179]])"
      ]
     },
     "execution_count": 22,
     "metadata": {},
     "output_type": "execute_result"
    }
   ],
   "source": [
    "X"
   ]
  },
  {
   "cell_type": "code",
   "execution_count": 23,
   "id": "95b5e8c8",
   "metadata": {},
   "outputs": [
    {
     "name": "stdout",
     "output_type": "stream",
     "text": [
      "(1000, 10) (1000,)\n"
     ]
    }
   ],
   "source": [
    "print(X.shape, y.shape)"
   ]
  },
  {
   "cell_type": "code",
   "execution_count": 24,
   "id": "945722a2",
   "metadata": {},
   "outputs": [],
   "source": [
    "# Cross Validation\n",
    "cv = RepeatedStratifiedKFold(n_splits = 10,\n",
    "                             n_repeats = 3,\n",
    "                             random_state = 42)"
   ]
  },
  {
   "cell_type": "code",
   "execution_count": 25,
   "id": "803709d4",
   "metadata": {},
   "outputs": [],
   "source": [
    "# Intancia o Perceptron\n",
    "clf = Perceptron()"
   ]
  },
  {
   "cell_type": "code",
   "execution_count": 26,
   "id": "aeb359c0",
   "metadata": {},
   "outputs": [],
   "source": [
    "#Cross Validation\n",
    "scores = cross_val_score(clf,\n",
    "                         X,\n",
    "                         y,\n",
    "                         scoring = 'accuracy',\n",
    "                         cv = cv,\n",
    "                         n_jobs = -1)"
   ]
  },
  {
   "cell_type": "code",
   "execution_count": 28,
   "id": "1cf133df",
   "metadata": {},
   "outputs": [
    {
     "name": "stdout",
     "output_type": "stream",
     "text": [
      "0.7999999999999999\n",
      "0.07052186422190876\n"
     ]
    }
   ],
   "source": [
    "# resultados\n",
    "\n",
    "print(np.mean(scores))\n",
    "print(np.std(scores))"
   ]
  },
  {
   "cell_type": "code",
   "execution_count": null,
   "id": "c176162c",
   "metadata": {},
   "outputs": [],
   "source": []
  },
  {
   "cell_type": "markdown",
   "id": "0891eda1",
   "metadata": {},
   "source": [
    "## "
   ]
  },
  {
   "cell_type": "markdown",
   "id": "37e7620e",
   "metadata": {},
   "source": [
    "## Exercícios"
   ]
  },
  {
   "cell_type": "markdown",
   "id": "69d7f7af",
   "metadata": {},
   "source": [
    "__1)__ Aplique o _Perceptron_ no _dataset_ `iris` e classifique utilizando a Rede Neural entre flores que são da espécie `virginica` e `versicolor`(mantenha só estas espécies no conjunto de dados). O modelo consegue determinar a região de separação? Para isso façam 3 testes:\n",
    "\n",
    "- utilizando apenas as variáveis `sepal_length` e `petal_length`;\n",
    "\n",
    "- utilizando apenas as variáveis `sepal_width` e `petal_width`;\n",
    "\n",
    "- Utilizando todas as variáveis disponíveis (__Obs.:__ Neste caso para tentar visualizar a região de separação será necessário realizar uma redução de dimensionalidade)."
   ]
  },
  {
   "cell_type": "code",
   "execution_count": null,
   "id": "a1af973f",
   "metadata": {},
   "outputs": [],
   "source": []
  },
  {
   "cell_type": "code",
   "execution_count": null,
   "id": "bfa65911",
   "metadata": {},
   "outputs": [],
   "source": []
  },
  {
   "cell_type": "code",
   "execution_count": null,
   "id": "065096c4",
   "metadata": {},
   "outputs": [],
   "source": []
  },
  {
   "cell_type": "markdown",
   "id": "35ea51be",
   "metadata": {},
   "source": [
    "## "
   ]
  }
 ],
 "metadata": {
  "kernelspec": {
   "display_name": "Python 3.9.2 64-bit",
   "language": "python",
   "name": "python3"
  },
  "language_info": {
   "codemirror_mode": {
    "name": "ipython",
    "version": 3
   },
   "file_extension": ".py",
   "mimetype": "text/x-python",
   "name": "python",
   "nbconvert_exporter": "python",
   "pygments_lexer": "ipython3",
   "version": "3.9.2"
  },
  "vscode": {
   "interpreter": {
    "hash": "31f2aee4e71d21fbe5cf8b01ff0e069b9275f58929596ceb00d14d90e3e16cd6"
   }
  }
 },
 "nbformat": 4,
 "nbformat_minor": 5
}
