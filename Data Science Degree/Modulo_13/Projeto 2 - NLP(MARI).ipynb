{
 "cells": [
  {
   "cell_type": "markdown",
   "id": "362c03d1",
   "metadata": {
    "id": "362c03d1"
   },
   "source": [
    "# Projeto 2 - NLP\n",
    "\n",
    "-----"
   ]
  },
  {
   "cell_type": "markdown",
   "id": "9517a372",
   "metadata": {
    "id": "9517a372"
   },
   "source": [
    " Usaremos os algoritmos aprendidos e as técnicas vistas na segunda parte do curso para extrairmos informações relevantes de texto. Mais precisamente, de publicações no Twitter."
   ]
  },
  {
   "cell_type": "markdown",
   "id": "955a3a98",
   "metadata": {
    "id": "955a3a98"
   },
   "source": [
    "## Os Dados"
   ]
  },
  {
   "cell_type": "markdown",
   "id": "237d5657",
   "metadata": {
    "id": "237d5657"
   },
   "source": [
    "Utilizaremos um Dataset obtido do Twitter com 100K postagens entre os dias 01/08/2018 e 20/10/2018. Cada postagem é classificada como **positiva**, **negativa** ou **neutra**.  \n",
    "\n",
    "Descrição das colunas:\n",
    "\n",
    "- **id**: ID único para o tweet  \n",
    "- **tweet_text**: Texto da publicação no Twitter  \n",
    "- **tweet_date**: Data da publicação no Twitter  \n",
    "- **sentiment**: 0, se negativo; 1, se positivo; 2, se neutro  \n",
    "- **query_used**: Filtro utilizado para buscar a publicação"
   ]
  },
  {
   "cell_type": "markdown",
   "id": "9dc86eb5",
   "metadata": {
    "id": "9dc86eb5"
   },
   "source": [
    "## O Problema"
   ]
  },
  {
   "cell_type": "markdown",
   "id": "4b0e1f6f",
   "metadata": {
    "id": "4b0e1f6f"
   },
   "source": [
    "Você deverá desenvolver um modelo para detectar o sentimento de uma publicação do Twitter a classificando em uma das três categorias: **positiva**, **negativa** ou **neutra**. O texto da publicação está disponível na coluna \"tweet_text\". Teste pelo menos 2 técnicas de NLP diferentes e escolha a métrica de avaliação que julgar mais pertinente.  \n",
    "\n",
    "Para ajudar no desenvolvimento, é possível dividir o projeto em algumas fases:\n",
    "\n",
    "- **Análise de consistência dos dados**: analise se os dados estão fazendo sentido, se os campos estão completos e se há dados duplicados ou faltantes. Se julgar necessário, trate-os.    \n",
    "\n",
    "\n",
    "- **Análise exploratória**: analise a sua base como um todo, verifique o balanceamento entre as classes e foque, principalmente, na coluna ```tweet_text```.    \n",
    "\n",
    "\n",
    "- **Pré-processamento e transformações**: projetos de NLP exigem um considerável pré-processamento. Foque no tratamento da string do texto. Procure começar com tratamentos simples e adicione complexidade gradualmente. Nessa etapa você testará diferentes técnicas de transformações, como o Bag Of Words e o TF-IDF.    \n",
    "\n",
    "\n",
    "- **Treinamento do modelo**: depois das transformações, você poderá executar o treinamento do modelo classificador. Nessa etapa o problema se torna semelhante aos abordados na primeira parte do módulo. Você pode testar diversos classificadores como RandomForest, AdaBoost, entre outros. Otimize os hiperparâmetros do modelo com técnicas como a GridSearch e a RandomizedSearch.    \n",
    "\n",
    "\n",
    "- **Conclusões**: descreva, em texto, as conclusões sobre os seus estudos. O modelo é capaz de identificar o sentimento das publicações? É possível extrapolar o modelo para outros contextos, como a análise de sentimento de uma frase qualquer? Pense em questões pertinentes e relevantes que você tenha obtido durante o desenvolvimento do projeto!     \n",
    "\n"
   ]
  },
  {
   "cell_type": "markdown",
   "id": "2bb23437",
   "metadata": {
    "id": "2bb23437"
   },
   "source": [
    "## Dicas\n",
    "     \n",
    "\n",
    "### Tente encontrar possíveis vieses\n",
    "\n",
    "É muito comum que modelos de NLP possuam fortes vieses, como a tendência de relacionar palavras específicas com alguma classe de saída. Tente encontrar vieses no seu estudo, isso pode ajudar a tirar boas conclusões. o campo \"query_used\" pode ser útil para essa análise.  \n",
    "\n",
    "### O pré-processamento é a chave para um bom desempenho\n",
    "\n",
    "Essa é a etapa que mais vai contribuir para o desempenho do seu modelo. Seja criativo e desenvolva essa etapa de uma maneira que seja fácil de aplicar o mesmo processamento para uma nova base, você terá que fazer isso para gerar a base de submissão.\n",
    "\n",
    "-------"
   ]
  },
  {
   "cell_type": "code",
   "execution_count": 15,
   "id": "39f34a18",
   "metadata": {},
   "outputs": [],
   "source": [
    "import pandas as pd\n",
    "import numpy as np\n",
    "import seaborn as sns\n",
    "import matplotlib.pyplot as plt\n",
    "import nltk\n",
    "import spacy\n",
    "from nltk.stem.porter import *\n",
    "from nltk.tokenize import word_tokenize\n",
    "from nltk.corpus import stopwords\n",
    "import re\n",
    "from unidecode import unidecode\n",
    "from nltk.stem import WordNetLemmatizer\n",
    "import nltk\n",
    "from sklearn.metrics import classification_report\n",
    "from nltk import pos_tag\n",
    "import emoji\n",
    "from sklearn.pipeline import Pipeline\n",
    "from sklearn.ensemble import RandomForestClassifier\n",
    "from sklearn.svm import LinearSVC\n",
    "from sklearn.model_selection import train_test_split\n",
    "from sklearn.feature_extraction.text import CountVectorizer\n",
    "from sklearn.feature_extraction.text import TfidfVectorizer\n",
    "from nltk.stem.porter import *\n",
    "from nltk.stem import RSLPStemmer\n",
    "from sklearn.model_selection import train_test_split\n",
    "from sklearn.feature_extraction.text import TfidfVectorizer\n",
    "from sklearn.naive_bayes import GaussianNB\n",
    "from sklearn.naive_bayes import BernoulliNB\n",
    "from sklearn.naive_bayes import MultinomialNB"
   ]
  },
  {
   "cell_type": "code",
   "execution_count": 16,
   "id": "876504c6",
   "metadata": {},
   "outputs": [
    {
     "data": {
      "text/html": [
       "<div>\n",
       "<style scoped>\n",
       "    .dataframe tbody tr th:only-of-type {\n",
       "        vertical-align: middle;\n",
       "    }\n",
       "\n",
       "    .dataframe tbody tr th {\n",
       "        vertical-align: top;\n",
       "    }\n",
       "\n",
       "    .dataframe thead th {\n",
       "        text-align: right;\n",
       "    }\n",
       "</style>\n",
       "<table border=\"1\" class=\"dataframe\">\n",
       "  <thead>\n",
       "    <tr style=\"text-align: right;\">\n",
       "      <th></th>\n",
       "      <th>id</th>\n",
       "      <th>tweet_text</th>\n",
       "      <th>tweet_date</th>\n",
       "      <th>sentiment</th>\n",
       "      <th>query_used</th>\n",
       "    </tr>\n",
       "  </thead>\n",
       "  <tbody>\n",
       "    <tr>\n",
       "      <th>0</th>\n",
       "      <td>1049721159292346368</td>\n",
       "      <td>Rio elege maior bancada policial de sua histór...</td>\n",
       "      <td>Tue Oct 09 18:00:01 +0000 2018</td>\n",
       "      <td>2</td>\n",
       "      <td>folha</td>\n",
       "    </tr>\n",
       "    <tr>\n",
       "      <th>1</th>\n",
       "      <td>1046251157025423360</td>\n",
       "      <td>fiquei tão triste quando eu vi o preço da câme...</td>\n",
       "      <td>Sun Sep 30 04:11:28 +0000 2018</td>\n",
       "      <td>0</td>\n",
       "      <td>:(</td>\n",
       "    </tr>\n",
       "    <tr>\n",
       "      <th>2</th>\n",
       "      <td>1041744620206653440</td>\n",
       "      <td>Para Theresa May, seu plano para o Brexit é a ...</td>\n",
       "      <td>Mon Sep 17 17:44:06 +0000 2018</td>\n",
       "      <td>2</td>\n",
       "      <td>exame</td>\n",
       "    </tr>\n",
       "    <tr>\n",
       "      <th>3</th>\n",
       "      <td>1046937084727107589</td>\n",
       "      <td>caralho eu quero proteger a danielly em um pot...</td>\n",
       "      <td>Tue Oct 02 01:37:06 +0000 2018</td>\n",
       "      <td>0</td>\n",
       "      <td>:(</td>\n",
       "    </tr>\n",
       "    <tr>\n",
       "      <th>4</th>\n",
       "      <td>1047326854229778432</td>\n",
       "      <td>@SiCaetano_ viva o caos :)</td>\n",
       "      <td>Wed Oct 03 03:25:55 +0000 2018</td>\n",
       "      <td>1</td>\n",
       "      <td>:)</td>\n",
       "    </tr>\n",
       "    <tr>\n",
       "      <th>...</th>\n",
       "      <td>...</td>\n",
       "      <td>...</td>\n",
       "      <td>...</td>\n",
       "      <td>...</td>\n",
       "      <td>...</td>\n",
       "    </tr>\n",
       "    <tr>\n",
       "      <th>94995</th>\n",
       "      <td>1041831666883321856</td>\n",
       "      <td>Cuba e defensor de direitos humanos se unem co...</td>\n",
       "      <td>Mon Sep 17 23:30:00 +0000 2018</td>\n",
       "      <td>2</td>\n",
       "      <td>jornaloglobo</td>\n",
       "    </tr>\n",
       "    <tr>\n",
       "      <th>94996</th>\n",
       "      <td>1032352892194369536</td>\n",
       "      <td>#Oportunidade ➡️ Venha fazer parte da nossa eq...</td>\n",
       "      <td>Wed Aug 22 19:44:44 +0000 2018</td>\n",
       "      <td>2</td>\n",
       "      <td>#oportunidade</td>\n",
       "    </tr>\n",
       "    <tr>\n",
       "      <th>94997</th>\n",
       "      <td>1046785538542440448</td>\n",
       "      <td>@96syoo EU SEI 😭😭 é por isso que significa mui...</td>\n",
       "      <td>Mon Oct 01 15:34:55 +0000 2018</td>\n",
       "      <td>0</td>\n",
       "      <td>:(</td>\n",
       "    </tr>\n",
       "    <tr>\n",
       "      <th>94998</th>\n",
       "      <td>1045457469110177792</td>\n",
       "      <td>@louistsexhes N te conheço mas posta :D</td>\n",
       "      <td>Thu Sep 27 23:37:38 +0000 2018</td>\n",
       "      <td>1</td>\n",
       "      <td>:)</td>\n",
       "    </tr>\n",
       "    <tr>\n",
       "      <th>94999</th>\n",
       "      <td>1046239135286136832</td>\n",
       "      <td>meu deus :( https://t.co/BlXazxZeKq</td>\n",
       "      <td>Sun Sep 30 03:23:42 +0000 2018</td>\n",
       "      <td>0</td>\n",
       "      <td>:(</td>\n",
       "    </tr>\n",
       "  </tbody>\n",
       "</table>\n",
       "<p>95000 rows × 5 columns</p>\n",
       "</div>"
      ],
      "text/plain": [
       "                        id                                         tweet_text  \\\n",
       "0      1049721159292346368  Rio elege maior bancada policial de sua histór...   \n",
       "1      1046251157025423360  fiquei tão triste quando eu vi o preço da câme...   \n",
       "2      1041744620206653440  Para Theresa May, seu plano para o Brexit é a ...   \n",
       "3      1046937084727107589  caralho eu quero proteger a danielly em um pot...   \n",
       "4      1047326854229778432                         @SiCaetano_ viva o caos :)   \n",
       "...                    ...                                                ...   \n",
       "94995  1041831666883321856  Cuba e defensor de direitos humanos se unem co...   \n",
       "94996  1032352892194369536  #Oportunidade ➡️ Venha fazer parte da nossa eq...   \n",
       "94997  1046785538542440448  @96syoo EU SEI 😭😭 é por isso que significa mui...   \n",
       "94998  1045457469110177792            @louistsexhes N te conheço mas posta :D   \n",
       "94999  1046239135286136832                meu deus :( https://t.co/BlXazxZeKq   \n",
       "\n",
       "                           tweet_date  sentiment     query_used  \n",
       "0      Tue Oct 09 18:00:01 +0000 2018          2          folha  \n",
       "1      Sun Sep 30 04:11:28 +0000 2018          0             :(  \n",
       "2      Mon Sep 17 17:44:06 +0000 2018          2          exame  \n",
       "3      Tue Oct 02 01:37:06 +0000 2018          0             :(  \n",
       "4      Wed Oct 03 03:25:55 +0000 2018          1             :)  \n",
       "...                               ...        ...            ...  \n",
       "94995  Mon Sep 17 23:30:00 +0000 2018          2   jornaloglobo  \n",
       "94996  Wed Aug 22 19:44:44 +0000 2018          2  #oportunidade  \n",
       "94997  Mon Oct 01 15:34:55 +0000 2018          0             :(  \n",
       "94998  Thu Sep 27 23:37:38 +0000 2018          1             :)  \n",
       "94999  Sun Sep 30 03:23:42 +0000 2018          0             :(  \n",
       "\n",
       "[95000 rows x 5 columns]"
      ]
     },
     "execution_count": 16,
     "metadata": {},
     "output_type": "execute_result"
    }
   ],
   "source": [
    "#load the cvs and transform into dataset\n",
    "tweet = pd.read_csv('./Dados/train/Train3Classes.csv', sep = ',')\n",
    "#dataset visualization\n",
    "tweet"
   ]
  },
  {
   "cell_type": "markdown",
   "id": "72d070b6",
   "metadata": {},
   "source": [
    "### Data consistence evaluation"
   ]
  },
  {
   "cell_type": "code",
   "execution_count": 17,
   "id": "787c0801",
   "metadata": {},
   "outputs": [
    {
     "name": "stdout",
     "output_type": "stream",
     "text": [
      "<class 'pandas.core.frame.DataFrame'>\n",
      "RangeIndex: 95000 entries, 0 to 94999\n",
      "Data columns (total 5 columns):\n",
      " #   Column      Non-Null Count  Dtype \n",
      "---  ------      --------------  ----- \n",
      " 0   id          95000 non-null  int64 \n",
      " 1   tweet_text  95000 non-null  object\n",
      " 2   tweet_date  95000 non-null  object\n",
      " 3   sentiment   95000 non-null  int64 \n",
      " 4   query_used  95000 non-null  object\n",
      "dtypes: int64(2), object(3)\n",
      "memory usage: 3.6+ MB\n"
     ]
    }
   ],
   "source": [
    "#Geting info about the types and absents data\n",
    "tweet.info()"
   ]
  },
  {
   "cell_type": "code",
   "execution_count": 18,
   "id": "f49846ea",
   "metadata": {
    "scrolled": true
   },
   "outputs": [
    {
     "data": {
      "text/plain": [
       "False    95000\n",
       "dtype: int64"
      ]
     },
     "execution_count": 18,
     "metadata": {},
     "output_type": "execute_result"
    }
   ],
   "source": [
    "#Verifying if there'is duplicated data\n",
    "tweet.duplicated().value_counts()"
   ]
  },
  {
   "cell_type": "markdown",
   "id": "8146e789",
   "metadata": {},
   "source": [
    "### EDA"
   ]
  },
  {
   "cell_type": "code",
   "execution_count": 19,
   "id": "1388a500",
   "metadata": {},
   "outputs": [
    {
     "data": {
      "text/plain": [
       "0    31696\n",
       "1    31678\n",
       "2    31626\n",
       "Name: sentiment, dtype: int64"
      ]
     },
     "execution_count": 19,
     "metadata": {},
     "output_type": "execute_result"
    }
   ],
   "source": [
    "#Verifying if the data is balanced\n",
    "tweet['sentiment'].value_counts()"
   ]
  },
  {
   "cell_type": "code",
   "execution_count": 20,
   "id": "213606ec",
   "metadata": {},
   "outputs": [
    {
     "data": {
      "image/png": "[encoded data removed]",
      "text/plain": [
       "<Figure size 432x288 with 1 Axes>"
      ]
     },
     "metadata": {
      "needs_background": "light"
     },
     "output_type": "display_data"
    }
   ],
   "source": [
    "#Grafic view about setiment column\n",
    "plt.title('Sentimentos')\n",
    "plt.xlabel('sentimento')\n",
    "plt.ylabel('Frequência Absoluta')\n",
    "plt.hist(tweet['sentiment'], 10)\n",
    "plt.show()"
   ]
  },
  {
   "cell_type": "code",
   "execution_count": 21,
   "id": "9401c426",
   "metadata": {},
   "outputs": [],
   "source": [
    "tweet = tweet.sample(frac=0.05, replace=False)"
   ]
  },
  {
   "cell_type": "markdown",
   "id": "4af24328",
   "metadata": {},
   "source": [
    "### Pre processing and transformations"
   ]
  },
  {
   "cell_type": "code",
   "execution_count": 22,
   "id": "24000727",
   "metadata": {},
   "outputs": [],
   "source": [
    "def limpezaTexto(string):\n",
    "    import spacy\n",
    "    nlp = spacy.load(\"pt_core_news_sm\")\n",
    "    from nltk.corpus import stopwords\n",
    "    words_pt = nltk.corpus.stopwords.words('portuguese')\n",
    "    import emoji\n",
    "    happy =  re.sub(r'[:.][)]', 'feliz', string) #char replace: from  :) to feliz\n",
    "    happy_D =  re.sub(r'[:.][D]', 'feliz', happy)#char replace: from  :D to feliz\n",
    "    sad = re.sub(r'[:.][(]', 'triste', happy_D) #char replace: from  :() to triste\n",
    "    html = re.sub(r'ht.*/.*', ' ', sad)#removal of hyperlinks\n",
    "    unicode = unidecode(html)#removal of Grafic accentuations\n",
    "    emoji = emoji.demojize(unicode)#emojis transform to code\n",
    "    no_emoji = re.sub(r'[:][\\w]*[:]', \" \", emoji)#removal of generic emojis\n",
    "    no_arroba = re.sub(r'[\\Wa-zA-Z0-9]*[\\W][@][\\w.]+|[@.][\\w.]+', ' ', no_emoji)#quote removal\n",
    "    especial = re.sub(r'[^a-zA-Z0-9]+', ' ', no_arroba)#specials chars removal\n",
    "    no_number = re.sub(r'[\\d]', ' ', especial)#digits removal\n",
    "    doc = nlp(no_number)#lemmatization instance  \n",
    "    tokens = [token.lemma_.lower() for token in doc] #lemmatization. The consequence is the string tokenization too\n",
    "    for palavra in tokens: #loop to stopwords removals from dataset\n",
    "        if palavra in tokens:\n",
    "            i = tokens.index(palavra)\n",
    "            tokens.pop(i)\n",
    "    return tokens"
   ]
  },
  {
   "cell_type": "code",
   "execution_count": 23,
   "id": "362d7df3",
   "metadata": {},
   "outputs": [
    {
     "ename": "OSError",
     "evalue": "[E050] Can't find model 'pt_core_news_sm'. It doesn't seem to be a Python package or a valid path to a data directory.",
     "output_type": "error",
     "traceback": [
      "\u001b[0;31m---------------------------------------------------------------------------\u001b[0m",
      "\u001b[0;31mOSError\u001b[0m                                   Traceback (most recent call last)",
      "\u001b[1;32m/home/Faaeel06/Documentos/GitHub/Lets_Code/Data Science Degree/Modulo_13/Projeto 2 - NLP(MARI).ipynb Cell 19\u001b[0m in \u001b[0;36m<cell line: 2>\u001b[0;34m()\u001b[0m\n\u001b[1;32m      <a href='vscode-notebook-cell:/home/Faaeel06/Documentos/GitHub/Lets_Code/Data%20Science%20Degree/Modulo_13/Projeto%202%20-%20NLP%28MARI%29.ipynb#X24sZmlsZQ%3D%3D?line=0'>1</a>\u001b[0m \u001b[39m#applying the datacleaning function and doing a join on the strings list\u001b[39;00m\n\u001b[0;32m----> <a href='vscode-notebook-cell:/home/Faaeel06/Documentos/GitHub/Lets_Code/Data%20Science%20Degree/Modulo_13/Projeto%202%20-%20NLP%28MARI%29.ipynb#X24sZmlsZQ%3D%3D?line=1'>2</a>\u001b[0m tweet[\u001b[39m'\u001b[39m\u001b[39mtweet_text\u001b[39m\u001b[39m'\u001b[39m] \u001b[39m=\u001b[39m tweet[\u001b[39m'\u001b[39;49m\u001b[39mtweet_text\u001b[39;49m\u001b[39m'\u001b[39;49m]\u001b[39m.\u001b[39;49mapply(\u001b[39mlambda\u001b[39;49;00m x: limpezaTexto(x))\n\u001b[1;32m      <a href='vscode-notebook-cell:/home/Faaeel06/Documentos/GitHub/Lets_Code/Data%20Science%20Degree/Modulo_13/Projeto%202%20-%20NLP%28MARI%29.ipynb#X24sZmlsZQ%3D%3D?line=2'>3</a>\u001b[0m tweet[\u001b[39m'\u001b[39m\u001b[39mtweet_text\u001b[39m\u001b[39m'\u001b[39m] \u001b[39m=\u001b[39m tweet[\u001b[39m'\u001b[39m\u001b[39mtweet_text\u001b[39m\u001b[39m'\u001b[39m]\u001b[39m.\u001b[39mapply(\u001b[39mlambda\u001b[39;00m x: \u001b[39m'\u001b[39m\u001b[39m \u001b[39m\u001b[39m'\u001b[39m\u001b[39m.\u001b[39mjoin(x))\n",
      "File \u001b[0;32m~/.local/lib/python3.9/site-packages/pandas/core/series.py:4433\u001b[0m, in \u001b[0;36mSeries.apply\u001b[0;34m(self, func, convert_dtype, args, **kwargs)\u001b[0m\n\u001b[1;32m   4323\u001b[0m \u001b[39mdef\u001b[39;00m \u001b[39mapply\u001b[39m(\n\u001b[1;32m   4324\u001b[0m     \u001b[39mself\u001b[39m,\n\u001b[1;32m   4325\u001b[0m     func: AggFuncType,\n\u001b[0;32m   (...)\u001b[0m\n\u001b[1;32m   4328\u001b[0m     \u001b[39m*\u001b[39m\u001b[39m*\u001b[39mkwargs,\n\u001b[1;32m   4329\u001b[0m ) \u001b[39m-\u001b[39m\u001b[39m>\u001b[39m DataFrame \u001b[39m|\u001b[39m Series:\n\u001b[1;32m   4330\u001b[0m     \u001b[39m\"\"\"\u001b[39;00m\n\u001b[1;32m   4331\u001b[0m \u001b[39m    Invoke function on values of Series.\u001b[39;00m\n\u001b[1;32m   4332\u001b[0m \n\u001b[0;32m   (...)\u001b[0m\n\u001b[1;32m   4431\u001b[0m \u001b[39m    dtype: float64\u001b[39;00m\n\u001b[1;32m   4432\u001b[0m \u001b[39m    \"\"\"\u001b[39;00m\n\u001b[0;32m-> 4433\u001b[0m     \u001b[39mreturn\u001b[39;00m SeriesApply(\u001b[39mself\u001b[39;49m, func, convert_dtype, args, kwargs)\u001b[39m.\u001b[39;49mapply()\n",
      "File \u001b[0;32m~/.local/lib/python3.9/site-packages/pandas/core/apply.py:1088\u001b[0m, in \u001b[0;36mSeriesApply.apply\u001b[0;34m(self)\u001b[0m\n\u001b[1;32m   1084\u001b[0m \u001b[39mif\u001b[39;00m \u001b[39misinstance\u001b[39m(\u001b[39mself\u001b[39m\u001b[39m.\u001b[39mf, \u001b[39mstr\u001b[39m):\n\u001b[1;32m   1085\u001b[0m     \u001b[39m# if we are a string, try to dispatch\u001b[39;00m\n\u001b[1;32m   1086\u001b[0m     \u001b[39mreturn\u001b[39;00m \u001b[39mself\u001b[39m\u001b[39m.\u001b[39mapply_str()\n\u001b[0;32m-> 1088\u001b[0m \u001b[39mreturn\u001b[39;00m \u001b[39mself\u001b[39;49m\u001b[39m.\u001b[39;49mapply_standard()\n",
      "File \u001b[0;32m~/.local/lib/python3.9/site-packages/pandas/core/apply.py:1143\u001b[0m, in \u001b[0;36mSeriesApply.apply_standard\u001b[0;34m(self)\u001b[0m\n\u001b[1;32m   1137\u001b[0m         values \u001b[39m=\u001b[39m obj\u001b[39m.\u001b[39mastype(\u001b[39mobject\u001b[39m)\u001b[39m.\u001b[39m_values\n\u001b[1;32m   1138\u001b[0m         \u001b[39m# error: Argument 2 to \"map_infer\" has incompatible type\u001b[39;00m\n\u001b[1;32m   1139\u001b[0m         \u001b[39m# \"Union[Callable[..., Any], str, List[Union[Callable[..., Any], str]],\u001b[39;00m\n\u001b[1;32m   1140\u001b[0m         \u001b[39m# Dict[Hashable, Union[Union[Callable[..., Any], str],\u001b[39;00m\n\u001b[1;32m   1141\u001b[0m         \u001b[39m# List[Union[Callable[..., Any], str]]]]]\"; expected\u001b[39;00m\n\u001b[1;32m   1142\u001b[0m         \u001b[39m# \"Callable[[Any], Any]\"\u001b[39;00m\n\u001b[0;32m-> 1143\u001b[0m         mapped \u001b[39m=\u001b[39m lib\u001b[39m.\u001b[39;49mmap_infer(\n\u001b[1;32m   1144\u001b[0m             values,\n\u001b[1;32m   1145\u001b[0m             f,  \u001b[39m# type: ignore[arg-type]\u001b[39;49;00m\n\u001b[1;32m   1146\u001b[0m             convert\u001b[39m=\u001b[39;49m\u001b[39mself\u001b[39;49m\u001b[39m.\u001b[39;49mconvert_dtype,\n\u001b[1;32m   1147\u001b[0m         )\n\u001b[1;32m   1149\u001b[0m \u001b[39mif\u001b[39;00m \u001b[39mlen\u001b[39m(mapped) \u001b[39mand\u001b[39;00m \u001b[39misinstance\u001b[39m(mapped[\u001b[39m0\u001b[39m], ABCSeries):\n\u001b[1;32m   1150\u001b[0m     \u001b[39m# GH#43986 Need to do list(mapped) in order to get treated as nested\u001b[39;00m\n\u001b[1;32m   1151\u001b[0m     \u001b[39m#  See also GH#25959 regarding EA support\u001b[39;00m\n\u001b[1;32m   1152\u001b[0m     \u001b[39mreturn\u001b[39;00m obj\u001b[39m.\u001b[39m_constructor_expanddim(\u001b[39mlist\u001b[39m(mapped), index\u001b[39m=\u001b[39mobj\u001b[39m.\u001b[39mindex)\n",
      "File \u001b[0;32m~/.local/lib/python3.9/site-packages/pandas/_libs/lib.pyx:2870\u001b[0m, in \u001b[0;36mpandas._libs.lib.map_infer\u001b[0;34m()\u001b[0m\n",
      "\u001b[1;32m/home/Faaeel06/Documentos/GitHub/Lets_Code/Data Science Degree/Modulo_13/Projeto 2 - NLP(MARI).ipynb Cell 19\u001b[0m in \u001b[0;36m<lambda>\u001b[0;34m(x)\u001b[0m\n\u001b[1;32m      <a href='vscode-notebook-cell:/home/Faaeel06/Documentos/GitHub/Lets_Code/Data%20Science%20Degree/Modulo_13/Projeto%202%20-%20NLP%28MARI%29.ipynb#X24sZmlsZQ%3D%3D?line=0'>1</a>\u001b[0m \u001b[39m#applying the datacleaning function and doing a join on the strings list\u001b[39;00m\n\u001b[0;32m----> <a href='vscode-notebook-cell:/home/Faaeel06/Documentos/GitHub/Lets_Code/Data%20Science%20Degree/Modulo_13/Projeto%202%20-%20NLP%28MARI%29.ipynb#X24sZmlsZQ%3D%3D?line=1'>2</a>\u001b[0m tweet[\u001b[39m'\u001b[39m\u001b[39mtweet_text\u001b[39m\u001b[39m'\u001b[39m] \u001b[39m=\u001b[39m tweet[\u001b[39m'\u001b[39m\u001b[39mtweet_text\u001b[39m\u001b[39m'\u001b[39m]\u001b[39m.\u001b[39mapply(\u001b[39mlambda\u001b[39;00m x: limpezaTexto(x))\n\u001b[1;32m      <a href='vscode-notebook-cell:/home/Faaeel06/Documentos/GitHub/Lets_Code/Data%20Science%20Degree/Modulo_13/Projeto%202%20-%20NLP%28MARI%29.ipynb#X24sZmlsZQ%3D%3D?line=2'>3</a>\u001b[0m tweet[\u001b[39m'\u001b[39m\u001b[39mtweet_text\u001b[39m\u001b[39m'\u001b[39m] \u001b[39m=\u001b[39m tweet[\u001b[39m'\u001b[39m\u001b[39mtweet_text\u001b[39m\u001b[39m'\u001b[39m]\u001b[39m.\u001b[39mapply(\u001b[39mlambda\u001b[39;00m x: \u001b[39m'\u001b[39m\u001b[39m \u001b[39m\u001b[39m'\u001b[39m\u001b[39m.\u001b[39mjoin(x))\n",
      "\u001b[1;32m/home/Faaeel06/Documentos/GitHub/Lets_Code/Data Science Degree/Modulo_13/Projeto 2 - NLP(MARI).ipynb Cell 19\u001b[0m in \u001b[0;36mlimpezaTexto\u001b[0;34m(string)\u001b[0m\n\u001b[1;32m      <a href='vscode-notebook-cell:/home/Faaeel06/Documentos/GitHub/Lets_Code/Data%20Science%20Degree/Modulo_13/Projeto%202%20-%20NLP%28MARI%29.ipynb#X24sZmlsZQ%3D%3D?line=0'>1</a>\u001b[0m \u001b[39mdef\u001b[39;00m \u001b[39mlimpezaTexto\u001b[39m(string):\n\u001b[1;32m      <a href='vscode-notebook-cell:/home/Faaeel06/Documentos/GitHub/Lets_Code/Data%20Science%20Degree/Modulo_13/Projeto%202%20-%20NLP%28MARI%29.ipynb#X24sZmlsZQ%3D%3D?line=1'>2</a>\u001b[0m     \u001b[39mimport\u001b[39;00m \u001b[39mspacy\u001b[39;00m\n\u001b[0;32m----> <a href='vscode-notebook-cell:/home/Faaeel06/Documentos/GitHub/Lets_Code/Data%20Science%20Degree/Modulo_13/Projeto%202%20-%20NLP%28MARI%29.ipynb#X24sZmlsZQ%3D%3D?line=2'>3</a>\u001b[0m     nlp \u001b[39m=\u001b[39m spacy\u001b[39m.\u001b[39;49mload(\u001b[39m\"\u001b[39;49m\u001b[39mpt_core_news_sm\u001b[39;49m\u001b[39m\"\u001b[39;49m)\n\u001b[1;32m      <a href='vscode-notebook-cell:/home/Faaeel06/Documentos/GitHub/Lets_Code/Data%20Science%20Degree/Modulo_13/Projeto%202%20-%20NLP%28MARI%29.ipynb#X24sZmlsZQ%3D%3D?line=3'>4</a>\u001b[0m     \u001b[39mfrom\u001b[39;00m \u001b[39mnltk\u001b[39;00m\u001b[39m.\u001b[39;00m\u001b[39mcorpus\u001b[39;00m \u001b[39mimport\u001b[39;00m stopwords\n\u001b[1;32m      <a href='vscode-notebook-cell:/home/Faaeel06/Documentos/GitHub/Lets_Code/Data%20Science%20Degree/Modulo_13/Projeto%202%20-%20NLP%28MARI%29.ipynb#X24sZmlsZQ%3D%3D?line=4'>5</a>\u001b[0m     words_pt \u001b[39m=\u001b[39m nltk\u001b[39m.\u001b[39mcorpus\u001b[39m.\u001b[39mstopwords\u001b[39m.\u001b[39mwords(\u001b[39m'\u001b[39m\u001b[39mportuguese\u001b[39m\u001b[39m'\u001b[39m)\n",
      "File \u001b[0;32m~/.local/lib/python3.9/site-packages/spacy/__init__.py:54\u001b[0m, in \u001b[0;36mload\u001b[0;34m(name, vocab, disable, enable, exclude, config)\u001b[0m\n\u001b[1;32m     30\u001b[0m \u001b[39mdef\u001b[39;00m \u001b[39mload\u001b[39m(\n\u001b[1;32m     31\u001b[0m     name: Union[\u001b[39mstr\u001b[39m, Path],\n\u001b[1;32m     32\u001b[0m     \u001b[39m*\u001b[39m,\n\u001b[0;32m   (...)\u001b[0m\n\u001b[1;32m     37\u001b[0m     config: Union[Dict[\u001b[39mstr\u001b[39m, Any], Config] \u001b[39m=\u001b[39m util\u001b[39m.\u001b[39mSimpleFrozenDict(),\n\u001b[1;32m     38\u001b[0m ) \u001b[39m-\u001b[39m\u001b[39m>\u001b[39m Language:\n\u001b[1;32m     39\u001b[0m     \u001b[39m\"\"\"Load a spaCy model from an installed package or a local path.\u001b[39;00m\n\u001b[1;32m     40\u001b[0m \n\u001b[1;32m     41\u001b[0m \u001b[39m    name (str): Package name or model path.\u001b[39;00m\n\u001b[0;32m   (...)\u001b[0m\n\u001b[1;32m     52\u001b[0m \u001b[39m    RETURNS (Language): The loaded nlp object.\u001b[39;00m\n\u001b[1;32m     53\u001b[0m \u001b[39m    \"\"\"\u001b[39;00m\n\u001b[0;32m---> 54\u001b[0m     \u001b[39mreturn\u001b[39;00m util\u001b[39m.\u001b[39;49mload_model(\n\u001b[1;32m     55\u001b[0m         name,\n\u001b[1;32m     56\u001b[0m         vocab\u001b[39m=\u001b[39;49mvocab,\n\u001b[1;32m     57\u001b[0m         disable\u001b[39m=\u001b[39;49mdisable,\n\u001b[1;32m     58\u001b[0m         enable\u001b[39m=\u001b[39;49menable,\n\u001b[1;32m     59\u001b[0m         exclude\u001b[39m=\u001b[39;49mexclude,\n\u001b[1;32m     60\u001b[0m         config\u001b[39m=\u001b[39;49mconfig,\n\u001b[1;32m     61\u001b[0m     )\n",
      "File \u001b[0;32m~/.local/lib/python3.9/site-packages/spacy/util.py:436\u001b[0m, in \u001b[0;36mload_model\u001b[0;34m(name, vocab, disable, enable, exclude, config)\u001b[0m\n\u001b[1;32m    434\u001b[0m \u001b[39mif\u001b[39;00m name \u001b[39min\u001b[39;00m OLD_MODEL_SHORTCUTS:\n\u001b[1;32m    435\u001b[0m     \u001b[39mraise\u001b[39;00m \u001b[39mIOError\u001b[39;00m(Errors\u001b[39m.\u001b[39mE941\u001b[39m.\u001b[39mformat(name\u001b[39m=\u001b[39mname, full\u001b[39m=\u001b[39mOLD_MODEL_SHORTCUTS[name]))  \u001b[39m# type: ignore[index]\u001b[39;00m\n\u001b[0;32m--> 436\u001b[0m \u001b[39mraise\u001b[39;00m \u001b[39mIOError\u001b[39;00m(Errors\u001b[39m.\u001b[39mE050\u001b[39m.\u001b[39mformat(name\u001b[39m=\u001b[39mname))\n",
      "\u001b[0;31mOSError\u001b[0m: [E050] Can't find model 'pt_core_news_sm'. It doesn't seem to be a Python package or a valid path to a data directory."
     ]
    }
   ],
   "source": [
    "#applying the datacleaning function and doing a join on the strings list\n",
    "tweet['tweet_text'] = tweet['tweet_text'].apply(lambda x: limpezaTexto(x))\n",
    "tweet['tweet_text'] = tweet['tweet_text'].apply(lambda x: ' '.join(x))"
   ]
  },
  {
   "cell_type": "code",
   "execution_count": null,
   "id": "c004e28f",
   "metadata": {},
   "outputs": [],
   "source": [
    "#Cleaned dataset view\n",
    "tweet"
   ]
  },
  {
   "cell_type": "code",
   "execution_count": null,
   "id": "da9ab513",
   "metadata": {},
   "outputs": [],
   "source": [
    "# Slicing the dataset in text and target\n",
    "X = tweet['tweet_text']\n",
    "y = tweet['sentiment']\n",
    "\n",
    "\n",
    "\n",
    "# slicing the dataset in train and test\n",
    "X_train, X_test, y_train, y_test = train_test_split(X,\n",
    "                                                     y,\n",
    "                                                     test_size = 0.3,\n",
    "                                                     random_state = 42)"
   ]
  },
  {
   "cell_type": "code",
   "execution_count": null,
   "id": "d8eda047",
   "metadata": {},
   "outputs": [],
   "source": [
    "#applying the TfIdf vectorizer\n",
    "tfidf = TfidfVectorizer(use_idf = True)\n",
    "\n",
    "X_train_tfidf = tfidf.fit_transform(X_train).todense()\n",
    "X_test_tfidf  = tfidf.transform(X_test).todense()"
   ]
  },
  {
   "cell_type": "markdown",
   "id": "c3a89592",
   "metadata": {},
   "source": [
    "### Model trainning"
   ]
  },
  {
   "cell_type": "code",
   "execution_count": null,
   "id": "ad27f2f0",
   "metadata": {
    "scrolled": true
   },
   "outputs": [],
   "source": [
    "# models instances\n",
    "modelMultinomial = MultinomialNB()\n",
    "modelGaussian = GaussianNB()\n",
    "modelRandomforest = RandomForestClassifier()\n",
    "modelSVC = LinearSVC()\n",
    "\n",
    "# fitting the models\n",
    "modelMultinomial.fit(X_train_tfidf, y_train)\n",
    "modelGaussian.fit(X_train_tfidf, y_train)\n",
    "modelRandomforest.fit(X_train_tfidf, y_train)\n",
    "modelSVC.fit(X_train_tfidf, y_train)\n",
    "\n",
    "# Predictions generates\n",
    "y_predMultinomial = modelMultinomial.predict(X_test_tfidf)\n",
    "y_predGaussian = modelGaussian.predict(X_test_tfidf)\n",
    "y_predRandomforest = modelRandomforest.predict(X_test_tfidf)\n",
    "y_predSVC = modelSVC.predict(X_test_tfidf)\n"
   ]
  },
  {
   "cell_type": "markdown",
   "id": "34d27804",
   "metadata": {},
   "source": [
    "### Valuation with standard models"
   ]
  },
  {
   "cell_type": "code",
   "execution_count": null,
   "id": "b2c725cc",
   "metadata": {},
   "outputs": [],
   "source": [
    "# Report prints \n",
    "print('Model: Multinomial')\n",
    "print(classification_report(y_test, y_predMultinomial))\n",
    "print(\"#\"*80)\n",
    "print('Model: Gaussiano')\n",
    "print(classification_report(y_test, y_predGaussian))\n",
    "print(\"#\"*80)\n",
    "print('Model: RandomForest')\n",
    "print(classification_report(y_test, y_predRandomforest))\n",
    "print(\"#\"*80)\n",
    "print('Model: SVC')\n",
    "print(classification_report(y_test, y_predSVC))\n"
   ]
  },
  {
   "cell_type": "code",
   "execution_count": null,
   "id": "84fa6c83",
   "metadata": {},
   "outputs": [],
   "source": [
    "text = 'A felicidade chegou e ficou'\n",
    "y_predMultinomial = modelMultinomial.predict(text)\n",
    "y_predMultinomial"
   ]
  },
  {
   "cell_type": "markdown",
   "id": "90db9d37",
   "metadata": {},
   "source": [
    "### Tunning the models with Hyperparameters "
   ]
  },
  {
   "cell_type": "code",
   "execution_count": null,
   "id": "76a2c3df",
   "metadata": {},
   "outputs": [],
   "source": []
  },
  {
   "cell_type": "code",
   "execution_count": null,
   "id": "41d82f1a",
   "metadata": {},
   "outputs": [],
   "source": []
  },
  {
   "cell_type": "code",
   "execution_count": null,
   "id": "0b8dd90e",
   "metadata": {},
   "outputs": [],
   "source": []
  },
  {
   "cell_type": "markdown",
   "id": "b05c24a9",
   "metadata": {},
   "source": [
    "### Implications"
   ]
  },
  {
   "cell_type": "code",
   "execution_count": null,
   "id": "076b3c3d",
   "metadata": {},
   "outputs": [],
   "source": []
  }
 ],
 "metadata": {
  "colab": {
   "collapsed_sections": [],
   "name": "Projeto 2 - NLP.ipynb",
   "provenance": []
  },
  "kernelspec": {
   "display_name": "Python 3.9.2 64-bit",
   "language": "python",
   "name": "python3"
  },
  "language_info": {
   "codemirror_mode": {
    "name": "ipython",
    "version": 3
   },
   "file_extension": ".py",
   "mimetype": "text/x-python",
   "name": "python",
   "nbconvert_exporter": "python",
   "pygments_lexer": "ipython3",
   "version": "3.9.2"
  },
  "vscode": {
   "interpreter": {
    "hash": "31f2aee4e71d21fbe5cf8b01ff0e069b9275f58929596ceb00d14d90e3e16cd6"
   }
  }
 },
 "nbformat": 4,
 "nbformat_minor": 5
}
