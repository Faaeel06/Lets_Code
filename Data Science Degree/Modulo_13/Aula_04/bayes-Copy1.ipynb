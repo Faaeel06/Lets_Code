{
 "cells": [
  {
   "cell_type": "markdown",
   "id": "7422aef5",
   "metadata": {},
   "source": [
    "# Modelos probabilisticos - Naive Bayes\n",
    "\n",
    "* Em determinados problemas, é possível fazer uma relação entre variáveis por meio de probabilidades\n",
    "* O naive bayes é um modelo voltado para esta visão, tendo como base o teorema de Bayes\n",
    "* Suposição de independência ou não correlação entre as variáveis do conjunto de dados sendo utilizadas para resolver um determinado problema\n",
    "* Variáveis igualmente importantes\n",
    "* Formulação de acordo com o teorema de Bayes\n",
    "  * Utilizado para cálculo da probabilidade de um evento A dado que um evento B ocorreu\n",
    "  * P(B|A): probabilidade de B acontecer dado que A ocorreu\n",
    "  * P(A): probabilidade de A ocorrer\n",
    "  * P(B): probabilidade de B ocorrer\n",
    "![Title](../imgs/teorema_bayes.webp)"
   ]
  },
  {
   "cell_type": "markdown",
   "id": "47d8522e",
   "metadata": {},
   "source": [
    "# Como assim professora?\n",
    "![Title](../imgs/fine.jpg)"
   ]
  },
  {
   "cell_type": "markdown",
   "id": "c99c4ef1",
   "metadata": {},
   "source": [
    "# Exemplo\n",
    "![Title](../imgs/tabela-bayes.png)\n",
    "\n",
    "𝑃(𝑆𝑖𝑚|𝐸𝑛𝑠𝑜𝑙𝑎𝑟𝑎𝑑𝑜)=(𝑃(𝐸𝑛𝑠𝑜𝑙𝑎𝑟𝑎𝑑𝑜|𝑆𝑖𝑚)∗𝑃(𝑆𝑖𝑚))/𝑃(𝐸𝑛𝑠𝑜𝑙𝑎𝑟𝑎𝑑𝑜)\n",
    "\n",
    "\n",
    "𝑃(𝑆𝑖𝑚)=9/14=0,64\n",
    "\n",
    "𝑃(𝐸𝑛𝑠𝑜𝑙𝑎𝑟𝑎𝑑𝑜)=5/14=0,36\n",
    "\n",
    "𝑃(𝐸𝑛𝑠𝑜𝑙𝑎𝑟𝑎𝑑𝑜|𝑆𝑖𝑚)=3/9=0,33\n",
    "\n",
    "P(Sim | Ensolarado) = 0,33 * 0,64 / 0,36 = 0,60"
   ]
  },
  {
   "cell_type": "markdown",
   "id": "aac5b9d6",
   "metadata": {},
   "source": [
    "# Uso em NLP\n",
    "\n",
    "* O algoritmo de Bayes é uma das técnicas simples mais utilizadas para NLP em aplicações de classificação\n",
    "* Palavras com maior probabilidade de ocorrer em uma determinada classe determinam um padrão\n",
    "\n",
    "![Title](../imgs/bayes_nlp.png)"
   ]
  },
  {
   "cell_type": "markdown",
   "id": "1ac8d7ce",
   "metadata": {},
   "source": [
    "## Variações do Naive Bayes\n",
    "\n",
    "Algoritmos de ML dependem principalmente da natureza dos seus dados! Sendo assim, naturalmente, diferentes formas de organizar a base de dados retornam diferentes resultados para o algoritmo de Bayes. Dessa forma, temos variações:\n",
    "\n",
    "* Gaussian Naive Bayes: Utilizado na classificação assumindo uma distribuição normal.\n",
    "* Bernoulli Naive Bayes: O modelo binomial é útil se os vetores são binários (0 ou 1)\n",
    "* Multinomial Naive Bayes: Esse algoritmo usa os dados em uma distribuição multinomial, que é uma generalização da distribuição binomial. Se, por exemplo, considerarmos um problema de classificação de texto. Podemos considerar tentativas de Bernoulli, onde ao invés de verificarmos a palavra que ocorre no documento, verificamos a contagem de vezes que a palavra apareceu no texto."
   ]
  },
  {
   "cell_type": "code",
   "execution_count": null,
   "id": "6f6c0570",
   "metadata": {},
   "outputs": [],
   "source": [
    "import pandas as pd\n",
    "import numpy as np\n",
    "import seaborn as sns\n",
    "import matplotlib.pyplot as plt\n",
    "import nltk\n",
    "from nltk.stem.porter import *\n",
    "from nltk.tokenize import word_tokenize\n",
    "from nltk.corpus import stopwords\n",
    "import re\n",
    "from sklearn.metrics import classification_report\n",
    "from sklearn.naive_bayes import MultinomialNB\n",
    "\n",
    "# Bibliotecas para o modelo\n",
    "from sklearn.model_selection import train_test_split\n",
    "from sklearn.feature_extraction.text import TfidfVectorizer\n",
    "from sklearn.naive_bayes import GaussianNB\n",
    "import unidecode"
   ]
  },
  {
   "cell_type": "code",
   "execution_count": null,
   "id": "62d1d0c8",
   "metadata": {},
   "outputs": [],
   "source": [
    "nltk.download('stopwords')\n",
    "nltk.download('punkt')\n",
    "\n",
    "# Define as stopwords em inglês\n",
    "sw_english = set(stopwords.words('english'))\n",
    "\n",
    "# Instância o PorterStemmer\n",
    "stemmer = PorterStemmer()"
   ]
  },
  {
   "cell_type": "code",
   "execution_count": null,
   "id": "b3dcccff",
   "metadata": {},
   "outputs": [],
   "source": [
    "df = pd.read_csv(\"../files/spamraw.csv\")\n",
    "df"
   ]
  },
  {
   "cell_type": "code",
   "execution_count": null,
   "id": "9a679f1f",
   "metadata": {},
   "outputs": [],
   "source": [
    "def preprocessing(string):\n",
    "    ###\n",
    "    # Remove acentuações\n",
    "    string = unidecode(string)\n",
    "    ###\n",
    "    # Deixa apenas elementos alfanuméricos\n",
    "    string = re.sub(r\"[^a-zA-Z0-9]+\", ' ', string)\n",
    "    ###\n",
    "    # deixa todas as palavras minúsculas\n",
    "    string = string.lower()\n",
    "    ###\n",
    "    # tokenização\n",
    "    words = word_tokenize(string)\n",
    "    ###\n",
    "    # Remove Stopwords\n",
    "    filtered_words = []\n",
    "    for w in words:\n",
    "        if w not in stopwords:\n",
    "            filtered_words.append(w)\n",
    "    ###\n",
    "    # Aplica o Stemming\n",
    "    stem_words = []\n",
    "    for w in filtered_words:\n",
    "        s_words = stemmer.stem(w)\n",
    "        stem_words.append(s_words)\n",
    "    ###\n",
    "    # Retorna a lista de palavras pré-processadas\n",
    "    return filtered_words, stem_words"
   ]
  },
  {
   "cell_type": "code",
   "execution_count": null,
   "id": "e83f68ec",
   "metadata": {},
   "outputs": [],
   "source": [
    "df[\"filtered_words\"] = df[\"text\"].apply(lambda x: preprocessing(x))\n",
    "df[\"join words\"] = df[\"filtred_words\"].apply(lambda x: ' '.join(x))"
   ]
  },
  {
   "cell_type": "code",
   "execution_count": null,
   "id": "123ac00c",
   "metadata": {},
   "outputs": [],
   "source": [
    "df"
   ]
  },
  {
   "cell_type": "code",
   "execution_count": null,
   "id": "dd7da228",
   "metadata": {},
   "outputs": [],
   "source": [
    "X = df['join_words']\n",
    "y = df['type'].replace({'ham':0, 'spam':1})"
   ]
  },
  {
   "cell_type": "code",
   "execution_count": null,
   "id": "d67a24b9",
   "metadata": {},
   "outputs": [],
   "source": [
    "X_train, X_test, y_train, y_test = train_test_split(X, y, test_size=0.3)"
   ]
  },
  {
   "cell_type": "markdown",
   "id": "5545c909",
   "metadata": {},
   "source": [
    "### MultinomialNB\n",
    "\n",
    "Como vimos que o Multinomial Naive Bayes é indicado quando nossos dados estão em uma estrutura baseada em contagens, podemos utiliza-lo para o nosso problema e comparar os resultados obtidos anteriormente"
   ]
  },
  {
   "cell_type": "markdown",
   "id": "048cdef7",
   "metadata": {},
   "source": [
    "### Outros algoritmos de ML"
   ]
  },
  {
   "cell_type": "code",
   "execution_count": null,
   "id": "e2ec4a65",
   "metadata": {},
   "outputs": [],
   "source": []
  }
 ],
 "metadata": {
  "kernelspec": {
   "display_name": "Python 3.9.2 64-bit",
   "language": "python",
   "name": "python3"
  },
  "language_info": {
   "codemirror_mode": {
    "name": "ipython",
    "version": 3
   },
   "file_extension": ".py",
   "mimetype": "text/x-python",
   "name": "python",
   "nbconvert_exporter": "python",
   "pygments_lexer": "ipython3",
   "version": "3.9.2"
  },
  "vscode": {
   "interpreter": {
    "hash": "31f2aee4e71d21fbe5cf8b01ff0e069b9275f58929596ceb00d14d90e3e16cd6"
   }
  }
 },
 "nbformat": 4,
 "nbformat_minor": 5
}
