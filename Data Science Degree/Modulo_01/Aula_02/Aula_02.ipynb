{
 "cells": [
  {
   "cell_type": "code",
   "execution_count": 4,
   "id": "e837f035",
   "metadata": {},
   "outputs": [
    {
     "name": "stdout",
     "output_type": "stream",
     "text": [
      "Resultado para a conversão da base 2 para base 10: 37\n",
      "37\n",
      "100101\n",
      "32833\n",
      "100101\n",
      "1048833\n",
      "100101\n"
     ]
    }
   ],
   "source": [
    "s = \"100101\"\n",
    "\n",
    "b = int(s,2)\n",
    "o = int(s,8)\n",
    "h = int(s,16)\n",
    "print(f'Resultado para a conversão da base 2 para base 10: {b}')\n",
    "print(b)\n",
    "print(int(s))\n",
    "print(o)\n",
    "print(int(s))\n",
    "print(h)\n",
    "print(int(s))"
   ]
  },
  {
   "cell_type": "code",
   "execution_count": 7,
   "id": "6061da46",
   "metadata": {},
   "outputs": [
    {
     "name": "stdout",
     "output_type": "stream",
     "text": [
      "Digite a idade: 44\n",
      "Pode dirigir\n"
     ]
    }
   ],
   "source": [
    "idade = int(input(\"Digite a idade: \"))\n",
    "mensagem = None\n",
    "\n",
    "if idade >= 18:\n",
    "    mensagem = \"Pode dirigir\"\n",
    "else:\n",
    "    mensagem = \"Não pode dirigir\"   \n",
    "\n",
    "print(mensagem)"
   ]
  }
 ],
 "metadata": {
  "kernelspec": {
   "display_name": "Python 3 (ipykernel)",
   "language": "python",
   "name": "python3"
  },
  "language_info": {
   "codemirror_mode": {
    "name": "ipython",
    "version": 3
   },
   "file_extension": ".py",
   "mimetype": "text/x-python",
   "name": "python",
   "nbconvert_exporter": "python",
   "pygments_lexer": "ipython3",
   "version": "3.9.7"
  }
 },
 "nbformat": 4,
 "nbformat_minor": 5
}
