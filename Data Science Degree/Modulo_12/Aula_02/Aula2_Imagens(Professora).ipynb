{
 "cells": [
  {
   "cell_type": "markdown",
   "id": "57442382",
   "metadata": {},
   "source": [
    "### Introdução ao Processamento Digital de Imagens (PDI)\n",
    "\n",
    "*  O que é PDI e quais são seus objetivos?\n",
    "  * Facilitar a interpretação das imagens por pessoas;\n",
    "  * Permitir o armazenamento e transmissão de imagens, possibilitando a sua exibição e extração de informações;\n",
    "  * Alterar propriedades de uma imagem (edição de imagens).\n",
    "\n",
    "Um computador enxerga uma imagem como matriz, em que cada número corresponde ao pixel da imagem\n",
    "\n",
    "![Title](../imgs/image_matrix.png)\n",
    "\n",
    "**Matriz de imagem**\n",
    "\n",
    "A matriz que agrega os elementos (pixels) de uma dada imagem.\n",
    "\n",
    "Sendo uma matriz $M \\times N$ ($M$ colunas e $N$ linhas), o tamanho de uma imagem é dado por $M \\times N  \\times k$ bits, se cada pixel for armazenado com $k$ bits.\n",
    "\n",
    "O **campo de visão** (*field of view (FOV)*, em inglês) é o tamanho exibido da imagem. Entretanto, se o mesmo campo de visão for mantido e o tamanho da matriz for aumentado, o tamanho dos pixels serão menores e portanto a resolução será melhorada, em outras palavras teremos uma maior densidade de pixels por $cm^2$, caracterizando um aumento de **resolução**. \n",
    "\n",
    "<img src=https://upload.wikimedia.org/wikipedia/commons/f/f2/Resolution_illustration.png width=900>"
   ]
  },
  {
   "cell_type": "markdown",
   "id": "8048c0a7",
   "metadata": {},
   "source": [
    "### Uma imagem no Python"
   ]
  },
  {
   "cell_type": "code",
   "execution_count": null,
   "id": "c41586c9",
   "metadata": {},
   "outputs": [],
   "source": [
    "import numpy as np\n",
    "import matplotlib.pyplot as plt\n",
    "import cv2"
   ]
  },
  {
   "cell_type": "code",
   "execution_count": null,
   "id": "c9ae2883",
   "metadata": {},
   "outputs": [],
   "source": [
    "img = np.array([[255, 255,   0,   0, 255, 255,   0,   0, 255, 255],\n",
    "                  [255, 255,   0,   0, 255, 255,   0,   0, 255, 255],\n",
    "                  [  0,   0,   0,   0,   0,   0,   0,   0,   0,   0],\n",
    "                  [  0,   0,   0,   0,   0,   0,   0,   0,   0,   0],\n",
    "                  [  0,   0,   0,   0,   0,   0,   0,   0,   0,   0],\n",
    "                  [  0,   0,   0,   0,   0,   0,   0,   0,   0,   0],\n",
    "                  [255, 255,   0,   0,   0,   0,   0,   0, 255, 255],\n",
    "                  [255, 255, 255,   0,   0,   0,   0, 255, 255, 255],\n",
    "                  [255, 255, 255, 255,   0,   0, 255, 255, 255, 255],\n",
    "                  [255, 255, 255, 255,   0,   0, 255, 255, 255, 255]])"
   ]
  },
  {
   "cell_type": "code",
   "execution_count": null,
   "id": "2d858f75",
   "metadata": {},
   "outputs": [],
   "source": [
    "img ### resolução da imagem"
   ]
  },
  {
   "cell_type": "code",
   "execution_count": null,
   "id": "f2b06408",
   "metadata": {},
   "outputs": [],
   "source": [
    "img.shape ### dimensão da imagen"
   ]
  },
  {
   "cell_type": "markdown",
   "id": "db638a13",
   "metadata": {},
   "source": [
    " #### Visualização da imagem"
   ]
  },
  {
   "cell_type": "code",
   "execution_count": null,
   "id": "ac593c55",
   "metadata": {},
   "outputs": [],
   "source": [
    "plt.imshow(img)"
   ]
  },
  {
   "cell_type": "code",
   "execution_count": null,
   "id": "ac90aa71",
   "metadata": {},
   "outputs": [],
   "source": [
    "plt.imshow(img, cmap=\"gray\");"
   ]
  },
  {
   "cell_type": "code",
   "execution_count": null,
   "id": "f2d6f1d0",
   "metadata": {},
   "outputs": [],
   "source": [
    "plt.imshow(img, cmap=\"gray\")\n",
    "\n",
    "plt.xticks([])\n",
    "plt.yticks([])\n",
    "\n",
    "plt.show()"
   ]
  },
  {
   "cell_type": "markdown",
   "id": "bc51fe5f",
   "metadata": {},
   "source": [
    "#### Manipular os pixels\n",
    "* Uma imagem é uma matriz do python\n",
    "* Podemos manipular igual qualquer matriz"
   ]
  },
  {
   "cell_type": "code",
   "execution_count": null,
   "id": "ed3305ad",
   "metadata": {},
   "outputs": [],
   "source": [
    "img"
   ]
  },
  {
   "cell_type": "code",
   "execution_count": null,
   "id": "c8f0db8c",
   "metadata": {},
   "outputs": [],
   "source": [
    "print(img[0, 0])\n",
    "print(img[8, 4])"
   ]
  },
  {
   "cell_type": "code",
   "execution_count": null,
   "id": "48caa206",
   "metadata": {},
   "outputs": [],
   "source": [
    "img[0, 0] = 0\n",
    "img[8, 4] = 255"
   ]
  },
  {
   "cell_type": "code",
   "execution_count": null,
   "id": "58601fd6",
   "metadata": {},
   "outputs": [],
   "source": [
    "img"
   ]
  },
  {
   "cell_type": "code",
   "execution_count": null,
   "id": "151bb81b",
   "metadata": {},
   "outputs": [],
   "source": [
    "plt.imshow(img, cmap=\"gray\");"
   ]
  },
  {
   "cell_type": "markdown",
   "id": "0dd7c82c",
   "metadata": {},
   "source": [
    "#### Leitura de imagens reais com OpenCV\n",
    "\n",
    "* Biblioteca padrão para pré-processamento de imagens https://docs.opencv.org/4.x/d6/d00/tutorial_py_root.html"
   ]
  },
  {
   "cell_type": "code",
   "execution_count": null,
   "id": "173ec559",
   "metadata": {},
   "outputs": [],
   "source": [
    "import cv2"
   ]
  },
  {
   "cell_type": "code",
   "execution_count": null,
   "id": "43ff5b71",
   "metadata": {},
   "outputs": [],
   "source": [
    "lenna_img = cv2.imread(\"imgs/lenna.png\")"
   ]
  },
  {
   "cell_type": "code",
   "execution_count": null,
   "id": "ef446f3e",
   "metadata": {},
   "outputs": [],
   "source": [
    "lenna_img"
   ]
  },
  {
   "cell_type": "code",
   "execution_count": null,
   "id": "37752c41",
   "metadata": {},
   "outputs": [],
   "source": [
    "lenna_img.shape"
   ]
  },
  {
   "cell_type": "code",
   "execution_count": null,
   "id": "c49245c2",
   "metadata": {},
   "outputs": [],
   "source": [
    "plt.imshow(lenna_img);"
   ]
  },
  {
   "cell_type": "code",
   "execution_count": null,
   "id": "e1ccaeea",
   "metadata": {},
   "outputs": [],
   "source": [
    "lenna_img_rgb = cv2.cvtColor(lenna_img, cv2.COLOR_BGR2RGB)\n",
    "\n",
    "plt.imshow(lenna_img_rgb);"
   ]
  },
  {
   "cell_type": "markdown",
   "id": "9a77084d",
   "metadata": {},
   "source": [
    "Uma imagem pode ser representada por uma única matriz ou uma combinação de várias matrizes (como uma aquarela), sendo esta combinação uma representação de cor\n",
    "\n",
    "![Title](imgs/rgb.png)\n",
    "\n",
    "Esta representação é feita por espaço de cores, em que cada espaço possui uma formulação matemática para tal combinação\n",
    "\n",
    "### Espaço de cor RGB\n",
    "\n",
    "* 3 canais de cores (vermelho, azul e verde)\n",
    "* Pixels variam de 0 (preto) a 255 (branco)\n",
    "* Cada canal de cor representa uma matriz, sendo assim, por exemplo, se tivermos na matriz a cor branca, ela será representada como (255,255,255). Isto é, o valor 255 presente em todos os canais.\n",
    "\n",
    "### Espaço CMYK\n",
    "* 4 canais de cor (ciano, magenta, amarelo, preto)\n",
    "\n",
    "![Title](imgs/cmyk.png)\n",
    "\n",
    "### Espaço CIE-LAB\n",
    "\n",
    "* 3 canais de cor: l(luminância), a e b (cores)\n",
    "![Title](imgs/cie_lab.png)"
   ]
  },
  {
   "cell_type": "markdown",
   "id": "04e0b240",
   "metadata": {},
   "source": [
    "#### Voltando para a Lenna\n",
    "\n",
    "* Cada espaço de cores é representado por uma codificação no opencv\n",
    "* A alteração de um espaço de cor para outro pode ser feita através do cvtColor\n",
    "* Cada espaço de cor tem sua tag\n",
    "\n",
    "cv2.cvtColor(lenna_img, cv2.COLOR_BGR2RGB) ### bgr para rgb\n",
    "cv2.cvtColor(lenna_img, cv2.COLOR_BGR2GRAY) ### bgr para tons de cinza\n"
   ]
  },
  {
   "cell_type": "code",
   "execution_count": null,
   "id": "58683b38",
   "metadata": {},
   "outputs": [],
   "source": [
    "lenna_img_gray = cv2.cvtColor(lenna_img, cv2.COLOR_BGR2GRAY)\n",
    "\n",
    "plt.imshow(lenna_img_gray, cmap=\"gray\");"
   ]
  },
  {
   "cell_type": "code",
   "execution_count": null,
   "id": "5b31c51b",
   "metadata": {},
   "outputs": [],
   "source": [
    "cv2.imwrite(\"imgs/lenna_gray.png\", lenna_img_gray)"
   ]
  },
  {
   "cell_type": "markdown",
   "id": "97db765a",
   "metadata": {},
   "source": [
    "#### Vamos praticar um pouco\n",
    "* Escolha uma imagem da internet\n",
    "* Salve  a imagem no seu computador\n",
    "* Leia a imagem\n",
    "* Visualize a imagem\n",
    "* Quantos canais existem na imagem?\n",
    "* Qual a dimensão da imagem?\n",
    "* Passe a imagem para tons de cinza\n",
    "* Salve a imagem em tons de cinza no seu computador e exiba essa imagem\n",
    "* Bônus: crie um dataset de 5 imagens e repita os passos anteriores"
   ]
  },
  {
   "cell_type": "code",
   "execution_count": null,
   "id": "541f1847",
   "metadata": {},
   "outputs": [],
   "source": [
    "img = cv2.imread('dataset/stray.jpeg') ### ler a imagem\n",
    "img = cv2.cvtColor(img, cv2.COLOR_BGR2RGB)\n",
    "plt.imshow(img);"
   ]
  },
  {
   "cell_type": "code",
   "execution_count": null,
   "id": "cd3e40ac",
   "metadata": {},
   "outputs": [],
   "source": [
    "img.shape"
   ]
  },
  {
   "cell_type": "code",
   "execution_count": null,
   "id": "4dd9de12",
   "metadata": {},
   "outputs": [],
   "source": [
    "img_gray = cv2.cvtColor(img, cv2.COLOR_RGB2GRAY)\n",
    "plt.imshow(img_gray, cmap='gray')"
   ]
  },
  {
   "cell_type": "code",
   "execution_count": null,
   "id": "5a32b5c5",
   "metadata": {},
   "outputs": [],
   "source": [
    "cv2.imwrite('imgs/imgs_gray.png', img_gray)"
   ]
  },
  {
   "cell_type": "code",
   "execution_count": null,
   "id": "0aeb2825",
   "metadata": {},
   "outputs": [],
   "source": [
    "img_gray = cv2.imread('imgs/imgs_gray.png') ### ler a imagem\n",
    "plt.imshow(img_gray);"
   ]
  },
  {
   "cell_type": "code",
   "execution_count": null,
   "id": "b34b4377",
   "metadata": {},
   "outputs": [],
   "source": [
    "### bonus\n",
    "\n",
    "img = cv2.imread('dataset/stray.jpeg') ### ler a imagem\n",
    "img2 = cv2.imread('dataset/cat.jpeg') ### ler a imagem\n",
    "img3 = cv2.imread('dataset/cat2.jpeg') ### ler a imagem\n",
    "img4 = cv2.imread('dataset/cat3.jpeg') ### ler a imagem\n",
    "img5 = cv2.imread('dataset/cat4.jpeg') ### ler a imagem\n",
    "\n",
    "dataset = [img, img2, img3,img4,img5]\n",
    "for i, image in enumerate(dataset):\n",
    "    img = cv2.cvtColor(image, cv2.COLOR_BGR2RGB)\n",
    "    plt.imshow(img);\n",
    "    plt.show()\n",
    "    print(img.shape)\n",
    "    img_gray = cv2.cvtColor(img, cv2.COLOR_RGB2GRAY)\n",
    "    cv2.imwrite('dataset/gray/imgs_gray_' + str(i) + '.png', img_gray)"
   ]
  },
  {
   "cell_type": "code",
   "execution_count": null,
   "id": "9ecf7750",
   "metadata": {},
   "outputs": [],
   "source": [
    "### bonus com leitura de diretório\n",
    "\n",
    "import glob\n",
    "for i, file in enumerate(glob.glob('dataset/*.jpeg')):\n",
    "    img = cv2.imread(file) ### ler a imagem\n",
    "    img = cv2.cvtColor(img, cv2.COLOR_BGR2RGB)\n",
    "    plt.imshow(img);\n",
    "    plt.show()\n",
    "    print(img.shape)\n",
    "    img_gray = cv2.cvtColor(img, cv2.COLOR_RGB2GRAY)\n",
    "    cv2.imwrite('dataset/gray/imgs_gray_' + str(i) + '.png', img_gray)"
   ]
  },
  {
   "cell_type": "code",
   "execution_count": null,
   "id": "03836ce5",
   "metadata": {},
   "outputs": [],
   "source": []
  }
 ],
 "metadata": {
  "kernelspec": {
   "display_name": "Python 3.9.2 64-bit",
   "language": "python",
   "name": "python3"
  },
  "language_info": {
   "codemirror_mode": {
    "name": "ipython",
    "version": 3
   },
   "file_extension": ".py",
   "mimetype": "text/x-python",
   "name": "python",
   "nbconvert_exporter": "python",
   "pygments_lexer": "ipython3",
   "version": "3.9.2"
  },
  "vscode": {
   "interpreter": {
    "hash": "31f2aee4e71d21fbe5cf8b01ff0e069b9275f58929596ceb00d14d90e3e16cd6"
   }
  }
 },
 "nbformat": 4,
 "nbformat_minor": 5
}
