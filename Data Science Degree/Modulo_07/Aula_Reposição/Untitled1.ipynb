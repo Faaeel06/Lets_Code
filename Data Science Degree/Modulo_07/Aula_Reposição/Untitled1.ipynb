{
 "cells": [
  {
   "cell_type": "code",
   "execution_count": 4,
   "id": "d435c03d",
   "metadata": {},
   "outputs": [],
   "source": [
    "import pandas as pd\n",
    "import numpy as np\n",
    "import matplotlib.pyplot as plt\n",
    "import seaborn as sns\n",
    "import matplotlib.dates as mdates\n",
    "import matplotlib.pyplot as plt\n",
    "import scipy.stats as st"
   ]
  },
  {
   "cell_type": "code",
   "execution_count": 2,
   "id": "efb67f50",
   "metadata": {},
   "outputs": [],
   "source": [
    "amostra = [37, 34, 36, 37, 35, 32, 30, 35, 34, 36, 39, 38, 34, 35, 31, 30, 33, 35, 36, 31]\n",
    "significancia = 0.05\n",
    "varianca = 4\n"
   ]
  },
  {
   "cell_type": "code",
   "execution_count": 3,
   "id": "4b0296e9",
   "metadata": {},
   "outputs": [
    {
     "name": "stdout",
     "output_type": "stream",
     "text": [
      "[37, 34, 36, 37, 35, 32, 30, 35, 34, 36, 39, 38, 34, 35, 31, 30, 33, 35, 36, 31]\n"
     ]
    }
   ],
   "source": [
    "print(amostra)"
   ]
  },
  {
   "cell_type": "code",
   "execution_count": 12,
   "id": "401a5980",
   "metadata": {},
   "outputs": [
    {
     "name": "stdout",
     "output_type": "stream",
     "text": [
      "Z-score:  1.96\n",
      "Erro inferencial:  2.5047\n",
      "Intervalo de confiança pela fórmula:  (59997.49533433563, 60002.50466566437)\n",
      "Intervalo de confiança usando o SciPy:  (59997.49533433563, 60002.50466566437)\n"
     ]
    }
   ],
   "source": [
    "from scipy.stats import norm\n",
    "\n",
    "# Parametros\n",
    "X = 60000              # media amostral\n",
    "desvpad = 22.5         # desvio padrão populacional\n",
    "alpha = 0.05          # nivel de significancia\n",
    "conf = 1 - alpha      # nivel de confiança\n",
    "n = 310               # tamanho da amostra\n",
    "\n",
    "# Calculando a probabilidade\n",
    "prob = conf + (alpha / 2)\n",
    "\n",
    "# Calculando o Z-score para a probabilidade\n",
    "z = norm.ppf(prob)\n",
    "print(\"Z-score: \", np.round(z, 4))\n",
    "\n",
    "# Definindo o erro inferencial\n",
    "e = (z * desvpad) / np.sqrt(n)\n",
    "print(\"Erro inferencial: \", np.round(e,4))\n",
    "\n",
    "\n",
    "# Definindo o intervalo de confiança de duas formas\n",
    "print(\"Intervalo de confiança pela fórmula: \", (X - e, X + e))\n",
    "print(\"Intervalo de confiança usando o SciPy: \", norm.interval(conf, loc = X, scale = desvpad / np.sqrt(n)))"
   ]
  },
  {
   "cell_type": "code",
   "execution_count": null,
   "id": "bcd9e950",
   "metadata": {},
   "outputs": [],
   "source": []
  }
 ],
 "metadata": {
  "kernelspec": {
   "display_name": "Python 3",
   "language": "python",
   "name": "python3"
  },
  "language_info": {
   "codemirror_mode": {
    "name": "ipython",
    "version": 3
   },
   "file_extension": ".py",
   "mimetype": "text/x-python",
   "name": "python",
   "nbconvert_exporter": "python",
   "pygments_lexer": "ipython3",
   "version": "3.8.8"
  }
 },
 "nbformat": 4,
 "nbformat_minor": 5
}
