{
 "cells": [
  {
   "cell_type": "code",
   "execution_count": 3,
   "id": "f92cfb90",
   "metadata": {},
   "outputs": [],
   "source": [
    "import pandas as pd\n",
    "import numpy as np\n",
    "import matplotlib.pyplot as plt\n",
    "import seaborn as sn"
   ]
  },
  {
   "cell_type": "code",
   "execution_count": 4,
   "id": "8d3acbe5",
   "metadata": {},
   "outputs": [
    {
     "ename": "SyntaxError",
     "evalue": "invalid syntax (<ipython-input-4-92708225361c>, line 4)",
     "output_type": "error",
     "traceback": [
      "\u001b[1;36m  File \u001b[1;32m\"<ipython-input-4-92708225361c>\"\u001b[1;36m, line \u001b[1;32m4\u001b[0m\n\u001b[1;33m    resultados = np.where(np.random.uniform(0, 1, N) <= )\u001b[0m\n\u001b[1;37m                                                        ^\u001b[0m\n\u001b[1;31mSyntaxError\u001b[0m\u001b[1;31m:\u001b[0m invalid syntax\n"
     ]
    }
   ],
   "source": [
    "p = 0.5\n",
    "N = 1000\n",
    "\n",
    "resultados = np.where(np.random.uniform(0, 1, N) <= )"
   ]
  },
  {
   "cell_type": "code",
   "execution_count": null,
   "id": "a846eb5f",
   "metadata": {},
   "outputs": [],
   "source": [
    "S(dado) = {1, 2, 3, 4, 5, 6}\n",
    "\n",
    "S(A) = {2, 4, 6}\n",
    "P(A) = cnt(S(A)) / cnt(S(dado)) = 3/6 = 1/2\n",
    "\n",
    "S(B) = {4, 5, 6}\n",
    "P(B) = cnt(S(B) / cnt(S(dado)) = = 3/6 = 1/2\n",
    "\n",
    "S(A  B) = {4, 6}\n",
    "P(A  B) = 2/6 = 1/3\n",
    "\n",
    "P(A  B) = P(A) + P(B) - P(A  B) = 1/2 +1/2 - 1/3 = 2/3\n",
    "           \n",
    "S(A  B) = {2, 4, 5, 6}\n",
    "P(A  B) = 4/6 = 2/3"
   ]
  }
 ],
 "metadata": {
  "kernelspec": {
   "display_name": "Python 3",
   "language": "python",
   "name": "python3"
  },
  "language_info": {
   "codemirror_mode": {
    "name": "ipython",
    "version": 3
   },
   "file_extension": ".py",
   "mimetype": "text/x-python",
   "name": "python",
   "nbconvert_exporter": "python",
   "pygments_lexer": "ipython3",
   "version": "3.8.8"
  }
 },
 "nbformat": 4,
 "nbformat_minor": 5
}
