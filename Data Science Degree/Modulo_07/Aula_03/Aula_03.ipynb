{
 "cells": [
  {
   "cell_type": "code",
   "execution_count": 2,
   "id": "27f1ab03",
   "metadata": {},
   "outputs": [],
   "source": [
    "import pandas as pd\n",
    "import matplotlib.pyplot as plt\n",
    "import numpy as np\n",
    "import seaborn as sns"
   ]
  },
  {
   "cell_type": "code",
   "execution_count": 4,
   "id": "303029d7",
   "metadata": {},
   "outputs": [
    {
     "name": "stdout",
     "output_type": "stream",
     "text": [
      "Valor esperado: 2.1\n",
      "Variância:      0.89\n"
     ]
    }
   ],
   "source": [
    "X = [1, 2, 3, 4]\n",
    "\n",
    "P = [0.3, 0.4, 0.2, 0.1]\n",
    "\n",
    "esp = np.dot(X, P)\n",
    "\n",
    "print(\"Valor esperado:\", np.round(esp, 2))\n",
    "\n",
    "var = np.round(np.dot(np.power(X, 2), P) - np.power(esp, 2), 2)\n",
    "\n",
    "print(\"Variância:     \", var)\n"
   ]
  },
  {
   "cell_type": "code",
   "execution_count": 6,
   "id": "1de8b696",
   "metadata": {},
   "outputs": [
    {
     "name": "stdout",
     "output_type": "stream",
     "text": [
      "Valor esperado:  0.23104906018664845\n",
      "Erro da Integral:  2.5651598643722066e-16\n",
      "Variância:  2.1466163317868667\n",
      "Erro da Integral:  2.4424906541753447e-14\n"
     ]
    },
    {
     "name": "stderr",
     "output_type": "stream",
     "text": [
      "<ipython-input-6-7c5790b77f8c>:6: IntegrationWarning: The integral is probably divergent, or slowly convergent.\n",
      "  esp, err1 = quad(f1, -1, 2)\n"
     ]
    }
   ],
   "source": [
    "from scipy.integrate import quad\n",
    "\n",
    "def f1(x):\n",
    "    return x/(x*x)/3\n",
    "\n",
    "esp, err1 = quad(f1, -1, 2)\n",
    "\n",
    "print(\"Valor esperado: \", esp)\n",
    "print(\"Erro da Integral: \", err1)\n",
    "\n",
    "def f2(x):\n",
    "    return (x*x)*(x*x)/3\n",
    "\n",
    "esp_2, err2 = quad(f2, -1, 2)\n",
    "\n",
    "var = esp_2 - esp*esp\n",
    "\n",
    "print(\"Variância: \", var)\n",
    "print(\"Erro da Integral: \", err2)"
   ]
  },
  {
   "cell_type": "code",
   "execution_count": 10,
   "id": "9180407b",
   "metadata": {},
   "outputs": [
    {
     "data": {
      "text/plain": [
       "1    0.80214\n",
       "0    0.19786\n",
       "dtype: float64"
      ]
     },
     "execution_count": 10,
     "metadata": {},
     "output_type": "execute_result"
    }
   ],
   "source": [
    "pd.Series(np.random.binomial(1, 0.8, 100000)).value_counts(normalize=True)"
   ]
  },
  {
   "cell_type": "code",
   "execution_count": 11,
   "id": "aef09658",
   "metadata": {},
   "outputs": [
    {
     "data": {
      "text/plain": [
       "3    0.51076\n",
       "2    0.38376\n",
       "1    0.09728\n",
       "0    0.00820\n",
       "dtype: float64"
      ]
     },
     "execution_count": 11,
     "metadata": {},
     "output_type": "execute_result"
    }
   ],
   "source": [
    "pd.Series(np.random.binomial(3, 0.8, 100000)).value_counts(normalize=True)"
   ]
  },
  {
   "cell_type": "code",
   "execution_count": 12,
   "id": "484fae3f",
   "metadata": {},
   "outputs": [],
   "source": [
    "from math import factorial\n",
    "\n",
    "def binomial(n, p, k):\n",
    "    c = (factorial(n)/(factorial(n-k)*factorial(k)))\n",
    "    return c*np.power(p, k)*np.power(1-p, n-k)"
   ]
  },
  {
   "cell_type": "code",
   "execution_count": 13,
   "id": "c9690ff8",
   "metadata": {},
   "outputs": [
    {
     "name": "stdout",
     "output_type": "stream",
     "text": [
      "A probabilidade será:  0.1646\n"
     ]
    }
   ],
   "source": [
    "n = 5\n",
    "\n",
    "k = 2\n",
    "\n",
    "p = 8/12\n",
    "\n",
    "print(\"A probabilidade será: \", np.round(binomial(n, p, k), 4))"
   ]
  },
  {
   "cell_type": "code",
   "execution_count": 15,
   "id": "2e98ed8d",
   "metadata": {},
   "outputs": [
    {
     "name": "stdout",
     "output_type": "stream",
     "text": [
      "A probabilidade será: 0.2099\n"
     ]
    }
   ],
   "source": [
    "n = 5\n",
    "\n",
    "p = 4/12\n",
    "\n",
    "prop = 0\n",
    "\n",
    "for k in range(3, 6):\n",
    "    prop += binomial(n, p, k)\n",
    "    \n",
    "print(\"A probabilidade será:\", np.round(prop, 4))\n"
   ]
  },
  {
   "cell_type": "code",
   "execution_count": null,
   "id": "78bd8b50",
   "metadata": {},
   "outputs": [],
   "source": []
  }
 ],
 "metadata": {
  "kernelspec": {
   "display_name": "Python 3",
   "language": "python",
   "name": "python3"
  },
  "language_info": {
   "codemirror_mode": {
    "name": "ipython",
    "version": 3
   },
   "file_extension": ".py",
   "mimetype": "text/x-python",
   "name": "python",
   "nbconvert_exporter": "python",
   "pygments_lexer": "ipython3",
   "version": "3.8.8"
  }
 },
 "nbformat": 4,
 "nbformat_minor": 5
}
