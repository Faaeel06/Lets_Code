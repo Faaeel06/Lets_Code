{
 "cells": [
  {
   "cell_type": "markdown",
   "id": "14b28585-babc-43a9-b8ac-5c3f3901ad53",
   "metadata": {},
   "source": [
    "Questão 1\n",
    "Quantas observações e quantas colunas há no dataset completo (todas as bases juntas)? Responda no formato de uma tuple (n_observacoes, n_colunas)."
   ]
  },
  {
   "cell_type": "code",
   "execution_count": 3,
   "id": "b36f1e21-5c6d-44c8-884b-a5db1271427c",
   "metadata": {},
   "outputs": [],
   "source": [
    "import pandas as pd"
   ]
  },
  {
   "cell_type": "code",
   "execution_count": 35,
   "id": "d74b0007-4196-4303-a791-b1247fda7320",
   "metadata": {},
   "outputs": [],
   "source": [
    "entrada = []\n",
    "def open_file():\n",
    "    print('Digite nome do arquivo[sem extensão]:')\n",
    "    print('Digite o nome e aperte enter')\n",
    "\n",
    "    for i in range(0, 3):\n",
    "        entrada.append(input(f'Digite o {i + 1}° arquivo: '))\n",
    "        entrada[i] += '.csv'\n",
    "    "
   ]
  },
  {
   "cell_type": "code",
   "execution_count": 36,
   "id": "67a85747-f7eb-4b40-8b62-b38460f1821e",
   "metadata": {},
   "outputs": [
    {
     "name": "stdout",
     "output_type": "stream",
     "text": [
      "Digite nome do arquivo[sem extensão]:\n",
      "Digite o nome e aperte enter\n"
     ]
    },
    {
     "name": "stdin",
     "output_type": "stream",
     "text": [
      "Digite o 1° arquivo:  product_info\n",
      "Digite o 2° arquivo:  purchase\n",
      "Digite o 3° arquivo:  user_profile\n"
     ]
    }
   ],
   "source": [
    "open_file()"
   ]
  },
  {
   "cell_type": "code",
   "execution_count": 37,
   "id": "092d6126-aed3-47f6-9085-edc75a2e13c6",
   "metadata": {},
   "outputs": [
    {
     "data": {
      "text/plain": [
       "['product_info.csv', 'purchase.csv', 'user_profile.csv']"
      ]
     },
     "execution_count": 37,
     "metadata": {},
     "output_type": "execute_result"
    }
   ],
   "source": [
    "entrada"
   ]
  },
  {
   "cell_type": "code",
   "execution_count": 38,
   "id": "2297b528-6d26-4ff4-951a-bbb8c673c1ae",
   "metadata": {},
   "outputs": [],
   "source": [
    "def read_file():\n",
    "    for file in range(0, len(entrada)):\n",
    "        arquivo_leitura = pd.read_csv(entrada[file])\n",
    "        print(arquivo_leitura)"
   ]
  },
  {
   "cell_type": "code",
   "execution_count": 39,
   "id": "4bed1f33-8287-453a-a5c5-b924e21a7551",
   "metadata": {},
   "outputs": [
    {
     "name": "stdout",
     "output_type": "stream",
     "text": [
      "     Product_ID;Product_Category_1;Product_Category_2;Product_Category_3\n",
      "0                                         P00069042;3;;                 \n",
      "1                                  P00248942;1;6.0;14.0                 \n",
      "2                                        P00087842;12;;                 \n",
      "3                                    P00085442;12;14.0;                 \n",
      "4                                         P00285442;8;;                 \n",
      "...                                                 ...                 \n",
      "3618                                      P00065942;8;;                 \n",
      "3619                                      P00329042;8;;                 \n",
      "3620                                      P00038842;7;;                 \n",
      "3621                                      P00295642;2;;                 \n",
      "3622                                     P00091742;13;;                 \n",
      "\n",
      "[3623 rows x 1 columns]\n",
      "        User_ID Product_ID  Purchase\n",
      "0       1000001  P00069042      8370\n",
      "1       1000001  P00248942     15200\n",
      "2       1000001  P00087842      1422\n",
      "3       1000001  P00085442      1057\n",
      "4       1000002  P00285442      7969\n",
      "...         ...        ...       ...\n",
      "537572  1004737  P00193542     11664\n",
      "537573  1004737  P00111142     19196\n",
      "537574  1004737  P00345942      8043\n",
      "537575  1004737  P00285842      7172\n",
      "537576  1004737  P00118242      6875\n",
      "\n",
      "[537577 rows x 3 columns]\n",
      "     User_ID|Gender|Age|Occupation|City_Category|Stay_In_Current_City_Years|Marital_Status\n",
      "0                               1000001|F|0-17|10|A|2|0                                   \n",
      "1                               1000002|M|55+|16|C|4+|0                                   \n",
      "2                              1000003|M|26-35|15|A|3|0                                   \n",
      "3                               1000004|M|46-50|7|B|2|1                                   \n",
      "4                              1000005|M|26-35|20|A|1|1                                   \n",
      "...                                                 ...                                   \n",
      "5886                            1004588|F|26-35|4|C|0|0                                   \n",
      "5887                           1004871|M|18-25|12|C|2|0                                   \n",
      "5888                           1004113|M|36-45|17|C|3|0                                   \n",
      "5889                            1005391|M|26-35|7|A|0|0                                   \n",
      "5890                           1001529|M|18-25|4|C|4+|1                                   \n",
      "\n",
      "[5891 rows x 1 columns]\n"
     ]
    }
   ],
   "source": [
    "read_file()"
   ]
  },
  {
   "cell_type": "code",
   "execution_count": null,
   "id": "e63b16a1-c8ed-49a0-b589-e3b3290b3f2e",
   "metadata": {},
   "outputs": [],
   "source": []
  },
  {
   "cell_type": "code",
   "execution_count": null,
   "id": "79d03a81-d360-4338-9de7-af8418cd838a",
   "metadata": {},
   "outputs": [],
   "source": [
    "with open('product_info.csv', 'r') as file: \n",
    "     leitor = csv.DictReader(file, delimiter=',')\n",
    "     for coluna in leitor:\n",
    "         print(coluna)"
   ]
  },
  {
   "cell_type": "code",
   "execution_count": 51,
   "id": "32c64189-96aa-4feb-b015-aee49af950a6",
   "metadata": {},
   "outputs": [
    {
     "name": "stdout",
     "output_type": "stream",
     "text": [
      "Digite nome do arquivo[sem extensão]:\n",
      "Digite o nome e aperte enter\n"
     ]
    },
    {
     "name": "stdin",
     "output_type": "stream",
     "text": [
      "Digite o 1° arquivo:  product_info\n",
      "Digite o 2° arquivo:  purchase\n",
      "Digite o 3° arquivo:  user_profile\n"
     ]
    },
    {
     "data": {
      "text/html": [
       "<div>\n",
       "<style scoped>\n",
       "    .dataframe tbody tr th:only-of-type {\n",
       "        vertical-align: middle;\n",
       "    }\n",
       "\n",
       "    .dataframe tbody tr th {\n",
       "        vertical-align: top;\n",
       "    }\n",
       "\n",
       "    .dataframe thead th {\n",
       "        text-align: right;\n",
       "    }\n",
       "</style>\n",
       "<table border=\"1\" class=\"dataframe\">\n",
       "  <thead>\n",
       "    <tr style=\"text-align: right;\">\n",
       "      <th></th>\n",
       "    </tr>\n",
       "  </thead>\n",
       "  <tbody>\n",
       "  </tbody>\n",
       "</table>\n",
       "</div>"
      ],
      "text/plain": [
       "Empty DataFrame\n",
       "Columns: []\n",
       "Index: []"
      ]
     },
     "execution_count": 51,
     "metadata": {},
     "output_type": "execute_result"
    }
   ],
   "source": [
    "arquivo = pd.DataFrame(open_file())\n"
   ]
  },
  {
   "cell_type": "code",
   "execution_count": 55,
   "id": "c4203513-04bb-4023-96cf-48e4662580c3",
   "metadata": {},
   "outputs": [
    {
     "data": {
      "text/html": [
       "<div>\n",
       "<style scoped>\n",
       "    .dataframe tbody tr th:only-of-type {\n",
       "        vertical-align: middle;\n",
       "    }\n",
       "\n",
       "    .dataframe tbody tr th {\n",
       "        vertical-align: top;\n",
       "    }\n",
       "\n",
       "    .dataframe thead th {\n",
       "        text-align: right;\n",
       "    }\n",
       "</style>\n",
       "<table border=\"1\" class=\"dataframe\">\n",
       "  <thead>\n",
       "    <tr style=\"text-align: right;\">\n",
       "      <th></th>\n",
       "      <th>Product_ID;Product_Category_1;Product_Category_2;Product_Category_3</th>\n",
       "    </tr>\n",
       "  </thead>\n",
       "  <tbody>\n",
       "    <tr>\n",
       "      <th>0</th>\n",
       "      <td>P00069042;3;;</td>\n",
       "    </tr>\n",
       "    <tr>\n",
       "      <th>1</th>\n",
       "      <td>P00248942;1;6.0;14.0</td>\n",
       "    </tr>\n",
       "    <tr>\n",
       "      <th>2</th>\n",
       "      <td>P00087842;12;;</td>\n",
       "    </tr>\n",
       "    <tr>\n",
       "      <th>3</th>\n",
       "      <td>P00085442;12;14.0;</td>\n",
       "    </tr>\n",
       "    <tr>\n",
       "      <th>4</th>\n",
       "      <td>P00285442;8;;</td>\n",
       "    </tr>\n",
       "    <tr>\n",
       "      <th>...</th>\n",
       "      <td>...</td>\n",
       "    </tr>\n",
       "    <tr>\n",
       "      <th>3618</th>\n",
       "      <td>P00065942;8;;</td>\n",
       "    </tr>\n",
       "    <tr>\n",
       "      <th>3619</th>\n",
       "      <td>P00329042;8;;</td>\n",
       "    </tr>\n",
       "    <tr>\n",
       "      <th>3620</th>\n",
       "      <td>P00038842;7;;</td>\n",
       "    </tr>\n",
       "    <tr>\n",
       "      <th>3621</th>\n",
       "      <td>P00295642;2;;</td>\n",
       "    </tr>\n",
       "    <tr>\n",
       "      <th>3622</th>\n",
       "      <td>P00091742;13;;</td>\n",
       "    </tr>\n",
       "  </tbody>\n",
       "</table>\n",
       "<p>3623 rows × 1 columns</p>\n",
       "</div>"
      ],
      "text/plain": [
       "     Product_ID;Product_Category_1;Product_Category_2;Product_Category_3\n",
       "0                                         P00069042;3;;                 \n",
       "1                                  P00248942;1;6.0;14.0                 \n",
       "2                                        P00087842;12;;                 \n",
       "3                                    P00085442;12;14.0;                 \n",
       "4                                         P00285442;8;;                 \n",
       "...                                                 ...                 \n",
       "3618                                      P00065942;8;;                 \n",
       "3619                                      P00329042;8;;                 \n",
       "3620                                      P00038842;7;;                 \n",
       "3621                                      P00295642;2;;                 \n",
       "3622                                     P00091742;13;;                 \n",
       "\n",
       "[3623 rows x 1 columns]"
      ]
     },
     "execution_count": 55,
     "metadata": {},
     "output_type": "execute_result"
    }
   ],
   "source": []
  },
  {
   "cell_type": "code",
   "execution_count": null,
   "id": "bf770080-3fc0-4b2c-a5bd-d7d3e57bb969",
   "metadata": {},
   "outputs": [],
   "source": []
  }
 ],
 "metadata": {
  "kernelspec": {
   "display_name": "Python 3 (ipykernel)",
   "language": "python",
   "name": "python3"
  },
  "language_info": {
   "codemirror_mode": {
    "name": "ipython",
    "version": 3
   },
   "file_extension": ".py",
   "mimetype": "text/x-python",
   "name": "python",
   "nbconvert_exporter": "python",
   "pygments_lexer": "ipython3",
   "version": "3.8.10"
  }
 },
 "nbformat": 4,
 "nbformat_minor": 5
}
