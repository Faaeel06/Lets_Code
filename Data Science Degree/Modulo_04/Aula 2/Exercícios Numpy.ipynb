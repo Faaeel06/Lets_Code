{
 "cells": [
  {
   "cell_type": "code",
   "execution_count": 2,
   "id": "38e23ea9",
   "metadata": {
    "ExecuteTime": {
     "end_time": "2021-09-08T22:10:13.222526Z",
     "start_time": "2021-09-08T22:10:12.411487Z"
    }
   },
   "outputs": [],
   "source": [
    "import numpy as np"
   ]
  },
  {
   "cell_type": "markdown",
   "id": "7775640f",
   "metadata": {},
   "source": [
    "## Questão 1 - Crie um numpy array com 10 elementos 0, exceto o elemento de índice 6, que deve ser 20"
   ]
  },
  {
   "cell_type": "markdown",
   "id": "a104a324",
   "metadata": {},
   "source": [
    "## Questão 2 - Crie uma função que receba um numpy array e retorne um array de 20 elementos contendo apenas o maior elemento do array recebido"
   ]
  },
  {
   "cell_type": "markdown",
   "id": "a97eb2e1",
   "metadata": {},
   "source": [
    "## Questão 3 - Faça uma função que receba um array, eleve ele ao quadrado, some 3, pegue apenas o elementos que são diferentes de 4 e, por último, divida por 4. Depois, retorne esse array modificado"
   ]
  },
  {
   "cell_type": "markdown",
   "id": "2a7ce405",
   "metadata": {},
   "source": [
    "## Questão 4 - Faça uma função que receba dois array, junte os dois e retorne"
   ]
  },
  {
   "cell_type": "markdown",
   "id": "343b73e6",
   "metadata": {},
   "source": [
    "## Questão 5 - Faça uma função que descreva meu array exibindo os seguintes dados com até 3 casas decimais: máx, min, média, desvio padrão (standard deviation). A exibição deve ser da seguinte forma:\n",
    "\n",
    "```\n",
    "******************************\n",
    "Array: [0, 5, 6, 8, 9]\n",
    "\n",
    "Max: 9\n",
    "Min: 0\n",
    "Media: 5.6\n",
    "Desvio padrao: 3.137\n",
    "******************************\n",
    "```"
   ]
  },
  {
   "cell_type": "code",
   "execution_count": 3,
   "id": "648894a5",
   "metadata": {},
   "outputs": [
    {
     "data": {
      "text/plain": [
       "array([ 0.,  0.,  0.,  0.,  0.,  0., 20.,  0.,  0.,  0.])"
      ]
     },
     "execution_count": 3,
     "metadata": {},
     "output_type": "execute_result"
    }
   ],
   "source": [
    "meu_array = np.zeros(10)\n",
    "meu_array[6] = 20\n",
    "meu_array"
   ]
  },
  {
   "cell_type": "code",
   "execution_count": 4,
   "id": "732ae6ea",
   "metadata": {},
   "outputs": [],
   "source": [
    "lista = [1, 2, 3, 4, 5, 6, 7, 8, 9, 10, 11, 12, 13, 14]"
   ]
  },
  {
   "cell_type": "code",
   "execution_count": 5,
   "id": "874cabab",
   "metadata": {},
   "outputs": [],
   "source": [
    "def max_array(array):\n",
    "    max_ = np.max(array)\n",
    "    return np.ones(20) * max_"
   ]
  },
  {
   "cell_type": "code",
   "execution_count": 6,
   "id": "467ca75e",
   "metadata": {},
   "outputs": [
    {
     "data": {
      "text/plain": [
       "array([14., 14., 14., 14., 14., 14., 14., 14., 14., 14., 14., 14., 14.,\n",
       "       14., 14., 14., 14., 14., 14., 14.])"
      ]
     },
     "execution_count": 6,
     "metadata": {},
     "output_type": "execute_result"
    }
   ],
   "source": [
    "max_array(lista)"
   ]
  },
  {
   "cell_type": "code",
   "execution_count": 7,
   "id": "b88f43ba",
   "metadata": {},
   "outputs": [],
   "source": [
    "def vetor_func(vetor):\n",
    "    vetor = np.array(vetor)\n",
    "    vetor = vetor ** 2\n",
    "    vetor = vetor + 3\n",
    "    vetor = vetor[vetor != 4]\n",
    "    vetor = vetor / 4\n",
    "\n",
    "    return vetor\n"
   ]
  },
  {
   "cell_type": "code",
   "execution_count": 8,
   "id": "abe3c1f7",
   "metadata": {},
   "outputs": [
    {
     "data": {
      "text/plain": [
       "array([ 1.75,  3.  ,  4.75,  7.  ,  9.75, 13.  , 16.75, 21.  , 25.75,\n",
       "       31.  , 36.75, 43.  , 49.75])"
      ]
     },
     "execution_count": 8,
     "metadata": {},
     "output_type": "execute_result"
    }
   ],
   "source": [
    "vetor_func(lista)"
   ]
  },
  {
   "cell_type": "code",
   "execution_count": 20,
   "id": "9f243df6",
   "metadata": {},
   "outputs": [],
   "source": [
    "lista_01 = np.array([1, 2, 3, 4])"
   ]
  },
  {
   "cell_type": "code",
   "execution_count": 10,
   "id": "18a0f3b0",
   "metadata": {},
   "outputs": [],
   "source": [
    "def junta(array_01, array_02):\n",
    "\n",
    "    return np.concatenate((array_01, array_02))"
   ]
  },
  {
   "cell_type": "code",
   "execution_count": 11,
   "id": "37bccd0f",
   "metadata": {},
   "outputs": [
    {
     "data": {
      "text/plain": [
       "array([ 1,  2,  3,  4,  5,  6,  7,  8,  9, 10, 11, 12, 13, 14,  1,  2,  3,\n",
       "        4])"
      ]
     },
     "execution_count": 11,
     "metadata": {},
     "output_type": "execute_result"
    }
   ],
   "source": [
    "junta(lista, lista_01)"
   ]
  },
  {
   "cell_type": "code",
   "execution_count": 32,
   "id": "973a45c1",
   "metadata": {},
   "outputs": [],
   "source": [
    "def array_(vetor):\n",
    "    max = vetor.max()\n",
    "    min = vetor.min()\n",
    "    media = vetor.mean()\n",
    "    desv_padr = vetor.std()\n",
    "\n",
    "    print(f'{\"*\" * 30}\\n'\n",
    "          f'array: {vetor}\\n\\n'\n",
    "          f'Máx: {max:.3f}\\n'\n",
    "          f'Min: {min:.3f}\\n'\n",
    "          f'Méd: {media:.3f}\\n'\n",
    "          f'Desvio Padrão: {desv_padr:.3f}'\n",
    "          f'\\n{\"*\" * 30}')   "
   ]
  },
  {
   "cell_type": "code",
   "execution_count": 30,
   "id": "fd617aa1",
   "metadata": {},
   "outputs": [],
   "source": [
    "array_1 = np.array([0, 5, 6, 8, 9])"
   ]
  },
  {
   "cell_type": "code",
   "execution_count": 33,
   "id": "e281143d",
   "metadata": {},
   "outputs": [
    {
     "name": "stdout",
     "output_type": "stream",
     "text": [
      "******************************\n",
      "array: [0 5 6 8 9]\n",
      "\n",
      "Máx: 9.000\n",
      "Min: 0.000\n",
      "Méd: 5.600\n",
      "Desvio Padrão: 3.137\n",
      "******************************\n"
     ]
    }
   ],
   "source": [
    "array_(array_1)"
   ]
  }
 ],
 "metadata": {
  "kernelspec": {
   "display_name": "Python 3",
   "language": "python",
   "name": "python3"
  },
  "language_info": {
   "codemirror_mode": {
    "name": "ipython",
    "version": 3
   },
   "file_extension": ".py",
   "mimetype": "text/x-python",
   "name": "python",
   "nbconvert_exporter": "python",
   "pygments_lexer": "ipython3",
   "version": "3.8.8"
  }
 },
 "nbformat": 4,
 "nbformat_minor": 5
}
