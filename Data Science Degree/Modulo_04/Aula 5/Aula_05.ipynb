{
 "cells": [
  {
   "cell_type": "code",
   "execution_count": 2,
   "id": "d775af3f-5b1f-495d-b34b-08d6b5b41eeb",
   "metadata": {},
   "outputs": [],
   "source": [
    "import pandas as pd\n",
    "import random"
   ]
  },
  {
   "cell_type": "code",
   "execution_count": 4,
   "id": "ec03d174-a818-4fc4-8ea2-fb4f153408bd",
   "metadata": {},
   "outputs": [
    {
     "data": {
      "text/plain": [
       "{'meus_gastos': [8,\n",
       "  66,\n",
       "  69,\n",
       "  44,\n",
       "  27,\n",
       "  69,\n",
       "  30,\n",
       "  62,\n",
       "  86,\n",
       "  30,\n",
       "  31,\n",
       "  100,\n",
       "  47,\n",
       "  28,\n",
       "  31,\n",
       "  57,\n",
       "  68,\n",
       "  32,\n",
       "  21,\n",
       "  6,\n",
       "  11,\n",
       "  87,\n",
       "  25,\n",
       "  96,\n",
       "  10,\n",
       "  62,\n",
       "  7,\n",
       "  4,\n",
       "  71,\n",
       "  99]}"
      ]
     },
     "execution_count": 4,
     "metadata": {},
     "output_type": "execute_result"
    }
   ],
   "source": [
    "gastos = {\"Meus Gastos\": [random.randint(1, 100) for i in range(1, 31)]}\n",
    "gastos"
   ]
  },
  {
   "cell_type": "code",
   "execution_count": 7,
   "id": "e0d76be9-7308-40f7-bcce-ac5d236e4649",
   "metadata": {},
   "outputs": [
    {
     "data": {
      "text/html": [
       "<div>\n",
       "<style scoped>\n",
       "    .dataframe tbody tr th:only-of-type {\n",
       "        vertical-align: middle;\n",
       "    }\n",
       "\n",
       "    .dataframe tbody tr th {\n",
       "        vertical-align: top;\n",
       "    }\n",
       "\n",
       "    .dataframe thead th {\n",
       "        text-align: right;\n",
       "    }\n",
       "</style>\n",
       "<table border=\"1\" class=\"dataframe\">\n",
       "  <thead>\n",
       "    <tr style=\"text-align: right;\">\n",
       "      <th></th>\n",
       "      <th>meus_gastos</th>\n",
       "    </tr>\n",
       "  </thead>\n",
       "  <tbody>\n",
       "    <tr>\n",
       "      <th>0</th>\n",
       "      <td>8</td>\n",
       "    </tr>\n",
       "    <tr>\n",
       "      <th>1</th>\n",
       "      <td>66</td>\n",
       "    </tr>\n",
       "    <tr>\n",
       "      <th>2</th>\n",
       "      <td>69</td>\n",
       "    </tr>\n",
       "    <tr>\n",
       "      <th>3</th>\n",
       "      <td>44</td>\n",
       "    </tr>\n",
       "    <tr>\n",
       "      <th>4</th>\n",
       "      <td>27</td>\n",
       "    </tr>\n",
       "  </tbody>\n",
       "</table>\n",
       "</div>"
      ],
      "text/plain": [
       "   meus_gastos\n",
       "0            8\n",
       "1           66\n",
       "2           69\n",
       "3           44\n",
       "4           27"
      ]
     },
     "execution_count": 7,
     "metadata": {},
     "output_type": "execute_result"
    }
   ],
   "source": [
    "df_meus_gastos = pd.DataFrame(gastos)\n",
    "df_meus_gastos.head()"
   ]
  },
  {
   "cell_type": "code",
   "execution_count": 8,
   "id": "d51070fc-8d62-4adf-8fbe-6dfad04c3b25",
   "metadata": {},
   "outputs": [
    {
     "data": {
      "text/plain": [
       "0        8\n",
       "1       74\n",
       "2      143\n",
       "3      187\n",
       "4      214\n",
       "5      283\n",
       "6      313\n",
       "7      375\n",
       "8      461\n",
       "9      491\n",
       "10     522\n",
       "11     622\n",
       "12     669\n",
       "13     697\n",
       "14     728\n",
       "15     785\n",
       "16     853\n",
       "17     885\n",
       "18     906\n",
       "19     912\n",
       "20     923\n",
       "21    1010\n",
       "22    1035\n",
       "23    1131\n",
       "24    1141\n",
       "25    1203\n",
       "26    1210\n",
       "27    1214\n",
       "28    1285\n",
       "29    1384\n",
       "Name: meus_gastos, dtype: int64"
      ]
     },
     "execution_count": 8,
     "metadata": {},
     "output_type": "execute_result"
    }
   ],
   "source": [
    "df_meus_gastos['meus_gastos'].cumsum()"
   ]
  },
  {
   "cell_type": "code",
   "execution_count": null,
   "id": "fa45dbe9-e3af-4296-b59e-09fe19b7c1fc",
   "metadata": {},
   "outputs": [],
   "source": []
  }
 ],
 "metadata": {
  "kernelspec": {
   "display_name": "Python 3 (ipykernel)",
   "language": "python",
   "name": "python3"
  },
  "language_info": {
   "codemirror_mode": {
    "name": "ipython",
    "version": 3
   },
   "file_extension": ".py",
   "mimetype": "text/x-python",
   "name": "python",
   "nbconvert_exporter": "python",
   "pygments_lexer": "ipython3",
   "version": "3.8.10"
  }
 },
 "nbformat": 4,
 "nbformat_minor": 5
}
