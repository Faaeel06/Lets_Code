{
 "cells": [
  {
   "cell_type": "markdown",
   "metadata": {},
   "source": [
    "# Teoria - Introdução"
   ]
  },
  {
   "cell_type": "markdown",
   "metadata": {},
   "source": [
    "## HTTP - Métodos\n",
    "\n",
    "GET - Ler dados\\\n",
    "POST - Inserir dados\\\n",
    "PUT - Atualizar dados\\\n",
    "DELETE - Deletar dados\n",
    "\n",
    "### HTTP - Status Code\n",
    "\n",
    "1xx - Isso significa que a solicitação foi recebida e o processo continua\\\n",
    "2xx - Isso significa que a ação foi recebida, compreeendida e aceita com sucesso\\\n",
    "3xx - Isso significa que outras ações devem ser tomadas para concluir a solicitação\\\n",
    "4xx - Isso significa que a solicitação contém sintaxe incorreta ou não pode ser atendida\\\n",
    "5xx - Isso significa que o servidor não atendeu a uma solicitação aparentemente válida.\n",
    "\n"
   ]
  },
  {
   "cell_type": "markdown",
   "metadata": {},
   "source": [
    "### HTTP - Status Code\n",
    "\n",
    "200 - OK - O pedido foi aceito\\\n",
    "201 - Created - A solicitação foi concluída e um novo recurso foi criado\\\n",
    "202 - Accepted - A solicitação é aceita para procesamento, as o processamento não foi concluído\\\n",
    "400 - Bad Request - O servidor não atendeu a solicitação\\\n",
    "401 - Unauthorized - A página solicitada precisa de um nome de usuário e uma senha\\\n",
    "403 - Forbidden - É proibido o acesso à página solicitada\\\n",
    "404 - Not Found - O servidor não consegue encontrar a página solicitada\\\n",
    "500 - Internal Server Error - A solicitação não foi conclúida. O servidor atendeu a uma condição inesperada"
   ]
  },
  {
   "cell_type": "markdown",
   "metadata": {},
   "source": [
    "## Característica REST\n",
    "\n",
    "* Representational State Tranfer;\n",
    "* URI's individuais por recursos;\n",
    "* Verbos HTTP (GET, POST, et...);\n",
    "* Uso apropriado de Headers e Status Code;\n",
    "* Múltiplas opções de saída (JSON, XML, etc...)"
   ]
  },
  {
   "cell_type": "markdown",
   "metadata": {},
   "source": [
    "# Prática"
   ]
  },
  {
   "cell_type": "code",
   "execution_count": null,
   "metadata": {},
   "outputs": [],
   "source": []
  }
 ],
 "metadata": {
  "kernelspec": {
   "display_name": "Python 3.9.2 64-bit",
   "language": "python",
   "name": "python3"
  },
  "language_info": {
   "codemirror_mode": {
    "name": "ipython",
    "version": 3
   },
   "file_extension": ".py",
   "mimetype": "text/x-python",
   "name": "python",
   "nbconvert_exporter": "python",
   "pygments_lexer": "ipython3",
   "version": "3.9.2"
  },
  "orig_nbformat": 4,
  "vscode": {
   "interpreter": {
    "hash": "31f2aee4e71d21fbe5cf8b01ff0e069b9275f58929596ceb00d14d90e3e16cd6"
   }
  }
 },
 "nbformat": 4,
 "nbformat_minor": 2
}
